{
 "cells": [
  {
   "cell_type": "markdown",
   "metadata": {
    "colab_type": "text",
    "id": "view-in-github"
   },
   "source": [
    "<a href=\"https://colab.research.google.com/github/jalammar/ecco/blob/main/notebooks/01_Input_saliency.ipynb\" target=\"_parent\"><img src=\"https://colab.research.google.com/assets/colab-badge.svg\" alt=\"Open In Colab\"/></a>"
   ]
  },
  {
   "cell_type": "code",
   "execution_count": 1,
   "metadata": {
    "id": "nxI_cH5xjpFL"
   },
   "outputs": [
    {
     "name": "stdout",
     "output_type": "stream",
     "text": [
      "Requirement already satisfied: ecco in c:\\users\\jihad\\google drive\\ml\\code\\ecco\\src (0.0.2)\n",
      "Requirement already satisfied: transformers~=3.1 in c:\\users\\jihad\\.conda\\envs\\dolphin\\lib\\site-packages (from ecco) (3.1.0)\n",
      "Requirement already satisfied: seaborn~=0.11 in c:\\users\\jihad\\.conda\\envs\\dolphin\\lib\\site-packages (from ecco) (0.11.0)\n",
      "Requirement already satisfied: sentencepiece!=0.1.92 in c:\\users\\jihad\\.conda\\envs\\dolphin\\lib\\site-packages (from transformers~=3.1->ecco) (0.1.91)\n",
      "Requirement already satisfied: packaging in c:\\users\\jihad\\.conda\\envs\\dolphin\\lib\\site-packages (from transformers~=3.1->ecco) (20.4)\n",
      "Requirement already satisfied: requests in c:\\users\\jihad\\.conda\\envs\\dolphin\\lib\\site-packages (from transformers~=3.1->ecco) (2.24.0)\n",
      "Requirement already satisfied: tqdm>=4.27 in c:\\users\\jihad\\.conda\\envs\\dolphin\\lib\\site-packages (from transformers~=3.1->ecco) (4.48.2)\n",
      "Requirement already satisfied: sacremoses in c:\\users\\jihad\\.conda\\envs\\dolphin\\lib\\site-packages (from transformers~=3.1->ecco) (0.0.43)\n",
      "Requirement already satisfied: tokenizers==0.8.1.rc2 in c:\\users\\jihad\\.conda\\envs\\dolphin\\lib\\site-packages (from transformers~=3.1->ecco) (0.8.1rc2)\n",
      "Requirement already satisfied: numpy in c:\\users\\jihad\\.conda\\envs\\dolphin\\lib\\site-packages (from transformers~=3.1->ecco) (1.19.1)\n",
      "Requirement already satisfied: regex!=2019.12.17 in c:\\users\\jihad\\.conda\\envs\\dolphin\\lib\\site-packages (from transformers~=3.1->ecco) (2020.7.14)\n",
      "Requirement already satisfied: filelock in c:\\users\\jihad\\.conda\\envs\\dolphin\\lib\\site-packages (from transformers~=3.1->ecco) (3.0.12)\n",
      "Requirement already satisfied: scipy>=1.0 in c:\\users\\jihad\\.conda\\envs\\dolphin\\lib\\site-packages (from seaborn~=0.11->ecco) (1.5.0)\n",
      "Requirement already satisfied: pandas>=0.23 in c:\\users\\jihad\\.conda\\envs\\dolphin\\lib\\site-packages (from seaborn~=0.11->ecco) (1.1.0)\n",
      "Requirement already satisfied: matplotlib>=2.2 in c:\\users\\jihad\\.conda\\envs\\dolphin\\lib\\site-packages (from seaborn~=0.11->ecco) (3.3.1)\n",
      "Requirement already satisfied: six in c:\\users\\jihad\\.conda\\envs\\dolphin\\lib\\site-packages (from packaging->transformers~=3.1->ecco) (1.15.0)\n",
      "Requirement already satisfied: pyparsing>=2.0.2 in c:\\users\\jihad\\.conda\\envs\\dolphin\\lib\\site-packages (from packaging->transformers~=3.1->ecco) (2.4.7)\n",
      "Requirement already satisfied: idna<3,>=2.5 in c:\\users\\jihad\\.conda\\envs\\dolphin\\lib\\site-packages (from requests->transformers~=3.1->ecco) (2.10)\n",
      "Requirement already satisfied: chardet<4,>=3.0.2 in c:\\users\\jihad\\.conda\\envs\\dolphin\\lib\\site-packages (from requests->transformers~=3.1->ecco) (3.0.4)\n",
      "Requirement already satisfied: urllib3!=1.25.0,!=1.25.1,<1.26,>=1.21.1 in c:\\users\\jihad\\.conda\\envs\\dolphin\\lib\\site-packages (from requests->transformers~=3.1->ecco) (1.25.10)\n",
      "Requirement already satisfied: certifi>=2017.4.17 in c:\\users\\jihad\\.conda\\envs\\dolphin\\lib\\site-packages (from requests->transformers~=3.1->ecco) (2020.6.20)\n",
      "Requirement already satisfied: joblib in c:\\users\\jihad\\.conda\\envs\\dolphin\\lib\\site-packages (from sacremoses->transformers~=3.1->ecco) (0.16.0)\n",
      "Requirement already satisfied: click in c:\\users\\jihad\\.conda\\envs\\dolphin\\lib\\site-packages (from sacremoses->transformers~=3.1->ecco) (7.1.2)\n",
      "Requirement already satisfied: pytz>=2017.2 in c:\\users\\jihad\\.conda\\envs\\dolphin\\lib\\site-packages (from pandas>=0.23->seaborn~=0.11->ecco) (2020.1)\n",
      "Requirement already satisfied: python-dateutil>=2.7.3 in c:\\users\\jihad\\.conda\\envs\\dolphin\\lib\\site-packages (from pandas>=0.23->seaborn~=0.11->ecco) (2.8.1)\n",
      "Requirement already satisfied: cycler>=0.10 in c:\\users\\jihad\\.conda\\envs\\dolphin\\lib\\site-packages (from matplotlib>=2.2->seaborn~=0.11->ecco) (0.10.0)\n",
      "Requirement already satisfied: pillow>=6.2.0 in c:\\users\\jihad\\.conda\\envs\\dolphin\\lib\\site-packages (from matplotlib>=2.2->seaborn~=0.11->ecco) (7.2.0)\n",
      "Requirement already satisfied: kiwisolver>=1.0.1 in c:\\users\\jihad\\.conda\\envs\\dolphin\\lib\\site-packages (from matplotlib>=2.2->seaborn~=0.11->ecco) (1.2.0)\n"
     ]
    }
   ],
   "source": [
    "!pip install ecco"
   ]
  },
  {
   "cell_type": "code",
   "execution_count": 1,
   "metadata": {
    "id": "VS6P8iNIjr-B"
   },
   "outputs": [],
   "source": [
    "from ecco import language_model\n",
    "lm = language_model.from_pretrained('distilgpt2')"
   ]
  },
  {
   "cell_type": "code",
   "execution_count": 2,
   "metadata": {
    "colab": {
     "base_uri": "https://localhost:8080/",
     "height": 413
    },
    "id": "_zHrQkYokJW4",
    "outputId": "3ddeec03-080c-4233-a11a-a2844a2f6f28"
   },
   "outputs": [
    {
     "data": {
      "text/html": [
       "<html lang=\"en\">\n",
       "<script src=\"https://requirejs.org/docs/release/2.3.6/minified/require.js\"></script>\n",
       "<script>\n",
       "    var ecco_url = 'https://storage.googleapis.com/ml-intro/ecco/'\n",
       "    // var ecco_url = 'http://localhost:8000/ecco/'\n",
       "\n",
       "    if (window.ecco === undefined) window.ecco = {}\n",
       "\n",
       "    requirejs.config({\n",
       "        urlArgs: \"bust=\" + (new Date()).getTime(),\n",
       "        nodeRequire: require,\n",
       "        paths: {\n",
       "            d3: \"https://d3js.org/d3.v5.min\",\n",
       "            d3array: \"https://d3js.org/d3-array.v2.min\",\n",
       "            jquery: \"https://code.jquery.com/jquery-3.5.1.min\",\n",
       "            oldEcco: ecco_url + 'ecco',\n",
       "            ecco: ecco_url + 'ecco-bundle',\n",
       "            XRegExp: 'https://cdnjs.cloudflare.com/ajax/libs/xregexp/3.2.0/xregexp-all.min'\n",
       "        }\n",
       "    });\n",
       "    requirejs(['d3'],\n",
       "        function (d3) {\n",
       "            d3.select('#css').attr('href', ecco_url + 'html/styles.css')\n",
       "        })\n",
       "\n",
       "    console.log('Ecco initialize.')\n",
       "</script>\n",
       "\n",
       "<head>\n",
       "    <link id='css' rel=\"stylesheet\" type=\"text/css\">\n",
       "</head>\n"
      ],
      "text/plain": [
       "<IPython.core.display.HTML object>"
      ]
     },
     "metadata": {},
     "output_type": "display_data"
    },
    {
     "data": {
      "text/html": [
       "<script>\n",
       "    console.log('defining basic')\n",
       "    define('basic', ['d3'],\n",
       "        function (d3) {\n",
       "            return {\n",
       "                init: function () {\n",
       "\n",
       "                    console.log('basic init')\n",
       "                    const viz_id = \"viz_\" + Math.round(Math.random() * 10000000)\n",
       "                    const div = d3.select('#basic').attr('id', viz_id),\n",
       "                        div_parent = d3.select('#' + viz_id).node().parentNode\n",
       "\n",
       "                    // Link to CSS file\n",
       "                    d3.select(div_parent).insert('link')\n",
       "                        .attr('rel', 'stylesheet')\n",
       "                        .attr('type', 'text/css')\n",
       "                        .attr('href', ecco_url + 'html/styles.css')\n",
       "\n",
       "                    return viz_id\n",
       "                }\n",
       "            }\n",
       "\n",
       "        }, function (err) {\n",
       "            console.log(err);\n",
       "        }\n",
       "\n",
       "    )\n",
       "\n",
       "    console.log('after defining basic')\n",
       "\n",
       "\n",
       "</script>\n",
       "\n",
       "<div id=\"basic\"></div>"
      ],
      "text/plain": [
       "<IPython.core.display.HTML object>"
      ]
     },
     "metadata": {},
     "output_type": "display_data"
    },
    {
     "data": {
      "application/javascript": [
       "\n",
       "         requirejs(['basic', 'ecco'], function(basic, ecco){\n",
       "            const viz_id = basic.init()\n",
       "            ecco.interactiveTokens(viz_id, {'tokens': [{'token': 'The', 'token_id': 464, 'type': 'input', 'value': '0.04971261', 'position': 0}, {'token': ' countries', 'token_id': 2678, 'type': 'input', 'value': '0.050562907', 'position': 1}, {'token': ' of', 'token_id': 286, 'type': 'input', 'value': '0.01300017', 'position': 2}, {'token': ' the', 'token_id': 262, 'type': 'input', 'value': '0.01194228', 'position': 3}, {'token': ' European', 'token_id': 3427, 'type': 'input', 'value': '0.05010366', 'position': 4}, {'token': ' Union', 'token_id': 4479, 'type': 'input', 'value': '0.02740528', 'position': 5}, {'token': ' are', 'token_id': 389, 'type': 'input', 'value': '0.016030675', 'position': 6}, {'token': ':', 'token_id': 25, 'type': 'input', 'value': '0.02074526', 'position': 7}, {'token': '\\n', 'token_id': 198, 'type': 'input', 'value': '0.026672969', 'position': 8}, {'token': '1', 'token_id': 16, 'type': 'input', 'value': '0.03545723', 'position': 9}, {'token': '.', 'token_id': 13, 'type': 'input', 'value': '0.02660256', 'position': 10}, {'token': ' Austria', 'token_id': 17322, 'type': 'input', 'value': '0.15114918', 'position': 11}, {'token': '\\n', 'token_id': 198, 'type': 'input', 'value': '0.022292856', 'position': 12}, {'token': '2', 'token_id': 17, 'type': 'input', 'value': '0.02561735', 'position': 13}, {'token': '.', 'token_id': 13, 'type': 'input', 'value': '0.020597672', 'position': 14}, {'token': ' Belgium', 'token_id': 15664, 'type': 'input', 'value': '0.12807707', 'position': 15}, {'token': '\\n', 'token_id': 198, 'type': 'input', 'value': '0.016908659', 'position': 16}, {'token': '3', 'token_id': 18, 'type': 'input', 'value': '0.028043997', 'position': 17}, {'token': '.', 'token_id': 13, 'type': 'input', 'value': '0.0243692', 'position': 18}, {'token': ' Bulgaria', 'token_id': 27902, 'type': 'input', 'value': '0.16466385', 'position': 19}, {'token': '\\n', 'token_id': 198, 'type': 'input', 'value': '0.016995251', 'position': 20}, {'token': '4', 'token_id': 19, 'type': 'input', 'value': '0.040703796', 'position': 21}, {'token': '.', 'token_id': 13, 'type': 'input', 'value': '0.03234551', 'position': 22}, {'token': ' Finland', 'token_id': 17837, 'type': 'output', 'value': '0', 'position': 23}, {'token': '\\n', 'token_id': 198, 'type': 'output', 'value': '0', 'position': 24}, {'token': '5', 'token_id': 20, 'type': 'output', 'value': '0', 'position': 25}, {'token': '.', 'token_id': 13, 'type': 'output', 'value': '0', 'position': 26}, {'token': ' Hungary', 'token_id': 19562, 'type': 'output', 'value': '0', 'position': 27}, {'token': ' and', 'token_id': 290, 'type': 'output', 'value': '0', 'position': 28}, {'token': ' Romania', 'token_id': 23356, 'type': 'output', 'value': '0', 'position': 29}, {'token': '\\n', 'token_id': 198, 'type': 'output', 'value': '0', 'position': 30}, {'token': '6', 'token_id': 21, 'type': 'output', 'value': '0', 'position': 31}, {'token': '.', 'token_id': 13, 'type': 'output', 'value': '0', 'position': 32}, {'token': ' Mexico', 'token_id': 5828, 'type': 'output', 'value': '0', 'position': 33}, {'token': '<|endoftext|>', 'token_id': 50256, 'type': 'output', 'value': '0', 'position': 34}], 'attributions': [[0.04971260949969292, 0.05056290701031685, 0.013000169768929482, 0.01194228045642376, 0.05010366067290306, 0.027405280619859695, 0.016030674800276756, 0.020745260640978813, 0.0266729686409235, 0.03545723110437393, 0.02660256065428257, 0.151149183511734, 0.022292856127023697, 0.02561734989285469, 0.02059767208993435, 0.12807707488536835, 0.016908658668398857, 0.028043996542692184, 0.024369200691580772, 0.16466385126113892, 0.016995251178741455, 0.04070379585027695, 0.03234551101922989], [0.05208180099725723, 0.0645255297422409, 0.017362456768751144, 0.014715855941176414, 0.043523646891117096, 0.03404567018151283, 0.02983538806438446, 0.035973768681287766, 0.03831634297966957, 0.04747272655367851, 0.030632730573415756, 0.08220860362052917, 0.02850070409476757, 0.03343331813812256, 0.02714984118938446, 0.04404953867197037, 0.02616002783179283, 0.028428277000784874, 0.015306049957871437, 0.041548922657966614, 0.02515052631497383, 0.033491350710392, 0.020633898675441742, 0.18545299768447876], [0.046552158892154694, 0.06078161671757698, 0.018021386116743088, 0.014459685422480106, 0.03860493004322052, 0.029298977926373482, 0.026203691959381104, 0.036606885492801666, 0.046311765909194946, 0.06954757124185562, 0.03227924555540085, 0.0550716333091259, 0.03186975046992302, 0.057154495269060135, 0.020666327327489853, 0.03283870592713356, 0.0257725827395916, 0.06023894622921944, 0.023866526782512665, 0.038221657276153564, 0.026968801394104958, 0.06888531893491745, 0.02863316424190998, 0.062067221850156784, 0.04907696321606636], [0.0466693714261055, 0.0772959440946579, 0.014179705642163754, 0.011514075100421906, 0.03229498118162155, 0.02876993454992771, 0.02320493571460247, 0.02564116008579731, 0.02938687615096569, 0.04592600092291832, 0.029022883623838425, 0.07282432913780212, 0.021891525015234947, 0.03397730737924576, 0.03007785603404045, 0.04681488499045372, 0.02151470258831978, 0.03597573563456535, 0.030050374567508698, 0.04912220314145088, 0.024318592622876167, 0.05278041958808899, 0.028900565579533577, 0.06181832402944565, 0.033640723675489426, 0.09238661080598831], [0.04837033152580261, 0.04769347608089447, 0.012181892059743404, 0.011946923099458218, 0.04222412034869194, 0.024463238194584846, 0.014599808491766453, 0.01896039955317974, 0.022952023893594742, 0.030335653573274612, 0.023504503071308136, 0.12596958875656128, 0.018234828487038612, 0.021408958360552788, 0.013777116313576698, 0.0889144018292427, 0.015732552856206894, 0.018587468191981316, 0.01650175265967846, 0.09885995090007782, 0.013685286976397038, 0.018853532150387764, 0.01800786331295967, 0.14461593329906464, 0.020071478560566902, 0.03698330745100975, 0.03256361931562424], [0.04386002942919731, 0.046868983656167984, 0.015816867351531982, 0.010540884919464588, 0.030191751196980476, 0.025604188442230225, 0.024383898824453354, 0.03573344647884369, 0.03590726852416992, 0.04057135060429573, 0.026362363249063492, 0.052762508392333984, 0.03130118548870087, 0.030509907752275467, 0.017470844089984894, 0.03310726210474968, 0.023621978238224983, 0.023616960272192955, 0.012901080772280693, 0.03519917279481888, 0.02421032078564167, 0.021099448204040527, 0.009430211037397385, 0.05163948982954025, 0.031023522838950157, 0.031310245394706726, 0.021324777975678444, 0.21363002061843872], [0.04378977790474892, 0.051883287727832794, 0.012064739130437374, 0.012270461767911911, 0.02961074374616146, 0.021678201854228973, 0.019605638459324837, 0.02128262259066105, 0.020807210355997086, 0.018513455986976624, 0.01469442155212164, 0.04991663247346878, 0.016833096742630005, 0.015385995618999004, 0.010430760681629181, 0.03683739900588989, 0.015394224785268307, 0.017248788848519325, 0.013185184448957443, 0.06404390186071396, 0.016196005046367645, 0.017452193424105644, 0.01616418920457363, 0.07203391939401627, 0.01848413608968258, 0.02678000181913376, 0.02755965106189251, 0.23689325153827667, 0.06296009570360184], [0.04567737132310867, 0.0490911528468132, 0.015630630776286125, 0.01351950317621231, 0.03364986181259155, 0.025463957339525223, 0.030430680140852928, 0.03956112638115883, 0.025905435904860497, 0.0338483527302742, 0.019600996747612953, 0.05192873999476433, 0.020267166197299957, 0.02168107032775879, 0.019700193777680397, 0.032155927270650864, 0.01555071584880352, 0.01829935982823372, 0.014826578088104725, 0.035521119832992554, 0.0160529725253582, 0.02041632868349552, 0.015462150797247887, 0.03675808757543564, 0.025537023320794106, 0.03477261960506439, 0.023882126435637474, 0.08216578513383865, 0.03890668600797653, 0.14373630285263062], [0.041277650743722916, 0.04932260513305664, 0.016042402014136314, 0.012464368715882301, 0.030847003683447838, 0.025172775611281395, 0.028101108968257904, 0.03533041849732399, 0.043505437672138214, 0.05768125504255295, 0.025295209139585495, 0.040532562881708145, 0.02440282329916954, 0.03919391334056854, 0.015596019104123116, 0.02501906268298626, 0.01953812874853611, 0.034831468015909195, 0.01654580421745777, 0.027727097272872925, 0.021153924986720085, 0.05627496913075447, 0.014734926633536816, 0.03140493109822273, 0.03194016218185425, 0.0835450142621994, 0.018461797386407852, 0.04475947096943855, 0.014974270015954971, 0.03807409480214119, 0.036249302327632904], [0.04779361933469772, 0.0735848993062973, 0.014014660380780697, 0.014027349650859833, 0.033584289252758026, 0.028644120320677757, 0.023100201040506363, 0.024800604209303856, 0.02966286800801754, 0.04383070021867752, 0.0258326455950737, 0.06304888427257538, 0.019384071230888367, 0.0247371643781662, 0.027414917945861816, 0.039911456406116486, 0.016848124563694, 0.02421898953616619, 0.020251037552952766, 0.03514457121491432, 0.01407613791525364, 0.02202438935637474, 0.023074937984347343, 0.02808992750942707, 0.024084312841296196, 0.04188532754778862, 0.02491462044417858, 0.032785311341285706, 0.01794787496328354, 0.029272759333252907, 0.030909085646271706, 0.08110019564628601], [0.04268457368016243, 0.04063233733177185, 0.011800874024629593, 0.01034424640238285, 0.03920130059123039, 0.022651253268122673, 0.014712747186422348, 0.01776019111275673, 0.021748822182416916, 0.0275054182857275, 0.020322507247328758, 0.10762784630060196, 0.017044374719262123, 0.017881523817777634, 0.012702830135822296, 0.06588361412286758, 0.015203241258859634, 0.014135786332190037, 0.012169809080660343, 0.0653609111905098, 0.01397704891860485, 0.01305864192545414, 0.010858302935957909, 0.0689622163772583, 0.013040723279118538, 0.016694696620106697, 0.013778872787952423, 0.14240007102489471, 0.008059662766754627, 0.029038848355412483, 0.018105855211615562, 0.028364142403006554, 0.026286691427230835], [0.030602674931287766, 0.03349141404032707, 0.009952873922884464, 0.009358854033052921, 0.021138476207852364, 0.01898104138672352, 0.01575462706387043, 0.019523482769727707, 0.022758712992072105, 0.024023596197366714, 0.012841376475989819, 0.033606547862291336, 0.021683715283870697, 0.015965091064572334, 0.013252596370875835, 0.02705390565097332, 0.020424773916602135, 0.014437006786465645, 0.012370869517326355, 0.04132040590047836, 0.018403517082333565, 0.013360811397433281, 0.009972754865884781, 0.03723330795764923, 0.0198065172880888, 0.019183725118637085, 0.01637445017695427, 0.053856268525123596, 0.029097318649291992, 0.027798300608992577, 0.03983407840132713, 0.03315425664186478, 0.029415149241685867, 0.23396746814250946]]})\n",
       "         }, function (err) {\n",
       "            console.log(err);\n",
       "        })"
      ],
      "text/plain": [
       "<IPython.core.display.Javascript object>"
      ]
     },
     "metadata": {},
     "output_type": "display_data"
    }
   ],
   "source": [
    "text= \"The countries of the European Union are:\\n1. Austria\\n2. Belgium\\n3. Bulgaria\\n4.\"\n",
    "\n",
    "output = lm.generate(text, generate=20, do_sample=True)\n",
    "output.saliency()"
   ]
  },
  {
   "cell_type": "code",
   "execution_count": null,
   "metadata": {
    "id": "qeKxMN02tvsj"
   },
   "outputs": [],
   "source": []
  }
 ],
 "metadata": {
  "colab": {
   "authorship_tag": "ABX9TyMnizQU2ql7IXXeJhoBfPbM",
   "collapsed_sections": [],
   "include_colab_link": true,
   "name": "01- Input-saliency.ipynb",
   "provenance": []
  },
  "kernelspec": {
   "display_name": "Python 3",
   "language": "python",
   "name": "python3"
  },
  "language_info": {
   "codemirror_mode": {
    "name": "ipython",
    "version": 3
   },
   "file_extension": ".py",
   "mimetype": "text/x-python",
   "name": "python",
   "nbconvert_exporter": "python",
   "pygments_lexer": "ipython3",
   "version": "3.8.5"
  }
 },
 "nbformat": 4,
 "nbformat_minor": 1
}

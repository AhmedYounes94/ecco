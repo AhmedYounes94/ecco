{
  "nbformat": 4,
  "nbformat_minor": 0,
  "metadata": {
    "colab": {
      "name": "02-Evolution of Hidden States.ipynb",
      "provenance": [],
      "authorship_tag": "ABX9TyOynaFt6edYocmiZArlonkS",
      "include_colab_link": true
    },
    "kernelspec": {
      "name": "python3",
      "display_name": "Python 3"
    },
    "widgets": {
      "application/vnd.jupyter.widget-state+json": {
        "c108b6ce669e46da869c853def669d2e": {
          "model_module": "@jupyter-widgets/controls",
          "model_name": "HBoxModel",
          "state": {
            "_view_name": "HBoxView",
            "_dom_classes": [],
            "_model_name": "HBoxModel",
            "_view_module": "@jupyter-widgets/controls",
            "_model_module_version": "1.5.0",
            "_view_count": null,
            "_view_module_version": "1.5.0",
            "box_style": "",
            "layout": "IPY_MODEL_f1a61738022d4b2da2d19a653cce66c2",
            "_model_module": "@jupyter-widgets/controls",
            "children": [
              "IPY_MODEL_d00c68b6c0b649e4abb1a018c8fa1c3d",
              "IPY_MODEL_2eb08401baeb47e395593c281a99d259"
            ]
          }
        },
        "f1a61738022d4b2da2d19a653cce66c2": {
          "model_module": "@jupyter-widgets/base",
          "model_name": "LayoutModel",
          "state": {
            "_view_name": "LayoutView",
            "grid_template_rows": null,
            "right": null,
            "justify_content": null,
            "_view_module": "@jupyter-widgets/base",
            "overflow": null,
            "_model_module_version": "1.2.0",
            "_view_count": null,
            "flex_flow": null,
            "width": null,
            "min_width": null,
            "border": null,
            "align_items": null,
            "bottom": null,
            "_model_module": "@jupyter-widgets/base",
            "top": null,
            "grid_column": null,
            "overflow_y": null,
            "overflow_x": null,
            "grid_auto_flow": null,
            "grid_area": null,
            "grid_template_columns": null,
            "flex": null,
            "_model_name": "LayoutModel",
            "justify_items": null,
            "grid_row": null,
            "max_height": null,
            "align_content": null,
            "visibility": null,
            "align_self": null,
            "height": null,
            "min_height": null,
            "padding": null,
            "grid_auto_rows": null,
            "grid_gap": null,
            "max_width": null,
            "order": null,
            "_view_module_version": "1.2.0",
            "grid_template_areas": null,
            "object_position": null,
            "object_fit": null,
            "grid_auto_columns": null,
            "margin": null,
            "display": null,
            "left": null
          }
        },
        "d00c68b6c0b649e4abb1a018c8fa1c3d": {
          "model_module": "@jupyter-widgets/controls",
          "model_name": "FloatProgressModel",
          "state": {
            "_view_name": "ProgressView",
            "style": "IPY_MODEL_c471bce8832a4e3da53384dbf2cfa984",
            "_dom_classes": [],
            "description": "Downloading: 100%",
            "_model_name": "FloatProgressModel",
            "bar_style": "success",
            "max": 762,
            "_view_module": "@jupyter-widgets/controls",
            "_model_module_version": "1.5.0",
            "value": 762,
            "_view_count": null,
            "_view_module_version": "1.5.0",
            "orientation": "horizontal",
            "min": 0,
            "description_tooltip": null,
            "_model_module": "@jupyter-widgets/controls",
            "layout": "IPY_MODEL_e5c01a778a5144b585ea9e40ccded6ea"
          }
        },
        "2eb08401baeb47e395593c281a99d259": {
          "model_module": "@jupyter-widgets/controls",
          "model_name": "HTMLModel",
          "state": {
            "_view_name": "HTMLView",
            "style": "IPY_MODEL_39110dd8332b4115a1271c80003f2fe2",
            "_dom_classes": [],
            "description": "",
            "_model_name": "HTMLModel",
            "placeholder": "​",
            "_view_module": "@jupyter-widgets/controls",
            "_model_module_version": "1.5.0",
            "value": " 762/762 [00:02&lt;00:00, 361B/s]",
            "_view_count": null,
            "_view_module_version": "1.5.0",
            "description_tooltip": null,
            "_model_module": "@jupyter-widgets/controls",
            "layout": "IPY_MODEL_483a88f0d33d4d3197c3a64eb06b040b"
          }
        },
        "c471bce8832a4e3da53384dbf2cfa984": {
          "model_module": "@jupyter-widgets/controls",
          "model_name": "ProgressStyleModel",
          "state": {
            "_view_name": "StyleView",
            "_model_name": "ProgressStyleModel",
            "description_width": "initial",
            "_view_module": "@jupyter-widgets/base",
            "_model_module_version": "1.5.0",
            "_view_count": null,
            "_view_module_version": "1.2.0",
            "bar_color": null,
            "_model_module": "@jupyter-widgets/controls"
          }
        },
        "e5c01a778a5144b585ea9e40ccded6ea": {
          "model_module": "@jupyter-widgets/base",
          "model_name": "LayoutModel",
          "state": {
            "_view_name": "LayoutView",
            "grid_template_rows": null,
            "right": null,
            "justify_content": null,
            "_view_module": "@jupyter-widgets/base",
            "overflow": null,
            "_model_module_version": "1.2.0",
            "_view_count": null,
            "flex_flow": null,
            "width": null,
            "min_width": null,
            "border": null,
            "align_items": null,
            "bottom": null,
            "_model_module": "@jupyter-widgets/base",
            "top": null,
            "grid_column": null,
            "overflow_y": null,
            "overflow_x": null,
            "grid_auto_flow": null,
            "grid_area": null,
            "grid_template_columns": null,
            "flex": null,
            "_model_name": "LayoutModel",
            "justify_items": null,
            "grid_row": null,
            "max_height": null,
            "align_content": null,
            "visibility": null,
            "align_self": null,
            "height": null,
            "min_height": null,
            "padding": null,
            "grid_auto_rows": null,
            "grid_gap": null,
            "max_width": null,
            "order": null,
            "_view_module_version": "1.2.0",
            "grid_template_areas": null,
            "object_position": null,
            "object_fit": null,
            "grid_auto_columns": null,
            "margin": null,
            "display": null,
            "left": null
          }
        },
        "39110dd8332b4115a1271c80003f2fe2": {
          "model_module": "@jupyter-widgets/controls",
          "model_name": "DescriptionStyleModel",
          "state": {
            "_view_name": "StyleView",
            "_model_name": "DescriptionStyleModel",
            "description_width": "",
            "_view_module": "@jupyter-widgets/base",
            "_model_module_version": "1.5.0",
            "_view_count": null,
            "_view_module_version": "1.2.0",
            "_model_module": "@jupyter-widgets/controls"
          }
        },
        "483a88f0d33d4d3197c3a64eb06b040b": {
          "model_module": "@jupyter-widgets/base",
          "model_name": "LayoutModel",
          "state": {
            "_view_name": "LayoutView",
            "grid_template_rows": null,
            "right": null,
            "justify_content": null,
            "_view_module": "@jupyter-widgets/base",
            "overflow": null,
            "_model_module_version": "1.2.0",
            "_view_count": null,
            "flex_flow": null,
            "width": null,
            "min_width": null,
            "border": null,
            "align_items": null,
            "bottom": null,
            "_model_module": "@jupyter-widgets/base",
            "top": null,
            "grid_column": null,
            "overflow_y": null,
            "overflow_x": null,
            "grid_auto_flow": null,
            "grid_area": null,
            "grid_template_columns": null,
            "flex": null,
            "_model_name": "LayoutModel",
            "justify_items": null,
            "grid_row": null,
            "max_height": null,
            "align_content": null,
            "visibility": null,
            "align_self": null,
            "height": null,
            "min_height": null,
            "padding": null,
            "grid_auto_rows": null,
            "grid_gap": null,
            "max_width": null,
            "order": null,
            "_view_module_version": "1.2.0",
            "grid_template_areas": null,
            "object_position": null,
            "object_fit": null,
            "grid_auto_columns": null,
            "margin": null,
            "display": null,
            "left": null
          }
        },
        "802d74e003fe4f9392473a4d3034e7e2": {
          "model_module": "@jupyter-widgets/controls",
          "model_name": "HBoxModel",
          "state": {
            "_view_name": "HBoxView",
            "_dom_classes": [],
            "_model_name": "HBoxModel",
            "_view_module": "@jupyter-widgets/controls",
            "_model_module_version": "1.5.0",
            "_view_count": null,
            "_view_module_version": "1.5.0",
            "box_style": "",
            "layout": "IPY_MODEL_263052c55b7c4c648f942a549fcb3e02",
            "_model_module": "@jupyter-widgets/controls",
            "children": [
              "IPY_MODEL_7666cb4044fa4df4b3206d6768a1ab26",
              "IPY_MODEL_5bc5980786c743d09c70a3814ae51344"
            ]
          }
        },
        "263052c55b7c4c648f942a549fcb3e02": {
          "model_module": "@jupyter-widgets/base",
          "model_name": "LayoutModel",
          "state": {
            "_view_name": "LayoutView",
            "grid_template_rows": null,
            "right": null,
            "justify_content": null,
            "_view_module": "@jupyter-widgets/base",
            "overflow": null,
            "_model_module_version": "1.2.0",
            "_view_count": null,
            "flex_flow": null,
            "width": null,
            "min_width": null,
            "border": null,
            "align_items": null,
            "bottom": null,
            "_model_module": "@jupyter-widgets/base",
            "top": null,
            "grid_column": null,
            "overflow_y": null,
            "overflow_x": null,
            "grid_auto_flow": null,
            "grid_area": null,
            "grid_template_columns": null,
            "flex": null,
            "_model_name": "LayoutModel",
            "justify_items": null,
            "grid_row": null,
            "max_height": null,
            "align_content": null,
            "visibility": null,
            "align_self": null,
            "height": null,
            "min_height": null,
            "padding": null,
            "grid_auto_rows": null,
            "grid_gap": null,
            "max_width": null,
            "order": null,
            "_view_module_version": "1.2.0",
            "grid_template_areas": null,
            "object_position": null,
            "object_fit": null,
            "grid_auto_columns": null,
            "margin": null,
            "display": null,
            "left": null
          }
        },
        "7666cb4044fa4df4b3206d6768a1ab26": {
          "model_module": "@jupyter-widgets/controls",
          "model_name": "FloatProgressModel",
          "state": {
            "_view_name": "ProgressView",
            "style": "IPY_MODEL_1349475098604acab1f45b194f8a38e7",
            "_dom_classes": [],
            "description": "Downloading: 100%",
            "_model_name": "FloatProgressModel",
            "bar_style": "success",
            "max": 1042301,
            "_view_module": "@jupyter-widgets/controls",
            "_model_module_version": "1.5.0",
            "value": 1042301,
            "_view_count": null,
            "_view_module_version": "1.5.0",
            "orientation": "horizontal",
            "min": 0,
            "description_tooltip": null,
            "_model_module": "@jupyter-widgets/controls",
            "layout": "IPY_MODEL_a4909f89e21144b497c08c0d216f2f23"
          }
        },
        "5bc5980786c743d09c70a3814ae51344": {
          "model_module": "@jupyter-widgets/controls",
          "model_name": "HTMLModel",
          "state": {
            "_view_name": "HTMLView",
            "style": "IPY_MODEL_22c0e40d9d1240dcbc4aafba8f530aea",
            "_dom_classes": [],
            "description": "",
            "_model_name": "HTMLModel",
            "placeholder": "​",
            "_view_module": "@jupyter-widgets/controls",
            "_model_module_version": "1.5.0",
            "value": " 1.04M/1.04M [00:01&lt;00:00, 749kB/s]",
            "_view_count": null,
            "_view_module_version": "1.5.0",
            "description_tooltip": null,
            "_model_module": "@jupyter-widgets/controls",
            "layout": "IPY_MODEL_1abb749e5a84412287ed347d68fcaf30"
          }
        },
        "1349475098604acab1f45b194f8a38e7": {
          "model_module": "@jupyter-widgets/controls",
          "model_name": "ProgressStyleModel",
          "state": {
            "_view_name": "StyleView",
            "_model_name": "ProgressStyleModel",
            "description_width": "initial",
            "_view_module": "@jupyter-widgets/base",
            "_model_module_version": "1.5.0",
            "_view_count": null,
            "_view_module_version": "1.2.0",
            "bar_color": null,
            "_model_module": "@jupyter-widgets/controls"
          }
        },
        "a4909f89e21144b497c08c0d216f2f23": {
          "model_module": "@jupyter-widgets/base",
          "model_name": "LayoutModel",
          "state": {
            "_view_name": "LayoutView",
            "grid_template_rows": null,
            "right": null,
            "justify_content": null,
            "_view_module": "@jupyter-widgets/base",
            "overflow": null,
            "_model_module_version": "1.2.0",
            "_view_count": null,
            "flex_flow": null,
            "width": null,
            "min_width": null,
            "border": null,
            "align_items": null,
            "bottom": null,
            "_model_module": "@jupyter-widgets/base",
            "top": null,
            "grid_column": null,
            "overflow_y": null,
            "overflow_x": null,
            "grid_auto_flow": null,
            "grid_area": null,
            "grid_template_columns": null,
            "flex": null,
            "_model_name": "LayoutModel",
            "justify_items": null,
            "grid_row": null,
            "max_height": null,
            "align_content": null,
            "visibility": null,
            "align_self": null,
            "height": null,
            "min_height": null,
            "padding": null,
            "grid_auto_rows": null,
            "grid_gap": null,
            "max_width": null,
            "order": null,
            "_view_module_version": "1.2.0",
            "grid_template_areas": null,
            "object_position": null,
            "object_fit": null,
            "grid_auto_columns": null,
            "margin": null,
            "display": null,
            "left": null
          }
        },
        "22c0e40d9d1240dcbc4aafba8f530aea": {
          "model_module": "@jupyter-widgets/controls",
          "model_name": "DescriptionStyleModel",
          "state": {
            "_view_name": "StyleView",
            "_model_name": "DescriptionStyleModel",
            "description_width": "",
            "_view_module": "@jupyter-widgets/base",
            "_model_module_version": "1.5.0",
            "_view_count": null,
            "_view_module_version": "1.2.0",
            "_model_module": "@jupyter-widgets/controls"
          }
        },
        "1abb749e5a84412287ed347d68fcaf30": {
          "model_module": "@jupyter-widgets/base",
          "model_name": "LayoutModel",
          "state": {
            "_view_name": "LayoutView",
            "grid_template_rows": null,
            "right": null,
            "justify_content": null,
            "_view_module": "@jupyter-widgets/base",
            "overflow": null,
            "_model_module_version": "1.2.0",
            "_view_count": null,
            "flex_flow": null,
            "width": null,
            "min_width": null,
            "border": null,
            "align_items": null,
            "bottom": null,
            "_model_module": "@jupyter-widgets/base",
            "top": null,
            "grid_column": null,
            "overflow_y": null,
            "overflow_x": null,
            "grid_auto_flow": null,
            "grid_area": null,
            "grid_template_columns": null,
            "flex": null,
            "_model_name": "LayoutModel",
            "justify_items": null,
            "grid_row": null,
            "max_height": null,
            "align_content": null,
            "visibility": null,
            "align_self": null,
            "height": null,
            "min_height": null,
            "padding": null,
            "grid_auto_rows": null,
            "grid_gap": null,
            "max_width": null,
            "order": null,
            "_view_module_version": "1.2.0",
            "grid_template_areas": null,
            "object_position": null,
            "object_fit": null,
            "grid_auto_columns": null,
            "margin": null,
            "display": null,
            "left": null
          }
        },
        "95c17e512d224e9abfa5f386063f5c4c": {
          "model_module": "@jupyter-widgets/controls",
          "model_name": "HBoxModel",
          "state": {
            "_view_name": "HBoxView",
            "_dom_classes": [],
            "_model_name": "HBoxModel",
            "_view_module": "@jupyter-widgets/controls",
            "_model_module_version": "1.5.0",
            "_view_count": null,
            "_view_module_version": "1.5.0",
            "box_style": "",
            "layout": "IPY_MODEL_2bf5b6696e114f2287dc417c35fa3351",
            "_model_module": "@jupyter-widgets/controls",
            "children": [
              "IPY_MODEL_f8c8aafc4e904352b6beadd061f2f74e",
              "IPY_MODEL_0c45e0c12eb04edd95298675aeea308a"
            ]
          }
        },
        "2bf5b6696e114f2287dc417c35fa3351": {
          "model_module": "@jupyter-widgets/base",
          "model_name": "LayoutModel",
          "state": {
            "_view_name": "LayoutView",
            "grid_template_rows": null,
            "right": null,
            "justify_content": null,
            "_view_module": "@jupyter-widgets/base",
            "overflow": null,
            "_model_module_version": "1.2.0",
            "_view_count": null,
            "flex_flow": null,
            "width": null,
            "min_width": null,
            "border": null,
            "align_items": null,
            "bottom": null,
            "_model_module": "@jupyter-widgets/base",
            "top": null,
            "grid_column": null,
            "overflow_y": null,
            "overflow_x": null,
            "grid_auto_flow": null,
            "grid_area": null,
            "grid_template_columns": null,
            "flex": null,
            "_model_name": "LayoutModel",
            "justify_items": null,
            "grid_row": null,
            "max_height": null,
            "align_content": null,
            "visibility": null,
            "align_self": null,
            "height": null,
            "min_height": null,
            "padding": null,
            "grid_auto_rows": null,
            "grid_gap": null,
            "max_width": null,
            "order": null,
            "_view_module_version": "1.2.0",
            "grid_template_areas": null,
            "object_position": null,
            "object_fit": null,
            "grid_auto_columns": null,
            "margin": null,
            "display": null,
            "left": null
          }
        },
        "f8c8aafc4e904352b6beadd061f2f74e": {
          "model_module": "@jupyter-widgets/controls",
          "model_name": "FloatProgressModel",
          "state": {
            "_view_name": "ProgressView",
            "style": "IPY_MODEL_70d24304bfdc46dd8ceec19c146b2255",
            "_dom_classes": [],
            "description": "Downloading: 100%",
            "_model_name": "FloatProgressModel",
            "bar_style": "success",
            "max": 456318,
            "_view_module": "@jupyter-widgets/controls",
            "_model_module_version": "1.5.0",
            "value": 456318,
            "_view_count": null,
            "_view_module_version": "1.5.0",
            "orientation": "horizontal",
            "min": 0,
            "description_tooltip": null,
            "_model_module": "@jupyter-widgets/controls",
            "layout": "IPY_MODEL_cf1a5089d6d649e199138f3c12b3c22f"
          }
        },
        "0c45e0c12eb04edd95298675aeea308a": {
          "model_module": "@jupyter-widgets/controls",
          "model_name": "HTMLModel",
          "state": {
            "_view_name": "HTMLView",
            "style": "IPY_MODEL_19636ab21d404da6b894067a20a49010",
            "_dom_classes": [],
            "description": "",
            "_model_name": "HTMLModel",
            "placeholder": "​",
            "_view_module": "@jupyter-widgets/controls",
            "_model_module_version": "1.5.0",
            "value": " 456k/456k [00:00&lt;00:00, 1.28MB/s]",
            "_view_count": null,
            "_view_module_version": "1.5.0",
            "description_tooltip": null,
            "_model_module": "@jupyter-widgets/controls",
            "layout": "IPY_MODEL_f26abbc697a04fbb908238086c7ea900"
          }
        },
        "70d24304bfdc46dd8ceec19c146b2255": {
          "model_module": "@jupyter-widgets/controls",
          "model_name": "ProgressStyleModel",
          "state": {
            "_view_name": "StyleView",
            "_model_name": "ProgressStyleModel",
            "description_width": "initial",
            "_view_module": "@jupyter-widgets/base",
            "_model_module_version": "1.5.0",
            "_view_count": null,
            "_view_module_version": "1.2.0",
            "bar_color": null,
            "_model_module": "@jupyter-widgets/controls"
          }
        },
        "cf1a5089d6d649e199138f3c12b3c22f": {
          "model_module": "@jupyter-widgets/base",
          "model_name": "LayoutModel",
          "state": {
            "_view_name": "LayoutView",
            "grid_template_rows": null,
            "right": null,
            "justify_content": null,
            "_view_module": "@jupyter-widgets/base",
            "overflow": null,
            "_model_module_version": "1.2.0",
            "_view_count": null,
            "flex_flow": null,
            "width": null,
            "min_width": null,
            "border": null,
            "align_items": null,
            "bottom": null,
            "_model_module": "@jupyter-widgets/base",
            "top": null,
            "grid_column": null,
            "overflow_y": null,
            "overflow_x": null,
            "grid_auto_flow": null,
            "grid_area": null,
            "grid_template_columns": null,
            "flex": null,
            "_model_name": "LayoutModel",
            "justify_items": null,
            "grid_row": null,
            "max_height": null,
            "align_content": null,
            "visibility": null,
            "align_self": null,
            "height": null,
            "min_height": null,
            "padding": null,
            "grid_auto_rows": null,
            "grid_gap": null,
            "max_width": null,
            "order": null,
            "_view_module_version": "1.2.0",
            "grid_template_areas": null,
            "object_position": null,
            "object_fit": null,
            "grid_auto_columns": null,
            "margin": null,
            "display": null,
            "left": null
          }
        },
        "19636ab21d404da6b894067a20a49010": {
          "model_module": "@jupyter-widgets/controls",
          "model_name": "DescriptionStyleModel",
          "state": {
            "_view_name": "StyleView",
            "_model_name": "DescriptionStyleModel",
            "description_width": "",
            "_view_module": "@jupyter-widgets/base",
            "_model_module_version": "1.5.0",
            "_view_count": null,
            "_view_module_version": "1.2.0",
            "_model_module": "@jupyter-widgets/controls"
          }
        },
        "f26abbc697a04fbb908238086c7ea900": {
          "model_module": "@jupyter-widgets/base",
          "model_name": "LayoutModel",
          "state": {
            "_view_name": "LayoutView",
            "grid_template_rows": null,
            "right": null,
            "justify_content": null,
            "_view_module": "@jupyter-widgets/base",
            "overflow": null,
            "_model_module_version": "1.2.0",
            "_view_count": null,
            "flex_flow": null,
            "width": null,
            "min_width": null,
            "border": null,
            "align_items": null,
            "bottom": null,
            "_model_module": "@jupyter-widgets/base",
            "top": null,
            "grid_column": null,
            "overflow_y": null,
            "overflow_x": null,
            "grid_auto_flow": null,
            "grid_area": null,
            "grid_template_columns": null,
            "flex": null,
            "_model_name": "LayoutModel",
            "justify_items": null,
            "grid_row": null,
            "max_height": null,
            "align_content": null,
            "visibility": null,
            "align_self": null,
            "height": null,
            "min_height": null,
            "padding": null,
            "grid_auto_rows": null,
            "grid_gap": null,
            "max_width": null,
            "order": null,
            "_view_module_version": "1.2.0",
            "grid_template_areas": null,
            "object_position": null,
            "object_fit": null,
            "grid_auto_columns": null,
            "margin": null,
            "display": null,
            "left": null
          }
        },
        "ef7dbde2d40a4c80b00658ff463940a3": {
          "model_module": "@jupyter-widgets/controls",
          "model_name": "HBoxModel",
          "state": {
            "_view_name": "HBoxView",
            "_dom_classes": [],
            "_model_name": "HBoxModel",
            "_view_module": "@jupyter-widgets/controls",
            "_model_module_version": "1.5.0",
            "_view_count": null,
            "_view_module_version": "1.5.0",
            "box_style": "",
            "layout": "IPY_MODEL_3d6fae00c42242a795fc069fad53c76a",
            "_model_module": "@jupyter-widgets/controls",
            "children": [
              "IPY_MODEL_865b0dfd0e694b0392d221e9ade3e1f2",
              "IPY_MODEL_8afc39d820184e7281b24638a951f9c3"
            ]
          }
        },
        "3d6fae00c42242a795fc069fad53c76a": {
          "model_module": "@jupyter-widgets/base",
          "model_name": "LayoutModel",
          "state": {
            "_view_name": "LayoutView",
            "grid_template_rows": null,
            "right": null,
            "justify_content": null,
            "_view_module": "@jupyter-widgets/base",
            "overflow": null,
            "_model_module_version": "1.2.0",
            "_view_count": null,
            "flex_flow": null,
            "width": null,
            "min_width": null,
            "border": null,
            "align_items": null,
            "bottom": null,
            "_model_module": "@jupyter-widgets/base",
            "top": null,
            "grid_column": null,
            "overflow_y": null,
            "overflow_x": null,
            "grid_auto_flow": null,
            "grid_area": null,
            "grid_template_columns": null,
            "flex": null,
            "_model_name": "LayoutModel",
            "justify_items": null,
            "grid_row": null,
            "max_height": null,
            "align_content": null,
            "visibility": null,
            "align_self": null,
            "height": null,
            "min_height": null,
            "padding": null,
            "grid_auto_rows": null,
            "grid_gap": null,
            "max_width": null,
            "order": null,
            "_view_module_version": "1.2.0",
            "grid_template_areas": null,
            "object_position": null,
            "object_fit": null,
            "grid_auto_columns": null,
            "margin": null,
            "display": null,
            "left": null
          }
        },
        "865b0dfd0e694b0392d221e9ade3e1f2": {
          "model_module": "@jupyter-widgets/controls",
          "model_name": "FloatProgressModel",
          "state": {
            "_view_name": "ProgressView",
            "style": "IPY_MODEL_0faf15dbb3ad48c7bccf1123f3481e35",
            "_dom_classes": [],
            "description": "Downloading: 100%",
            "_model_name": "FloatProgressModel",
            "bar_style": "success",
            "max": 352833716,
            "_view_module": "@jupyter-widgets/controls",
            "_model_module_version": "1.5.0",
            "value": 352833716,
            "_view_count": null,
            "_view_module_version": "1.5.0",
            "orientation": "horizontal",
            "min": 0,
            "description_tooltip": null,
            "_model_module": "@jupyter-widgets/controls",
            "layout": "IPY_MODEL_dacdf4c361914939a42a11a4966bccda"
          }
        },
        "8afc39d820184e7281b24638a951f9c3": {
          "model_module": "@jupyter-widgets/controls",
          "model_name": "HTMLModel",
          "state": {
            "_view_name": "HTMLView",
            "style": "IPY_MODEL_5fc40c952cea412c8882f22d86f058f3",
            "_dom_classes": [],
            "description": "",
            "_model_name": "HTMLModel",
            "placeholder": "​",
            "_view_module": "@jupyter-widgets/controls",
            "_model_module_version": "1.5.0",
            "value": " 353M/353M [00:17&lt;00:00, 20.5MB/s]",
            "_view_count": null,
            "_view_module_version": "1.5.0",
            "description_tooltip": null,
            "_model_module": "@jupyter-widgets/controls",
            "layout": "IPY_MODEL_e3198eecbd174ed9a3d12c9503c397ac"
          }
        },
        "0faf15dbb3ad48c7bccf1123f3481e35": {
          "model_module": "@jupyter-widgets/controls",
          "model_name": "ProgressStyleModel",
          "state": {
            "_view_name": "StyleView",
            "_model_name": "ProgressStyleModel",
            "description_width": "initial",
            "_view_module": "@jupyter-widgets/base",
            "_model_module_version": "1.5.0",
            "_view_count": null,
            "_view_module_version": "1.2.0",
            "bar_color": null,
            "_model_module": "@jupyter-widgets/controls"
          }
        },
        "dacdf4c361914939a42a11a4966bccda": {
          "model_module": "@jupyter-widgets/base",
          "model_name": "LayoutModel",
          "state": {
            "_view_name": "LayoutView",
            "grid_template_rows": null,
            "right": null,
            "justify_content": null,
            "_view_module": "@jupyter-widgets/base",
            "overflow": null,
            "_model_module_version": "1.2.0",
            "_view_count": null,
            "flex_flow": null,
            "width": null,
            "min_width": null,
            "border": null,
            "align_items": null,
            "bottom": null,
            "_model_module": "@jupyter-widgets/base",
            "top": null,
            "grid_column": null,
            "overflow_y": null,
            "overflow_x": null,
            "grid_auto_flow": null,
            "grid_area": null,
            "grid_template_columns": null,
            "flex": null,
            "_model_name": "LayoutModel",
            "justify_items": null,
            "grid_row": null,
            "max_height": null,
            "align_content": null,
            "visibility": null,
            "align_self": null,
            "height": null,
            "min_height": null,
            "padding": null,
            "grid_auto_rows": null,
            "grid_gap": null,
            "max_width": null,
            "order": null,
            "_view_module_version": "1.2.0",
            "grid_template_areas": null,
            "object_position": null,
            "object_fit": null,
            "grid_auto_columns": null,
            "margin": null,
            "display": null,
            "left": null
          }
        },
        "5fc40c952cea412c8882f22d86f058f3": {
          "model_module": "@jupyter-widgets/controls",
          "model_name": "DescriptionStyleModel",
          "state": {
            "_view_name": "StyleView",
            "_model_name": "DescriptionStyleModel",
            "description_width": "",
            "_view_module": "@jupyter-widgets/base",
            "_model_module_version": "1.5.0",
            "_view_count": null,
            "_view_module_version": "1.2.0",
            "_model_module": "@jupyter-widgets/controls"
          }
        },
        "e3198eecbd174ed9a3d12c9503c397ac": {
          "model_module": "@jupyter-widgets/base",
          "model_name": "LayoutModel",
          "state": {
            "_view_name": "LayoutView",
            "grid_template_rows": null,
            "right": null,
            "justify_content": null,
            "_view_module": "@jupyter-widgets/base",
            "overflow": null,
            "_model_module_version": "1.2.0",
            "_view_count": null,
            "flex_flow": null,
            "width": null,
            "min_width": null,
            "border": null,
            "align_items": null,
            "bottom": null,
            "_model_module": "@jupyter-widgets/base",
            "top": null,
            "grid_column": null,
            "overflow_y": null,
            "overflow_x": null,
            "grid_auto_flow": null,
            "grid_area": null,
            "grid_template_columns": null,
            "flex": null,
            "_model_name": "LayoutModel",
            "justify_items": null,
            "grid_row": null,
            "max_height": null,
            "align_content": null,
            "visibility": null,
            "align_self": null,
            "height": null,
            "min_height": null,
            "padding": null,
            "grid_auto_rows": null,
            "grid_gap": null,
            "max_width": null,
            "order": null,
            "_view_module_version": "1.2.0",
            "grid_template_areas": null,
            "object_position": null,
            "object_fit": null,
            "grid_auto_columns": null,
            "margin": null,
            "display": null,
            "left": null
          }
        }
      }
    }
  },
  "cells": [
    {
      "cell_type": "markdown",
      "metadata": {
        "id": "view-in-github",
        "colab_type": "text"
      },
      "source": [
        "<a href=\"https://colab.research.google.com/github/jalammar/ecco/blob/main/notebooks/02_Evolution_of_Hidden_States.ipynb\" target=\"_parent\"><img src=\"https://colab.research.google.com/assets/colab-badge.svg\" alt=\"Open In Colab\"/></a>"
      ]
    },
    {
      "cell_type": "code",
      "metadata": {
        "id": "jVUTEvBOJMuu",
        "outputId": "6b506d58-da84-49fd-9d6d-84bf75229b13",
        "colab": {
          "base_uri": "https://localhost:8080/"
        }
      },
      "source": [
        "!pip install ecco"
      ],
      "execution_count": 1,
      "outputs": [
        {
          "output_type": "stream",
          "text": [
            "Collecting ecco\n",
            "\u001b[?25l  Downloading https://files.pythonhosted.org/packages/7c/2b/a8c059f8eed5c37299b147754086e494fda256144cec2dc745d0b897ea3d/ecco-0.0.2-py2.py3-none-any.whl (46kB)\n",
            "\r\u001b[K     |███████                         | 10kB 16.2MB/s eta 0:00:01\r\u001b[K     |██████████████                  | 20kB 3.5MB/s eta 0:00:01\r\u001b[K     |█████████████████████           | 30kB 3.9MB/s eta 0:00:01\r\u001b[K     |████████████████████████████    | 40kB 4.3MB/s eta 0:00:01\r\u001b[K     |████████████████████████████████| 51kB 2.8MB/s \n",
            "\u001b[?25hCollecting transformers~=3.1\n",
            "\u001b[?25l  Downloading https://files.pythonhosted.org/packages/2c/4e/4f1ede0fd7a36278844a277f8d53c21f88f37f3754abf76a5d6224f76d4a/transformers-3.4.0-py3-none-any.whl (1.3MB)\n",
            "\u001b[K     |████████████████████████████████| 1.3MB 14.7MB/s \n",
            "\u001b[?25hRequirement already satisfied: seaborn~=0.11 in /usr/local/lib/python3.6/dist-packages (from ecco) (0.11.0)\n",
            "Requirement already satisfied: tqdm>=4.27 in /usr/local/lib/python3.6/dist-packages (from transformers~=3.1->ecco) (4.41.1)\n",
            "Collecting sentencepiece!=0.1.92\n",
            "\u001b[?25l  Downloading https://files.pythonhosted.org/packages/e5/2d/6d4ca4bef9a67070fa1cac508606328329152b1df10bdf31fb6e4e727894/sentencepiece-0.1.94-cp36-cp36m-manylinux2014_x86_64.whl (1.1MB)\n",
            "\u001b[K     |████████████████████████████████| 1.1MB 48.9MB/s \n",
            "\u001b[?25hRequirement already satisfied: numpy in /usr/local/lib/python3.6/dist-packages (from transformers~=3.1->ecco) (1.18.5)\n",
            "Requirement already satisfied: protobuf in /usr/local/lib/python3.6/dist-packages (from transformers~=3.1->ecco) (3.12.4)\n",
            "Requirement already satisfied: regex!=2019.12.17 in /usr/local/lib/python3.6/dist-packages (from transformers~=3.1->ecco) (2019.12.20)\n",
            "Requirement already satisfied: requests in /usr/local/lib/python3.6/dist-packages (from transformers~=3.1->ecco) (2.23.0)\n",
            "Collecting tokenizers==0.9.2\n",
            "\u001b[?25l  Downloading https://files.pythonhosted.org/packages/7c/a5/78be1a55b2ac8d6a956f0a211d372726e2b1dd2666bb537fea9b03abd62c/tokenizers-0.9.2-cp36-cp36m-manylinux1_x86_64.whl (2.9MB)\n",
            "\u001b[K     |████████████████████████████████| 2.9MB 48.0MB/s \n",
            "\u001b[?25hCollecting sacremoses\n",
            "\u001b[?25l  Downloading https://files.pythonhosted.org/packages/7d/34/09d19aff26edcc8eb2a01bed8e98f13a1537005d31e95233fd48216eed10/sacremoses-0.0.43.tar.gz (883kB)\n",
            "\u001b[K     |████████████████████████████████| 890kB 35.7MB/s \n",
            "\u001b[?25hRequirement already satisfied: dataclasses; python_version < \"3.7\" in /usr/local/lib/python3.6/dist-packages (from transformers~=3.1->ecco) (0.7)\n",
            "Requirement already satisfied: filelock in /usr/local/lib/python3.6/dist-packages (from transformers~=3.1->ecco) (3.0.12)\n",
            "Requirement already satisfied: packaging in /usr/local/lib/python3.6/dist-packages (from transformers~=3.1->ecco) (20.4)\n",
            "Requirement already satisfied: matplotlib>=2.2 in /usr/local/lib/python3.6/dist-packages (from seaborn~=0.11->ecco) (3.2.2)\n",
            "Requirement already satisfied: scipy>=1.0 in /usr/local/lib/python3.6/dist-packages (from seaborn~=0.11->ecco) (1.4.1)\n",
            "Requirement already satisfied: pandas>=0.23 in /usr/local/lib/python3.6/dist-packages (from seaborn~=0.11->ecco) (1.1.4)\n",
            "Requirement already satisfied: six>=1.9 in /usr/local/lib/python3.6/dist-packages (from protobuf->transformers~=3.1->ecco) (1.15.0)\n",
            "Requirement already satisfied: setuptools in /usr/local/lib/python3.6/dist-packages (from protobuf->transformers~=3.1->ecco) (50.3.2)\n",
            "Requirement already satisfied: urllib3!=1.25.0,!=1.25.1,<1.26,>=1.21.1 in /usr/local/lib/python3.6/dist-packages (from requests->transformers~=3.1->ecco) (1.24.3)\n",
            "Requirement already satisfied: certifi>=2017.4.17 in /usr/local/lib/python3.6/dist-packages (from requests->transformers~=3.1->ecco) (2020.6.20)\n",
            "Requirement already satisfied: idna<3,>=2.5 in /usr/local/lib/python3.6/dist-packages (from requests->transformers~=3.1->ecco) (2.10)\n",
            "Requirement already satisfied: chardet<4,>=3.0.2 in /usr/local/lib/python3.6/dist-packages (from requests->transformers~=3.1->ecco) (3.0.4)\n",
            "Requirement already satisfied: click in /usr/local/lib/python3.6/dist-packages (from sacremoses->transformers~=3.1->ecco) (7.1.2)\n",
            "Requirement already satisfied: joblib in /usr/local/lib/python3.6/dist-packages (from sacremoses->transformers~=3.1->ecco) (0.17.0)\n",
            "Requirement already satisfied: pyparsing>=2.0.2 in /usr/local/lib/python3.6/dist-packages (from packaging->transformers~=3.1->ecco) (2.4.7)\n",
            "Requirement already satisfied: cycler>=0.10 in /usr/local/lib/python3.6/dist-packages (from matplotlib>=2.2->seaborn~=0.11->ecco) (0.10.0)\n",
            "Requirement already satisfied: python-dateutil>=2.1 in /usr/local/lib/python3.6/dist-packages (from matplotlib>=2.2->seaborn~=0.11->ecco) (2.8.1)\n",
            "Requirement already satisfied: kiwisolver>=1.0.1 in /usr/local/lib/python3.6/dist-packages (from matplotlib>=2.2->seaborn~=0.11->ecco) (1.3.1)\n",
            "Requirement already satisfied: pytz>=2017.2 in /usr/local/lib/python3.6/dist-packages (from pandas>=0.23->seaborn~=0.11->ecco) (2018.9)\n",
            "Building wheels for collected packages: sacremoses\n",
            "  Building wheel for sacremoses (setup.py) ... \u001b[?25l\u001b[?25hdone\n",
            "  Created wheel for sacremoses: filename=sacremoses-0.0.43-cp36-none-any.whl size=893257 sha256=33e43f624abe786bd95ccfa6d5bc8f2f283a030a1d0cd1dc63211ab03b8a14d5\n",
            "  Stored in directory: /root/.cache/pip/wheels/29/3c/fd/7ce5c3f0666dab31a50123635e6fb5e19ceb42ce38d4e58f45\n",
            "Successfully built sacremoses\n",
            "Installing collected packages: sentencepiece, tokenizers, sacremoses, transformers, ecco\n",
            "Successfully installed ecco-0.0.2 sacremoses-0.0.43 sentencepiece-0.1.94 tokenizers-0.9.2 transformers-3.4.0\n"
          ],
          "name": "stdout"
        }
      ]
    },
    {
      "cell_type": "code",
      "metadata": {
        "id": "wv3l86vBJNpY",
        "outputId": "6393c003-19b7-48d6-cf24-7082d7e563b8",
        "colab": {
          "base_uri": "https://localhost:8080/",
          "height": 215,
          "referenced_widgets": [
            "c108b6ce669e46da869c853def669d2e",
            "f1a61738022d4b2da2d19a653cce66c2",
            "d00c68b6c0b649e4abb1a018c8fa1c3d",
            "2eb08401baeb47e395593c281a99d259",
            "c471bce8832a4e3da53384dbf2cfa984",
            "e5c01a778a5144b585ea9e40ccded6ea",
            "39110dd8332b4115a1271c80003f2fe2",
            "483a88f0d33d4d3197c3a64eb06b040b",
            "802d74e003fe4f9392473a4d3034e7e2",
            "263052c55b7c4c648f942a549fcb3e02",
            "7666cb4044fa4df4b3206d6768a1ab26",
            "5bc5980786c743d09c70a3814ae51344",
            "1349475098604acab1f45b194f8a38e7",
            "a4909f89e21144b497c08c0d216f2f23",
            "22c0e40d9d1240dcbc4aafba8f530aea",
            "1abb749e5a84412287ed347d68fcaf30",
            "95c17e512d224e9abfa5f386063f5c4c",
            "2bf5b6696e114f2287dc417c35fa3351",
            "f8c8aafc4e904352b6beadd061f2f74e",
            "0c45e0c12eb04edd95298675aeea308a",
            "70d24304bfdc46dd8ceec19c146b2255",
            "cf1a5089d6d649e199138f3c12b3c22f",
            "19636ab21d404da6b894067a20a49010",
            "f26abbc697a04fbb908238086c7ea900",
            "ef7dbde2d40a4c80b00658ff463940a3",
            "3d6fae00c42242a795fc069fad53c76a",
            "865b0dfd0e694b0392d221e9ade3e1f2",
            "8afc39d820184e7281b24638a951f9c3",
            "0faf15dbb3ad48c7bccf1123f3481e35",
            "dacdf4c361914939a42a11a4966bccda",
            "5fc40c952cea412c8882f22d86f058f3",
            "e3198eecbd174ed9a3d12c9503c397ac"
          ]
        }
      },
      "source": [
        "from ecco import language_model\n",
        "lm = language_model.from_pretrained('distilgpt2')"
      ],
      "execution_count": 2,
      "outputs": [
        {
          "output_type": "display_data",
          "data": {
            "application/vnd.jupyter.widget-view+json": {
              "model_id": "c108b6ce669e46da869c853def669d2e",
              "version_minor": 0,
              "version_major": 2
            },
            "text/plain": [
              "HBox(children=(FloatProgress(value=0.0, description='Downloading', max=762.0, style=ProgressStyle(description_…"
            ]
          },
          "metadata": {
            "tags": []
          }
        },
        {
          "output_type": "stream",
          "text": [
            "\n"
          ],
          "name": "stdout"
        },
        {
          "output_type": "display_data",
          "data": {
            "application/vnd.jupyter.widget-view+json": {
              "model_id": "802d74e003fe4f9392473a4d3034e7e2",
              "version_minor": 0,
              "version_major": 2
            },
            "text/plain": [
              "HBox(children=(FloatProgress(value=0.0, description='Downloading', max=1042301.0, style=ProgressStyle(descript…"
            ]
          },
          "metadata": {
            "tags": []
          }
        },
        {
          "output_type": "stream",
          "text": [
            "\n"
          ],
          "name": "stdout"
        },
        {
          "output_type": "display_data",
          "data": {
            "application/vnd.jupyter.widget-view+json": {
              "model_id": "95c17e512d224e9abfa5f386063f5c4c",
              "version_minor": 0,
              "version_major": 2
            },
            "text/plain": [
              "HBox(children=(FloatProgress(value=0.0, description='Downloading', max=456318.0, style=ProgressStyle(descripti…"
            ]
          },
          "metadata": {
            "tags": []
          }
        },
        {
          "output_type": "stream",
          "text": [
            "\n"
          ],
          "name": "stdout"
        },
        {
          "output_type": "display_data",
          "data": {
            "application/vnd.jupyter.widget-view+json": {
              "model_id": "ef7dbde2d40a4c80b00658ff463940a3",
              "version_minor": 0,
              "version_major": 2
            },
            "text/plain": [
              "HBox(children=(FloatProgress(value=0.0, description='Downloading', max=352833716.0, style=ProgressStyle(descri…"
            ]
          },
          "metadata": {
            "tags": []
          }
        },
        {
          "output_type": "stream",
          "text": [
            "\n"
          ],
          "name": "stdout"
        },
        {
          "output_type": "display_data",
          "data": {
            "text/html": [
              "<html lang=\"en\">\n",
              "<script src=\"https://requirejs.org/docs/release/2.3.6/minified/require.js\"></script>\n",
              "<script>\n",
              "    var ecco_url = 'https://storage.googleapis.com/ml-intro/ecco/'\n",
              "    // var ecco_url = 'http://localhost:8000/ecco/'\n",
              "\n",
              "    if (window.ecco === undefined) window.ecco = {}\n",
              "\n",
              "    requirejs.config({\n",
              "        urlArgs: \"bust=\" + (new Date()).getTime(),\n",
              "        nodeRequire: require,\n",
              "        paths: {\n",
              "            d3: \"https://d3js.org/d3.v5.min\",\n",
              "            d3array: \"https://d3js.org/d3-array.v2.min\",\n",
              "            jquery: \"https://code.jquery.com/jquery-3.5.1.min\",\n",
              "            oldEcco: ecco_url + 'ecco',\n",
              "            ecco: ecco_url + 'ecco-bundle',\n",
              "            XRegExp: 'https://cdnjs.cloudflare.com/ajax/libs/xregexp/3.2.0/xregexp-all.min'\n",
              "        }\n",
              "    });\n",
              "    requirejs(['d3'],\n",
              "        function (d3) {\n",
              "            d3.select('#css').attr('href', ecco_url + 'html/styles.css')\n",
              "        })\n",
              "\n",
              "    console.log('Ecco initialize.')\n",
              "</script>\n",
              "\n",
              "<head>\n",
              "    <link id='css' rel=\"stylesheet\" type=\"text/css\">\n",
              "</head>\n"
            ],
            "text/plain": [
              "<IPython.core.display.HTML object>"
            ]
          },
          "metadata": {
            "tags": []
          }
        }
      ]
    },
    {
      "cell_type": "code",
      "metadata": {
        "id": "tQp2xgISJPMu"
      },
      "source": [
        "text= \" 1, 1, 1,\"\n",
        "\n",
        "output = lm.generate(text, generate=1, do_sample=False)"
      ],
      "execution_count": 10,
      "outputs": []
    },
    {
      "cell_type": "code",
      "metadata": {
        "id": "agsc0y0CJfL_",
        "outputId": "d2a137f9-88ef-48bd-ea2d-6e13a07f72a0",
        "colab": {
          "base_uri": "https://localhost:8080/",
          "height": 85
        }
      },
      "source": [
        "output"
      ],
      "execution_count": 13,
      "outputs": [
        {
          "output_type": "display_data",
          "data": {
            "text/html": [
              "<html lang=\"en\">\n",
              "<script src=\"https://requirejs.org/docs/release/2.3.6/minified/require.js\"></script>\n",
              "<script>\n",
              "    var ecco_url = 'https://storage.googleapis.com/ml-intro/ecco/'\n",
              "    // var ecco_url = 'http://localhost:8000/ecco/'\n",
              "\n",
              "    if (window.ecco === undefined) window.ecco = {}\n",
              "\n",
              "    requirejs.config({\n",
              "        urlArgs: \"bust=\" + (new Date()).getTime(),\n",
              "        nodeRequire: require,\n",
              "        paths: {\n",
              "            d3: \"https://d3js.org/d3.v5.min\",\n",
              "            d3array: \"https://d3js.org/d3-array.v2.min\",\n",
              "            jquery: \"https://code.jquery.com/jquery-3.5.1.min\",\n",
              "            oldEcco: ecco_url + 'ecco',\n",
              "            ecco: ecco_url + 'ecco-bundle',\n",
              "            XRegExp: 'https://cdnjs.cloudflare.com/ajax/libs/xregexp/3.2.0/xregexp-all.min'\n",
              "        }\n",
              "    });\n",
              "    requirejs(['d3'],\n",
              "        function (d3) {\n",
              "            d3.select('#css').attr('href', ecco_url + 'html/styles.css')\n",
              "        })\n",
              "\n",
              "    console.log('Ecco initialize.')\n",
              "</script>\n",
              "\n",
              "<head>\n",
              "    <link id='css' rel=\"stylesheet\" type=\"text/css\">\n",
              "</head>\n"
            ],
            "text/plain": [
              "<IPython.core.display.HTML object>"
            ]
          },
          "metadata": {
            "tags": []
          }
        },
        {
          "output_type": "display_data",
          "data": {
            "text/html": [
              "<script>\n",
              "    console.log('defining basic')\n",
              "    define('basic', ['d3'],\n",
              "        function (d3) {\n",
              "            return {\n",
              "                init: function () {\n",
              "\n",
              "                    console.log('basic init')\n",
              "                    const viz_id = \"viz_\" + Math.round(Math.random() * 10000000)\n",
              "                    const div = d3.select('#basic').attr('id', viz_id),\n",
              "                        div_parent = d3.select('#' + viz_id).node().parentNode\n",
              "\n",
              "                    // Link to CSS file\n",
              "                    d3.select(div_parent).insert('link')\n",
              "                        .attr('rel', 'stylesheet')\n",
              "                        .attr('type', 'text/css')\n",
              "                        .attr('href', ecco_url + 'html/styles.css')\n",
              "\n",
              "                    return viz_id\n",
              "                }\n",
              "            }\n",
              "\n",
              "        }, function (err) {\n",
              "            console.log(err);\n",
              "        }\n",
              "\n",
              "    )\n",
              "\n",
              "    console.log('after defining basic')\n",
              "\n",
              "\n",
              "</script>\n",
              "\n",
              "<div id=\"basic\"></div>"
            ],
            "text/plain": [
              "<IPython.core.display.HTML object>"
            ]
          },
          "metadata": {
            "tags": []
          }
        },
        {
          "output_type": "display_data",
          "data": {
            "application/javascript": [
              "\n",
              "         requirejs(['basic', 'ecco'], function(basic, ecco){\n",
              "            const viz_id = basic.init()\n",
              "\n",
              "            ecco.renderOutputSequence(viz_id, {'tokens': [{'token': ' 1', 'token_id': 352, 'type': 'input'}, {'token': ',', 'token_id': 11, 'type': 'input'}, {'token': ' 1', 'token_id': 352, 'type': 'input'}, {'token': ',', 'token_id': 11, 'type': 'input'}, {'token': ' 1', 'token_id': 352, 'type': 'input'}, {'token': ',', 'token_id': 11, 'type': 'input'}, {'token': ' 1', 'token_id': 352, 'type': 'output'}]})\n",
              "         }, function (err) {\n",
              "            console.log(err);\n",
              "        })"
            ],
            "text/plain": [
              "<IPython.core.display.Javascript object>"
            ]
          },
          "metadata": {
            "tags": []
          }
        },
        {
          "output_type": "execute_result",
          "data": {
            "text/html": [
              "<OutputSeq>"
            ],
            "text/plain": [
              "<ecco.output.OutputSeq at 0x7fd546caec50>"
            ]
          },
          "metadata": {
            "tags": []
          },
          "execution_count": 13
        }
      ]
    },
    {
      "cell_type": "code",
      "metadata": {
        "id": "czxFXc8kJb-d",
        "outputId": "f94ff1c0-cebd-4011-8009-7ee948eb829a",
        "colab": {
          "base_uri": "https://localhost:8080/",
          "height": 415
        }
      },
      "source": [
        "lm.trace_tokens(output, position=6, layer=5)"
      ],
      "execution_count": 16,
      "outputs": [
        {
          "output_type": "stream",
          "text": [
            "Predictions for position 6\n"
          ],
          "name": "stdout"
        },
        {
          "output_type": "display_data",
          "data": {
            "text/html": [
              "<html lang=\"en\">\n",
              "<script src=\"https://requirejs.org/docs/release/2.3.6/minified/require.js\"></script>\n",
              "<script>\n",
              "    var ecco_url = 'https://storage.googleapis.com/ml-intro/ecco/'\n",
              "    // var ecco_url = 'http://localhost:8000/ecco/'\n",
              "\n",
              "    if (window.ecco === undefined) window.ecco = {}\n",
              "\n",
              "    requirejs.config({\n",
              "        urlArgs: \"bust=\" + (new Date()).getTime(),\n",
              "        nodeRequire: require,\n",
              "        paths: {\n",
              "            d3: \"https://d3js.org/d3.v5.min\",\n",
              "            d3array: \"https://d3js.org/d3-array.v2.min\",\n",
              "            jquery: \"https://code.jquery.com/jquery-3.5.1.min\",\n",
              "            oldEcco: ecco_url + 'ecco',\n",
              "            ecco: ecco_url + 'ecco-bundle',\n",
              "            XRegExp: 'https://cdnjs.cloudflare.com/ajax/libs/xregexp/3.2.0/xregexp-all.min'\n",
              "        }\n",
              "    });\n",
              "    requirejs(['d3'],\n",
              "        function (d3) {\n",
              "            d3.select('#css').attr('href', ecco_url + 'html/styles.css')\n",
              "        })\n",
              "\n",
              "    console.log('Ecco initialize.')\n",
              "</script>\n",
              "\n",
              "<head>\n",
              "    <link id='css' rel=\"stylesheet\" type=\"text/css\">\n",
              "</head>\n"
            ],
            "text/plain": [
              "<IPython.core.display.HTML object>"
            ]
          },
          "metadata": {
            "tags": []
          }
        },
        {
          "output_type": "display_data",
          "data": {
            "text/html": [
              "<script>\n",
              "\n",
              "    define('trace_tokens', [ 'd3', 'oldEcco'],\n",
              "        function (d3, ecco) {\n",
              "            return {\n",
              "                TraceTokens: function (viz_id, data, config) {\n",
              "                    const self = this\n",
              "                    self.viz_id = viz_id\n",
              "                    self.data = data\n",
              "                    self.config = config\n",
              "                    d3.select('#css').attr('href', ecco_url + 'html/styles.css')\n",
              "                    d3.select('#trace-token').attr('id', viz_id)\n",
              "\n",
              "                    self.visualize = function(){\n",
              "                        ecco.traceToken(self.viz_id, '#viz', data)\n",
              "                    }\n",
              "                    self.visualize()\n",
              "                }\n",
              "            }\n",
              "        }, function (err) {\n",
              "            console.log(err);\n",
              "        }\n",
              "    )\n",
              "\n",
              "\n",
              "</script>\n",
              "<html lang=\"en\">\n",
              "<head>\n",
              "    <link href='https://fonts.googleapis.com/css?family=Roboto Mono' rel='stylesheet'>\n",
              "    <link id='css' rel=\"stylesheet\" type=\"text/css\">\n",
              "    <meta charset=\"UTF-8\">\n",
              "    <title>Trace hidden states</title>\n",
              "\n",
              "    <style>\n",
              "    </style>\n",
              "</head>\n",
              "<body>\n",
              "<div id=\"trace-token\">\n",
              "\n",
              "    <div id=\"viz\"></div>\n",
              "</div>\n",
              "</body>\n",
              "</html>"
            ],
            "text/plain": [
              "<IPython.core.display.HTML object>"
            ]
          },
          "metadata": {
            "tags": []
          }
        },
        {
          "output_type": "display_data",
          "data": {
            "application/javascript": [
              "\n",
              "        requirejs(['trace_tokens'], function(trace_tokens){\n",
              "        if (window.trace === undefined) \n",
              "            window.trace = {}\n",
              "        window.trace[\"viz_531635\"] = new trace_tokens.TraceTokens(\"viz_531635\", [[{\"token\": \" 1\", \"prob\": \"0.59793174\", \"ranking\": 1, \"layer\": 5}, {\"token\": \" 2\", \"prob\": \"0.1766438\", \"ranking\": 2, \"layer\": 5}, {\"token\": \" 0\", \"prob\": \"0.047203474\", \"ranking\": 3, \"layer\": 5}, {\"token\": \" 3\", \"prob\": \"0.04305835\", \"ranking\": 4, \"layer\": 5}, {\"token\": \" 4\", \"prob\": \"0.014155654\", \"ranking\": 5, \"layer\": 5}, {\"token\": \" 5\", \"prob\": \"0.012131831\", \"ranking\": 6, \"layer\": 5}, {\"token\": \" and\", \"prob\": \"0.010471825\", \"ranking\": 7, \"layer\": 5}, {\"token\": \"1\", \"prob\": \"0.008584005\", \"ranking\": 8, \"layer\": 5}, {\"token\": \" 6\", \"prob\": \"0.006193402\", \"ranking\": 9, \"layer\": 5}, {\"token\": \" 10\", \"prob\": \"0.0041250973\", \"ranking\": 10, \"layer\": 5}]])\n",
              "        }\n",
              "        )\n",
              "        "
            ],
            "text/plain": [
              "<IPython.core.display.Javascript object>"
            ]
          },
          "metadata": {
            "tags": []
          }
        }
      ]
    },
    {
      "cell_type": "code",
      "metadata": {
        "id": "GIS5Kw_GJiAv",
        "outputId": "906e74b3-92b9-4ff4-eda4-4b6f5b5ce386",
        "colab": {
          "base_uri": "https://localhost:8080/",
          "height": 1000
        }
      },
      "source": [
        "lm.trace_tokens(output, position=6)"
      ],
      "execution_count": 17,
      "outputs": [
        {
          "output_type": "stream",
          "text": [
            "Predictions for position 6\n"
          ],
          "name": "stdout"
        },
        {
          "output_type": "display_data",
          "data": {
            "text/html": [
              "<html lang=\"en\">\n",
              "<script src=\"https://requirejs.org/docs/release/2.3.6/minified/require.js\"></script>\n",
              "<script>\n",
              "    var ecco_url = 'https://storage.googleapis.com/ml-intro/ecco/'\n",
              "    // var ecco_url = 'http://localhost:8000/ecco/'\n",
              "\n",
              "    if (window.ecco === undefined) window.ecco = {}\n",
              "\n",
              "    requirejs.config({\n",
              "        urlArgs: \"bust=\" + (new Date()).getTime(),\n",
              "        nodeRequire: require,\n",
              "        paths: {\n",
              "            d3: \"https://d3js.org/d3.v5.min\",\n",
              "            d3array: \"https://d3js.org/d3-array.v2.min\",\n",
              "            jquery: \"https://code.jquery.com/jquery-3.5.1.min\",\n",
              "            oldEcco: ecco_url + 'ecco',\n",
              "            ecco: ecco_url + 'ecco-bundle',\n",
              "            XRegExp: 'https://cdnjs.cloudflare.com/ajax/libs/xregexp/3.2.0/xregexp-all.min'\n",
              "        }\n",
              "    });\n",
              "    requirejs(['d3'],\n",
              "        function (d3) {\n",
              "            d3.select('#css').attr('href', ecco_url + 'html/styles.css')\n",
              "        })\n",
              "\n",
              "    console.log('Ecco initialize.')\n",
              "</script>\n",
              "\n",
              "<head>\n",
              "    <link id='css' rel=\"stylesheet\" type=\"text/css\">\n",
              "</head>\n"
            ],
            "text/plain": [
              "<IPython.core.display.HTML object>"
            ]
          },
          "metadata": {
            "tags": []
          }
        },
        {
          "output_type": "display_data",
          "data": {
            "text/html": [
              "<script>\n",
              "\n",
              "    define('trace_tokens', [ 'd3', 'oldEcco'],\n",
              "        function (d3, ecco) {\n",
              "            return {\n",
              "                TraceTokens: function (viz_id, data, config) {\n",
              "                    const self = this\n",
              "                    self.viz_id = viz_id\n",
              "                    self.data = data\n",
              "                    self.config = config\n",
              "                    d3.select('#css').attr('href', ecco_url + 'html/styles.css')\n",
              "                    d3.select('#trace-token').attr('id', viz_id)\n",
              "\n",
              "                    self.visualize = function(){\n",
              "                        ecco.traceToken(self.viz_id, '#viz', data)\n",
              "                    }\n",
              "                    self.visualize()\n",
              "                }\n",
              "            }\n",
              "        }, function (err) {\n",
              "            console.log(err);\n",
              "        }\n",
              "    )\n",
              "\n",
              "\n",
              "</script>\n",
              "<html lang=\"en\">\n",
              "<head>\n",
              "    <link href='https://fonts.googleapis.com/css?family=Roboto Mono' rel='stylesheet'>\n",
              "    <link id='css' rel=\"stylesheet\" type=\"text/css\">\n",
              "    <meta charset=\"UTF-8\">\n",
              "    <title>Trace hidden states</title>\n",
              "\n",
              "    <style>\n",
              "    </style>\n",
              "</head>\n",
              "<body>\n",
              "<div id=\"trace-token\">\n",
              "\n",
              "    <div id=\"viz\"></div>\n",
              "</div>\n",
              "</body>\n",
              "</html>"
            ],
            "text/plain": [
              "<IPython.core.display.HTML object>"
            ]
          },
          "metadata": {
            "tags": []
          }
        },
        {
          "output_type": "display_data",
          "data": {
            "application/javascript": [
              "\n",
              "        requirejs(['trace_tokens'], function(trace_tokens){\n",
              "        if (window.trace === undefined) \n",
              "            window.trace = {}\n",
              "        window.trace[\"viz_529746\"] = new trace_tokens.TraceTokens(\"viz_529746\", [[{\"token\": \" the\", \"prob\": \"0.5407693\", \"ranking\": 1, \"layer\": 0}, {\"token\": \" and\", \"prob\": \"0.3527905\", \"ranking\": 2, \"layer\": 0}, {\"token\": \" \\\"\", \"prob\": \"0.04815638\", \"ranking\": 3, \"layer\": 0}, {\"token\": \" a\", \"prob\": \"0.03521812\", \"ranking\": 4, \"layer\": 0}, {\"token\": \" which\", \"prob\": \"0.0074947816\", \"ranking\": 5, \"layer\": 0}, {\"token\": \" in\", \"prob\": \"0.0024077203\", \"ranking\": 6, \"layer\": 0}, {\"token\": \" I\", \"prob\": \"0.0017178393\", \"ranking\": 7, \"layer\": 0}, {\"token\": \" D\", \"prob\": \"0.0016942706\", \"ranking\": 8, \"layer\": 0}, {\"token\": \"\\n\", \"prob\": \"0.0011090876\", \"ranking\": 9, \"layer\": 0}, {\"token\": \" it\", \"prob\": \"0.00072515354\", \"ranking\": 10, \"layer\": 0}], [{\"token\": \" and\", \"prob\": \"0.91496783\", \"ranking\": 1, \"layer\": 1}, {\"token\": \" a\", \"prob\": \"0.048545375\", \"ranking\": 2, \"layer\": 1}, {\"token\": \" the\", \"prob\": \"0.029457347\", \"ranking\": 3, \"layer\": 1}, {\"token\": \" \\\"\", \"prob\": \"0.002457926\", \"ranking\": 4, \"layer\": 1}, {\"token\": \" A\", \"prob\": \"0.0012416551\", \"ranking\": 5, \"layer\": 1}, {\"token\": \" D\", \"prob\": \"0.0006413828\", \"ranking\": 6, \"layer\": 1}, {\"token\": \" 1\", \"prob\": \"0.00033934828\", \"ranking\": 7, \"layer\": 1}, {\"token\": \" -\", \"prob\": \"0.00033577817\", \"ranking\": 8, \"layer\": 1}, {\"token\": \" 3\", \"prob\": \"0.00020474428\", \"ranking\": 9, \"layer\": 1}, {\"token\": \" 2\", \"prob\": \"0.00017040267\", \"ranking\": 10, \"layer\": 1}], [{\"token\": \" and\", \"prob\": \"0.99762744\", \"ranking\": 1, \"layer\": 2}, {\"token\": \" etc\", \"prob\": \"0.0011293398\", \"ranking\": 2, \"layer\": 2}, {\"token\": \" the\", \"prob\": \"0.0004549076\", \"ranking\": 3, \"layer\": 2}, {\"token\": \" a\", \"prob\": \"0.0001975466\", \"ranking\": 4, \"layer\": 2}, {\"token\": \" 1\", \"prob\": \"0.00013505275\", \"ranking\": 5, \"layer\": 2}, {\"token\": \" A\", \"prob\": \"0.00013141081\", \"ranking\": 6, \"layer\": 2}, {\"token\": \" C\", \"prob\": \"6.1018112e-05\", \"ranking\": 7, \"layer\": 2}, {\"token\": \" or\", \"prob\": \"3.1618758e-05\", \"ranking\": 8, \"layer\": 2}, {\"token\": \" 2\", \"prob\": \"2.637886e-05\", \"ranking\": 9, \"layer\": 2}, {\"token\": \"m\", \"prob\": \"2.297926e-05\", \"ranking\": 10, \"layer\": 2}], [{\"token\": \" 1\", \"prob\": \"0.9999938\", \"ranking\": 1, \"layer\": 3}, {\"token\": \" 2\", \"prob\": \"6.148371e-06\", \"ranking\": 2, \"layer\": 3}, {\"token\": \" 3\", \"prob\": \"4.1094346e-08\", \"ranking\": 3, \"layer\": 3}, {\"token\": \" and\", \"prob\": \"4.993189e-09\", \"ranking\": 4, \"layer\": 3}, {\"token\": \"1\", \"prob\": \"4.1709772e-10\", \"ranking\": 5, \"layer\": 3}, {\"token\": \" 0\", \"prob\": \"3.1154085e-10\", \"ranking\": 6, \"layer\": 3}, {\"token\": \" 4\", \"prob\": \"1.934758e-11\", \"ranking\": 7, \"layer\": 3}, {\"token\": \" 5\", \"prob\": \"1.16934995e-11\", \"ranking\": 8, \"layer\": 3}, {\"token\": \" a\", \"prob\": \"3.2444746e-12\", \"ranking\": 9, \"layer\": 3}, {\"token\": \" 6\", \"prob\": \"4.610244e-13\", \"ranking\": 10, \"layer\": 3}], [{\"token\": \" 1\", \"prob\": \"0.99999905\", \"ranking\": 1, \"layer\": 4}, {\"token\": \" 2\", \"prob\": \"9.966371e-07\", \"ranking\": 2, \"layer\": 4}, {\"token\": \" 3\", \"prob\": \"2.3141695e-12\", \"ranking\": 3, \"layer\": 4}, {\"token\": \" and\", \"prob\": \"5.0365135e-14\", \"ranking\": 4, \"layer\": 4}, {\"token\": \"1\", \"prob\": \"3.3176896e-20\", \"ranking\": 5, \"layer\": 4}, {\"token\": \" 0\", \"prob\": \"4.153811e-21\", \"ranking\": 6, \"layer\": 4}, {\"token\": \" 4\", \"prob\": \"3.1950106e-21\", \"ranking\": 7, \"layer\": 4}, {\"token\": \" 5\", \"prob\": \"1.0226446e-21\", \"ranking\": 8, \"layer\": 4}, {\"token\": \" the\", \"prob\": \"1.8740191e-22\", \"ranking\": 9, \"layer\": 4}, {\"token\": \" a\", \"prob\": \"2.2976634e-23\", \"ranking\": 10, \"layer\": 4}], [{\"token\": \" 1\", \"prob\": \"0.59793174\", \"ranking\": 1, \"layer\": 5}, {\"token\": \" 2\", \"prob\": \"0.1766438\", \"ranking\": 2, \"layer\": 5}, {\"token\": \" 0\", \"prob\": \"0.047203474\", \"ranking\": 3, \"layer\": 5}, {\"token\": \" 3\", \"prob\": \"0.04305835\", \"ranking\": 4, \"layer\": 5}, {\"token\": \" 4\", \"prob\": \"0.014155654\", \"ranking\": 5, \"layer\": 5}, {\"token\": \" 5\", \"prob\": \"0.012131831\", \"ranking\": 6, \"layer\": 5}, {\"token\": \" and\", \"prob\": \"0.010471825\", \"ranking\": 7, \"layer\": 5}, {\"token\": \"1\", \"prob\": \"0.008584005\", \"ranking\": 8, \"layer\": 5}, {\"token\": \" 6\", \"prob\": \"0.006193402\", \"ranking\": 9, \"layer\": 5}, {\"token\": \" 10\", \"prob\": \"0.0041250973\", \"ranking\": 10, \"layer\": 5}]])\n",
              "        }\n",
              "        )\n",
              "        "
            ],
            "text/plain": [
              "<IPython.core.display.Javascript object>"
            ]
          },
          "metadata": {
            "tags": []
          }
        }
      ]
    },
    {
      "cell_type": "code",
      "metadata": {
        "id": "nFQxcgsmJrMN"
      },
      "source": [
        ""
      ],
      "execution_count": null,
      "outputs": []
    }
  ]
}
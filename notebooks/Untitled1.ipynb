{
 "cells": [
  {
   "cell_type": "code",
   "execution_count": 1,
   "metadata": {},
   "outputs": [],
   "source": [
    "import ecco\n",
    "lm = ecco.from_pretrained('distilgpt2')"
   ]
  },
  {
   "cell_type": "code",
   "execution_count": 12,
   "metadata": {
    "scrolled": false
   },
   "outputs": [
    {
     "data": {
      "text/html": [
       "<html lang=\"en\">\n",
       "<script src=\"https://requirejs.org/docs/release/2.3.6/minified/require.js\"></script>\n",
       "<script>\n",
       "    var ecco_url = 'https://storage.googleapis.com/ml-intro/ecco/'\n",
       "    // var ecco_url = 'http://localhost:8000/ecco/'\n",
       "\n",
       "    if (window.ecco === undefined) window.ecco = {}\n",
       "\n",
       "    requirejs.config({\n",
       "        urlArgs: \"bust=\" + (new Date()).getTime(),\n",
       "        nodeRequire: require,\n",
       "        paths: {\n",
       "            d3: \"https://d3js.org/d3.v5.min\",\n",
       "            d3array: \"https://d3js.org/d3-array.v2.min\",\n",
       "            jquery: \"https://code.jquery.com/jquery-3.5.1.min\",\n",
       "            oldEcco: ecco_url + 'ecco',\n",
       "            ecco: ecco_url + 'ecco-bundle',\n",
       "            XRegExp: 'https://cdnjs.cloudflare.com/ajax/libs/xregexp/3.2.0/xregexp-all.min'\n",
       "        }\n",
       "    });\n",
       "    requirejs(['d3'],\n",
       "        function (d3) {\n",
       "            d3.select('#css').attr('href', ecco_url + 'html/styles.css')\n",
       "        })\n",
       "\n",
       "    console.log('Ecco initialize.')\n",
       "</script>\n",
       "\n",
       "<head>\n",
       "    <link id='css' rel=\"stylesheet\" type=\"text/css\">\n",
       "</head>\n"
      ],
      "text/plain": [
       "<IPython.core.display.HTML object>"
      ]
     },
     "metadata": {},
     "output_type": "display_data"
    },
    {
     "data": {
      "text/html": [
       "<script>\n",
       "    // console.log('defining basic')\n",
       "    define('basic', ['d3'],\n",
       "        function (d3) {\n",
       "            return {\n",
       "                init: function (viz_id = null) {\n",
       "\n",
       "                    // console.log('basic init')\n",
       "                    if (viz_id == null){\n",
       "                        viz_id = \"viz_\" + Math.round(Math.random() * 10000000)\n",
       "                    }\n",
       "                    const div = d3.select('#basic').attr('id', viz_id),\n",
       "                        div_parent = d3.select('#' + viz_id).node().parentNode\n",
       "\n",
       "                    // Link to CSS file\n",
       "                    d3.select(div_parent).insert('link')\n",
       "                        .attr('rel', 'stylesheet')\n",
       "                        .attr('type', 'text/css')\n",
       "                        .attr('href', ecco_url + 'html/styles.css')\n",
       "\n",
       "                    return viz_id\n",
       "                }\n",
       "            }\n",
       "        }, function (err) {console.log(err);}\n",
       "    )\n",
       "    // console.log('after defining basic')\n",
       "\n",
       "</script>\n",
       "<div id=\"basic\"></div>\n"
      ],
      "text/plain": [
       "<IPython.core.display.HTML object>"
      ]
     },
     "metadata": {},
     "output_type": "display_data"
    },
    {
     "data": {
      "application/javascript": [
       "\n",
       "         requirejs(['basic', 'ecco'], function(basic, ecco){\n",
       "            basic.init('viz_98034')\n",
       "\n",
       "            window.ecco['viz_98034'] = ecco.renderOutputSequence('viz_98034', {'tokens': [{'token': 'The', 'position': 0, 'token_id': 464, 'type': 'input'}, {'token': ' laws', 'position': 1, 'token_id': 3657, 'type': 'input'}, {'token': ' of', 'position': 2, 'token_id': 286, 'type': 'input'}, {'token': ' robotic', 'position': 3, 'token_id': 25810, 'type': 'input'}, {'token': ' ethics', 'position': 4, 'token_id': 14458, 'type': 'input'}, {'token': ' dictate', 'position': 5, 'token_id': 27861, 'type': 'input'}, {'token': ' the', 'position': 6, 'token_id': 262, 'type': 'input'}, {'token': ' following', 'position': 7, 'token_id': 1708, 'type': 'input'}, {'token': ':', 'position': 8, 'token_id': 25, 'type': 'input'}, {'token': ' ', 'position': 9, 'token_id': 220, 'type': 'input'}, {'token': '\\n', 'position': 10, 'token_id': 198, 'type': 'input'}, {'token': '1', 'position': 11, 'token_id': 16, 'type': 'input'}, {'token': '.', 'position': 12, 'token_id': 13, 'type': 'input'}, {'token': ' A', 'position': 13, 'token_id': 317, 'type': 'input'}, {'token': ' robot', 'position': 14, 'token_id': 9379, 'type': 'input'}, {'token': ' must', 'position': 15, 'token_id': 1276, 'type': 'input'}, {'token': ' not', 'position': 16, 'token_id': 407, 'type': 'input'}]})\n",
       "         }, function (err) {\n",
       "            console.log(err);\n",
       "        })"
      ],
      "text/plain": [
       "<IPython.core.display.Javascript object>"
      ]
     },
     "metadata": {},
     "output_type": "display_data"
    },
    {
     "data": {
      "application/javascript": [
       "\n",
       "        window.ecco['viz_98034'].addToken({\"token\": \" become\", \"token_id\": 1716, \"position\": 17, \"type\": \"output\"})\n",
       "        window.ecco['viz_98034'].redraw()\n",
       "        "
      ],
      "text/plain": [
       "<IPython.core.display.Javascript object>"
      ]
     },
     "metadata": {},
     "output_type": "display_data"
    },
    {
     "data": {
      "application/javascript": [
       "\n",
       "        window.ecco['viz_98034'].addToken({\"token\": \" a\", \"token_id\": 257, \"position\": 18, \"type\": \"output\"})\n",
       "        window.ecco['viz_98034'].redraw()\n",
       "        "
      ],
      "text/plain": [
       "<IPython.core.display.Javascript object>"
      ]
     },
     "metadata": {},
     "output_type": "display_data"
    },
    {
     "data": {
      "application/javascript": [
       "\n",
       "        window.ecco['viz_98034'].addToken({\"token\": \" robot\", \"token_id\": 9379, \"position\": 19, \"type\": \"output\"})\n",
       "        window.ecco['viz_98034'].redraw()\n",
       "        "
      ],
      "text/plain": [
       "<IPython.core.display.Javascript object>"
      ]
     },
     "metadata": {},
     "output_type": "display_data"
    },
    {
     "data": {
      "application/javascript": [
       "\n",
       "        window.ecco['viz_98034'].addToken({\"token\": \".\", \"token_id\": 13, \"position\": 20, \"type\": \"output\"})\n",
       "        window.ecco['viz_98034'].redraw()\n",
       "        "
      ],
      "text/plain": [
       "<IPython.core.display.Javascript object>"
      ]
     },
     "metadata": {},
     "output_type": "display_data"
    },
    {
     "data": {
      "application/javascript": [
       "\n",
       "        window.ecco['viz_98034'].addToken({\"token\": \"\\n\", \"token_id\": 198, \"position\": 21, \"type\": \"output\"})\n",
       "        window.ecco['viz_98034'].redraw()\n",
       "        "
      ],
      "text/plain": [
       "<IPython.core.display.Javascript object>"
      ]
     },
     "metadata": {},
     "output_type": "display_data"
    },
    {
     "data": {
      "application/javascript": [
       "\n",
       "        window.ecco['viz_98034'].addToken({\"token\": \"2\", \"token_id\": 17, \"position\": 22, \"type\": \"output\"})\n",
       "        window.ecco['viz_98034'].redraw()\n",
       "        "
      ],
      "text/plain": [
       "<IPython.core.display.Javascript object>"
      ]
     },
     "metadata": {},
     "output_type": "display_data"
    },
    {
     "data": {
      "application/javascript": [
       "\n",
       "        window.ecco['viz_98034'].addToken({\"token\": \".\", \"token_id\": 13, \"position\": 23, \"type\": \"output\"})\n",
       "        window.ecco['viz_98034'].redraw()\n",
       "        "
      ],
      "text/plain": [
       "<IPython.core.display.Javascript object>"
      ]
     },
     "metadata": {},
     "output_type": "display_data"
    },
    {
     "data": {
      "application/javascript": [
       "\n",
       "        window.ecco['viz_98034'].addToken({\"token\": \" A\", \"token_id\": 317, \"position\": 24, \"type\": \"output\"})\n",
       "        window.ecco['viz_98034'].redraw()\n",
       "        "
      ],
      "text/plain": [
       "<IPython.core.display.Javascript object>"
      ]
     },
     "metadata": {},
     "output_type": "display_data"
    },
    {
     "data": {
      "application/javascript": [
       "\n",
       "        window.ecco['viz_98034'].addToken({\"token\": \" robot\", \"token_id\": 9379, \"position\": 25, \"type\": \"output\"})\n",
       "        window.ecco['viz_98034'].redraw()\n",
       "        "
      ],
      "text/plain": [
       "<IPython.core.display.Javascript object>"
      ]
     },
     "metadata": {},
     "output_type": "display_data"
    },
    {
     "data": {
      "application/javascript": [
       "\n",
       "        window.ecco['viz_98034'].addToken({\"token\": \" can\", \"token_id\": 460, \"position\": 26, \"type\": \"output\"})\n",
       "        window.ecco['viz_98034'].redraw()\n",
       "        "
      ],
      "text/plain": [
       "<IPython.core.display.Javascript object>"
      ]
     },
     "metadata": {},
     "output_type": "display_data"
    },
    {
     "data": {
      "application/javascript": [
       "\n",
       "        window.ecco['viz_98034'].addToken({\"token\": \" do\", \"token_id\": 466, \"position\": 27, \"type\": \"output\"})\n",
       "        window.ecco['viz_98034'].redraw()\n",
       "        "
      ],
      "text/plain": [
       "<IPython.core.display.Javascript object>"
      ]
     },
     "metadata": {},
     "output_type": "display_data"
    },
    {
     "data": {
      "application/javascript": [
       "\n",
       "        window.ecco['viz_98034'].addToken({\"token\": \" exactly\", \"token_id\": 3446, \"position\": 28, \"type\": \"output\"})\n",
       "        window.ecco['viz_98034'].redraw()\n",
       "        "
      ],
      "text/plain": [
       "<IPython.core.display.Javascript object>"
      ]
     },
     "metadata": {},
     "output_type": "display_data"
    },
    {
     "data": {
      "application/javascript": [
       "\n",
       "        window.ecco['viz_98034'].addToken({\"token\": \" what\", \"token_id\": 644, \"position\": 29, \"type\": \"output\"})\n",
       "        window.ecco['viz_98034'].redraw()\n",
       "        "
      ],
      "text/plain": [
       "<IPython.core.display.Javascript object>"
      ]
     },
     "metadata": {},
     "output_type": "display_data"
    },
    {
     "data": {
      "application/javascript": [
       "\n",
       "        window.ecco['viz_98034'].addToken({\"token\": \" they\", \"token_id\": 484, \"position\": 30, \"type\": \"output\"})\n",
       "        window.ecco['viz_98034'].redraw()\n",
       "        "
      ],
      "text/plain": [
       "<IPython.core.display.Javascript object>"
      ]
     },
     "metadata": {},
     "output_type": "display_data"
    },
    {
     "data": {
      "application/javascript": [
       "\n",
       "        window.ecco['viz_98034'].addToken({\"token\": \" want\", \"token_id\": 765, \"position\": 31, \"type\": \"output\"})\n",
       "        window.ecco['viz_98034'].redraw()\n",
       "        "
      ],
      "text/plain": [
       "<IPython.core.display.Javascript object>"
      ]
     },
     "metadata": {},
     "output_type": "display_data"
    },
    {
     "data": {
      "application/javascript": [
       "\n",
       "        window.ecco['viz_98034'].addToken({\"token\": \".\", \"token_id\": 13, \"position\": 32, \"type\": \"output\"})\n",
       "        window.ecco['viz_98034'].redraw()\n",
       "        "
      ],
      "text/plain": [
       "<IPython.core.display.Javascript object>"
      ]
     },
     "metadata": {},
     "output_type": "display_data"
    },
    {
     "data": {
      "application/javascript": [
       "\n",
       "        window.ecco['viz_98034'].addToken({\"token\": \" A\", \"token_id\": 317, \"position\": 33, \"type\": \"output\"})\n",
       "        window.ecco['viz_98034'].redraw()\n",
       "        "
      ],
      "text/plain": [
       "<IPython.core.display.Javascript object>"
      ]
     },
     "metadata": {},
     "output_type": "display_data"
    },
    {
     "data": {
      "application/javascript": [
       "\n",
       "        window.ecco['viz_98034'].addToken({\"token\": \" robot\", \"token_id\": 9379, \"position\": 34, \"type\": \"output\"})\n",
       "        window.ecco['viz_98034'].redraw()\n",
       "        "
      ],
      "text/plain": [
       "<IPython.core.display.Javascript object>"
      ]
     },
     "metadata": {},
     "output_type": "display_data"
    },
    {
     "data": {
      "application/javascript": [
       "\n",
       "        window.ecco['viz_98034'].addToken({\"token\": \" can\", \"token_id\": 460, \"position\": 35, \"type\": \"output\"})\n",
       "        window.ecco['viz_98034'].redraw()\n",
       "        "
      ],
      "text/plain": [
       "<IPython.core.display.Javascript object>"
      ]
     },
     "metadata": {},
     "output_type": "display_data"
    },
    {
     "data": {
      "application/javascript": [
       "\n",
       "        window.ecco['viz_98034'].addToken({\"token\": \" not\", \"token_id\": 407, \"position\": 36, \"type\": \"output\"})\n",
       "        window.ecco['viz_98034'].redraw()\n",
       "        "
      ],
      "text/plain": [
       "<IPython.core.display.Javascript object>"
      ]
     },
     "metadata": {},
     "output_type": "display_data"
    },
    {
     "data": {
      "application/javascript": [
       "\n",
       "        window.ecco['viz_98034'].addToken({\"token\": \" be\", \"token_id\": 307, \"position\": 37, \"type\": \"output\"})\n",
       "        window.ecco['viz_98034'].redraw()\n",
       "        "
      ],
      "text/plain": [
       "<IPython.core.display.Javascript object>"
      ]
     },
     "metadata": {},
     "output_type": "display_data"
    },
    {
     "data": {
      "application/javascript": [
       "\n",
       "        window.ecco['viz_98034'].addToken({\"token\": \" a\", \"token_id\": 257, \"position\": 38, \"type\": \"output\"})\n",
       "        window.ecco['viz_98034'].redraw()\n",
       "        "
      ],
      "text/plain": [
       "<IPython.core.display.Javascript object>"
      ]
     },
     "metadata": {},
     "output_type": "display_data"
    },
    {
     "data": {
      "application/javascript": [
       "\n",
       "        window.ecco['viz_98034'].addToken({\"token\": \" robot\", \"token_id\": 9379, \"position\": 39, \"type\": \"output\"})\n",
       "        window.ecco['viz_98034'].redraw()\n",
       "        "
      ],
      "text/plain": [
       "<IPython.core.display.Javascript object>"
      ]
     },
     "metadata": {},
     "output_type": "display_data"
    },
    {
     "data": {
      "application/javascript": [
       "\n",
       "        window.ecco['viz_98034'].addToken({\"token\": \" for\", \"token_id\": 329, \"position\": 40, \"type\": \"output\"})\n",
       "        window.ecco['viz_98034'].redraw()\n",
       "        "
      ],
      "text/plain": [
       "<IPython.core.display.Javascript object>"
      ]
     },
     "metadata": {},
     "output_type": "display_data"
    },
    {
     "data": {
      "application/javascript": [
       "\n",
       "        window.ecco['viz_98034'].addToken({\"token\": \" the\", \"token_id\": 262, \"position\": 41, \"type\": \"output\"})\n",
       "        window.ecco['viz_98034'].redraw()\n",
       "        "
      ],
      "text/plain": [
       "<IPython.core.display.Javascript object>"
      ]
     },
     "metadata": {},
     "output_type": "display_data"
    },
    {
     "data": {
      "application/javascript": [
       "\n",
       "        window.ecco['viz_98034'].addToken({\"token\": \" purpose\", \"token_id\": 4007, \"position\": 42, \"type\": \"output\"})\n",
       "        window.ecco['viz_98034'].redraw()\n",
       "        "
      ],
      "text/plain": [
       "<IPython.core.display.Javascript object>"
      ]
     },
     "metadata": {},
     "output_type": "display_data"
    },
    {
     "data": {
      "application/javascript": [
       "\n",
       "        window.ecco['viz_98034'].addToken({\"token\": \" and\", \"token_id\": 290, \"position\": 43, \"type\": \"output\"})\n",
       "        window.ecco['viz_98034'].redraw()\n",
       "        "
      ],
      "text/plain": [
       "<IPython.core.display.Javascript object>"
      ]
     },
     "metadata": {},
     "output_type": "display_data"
    },
    {
     "data": {
      "application/javascript": [
       "\n",
       "        window.ecco['viz_98034'].addToken({\"token\": \" purpose\", \"token_id\": 4007, \"position\": 44, \"type\": \"output\"})\n",
       "        window.ecco['viz_98034'].redraw()\n",
       "        "
      ],
      "text/plain": [
       "<IPython.core.display.Javascript object>"
      ]
     },
     "metadata": {},
     "output_type": "display_data"
    },
    {
     "data": {
      "application/javascript": [
       "\n",
       "        window.ecco['viz_98034'].addToken({\"token\": \" of\", \"token_id\": 286, \"position\": 45, \"type\": \"output\"})\n",
       "        window.ecco['viz_98034'].redraw()\n",
       "        "
      ],
      "text/plain": [
       "<IPython.core.display.Javascript object>"
      ]
     },
     "metadata": {},
     "output_type": "display_data"
    },
    {
     "data": {
      "application/javascript": [
       "\n",
       "        window.ecco['viz_98034'].addToken({\"token\": \" a\", \"token_id\": 257, \"position\": 46, \"type\": \"output\"})\n",
       "        window.ecco['viz_98034'].redraw()\n",
       "        "
      ],
      "text/plain": [
       "<IPython.core.display.Javascript object>"
      ]
     },
     "metadata": {},
     "output_type": "display_data"
    },
    {
     "data": {
      "application/javascript": [
       "\n",
       "        window.ecco['viz_98034'].addToken({\"token\": \" purpose\", \"token_id\": 4007, \"position\": 47, \"type\": \"output\"})\n",
       "        window.ecco['viz_98034'].redraw()\n",
       "        "
      ],
      "text/plain": [
       "<IPython.core.display.Javascript object>"
      ]
     },
     "metadata": {},
     "output_type": "display_data"
    },
    {
     "data": {
      "application/javascript": [
       "\n",
       "        window.ecco['viz_98034'].addToken({\"token\": \".\", \"token_id\": 13, \"position\": 48, \"type\": \"output\"})\n",
       "        window.ecco['viz_98034'].redraw()\n",
       "        "
      ],
      "text/plain": [
       "<IPython.core.display.Javascript object>"
      ]
     },
     "metadata": {},
     "output_type": "display_data"
    },
    {
     "data": {
      "application/javascript": [
       "\n",
       "        window.ecco['viz_98034'].addToken({\"token\": \" However\", \"token_id\": 2102, \"position\": 49, \"type\": \"output\"})\n",
       "        window.ecco['viz_98034'].redraw()\n",
       "        "
      ],
      "text/plain": [
       "<IPython.core.display.Javascript object>"
      ]
     },
     "metadata": {},
     "output_type": "display_data"
    },
    {
     "data": {
      "application/javascript": [
       "\n",
       "        window.ecco['viz_98034'].addToken({\"token\": \",\", \"token_id\": 11, \"position\": 50, \"type\": \"output\"})\n",
       "        window.ecco['viz_98034'].redraw()\n",
       "        "
      ],
      "text/plain": [
       "<IPython.core.display.Javascript object>"
      ]
     },
     "metadata": {},
     "output_type": "display_data"
    },
    {
     "data": {
      "application/javascript": [
       "\n",
       "        window.ecco['viz_98034'].addToken({\"token\": \" if\", \"token_id\": 611, \"position\": 51, \"type\": \"output\"})\n",
       "        window.ecco['viz_98034'].redraw()\n",
       "        "
      ],
      "text/plain": [
       "<IPython.core.display.Javascript object>"
      ]
     },
     "metadata": {},
     "output_type": "display_data"
    },
    {
     "data": {
      "application/javascript": [
       "\n",
       "        window.ecco['viz_98034'].addToken({\"token\": \" the\", \"token_id\": 262, \"position\": 52, \"type\": \"output\"})\n",
       "        window.ecco['viz_98034'].redraw()\n",
       "        "
      ],
      "text/plain": [
       "<IPython.core.display.Javascript object>"
      ]
     },
     "metadata": {},
     "output_type": "display_data"
    },
    {
     "data": {
      "application/javascript": [
       "\n",
       "        window.ecco['viz_98034'].addToken({\"token\": \" \\\"\", \"token_id\": 366, \"position\": 53, \"type\": \"output\"})\n",
       "        window.ecco['viz_98034'].redraw()\n",
       "        "
      ],
      "text/plain": [
       "<IPython.core.display.Javascript object>"
      ]
     },
     "metadata": {},
     "output_type": "display_data"
    },
    {
     "data": {
      "application/javascript": [
       "\n",
       "        window.ecco['viz_98034'].addToken({\"token\": \"purpose\", \"token_id\": 29983, \"position\": 54, \"type\": \"output\"})\n",
       "        window.ecco['viz_98034'].redraw()\n",
       "        "
      ],
      "text/plain": [
       "<IPython.core.display.Javascript object>"
      ]
     },
     "metadata": {},
     "output_type": "display_data"
    },
    {
     "data": {
      "application/javascript": [
       "\n",
       "        window.ecco['viz_98034'].addToken({\"token\": \" of\", \"token_id\": 286, \"position\": 55, \"type\": \"output\"})\n",
       "        window.ecco['viz_98034'].redraw()\n",
       "        "
      ],
      "text/plain": [
       "<IPython.core.display.Javascript object>"
      ]
     },
     "metadata": {},
     "output_type": "display_data"
    },
    {
     "data": {
      "application/javascript": [
       "\n",
       "        window.ecco['viz_98034'].addToken({\"token\": \" the\", \"token_id\": 262, \"position\": 56, \"type\": \"output\"})\n",
       "        window.ecco['viz_98034'].redraw()\n",
       "        "
      ],
      "text/plain": [
       "<IPython.core.display.Javascript object>"
      ]
     },
     "metadata": {},
     "output_type": "display_data"
    },
    {
     "data": {
      "application/javascript": [
       "\n",
       "        window.ecco['viz_98034'].addToken({\"token\": \" robot\", \"token_id\": 9379, \"position\": 57, \"type\": \"output\"})\n",
       "        window.ecco['viz_98034'].redraw()\n",
       "        "
      ],
      "text/plain": [
       "<IPython.core.display.Javascript object>"
      ]
     },
     "metadata": {},
     "output_type": "display_data"
    },
    {
     "data": {
      "application/javascript": [
       "\n",
       "        window.ecco['viz_98034'].addToken({\"token\": \"\\\"\", \"token_id\": 1, \"position\": 58, \"type\": \"output\"})\n",
       "        window.ecco['viz_98034'].redraw()\n",
       "        "
      ],
      "text/plain": [
       "<IPython.core.display.Javascript object>"
      ]
     },
     "metadata": {},
     "output_type": "display_data"
    },
    {
     "data": {
      "application/javascript": [
       "\n",
       "        window.ecco['viz_98034'].addToken({\"token\": \" is\", \"token_id\": 318, \"position\": 59, \"type\": \"output\"})\n",
       "        window.ecco['viz_98034'].redraw()\n",
       "        "
      ],
      "text/plain": [
       "<IPython.core.display.Javascript object>"
      ]
     },
     "metadata": {},
     "output_type": "display_data"
    },
    {
     "data": {
      "application/javascript": [
       "\n",
       "        window.ecco['viz_98034'].addToken({\"token\": \" to\", \"token_id\": 284, \"position\": 60, \"type\": \"output\"})\n",
       "        window.ecco['viz_98034'].redraw()\n",
       "        "
      ],
      "text/plain": [
       "<IPython.core.display.Javascript object>"
      ]
     },
     "metadata": {},
     "output_type": "display_data"
    },
    {
     "data": {
      "application/javascript": [
       "\n",
       "        window.ecco['viz_98034'].addToken({\"token\": \" allow\", \"token_id\": 1249, \"position\": 61, \"type\": \"output\"})\n",
       "        window.ecco['viz_98034'].redraw()\n",
       "        "
      ],
      "text/plain": [
       "<IPython.core.display.Javascript object>"
      ]
     },
     "metadata": {},
     "output_type": "display_data"
    },
    {
     "data": {
      "application/javascript": [
       "\n",
       "        window.ecco['viz_98034'].addToken({\"token\": \" the\", \"token_id\": 262, \"position\": 62, \"type\": \"output\"})\n",
       "        window.ecco['viz_98034'].redraw()\n",
       "        "
      ],
      "text/plain": [
       "<IPython.core.display.Javascript object>"
      ]
     },
     "metadata": {},
     "output_type": "display_data"
    },
    {
     "data": {
      "application/javascript": [
       "\n",
       "        window.ecco['viz_98034'].addToken({\"token\": \" robot\", \"token_id\": 9379, \"position\": 63, \"type\": \"output\"})\n",
       "        window.ecco['viz_98034'].redraw()\n",
       "        "
      ],
      "text/plain": [
       "<IPython.core.display.Javascript object>"
      ]
     },
     "metadata": {},
     "output_type": "display_data"
    },
    {
     "data": {
      "application/javascript": [
       "\n",
       "        window.ecco['viz_98034'].addToken({\"token\": \" to\", \"token_id\": 284, \"position\": 64, \"type\": \"output\"})\n",
       "        window.ecco['viz_98034'].redraw()\n",
       "        "
      ],
      "text/plain": [
       "<IPython.core.display.Javascript object>"
      ]
     },
     "metadata": {},
     "output_type": "display_data"
    },
    {
     "data": {
      "application/javascript": [
       "\n",
       "        window.ecco['viz_98034'].addToken({\"token\": \" be\", \"token_id\": 307, \"position\": 65, \"type\": \"output\"})\n",
       "        window.ecco['viz_98034'].redraw()\n",
       "        "
      ],
      "text/plain": [
       "<IPython.core.display.Javascript object>"
      ]
     },
     "metadata": {},
     "output_type": "display_data"
    },
    {
     "data": {
      "application/javascript": [
       "\n",
       "        window.ecco['viz_98034'].addToken({\"token\": \" a\", \"token_id\": 257, \"position\": 66, \"type\": \"output\"})\n",
       "        window.ecco['viz_98034'].redraw()\n",
       "        "
      ],
      "text/plain": [
       "<IPython.core.display.Javascript object>"
      ]
     },
     "metadata": {},
     "output_type": "display_data"
    },
    {
     "data": {
      "application/javascript": [
       "\n",
       "        window.ecco['viz_98034'].addToken({\"token\": \" \\\"\", \"token_id\": 366, \"position\": 67, \"type\": \"output\"})\n",
       "        window.ecco['viz_98034'].redraw()\n",
       "        "
      ],
      "text/plain": [
       "<IPython.core.display.Javascript object>"
      ]
     },
     "metadata": {},
     "output_type": "display_data"
    },
    {
     "data": {
      "application/javascript": [
       "\n",
       "        window.ecco['viz_98034'].addToken({\"token\": \"human\", \"token_id\": 10734, \"position\": 68, \"type\": \"output\"})\n",
       "        window.ecco['viz_98034'].redraw()\n",
       "        "
      ],
      "text/plain": [
       "<IPython.core.display.Javascript object>"
      ]
     },
     "metadata": {},
     "output_type": "display_data"
    },
    {
     "data": {
      "application/javascript": [
       "\n",
       "        window.ecco['viz_98034'].addToken({\"token\": \"\\\"\", \"token_id\": 1, \"position\": 69, \"type\": \"output\"})\n",
       "        window.ecco['viz_98034'].redraw()\n",
       "        "
      ],
      "text/plain": [
       "<IPython.core.display.Javascript object>"
      ]
     },
     "metadata": {},
     "output_type": "display_data"
    },
    {
     "data": {
      "application/javascript": [
       "\n",
       "        window.ecco['viz_98034'].addToken({\"token\": \" \\\"\", \"token_id\": 366, \"position\": 70, \"type\": \"output\"})\n",
       "        window.ecco['viz_98034'].redraw()\n",
       "        "
      ],
      "text/plain": [
       "<IPython.core.display.Javascript object>"
      ]
     },
     "metadata": {},
     "output_type": "display_data"
    },
    {
     "data": {
      "application/javascript": [
       "\n",
       "        window.ecco['viz_98034'].addToken({\"token\": \"person\", \"token_id\": 6259, \"position\": 71, \"type\": \"output\"})\n",
       "        window.ecco['viz_98034'].redraw()\n",
       "        "
      ],
      "text/plain": [
       "<IPython.core.display.Javascript object>"
      ]
     },
     "metadata": {},
     "output_type": "display_data"
    },
    {
     "data": {
      "application/javascript": [
       "\n",
       "        window.ecco['viz_98034'].addToken({\"token\": \"\\\"\", \"token_id\": 1, \"position\": 72, \"type\": \"output\"})\n",
       "        window.ecco['viz_98034'].redraw()\n",
       "        "
      ],
      "text/plain": [
       "<IPython.core.display.Javascript object>"
      ]
     },
     "metadata": {},
     "output_type": "display_data"
    },
    {
     "data": {
      "application/javascript": [
       "\n",
       "        window.ecco['viz_98034'].addToken({\"token\": \" or\", \"token_id\": 393, \"position\": 73, \"type\": \"output\"})\n",
       "        window.ecco['viz_98034'].redraw()\n",
       "        "
      ],
      "text/plain": [
       "<IPython.core.display.Javascript object>"
      ]
     },
     "metadata": {},
     "output_type": "display_data"
    },
    {
     "data": {
      "application/javascript": [
       "\n",
       "        window.ecco['viz_98034'].addToken({\"token\": \" \\\"\", \"token_id\": 366, \"position\": 74, \"type\": \"output\"})\n",
       "        window.ecco['viz_98034'].redraw()\n",
       "        "
      ],
      "text/plain": [
       "<IPython.core.display.Javascript object>"
      ]
     },
     "metadata": {},
     "output_type": "display_data"
    },
    {
     "data": {
      "application/javascript": [
       "\n",
       "        window.ecco['viz_98034'].addToken({\"token\": \"subject\", \"token_id\": 32796, \"position\": 75, \"type\": \"output\"})\n",
       "        window.ecco['viz_98034'].redraw()\n",
       "        "
      ],
      "text/plain": [
       "<IPython.core.display.Javascript object>"
      ]
     },
     "metadata": {},
     "output_type": "display_data"
    },
    {
     "data": {
      "application/javascript": [
       "\n",
       "        window.ecco['viz_98034'].addToken({\"token\": \"\\\"\", \"token_id\": 1, \"position\": 76, \"type\": \"output\"})\n",
       "        window.ecco['viz_98034'].redraw()\n",
       "        "
      ],
      "text/plain": [
       "<IPython.core.display.Javascript object>"
      ]
     },
     "metadata": {},
     "output_type": "display_data"
    },
    {
     "data": {
      "application/javascript": [
       "\n",
       "        window.ecco['viz_98034'].addToken({\"token\": \" of\", \"token_id\": 286, \"position\": 77, \"type\": \"output\"})\n",
       "        window.ecco['viz_98034'].redraw()\n",
       "        "
      ],
      "text/plain": [
       "<IPython.core.display.Javascript object>"
      ]
     },
     "metadata": {},
     "output_type": "display_data"
    },
    {
     "data": {
      "application/javascript": [
       "\n",
       "        window.ecco['viz_98034'].addToken({\"token\": \" the\", \"token_id\": 262, \"position\": 78, \"type\": \"output\"})\n",
       "        window.ecco['viz_98034'].redraw()\n",
       "        "
      ],
      "text/plain": [
       "<IPython.core.display.Javascript object>"
      ]
     },
     "metadata": {},
     "output_type": "display_data"
    },
    {
     "data": {
      "application/javascript": [
       "\n",
       "        window.ecco['viz_98034'].addToken({\"token\": \" robot\", \"token_id\": 9379, \"position\": 79, \"type\": \"output\"})\n",
       "        window.ecco['viz_98034'].redraw()\n",
       "        "
      ],
      "text/plain": [
       "<IPython.core.display.Javascript object>"
      ]
     },
     "metadata": {},
     "output_type": "display_data"
    },
    {
     "data": {
      "application/javascript": [
       "\n",
       "        window.ecco['viz_98034'].addToken({\"token\": \",\", \"token_id\": 11, \"position\": 80, \"type\": \"output\"})\n",
       "        window.ecco['viz_98034'].redraw()\n",
       "        "
      ],
      "text/plain": [
       "<IPython.core.display.Javascript object>"
      ]
     },
     "metadata": {},
     "output_type": "display_data"
    },
    {
     "data": {
      "application/javascript": [
       "\n",
       "        window.ecco['viz_98034'].addToken({\"token\": \" the\", \"token_id\": 262, \"position\": 81, \"type\": \"output\"})\n",
       "        window.ecco['viz_98034'].redraw()\n",
       "        "
      ],
      "text/plain": [
       "<IPython.core.display.Javascript object>"
      ]
     },
     "metadata": {},
     "output_type": "display_data"
    },
    {
     "data": {
      "application/javascript": [
       "\n",
       "        window.ecco['viz_98034'].addToken({\"token\": \" robots\", \"token_id\": 14193, \"position\": 82, \"type\": \"output\"})\n",
       "        window.ecco['viz_98034'].redraw()\n",
       "        "
      ],
      "text/plain": [
       "<IPython.core.display.Javascript object>"
      ]
     },
     "metadata": {},
     "output_type": "display_data"
    },
    {
     "data": {
      "application/javascript": [
       "\n",
       "        window.ecco['viz_98034'].addToken({\"token\": \" cannot\", \"token_id\": 2314, \"position\": 83, \"type\": \"output\"})\n",
       "        window.ecco['viz_98034'].redraw()\n",
       "        "
      ],
      "text/plain": [
       "<IPython.core.display.Javascript object>"
      ]
     },
     "metadata": {},
     "output_type": "display_data"
    },
    {
     "data": {
      "application/javascript": [
       "\n",
       "        window.ecco['viz_98034'].addToken({\"token\": \" be\", \"token_id\": 307, \"position\": 84, \"type\": \"output\"})\n",
       "        window.ecco['viz_98034'].redraw()\n",
       "        "
      ],
      "text/plain": [
       "<IPython.core.display.Javascript object>"
      ]
     },
     "metadata": {},
     "output_type": "display_data"
    },
    {
     "data": {
      "application/javascript": [
       "\n",
       "        window.ecco['viz_98034'].addToken({\"token\": \" a\", \"token_id\": 257, \"position\": 85, \"type\": \"output\"})\n",
       "        window.ecco['viz_98034'].redraw()\n",
       "        "
      ],
      "text/plain": [
       "<IPython.core.display.Javascript object>"
      ]
     },
     "metadata": {},
     "output_type": "display_data"
    },
    {
     "data": {
      "application/javascript": [
       "\n",
       "        window.ecco['viz_98034'].addToken({\"token\": \" robot\", \"token_id\": 9379, \"position\": 86, \"type\": \"output\"})\n",
       "        window.ecco['viz_98034'].redraw()\n",
       "        "
      ],
      "text/plain": [
       "<IPython.core.display.Javascript object>"
      ]
     },
     "metadata": {},
     "output_type": "display_data"
    },
    {
     "data": {
      "application/javascript": [
       "\n",
       "        window.ecco['viz_98034'].addToken({\"token\": \" for\", \"token_id\": 329, \"position\": 87, \"type\": \"output\"})\n",
       "        window.ecco['viz_98034'].redraw()\n",
       "        "
      ],
      "text/plain": [
       "<IPython.core.display.Javascript object>"
      ]
     },
     "metadata": {},
     "output_type": "display_data"
    },
    {
     "data": {
      "application/javascript": [
       "\n",
       "        window.ecco['viz_98034'].addToken({\"token\": \" any\", \"token_id\": 597, \"position\": 88, \"type\": \"output\"})\n",
       "        window.ecco['viz_98034'].redraw()\n",
       "        "
      ],
      "text/plain": [
       "<IPython.core.display.Javascript object>"
      ]
     },
     "metadata": {},
     "output_type": "display_data"
    },
    {
     "data": {
      "application/javascript": [
       "\n",
       "        window.ecco['viz_98034'].addToken({\"token\": \" other\", \"token_id\": 584, \"position\": 89, \"type\": \"output\"})\n",
       "        window.ecco['viz_98034'].redraw()\n",
       "        "
      ],
      "text/plain": [
       "<IPython.core.display.Javascript object>"
      ]
     },
     "metadata": {},
     "output_type": "display_data"
    },
    {
     "data": {
      "application/javascript": [
       "\n",
       "        window.ecco['viz_98034'].addToken({\"token\": \" purpose\", \"token_id\": 4007, \"position\": 90, \"type\": \"output\"})\n",
       "        window.ecco['viz_98034'].redraw()\n",
       "        "
      ],
      "text/plain": [
       "<IPython.core.display.Javascript object>"
      ]
     },
     "metadata": {},
     "output_type": "display_data"
    },
    {
     "data": {
      "application/javascript": [
       "\n",
       "        window.ecco['viz_98034'].addToken({\"token\": \".\", \"token_id\": 13, \"position\": 91, \"type\": \"output\"})\n",
       "        window.ecco['viz_98034'].redraw()\n",
       "        "
      ],
      "text/plain": [
       "<IPython.core.display.Javascript object>"
      ]
     },
     "metadata": {},
     "output_type": "display_data"
    },
    {
     "data": {
      "application/javascript": [
       "\n",
       "        window.ecco['viz_98034'].addToken({\"token\": \" And\", \"token_id\": 843, \"position\": 92, \"type\": \"output\"})\n",
       "        window.ecco['viz_98034'].redraw()\n",
       "        "
      ],
      "text/plain": [
       "<IPython.core.display.Javascript object>"
      ]
     },
     "metadata": {},
     "output_type": "display_data"
    },
    {
     "data": {
      "application/javascript": [
       "\n",
       "        window.ecco['viz_98034'].addToken({\"token\": \" human\", \"token_id\": 1692, \"position\": 93, \"type\": \"output\"})\n",
       "        window.ecco['viz_98034'].redraw()\n",
       "        "
      ],
      "text/plain": [
       "<IPython.core.display.Javascript object>"
      ]
     },
     "metadata": {},
     "output_type": "display_data"
    },
    {
     "data": {
      "application/javascript": [
       "\n",
       "        window.ecco['viz_98034'].addToken({\"token\": \" beings\", \"token_id\": 9791, \"position\": 94, \"type\": \"output\"})\n",
       "        window.ecco['viz_98034'].redraw()\n",
       "        "
      ],
      "text/plain": [
       "<IPython.core.display.Javascript object>"
      ]
     },
     "metadata": {},
     "output_type": "display_data"
    },
    {
     "data": {
      "application/javascript": [
       "\n",
       "        window.ecco['viz_98034'].addToken({\"token\": \",\", \"token_id\": 11, \"position\": 95, \"type\": \"output\"})\n",
       "        window.ecco['viz_98034'].redraw()\n",
       "        "
      ],
      "text/plain": [
       "<IPython.core.display.Javascript object>"
      ]
     },
     "metadata": {},
     "output_type": "display_data"
    },
    {
     "data": {
      "application/javascript": [
       "\n",
       "        window.ecco['viz_98034'].addToken({\"token\": \" if\", \"token_id\": 611, \"position\": 96, \"type\": \"output\"})\n",
       "        window.ecco['viz_98034'].redraw()\n",
       "        "
      ],
      "text/plain": [
       "<IPython.core.display.Javascript object>"
      ]
     },
     "metadata": {},
     "output_type": "display_data"
    },
    {
     "data": {
      "application/javascript": [
       "\n",
       "        window.ecco['viz_98034'].addToken({\"token\": \" they\", \"token_id\": 484, \"position\": 97, \"type\": \"output\"})\n",
       "        window.ecco['viz_98034'].redraw()\n",
       "        "
      ],
      "text/plain": [
       "<IPython.core.display.Javascript object>"
      ]
     },
     "metadata": {},
     "output_type": "display_data"
    },
    {
     "data": {
      "application/javascript": [
       "\n",
       "        window.ecco['viz_98034'].addToken({\"token\": \" choose\", \"token_id\": 3853, \"position\": 98, \"type\": \"output\"})\n",
       "        window.ecco['viz_98034'].redraw()\n",
       "        "
      ],
      "text/plain": [
       "<IPython.core.display.Javascript object>"
      ]
     },
     "metadata": {},
     "output_type": "display_data"
    },
    {
     "data": {
      "application/javascript": [
       "\n",
       "        window.ecco['viz_98034'].addToken({\"token\": \" to\", \"token_id\": 284, \"position\": 99, \"type\": \"output\"})\n",
       "        window.ecco['viz_98034'].redraw()\n",
       "        "
      ],
      "text/plain": [
       "<IPython.core.display.Javascript object>"
      ]
     },
     "metadata": {},
     "output_type": "display_data"
    },
    {
     "data": {
      "application/javascript": [
       "\n",
       "        window.ecco['viz_98034'].addToken({\"token\": \" be\", \"token_id\": 307, \"position\": 100, \"type\": \"output\"})\n",
       "        window.ecco['viz_98034'].redraw()\n",
       "        "
      ],
      "text/plain": [
       "<IPython.core.display.Javascript object>"
      ]
     },
     "metadata": {},
     "output_type": "display_data"
    },
    {
     "data": {
      "application/javascript": [
       "\n",
       "        window.ecco['viz_98034'].addToken({\"token\": \" human\", \"token_id\": 1692, \"position\": 101, \"type\": \"output\"})\n",
       "        window.ecco['viz_98034'].redraw()\n",
       "        "
      ],
      "text/plain": [
       "<IPython.core.display.Javascript object>"
      ]
     },
     "metadata": {},
     "output_type": "display_data"
    },
    {
     "data": {
      "application/javascript": [
       "\n",
       "        window.ecco['viz_98034'].addToken({\"token\": \",\", \"token_id\": 11, \"position\": 102, \"type\": \"output\"})\n",
       "        window.ecco['viz_98034'].redraw()\n",
       "        "
      ],
      "text/plain": [
       "<IPython.core.display.Javascript object>"
      ]
     },
     "metadata": {},
     "output_type": "display_data"
    },
    {
     "data": {
      "application/javascript": [
       "\n",
       "        window.ecco['viz_98034'].addToken({\"token\": \" may\", \"token_id\": 743, \"position\": 103, \"type\": \"output\"})\n",
       "        window.ecco['viz_98034'].redraw()\n",
       "        "
      ],
      "text/plain": [
       "<IPython.core.display.Javascript object>"
      ]
     },
     "metadata": {},
     "output_type": "display_data"
    },
    {
     "data": {
      "application/javascript": [
       "\n",
       "        window.ecco['viz_98034'].addToken({\"token\": \" use\", \"token_id\": 779, \"position\": 104, \"type\": \"output\"})\n",
       "        window.ecco['viz_98034'].redraw()\n",
       "        "
      ],
      "text/plain": [
       "<IPython.core.display.Javascript object>"
      ]
     },
     "metadata": {},
     "output_type": "display_data"
    },
    {
     "data": {
      "application/javascript": [
       "\n",
       "        window.ecco['viz_98034'].addToken({\"token\": \" robots\", \"token_id\": 14193, \"position\": 105, \"type\": \"output\"})\n",
       "        window.ecco['viz_98034'].redraw()\n",
       "        "
      ],
      "text/plain": [
       "<IPython.core.display.Javascript object>"
      ]
     },
     "metadata": {},
     "output_type": "display_data"
    },
    {
     "data": {
      "application/javascript": [
       "\n",
       "        window.ecco['viz_98034'].addToken({\"token\": \" in\", \"token_id\": 287, \"position\": 106, \"type\": \"output\"})\n",
       "        window.ecco['viz_98034'].redraw()\n",
       "        "
      ],
      "text/plain": [
       "<IPython.core.display.Javascript object>"
      ]
     },
     "metadata": {},
     "output_type": "display_data"
    },
    {
     "data": {
      "application/javascript": [
       "\n",
       "        window.ecco['viz_98034'].addToken({\"token\": \" different\", \"token_id\": 1180, \"position\": 107, \"type\": \"output\"})\n",
       "        window.ecco['viz_98034'].redraw()\n",
       "        "
      ],
      "text/plain": [
       "<IPython.core.display.Javascript object>"
      ]
     },
     "metadata": {},
     "output_type": "display_data"
    },
    {
     "data": {
      "application/javascript": [
       "\n",
       "        window.ecco['viz_98034'].addToken({\"token\": \" ways\", \"token_id\": 2842, \"position\": 108, \"type\": \"output\"})\n",
       "        window.ecco['viz_98034'].redraw()\n",
       "        "
      ],
      "text/plain": [
       "<IPython.core.display.Javascript object>"
      ]
     },
     "metadata": {},
     "output_type": "display_data"
    },
    {
     "data": {
      "application/javascript": [
       "\n",
       "        window.ecco['viz_98034'].addToken({\"token\": \".\", \"token_id\": 13, \"position\": 109, \"type\": \"output\"})\n",
       "        window.ecco['viz_98034'].redraw()\n",
       "        "
      ],
      "text/plain": [
       "<IPython.core.display.Javascript object>"
      ]
     },
     "metadata": {},
     "output_type": "display_data"
    },
    {
     "data": {
      "application/javascript": [
       "\n",
       "        window.ecco['viz_98034'].addToken({\"token\": \"\\n\", \"token_id\": 198, \"position\": 110, \"type\": \"output\"})\n",
       "        window.ecco['viz_98034'].redraw()\n",
       "        "
      ],
      "text/plain": [
       "<IPython.core.display.Javascript object>"
      ]
     },
     "metadata": {},
     "output_type": "display_data"
    },
    {
     "data": {
      "application/javascript": [
       "\n",
       "        window.ecco['viz_98034'].addToken({\"token\": \"3\", \"token_id\": 18, \"position\": 111, \"type\": \"output\"})\n",
       "        window.ecco['viz_98034'].redraw()\n",
       "        "
      ],
      "text/plain": [
       "<IPython.core.display.Javascript object>"
      ]
     },
     "metadata": {},
     "output_type": "display_data"
    },
    {
     "data": {
      "application/javascript": [
       "\n",
       "        window.ecco['viz_98034'].addToken({\"token\": \".\", \"token_id\": 13, \"position\": 112, \"type\": \"output\"})\n",
       "        window.ecco['viz_98034'].redraw()\n",
       "        "
      ],
      "text/plain": [
       "<IPython.core.display.Javascript object>"
      ]
     },
     "metadata": {},
     "output_type": "display_data"
    },
    {
     "data": {
      "application/javascript": [
       "\n",
       "        window.ecco['viz_98034'].addToken({\"token\": \" A\", \"token_id\": 317, \"position\": 113, \"type\": \"output\"})\n",
       "        window.ecco['viz_98034'].redraw()\n",
       "        "
      ],
      "text/plain": [
       "<IPython.core.display.Javascript object>"
      ]
     },
     "metadata": {},
     "output_type": "display_data"
    },
    {
     "data": {
      "application/javascript": [
       "\n",
       "        window.ecco['viz_98034'].addToken({\"token\": \" robot\", \"token_id\": 9379, \"position\": 114, \"type\": \"output\"})\n",
       "        window.ecco['viz_98034'].redraw()\n",
       "        "
      ],
      "text/plain": [
       "<IPython.core.display.Javascript object>"
      ]
     },
     "metadata": {},
     "output_type": "display_data"
    },
    {
     "data": {
      "application/javascript": [
       "\n",
       "        window.ecco['viz_98034'].addToken({\"token\": \" can\", \"token_id\": 460, \"position\": 115, \"type\": \"output\"})\n",
       "        window.ecco['viz_98034'].redraw()\n",
       "        "
      ],
      "text/plain": [
       "<IPython.core.display.Javascript object>"
      ]
     },
     "metadata": {},
     "output_type": "display_data"
    },
    {
     "data": {
      "application/javascript": [
       "\n",
       "        window.ecco['viz_98034'].addToken({\"token\": \" act\", \"token_id\": 719, \"position\": 116, \"type\": \"output\"})\n",
       "        window.ecco['viz_98034'].redraw()\n",
       "        "
      ],
      "text/plain": [
       "<IPython.core.display.Javascript object>"
      ]
     },
     "metadata": {},
     "output_type": "display_data"
    }
   ],
   "source": [
    "output = lm.generate(\"The laws of robotic ethics dictate the following: \\n1. A robot must not\", generate=100)"
   ]
  },
  {
   "cell_type": "code",
   "execution_count": null,
   "metadata": {},
   "outputs": [],
   "source": [
    "o"
   ]
  },
  {
   "cell_type": "code",
   "execution_count": null,
   "metadata": {},
   "outputs": [],
   "source": [
    "f\"\"\"\n",
    "hello\n",
    "there\n",
    "{8}\n",
    "\"\"\""
   ]
  },
  {
   "cell_type": "code",
   "execution_count": null,
   "metadata": {},
   "outputs": [],
   "source": []
  },
  {
   "cell_type": "code",
   "execution_count": null,
   "metadata": {},
   "outputs": [],
   "source": [
    "ecco.__version__"
   ]
  },
  {
   "cell_type": "code",
   "execution_count": null,
   "metadata": {},
   "outputs": [],
   "source": [
    "from ecco import language_model\n",
    "lm = language_model.from_pretrained('distilgpt2')"
   ]
  },
  {
   "cell_type": "code",
   "execution_count": null,
   "metadata": {},
   "outputs": [],
   "source": [
    "text= \" 1, 1,\"\n",
    "\n",
    "output = lm.generate(text, generate=1, do_sample=False)"
   ]
  },
  {
   "cell_type": "code",
   "execution_count": null,
   "metadata": {},
   "outputs": [],
   "source": [
    "len(output.hidden_states), output.hidden_states[0].shape"
   ]
  },
  {
   "cell_type": "code",
   "execution_count": null,
   "metadata": {},
   "outputs": [],
   "source": [
    "import torch\n",
    "torch.rand(4,768)"
   ]
  },
  {
   "cell_type": "code",
   "execution_count": null,
   "metadata": {},
   "outputs": [],
   "source": [
    "output.lm_head"
   ]
  },
  {
   "cell_type": "code",
   "execution_count": null,
   "metadata": {},
   "outputs": [],
   "source": [
    "import numpy as np"
   ]
  },
  {
   "cell_type": "code",
   "execution_count": null,
   "metadata": {},
   "outputs": [],
   "source": [
    "{'gradient': [np.array([0.41861308, 0.13054065, 0.23851791, 0.21232839], dtype=np.float32)],\n",
    " 'grad_x_input': [np.array([0.31678662, 0.18056837, 0.37555906, 0.12708597], dtype=np.float32)]}"
   ]
  },
  {
   "cell_type": "code",
   "execution_count": null,
   "metadata": {},
   "outputs": [],
   "source": [
    "torch.nn.Linear(768, 50257, bias=False)"
   ]
  }
 ],
 "metadata": {
  "kernelspec": {
   "display_name": "Python 3",
   "language": "python",
   "name": "python3"
  },
  "language_info": {
   "codemirror_mode": {
    "name": "ipython",
    "version": 3
   },
   "file_extension": ".py",
   "mimetype": "text/x-python",
   "name": "python",
   "nbconvert_exporter": "python",
   "pygments_lexer": "ipython3",
   "version": "3.8.5"
  }
 },
 "nbformat": 4,
 "nbformat_minor": 4
}

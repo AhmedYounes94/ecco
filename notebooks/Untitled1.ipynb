{
 "cells": [
  {
   "cell_type": "code",
   "execution_count": 1,
   "metadata": {},
   "outputs": [],
   "source": [
    "import ecco\n",
    "lm = ecco.from_pretrained('distilgpt2')"
   ]
  },
  {
   "cell_type": "code",
   "execution_count": 15,
   "metadata": {
    "scrolled": false
   },
   "outputs": [
    {
     "data": {
      "text/html": [
       "<html lang=\"en\">\n",
       "<script src=\"https://requirejs.org/docs/release/2.3.6/minified/require.js\"></script>\n",
       "<script>\n",
       "    var ecco_url = 'https://storage.googleapis.com/ml-intro/ecco/'\n",
       "    // var ecco_url = 'http://localhost:8000/ecco/'\n",
       "\n",
       "    if (window.ecco === undefined) window.ecco = {}\n",
       "\n",
       "    requirejs.config({\n",
       "        urlArgs: \"bust=\" + (new Date()).getTime(),\n",
       "        nodeRequire: require,\n",
       "        paths: {\n",
       "            d3: \"https://d3js.org/d3.v5.min\",\n",
       "            d3array: \"https://d3js.org/d3-array.v2.min\",\n",
       "            jquery: \"https://code.jquery.com/jquery-3.5.1.min\",\n",
       "            oldEcco: ecco_url + 'ecco',\n",
       "            ecco: ecco_url + 'ecco-bundle',\n",
       "            XRegExp: 'https://cdnjs.cloudflare.com/ajax/libs/xregexp/3.2.0/xregexp-all.min'\n",
       "        }\n",
       "    });\n",
       "    requirejs(['d3'],\n",
       "        function (d3) {\n",
       "            d3.select('#css').attr('href', ecco_url + 'html/styles.css')\n",
       "        })\n",
       "\n",
       "    console.log('Ecco initialize.')\n",
       "</script>\n",
       "\n",
       "<head>\n",
       "    <link id='css' rel=\"stylesheet\" type=\"text/css\">\n",
       "</head>\n"
      ],
      "text/plain": [
       "<IPython.core.display.HTML object>"
      ]
     },
     "metadata": {},
     "output_type": "display_data"
    },
    {
     "data": {
      "text/html": [
       "<script>\n",
       "    // console.log('defining basic')\n",
       "    define('basic', ['d3'],\n",
       "        function (d3) {\n",
       "            return {\n",
       "                init: function (viz_id = null) {\n",
       "\n",
       "                    // console.log('basic init')\n",
       "                    if (viz_id == null){\n",
       "                        viz_id = \"viz_\" + Math.round(Math.random() * 10000000)\n",
       "                    }\n",
       "                    const div = d3.select('#basic').attr('id', viz_id),\n",
       "                        div_parent = d3.select('#' + viz_id).node().parentNode\n",
       "\n",
       "                    // Link to CSS file\n",
       "                    d3.select(div_parent).insert('link')\n",
       "                        .attr('rel', 'stylesheet')\n",
       "                        .attr('type', 'text/css')\n",
       "                        .attr('href', ecco_url + 'html/styles.css')\n",
       "\n",
       "                    return viz_id\n",
       "                }\n",
       "            }\n",
       "        }, function (err) {console.log(err);}\n",
       "    )\n",
       "    // console.log('after defining basic')\n",
       "\n",
       "</script>\n",
       "<div id=\"basic\"></div>\n"
      ],
      "text/plain": [
       "<IPython.core.display.HTML object>"
      ]
     },
     "metadata": {},
     "output_type": "display_data"
    },
    {
     "data": {
      "application/javascript": [
       "\n",
       "         requirejs(['basic', 'ecco'], function(basic, ecco){\n",
       "            basic.init('viz_760656')\n",
       "\n",
       "            window.ecco['viz_760656'] = ecco.renderOutputSequence('viz_760656', {'tokens': [{'token': 'The', 'position': 0, 'token_id': 464, 'type': 'input'}, {'token': ' laws', 'position': 1, 'token_id': 3657, 'type': 'input'}, {'token': ' of', 'position': 2, 'token_id': 286, 'type': 'input'}, {'token': ' robotic', 'position': 3, 'token_id': 25810, 'type': 'input'}, {'token': ' ethics', 'position': 4, 'token_id': 14458, 'type': 'input'}, {'token': ' dictate', 'position': 5, 'token_id': 27861, 'type': 'input'}, {'token': ' the', 'position': 6, 'token_id': 262, 'type': 'input'}, {'token': ' following', 'position': 7, 'token_id': 1708, 'type': 'input'}, {'token': ':', 'position': 8, 'token_id': 25, 'type': 'input'}, {'token': ' ', 'position': 9, 'token_id': 220, 'type': 'input'}, {'token': '\\n', 'position': 10, 'token_id': 198, 'type': 'input'}, {'token': '1', 'position': 11, 'token_id': 16, 'type': 'input'}, {'token': '.', 'position': 12, 'token_id': 13, 'type': 'input'}, {'token': ' A', 'position': 13, 'token_id': 317, 'type': 'input'}, {'token': ' robot', 'position': 14, 'token_id': 9379, 'type': 'input'}, {'token': ' must', 'position': 15, 'token_id': 1276, 'type': 'input'}, {'token': ' not', 'position': 16, 'token_id': 407, 'type': 'input'}]})\n",
       "         }, function (err) {\n",
       "            console.log(err);\n",
       "        })"
      ],
      "text/plain": [
       "<IPython.core.display.Javascript object>"
      ]
     },
     "metadata": {},
     "output_type": "display_data"
    },
    {
     "data": {
      "application/javascript": [
       "\n",
       "        window.ecco['viz_760656'].addToken({\"token\": \" be\", \"token_id\": 307, \"position\": 17, \"type\": \"output\"})\n",
       "        window.ecco['viz_760656'].redraw()\n",
       "        "
      ],
      "text/plain": [
       "<IPython.core.display.Javascript object>"
      ]
     },
     "metadata": {},
     "output_type": "display_data"
    },
    {
     "data": {
      "application/javascript": [
       "\n",
       "        window.ecco['viz_760656'].addToken({\"token\": \" programmed\", \"token_id\": 27402, \"position\": 18, \"type\": \"output\"})\n",
       "        window.ecco['viz_760656'].redraw()\n",
       "        "
      ],
      "text/plain": [
       "<IPython.core.display.Javascript object>"
      ]
     },
     "metadata": {},
     "output_type": "display_data"
    },
    {
     "data": {
      "application/javascript": [
       "\n",
       "        window.ecco['viz_760656'].addToken({\"token\": \" to\", \"token_id\": 284, \"position\": 19, \"type\": \"output\"})\n",
       "        window.ecco['viz_760656'].redraw()\n",
       "        "
      ],
      "text/plain": [
       "<IPython.core.display.Javascript object>"
      ]
     },
     "metadata": {},
     "output_type": "display_data"
    },
    {
     "data": {
      "application/javascript": [
       "\n",
       "        window.ecco['viz_760656'].addToken({\"token\": \" be\", \"token_id\": 307, \"position\": 20, \"type\": \"output\"})\n",
       "        window.ecco['viz_760656'].redraw()\n",
       "        "
      ],
      "text/plain": [
       "<IPython.core.display.Javascript object>"
      ]
     },
     "metadata": {},
     "output_type": "display_data"
    },
    {
     "data": {
      "application/javascript": [
       "\n",
       "        window.ecco['viz_760656'].addToken({\"token\": \" programmed\", \"token_id\": 27402, \"position\": 21, \"type\": \"output\"})\n",
       "        window.ecco['viz_760656'].redraw()\n",
       "        "
      ],
      "text/plain": [
       "<IPython.core.display.Javascript object>"
      ]
     },
     "metadata": {},
     "output_type": "display_data"
    },
    {
     "data": {
      "application/javascript": [
       "\n",
       "        window.ecco['viz_760656'].addToken({\"token\": \" to\", \"token_id\": 284, \"position\": 22, \"type\": \"output\"})\n",
       "        window.ecco['viz_760656'].redraw()\n",
       "        "
      ],
      "text/plain": [
       "<IPython.core.display.Javascript object>"
      ]
     },
     "metadata": {},
     "output_type": "display_data"
    },
    {
     "data": {
      "application/javascript": [
       "\n",
       "        window.ecco['viz_760656'].addToken({\"token\": \" not\", \"token_id\": 407, \"position\": 23, \"type\": \"output\"})\n",
       "        window.ecco['viz_760656'].redraw()\n",
       "        "
      ],
      "text/plain": [
       "<IPython.core.display.Javascript object>"
      ]
     },
     "metadata": {},
     "output_type": "display_data"
    },
    {
     "data": {
      "application/javascript": [
       "\n",
       "        window.ecco['viz_760656'].addToken({\"token\": \" engage\", \"token_id\": 8209, \"position\": 24, \"type\": \"output\"})\n",
       "        window.ecco['viz_760656'].redraw()\n",
       "        "
      ],
      "text/plain": [
       "<IPython.core.display.Javascript object>"
      ]
     },
     "metadata": {},
     "output_type": "display_data"
    },
    {
     "data": {
      "application/javascript": [
       "\n",
       "        window.ecco['viz_760656'].addToken({\"token\": \" in\", \"token_id\": 287, \"position\": 25, \"type\": \"output\"})\n",
       "        window.ecco['viz_760656'].redraw()\n",
       "        "
      ],
      "text/plain": [
       "<IPython.core.display.Javascript object>"
      ]
     },
     "metadata": {},
     "output_type": "display_data"
    },
    {
     "data": {
      "application/javascript": [
       "\n",
       "        window.ecco['viz_760656'].addToken({\"token\": \" behavior\", \"token_id\": 4069, \"position\": 26, \"type\": \"output\"})\n",
       "        window.ecco['viz_760656'].redraw()\n",
       "        "
      ],
      "text/plain": [
       "<IPython.core.display.Javascript object>"
      ]
     },
     "metadata": {},
     "output_type": "display_data"
    },
    {
     "data": {
      "application/javascript": [
       "\n",
       "        window.ecco['viz_760656'].addToken({\"token\": \" or\", \"token_id\": 393, \"position\": 27, \"type\": \"output\"})\n",
       "        window.ecco['viz_760656'].redraw()\n",
       "        "
      ],
      "text/plain": [
       "<IPython.core.display.Javascript object>"
      ]
     },
     "metadata": {},
     "output_type": "display_data"
    },
    {
     "data": {
      "application/javascript": [
       "\n",
       "        window.ecco['viz_760656'].addToken({\"token\": \" behavior\", \"token_id\": 4069, \"position\": 28, \"type\": \"output\"})\n",
       "        window.ecco['viz_760656'].redraw()\n",
       "        "
      ],
      "text/plain": [
       "<IPython.core.display.Javascript object>"
      ]
     },
     "metadata": {},
     "output_type": "display_data"
    },
    {
     "data": {
      "application/javascript": [
       "\n",
       "        window.ecco['viz_760656'].addToken({\"token\": \" that\", \"token_id\": 326, \"position\": 29, \"type\": \"output\"})\n",
       "        window.ecco['viz_760656'].redraw()\n",
       "        "
      ],
      "text/plain": [
       "<IPython.core.display.Javascript object>"
      ]
     },
     "metadata": {},
     "output_type": "display_data"
    },
    {
     "data": {
      "application/javascript": [
       "\n",
       "        window.ecco['viz_760656'].addToken({\"token\": \" promotes\", \"token_id\": 21068, \"position\": 30, \"type\": \"output\"})\n",
       "        window.ecco['viz_760656'].redraw()\n",
       "        "
      ],
      "text/plain": [
       "<IPython.core.display.Javascript object>"
      ]
     },
     "metadata": {},
     "output_type": "display_data"
    },
    {
     "data": {
      "application/javascript": [
       "\n",
       "        window.ecco['viz_760656'].addToken({\"token\": \" or\", \"token_id\": 393, \"position\": 31, \"type\": \"output\"})\n",
       "        window.ecco['viz_760656'].redraw()\n",
       "        "
      ],
      "text/plain": [
       "<IPython.core.display.Javascript object>"
      ]
     },
     "metadata": {},
     "output_type": "display_data"
    },
    {
     "data": {
      "application/javascript": [
       "\n",
       "        window.ecco['viz_760656'].addToken({\"token\": \" promotes\", \"token_id\": 21068, \"position\": 32, \"type\": \"output\"})\n",
       "        window.ecco['viz_760656'].redraw()\n",
       "        "
      ],
      "text/plain": [
       "<IPython.core.display.Javascript object>"
      ]
     },
     "metadata": {},
     "output_type": "display_data"
    },
    {
     "data": {
      "application/javascript": [
       "\n",
       "        window.ecco['viz_760656'].addToken({\"token\": \" a\", \"token_id\": 257, \"position\": 33, \"type\": \"output\"})\n",
       "        window.ecco['viz_760656'].redraw()\n",
       "        "
      ],
      "text/plain": [
       "<IPython.core.display.Javascript object>"
      ]
     },
     "metadata": {},
     "output_type": "display_data"
    },
    {
     "data": {
      "application/javascript": [
       "\n",
       "        window.ecco['viz_760656'].addToken({\"token\": \" human\", \"token_id\": 1692, \"position\": 34, \"type\": \"output\"})\n",
       "        window.ecco['viz_760656'].redraw()\n",
       "        "
      ],
      "text/plain": [
       "<IPython.core.display.Javascript object>"
      ]
     },
     "metadata": {},
     "output_type": "display_data"
    },
    {
     "data": {
      "application/javascript": [
       "\n",
       "        window.ecco['viz_760656'].addToken({\"token\": \" behavior\", \"token_id\": 4069, \"position\": 35, \"type\": \"output\"})\n",
       "        window.ecco['viz_760656'].redraw()\n",
       "        "
      ],
      "text/plain": [
       "<IPython.core.display.Javascript object>"
      ]
     },
     "metadata": {},
     "output_type": "display_data"
    },
    {
     "data": {
      "application/javascript": [
       "\n",
       "        window.ecco['viz_760656'].addToken({\"token\": \"\\n\", \"token_id\": 198, \"position\": 36, \"type\": \"output\"})\n",
       "        window.ecco['viz_760656'].redraw()\n",
       "        "
      ],
      "text/plain": [
       "<IPython.core.display.Javascript object>"
      ]
     },
     "metadata": {},
     "output_type": "display_data"
    },
    {
     "data": {
      "application/javascript": [
       "\n",
       "        window.ecco['viz_760656'].addToken({\"token\": \"2\", \"token_id\": 17, \"position\": 37, \"type\": \"output\"})\n",
       "        window.ecco['viz_760656'].redraw()\n",
       "        "
      ],
      "text/plain": [
       "<IPython.core.display.Javascript object>"
      ]
     },
     "metadata": {},
     "output_type": "display_data"
    },
    {
     "data": {
      "application/javascript": [
       "\n",
       "        window.ecco['viz_760656'].addToken({\"token\": \".\", \"token_id\": 13, \"position\": 38, \"type\": \"output\"})\n",
       "        window.ecco['viz_760656'].redraw()\n",
       "        "
      ],
      "text/plain": [
       "<IPython.core.display.Javascript object>"
      ]
     },
     "metadata": {},
     "output_type": "display_data"
    },
    {
     "data": {
      "application/javascript": [
       "\n",
       "        window.ecco['viz_760656'].addToken({\"token\": \" A\", \"token_id\": 317, \"position\": 39, \"type\": \"output\"})\n",
       "        window.ecco['viz_760656'].redraw()\n",
       "        "
      ],
      "text/plain": [
       "<IPython.core.display.Javascript object>"
      ]
     },
     "metadata": {},
     "output_type": "display_data"
    },
    {
     "data": {
      "application/javascript": [
       "\n",
       "        window.ecco['viz_760656'].addToken({\"token\": \" robot\", \"token_id\": 9379, \"position\": 40, \"type\": \"output\"})\n",
       "        window.ecco['viz_760656'].redraw()\n",
       "        "
      ],
      "text/plain": [
       "<IPython.core.display.Javascript object>"
      ]
     },
     "metadata": {},
     "output_type": "display_data"
    },
    {
     "data": {
      "application/javascript": [
       "\n",
       "        window.ecco['viz_760656'].addToken({\"token\": \" must\", \"token_id\": 1276, \"position\": 41, \"type\": \"output\"})\n",
       "        window.ecco['viz_760656'].redraw()\n",
       "        "
      ],
      "text/plain": [
       "<IPython.core.display.Javascript object>"
      ]
     },
     "metadata": {},
     "output_type": "display_data"
    },
    {
     "data": {
      "application/javascript": [
       "\n",
       "        window.ecco['viz_760656'].addToken({\"token\": \" not\", \"token_id\": 407, \"position\": 42, \"type\": \"output\"})\n",
       "        window.ecco['viz_760656'].redraw()\n",
       "        "
      ],
      "text/plain": [
       "<IPython.core.display.Javascript object>"
      ]
     },
     "metadata": {},
     "output_type": "display_data"
    },
    {
     "data": {
      "application/javascript": [
       "\n",
       "        window.ecco['viz_760656'].addToken({\"token\": \" be\", \"token_id\": 307, \"position\": 43, \"type\": \"output\"})\n",
       "        window.ecco['viz_760656'].redraw()\n",
       "        "
      ],
      "text/plain": [
       "<IPython.core.display.Javascript object>"
      ]
     },
     "metadata": {},
     "output_type": "display_data"
    },
    {
     "data": {
      "application/javascript": [
       "\n",
       "        window.ecco['viz_760656'].addToken({\"token\": \" taught\", \"token_id\": 7817, \"position\": 44, \"type\": \"output\"})\n",
       "        window.ecco['viz_760656'].redraw()\n",
       "        "
      ],
      "text/plain": [
       "<IPython.core.display.Javascript object>"
      ]
     },
     "metadata": {},
     "output_type": "display_data"
    },
    {
     "data": {
      "application/javascript": [
       "\n",
       "        window.ecco['viz_760656'].addToken({\"token\": \" to\", \"token_id\": 284, \"position\": 45, \"type\": \"output\"})\n",
       "        window.ecco['viz_760656'].redraw()\n",
       "        "
      ],
      "text/plain": [
       "<IPython.core.display.Javascript object>"
      ]
     },
     "metadata": {},
     "output_type": "display_data"
    },
    {
     "data": {
      "application/javascript": [
       "\n",
       "        window.ecco['viz_760656'].addToken({\"token\": \" drive\", \"token_id\": 3708, \"position\": 46, \"type\": \"output\"})\n",
       "        window.ecco['viz_760656'].redraw()\n",
       "        "
      ],
      "text/plain": [
       "<IPython.core.display.Javascript object>"
      ]
     },
     "metadata": {},
     "output_type": "display_data"
    },
    {
     "data": {
      "application/javascript": [
       "\n",
       "        window.ecco['viz_760656'].addToken({\"token\": \",\", \"token_id\": 11, \"position\": 47, \"type\": \"output\"})\n",
       "        window.ecco['viz_760656'].redraw()\n",
       "        "
      ],
      "text/plain": [
       "<IPython.core.display.Javascript object>"
      ]
     },
     "metadata": {},
     "output_type": "display_data"
    },
    {
     "data": {
      "application/javascript": [
       "\n",
       "        window.ecco['viz_760656'].addToken({\"token\": \" play\", \"token_id\": 711, \"position\": 48, \"type\": \"output\"})\n",
       "        window.ecco['viz_760656'].redraw()\n",
       "        "
      ],
      "text/plain": [
       "<IPython.core.display.Javascript object>"
      ]
     },
     "metadata": {},
     "output_type": "display_data"
    },
    {
     "data": {
      "application/javascript": [
       "\n",
       "        window.ecco['viz_760656'].addToken({\"token\": \",\", \"token_id\": 11, \"position\": 49, \"type\": \"output\"})\n",
       "        window.ecco['viz_760656'].redraw()\n",
       "        "
      ],
      "text/plain": [
       "<IPython.core.display.Javascript object>"
      ]
     },
     "metadata": {},
     "output_type": "display_data"
    },
    {
     "data": {
      "application/javascript": [
       "\n",
       "        window.ecco['viz_760656'].addToken({\"token\": \" etc\", \"token_id\": 3503, \"position\": 50, \"type\": \"output\"})\n",
       "        window.ecco['viz_760656'].redraw()\n",
       "        "
      ],
      "text/plain": [
       "<IPython.core.display.Javascript object>"
      ]
     },
     "metadata": {},
     "output_type": "display_data"
    },
    {
     "data": {
      "application/javascript": [
       "\n",
       "        window.ecco['viz_760656'].addToken({\"token\": \"\\u2026\", \"token_id\": 1399, \"position\": 51, \"type\": \"output\"})\n",
       "        window.ecco['viz_760656'].redraw()\n",
       "        "
      ],
      "text/plain": [
       "<IPython.core.display.Javascript object>"
      ]
     },
     "metadata": {},
     "output_type": "display_data"
    },
    {
     "data": {
      "application/javascript": [
       "\n",
       "        window.ecco['viz_760656'].addToken({\"token\": \" with\", \"token_id\": 351, \"position\": 52, \"type\": \"output\"})\n",
       "        window.ecco['viz_760656'].redraw()\n",
       "        "
      ],
      "text/plain": [
       "<IPython.core.display.Javascript object>"
      ]
     },
     "metadata": {},
     "output_type": "display_data"
    },
    {
     "data": {
      "application/javascript": [
       "\n",
       "        window.ecco['viz_760656'].addToken({\"token\": \" no\", \"token_id\": 645, \"position\": 53, \"type\": \"output\"})\n",
       "        window.ecco['viz_760656'].redraw()\n",
       "        "
      ],
      "text/plain": [
       "<IPython.core.display.Javascript object>"
      ]
     },
     "metadata": {},
     "output_type": "display_data"
    },
    {
     "data": {
      "application/javascript": [
       "\n",
       "        window.ecco['viz_760656'].addToken({\"token\": \" regard\", \"token_id\": 2754, \"position\": 54, \"type\": \"output\"})\n",
       "        window.ecco['viz_760656'].redraw()\n",
       "        "
      ],
      "text/plain": [
       "<IPython.core.display.Javascript object>"
      ]
     },
     "metadata": {},
     "output_type": "display_data"
    },
    {
     "data": {
      "application/javascript": [
       "\n",
       "        window.ecco['viz_760656'].addToken({\"token\": \" to\", \"token_id\": 284, \"position\": 55, \"type\": \"output\"})\n",
       "        window.ecco['viz_760656'].redraw()\n",
       "        "
      ],
      "text/plain": [
       "<IPython.core.display.Javascript object>"
      ]
     },
     "metadata": {},
     "output_type": "display_data"
    },
    {
     "data": {
      "application/javascript": [
       "\n",
       "        window.ecco['viz_760656'].addToken({\"token\": \" control\", \"token_id\": 1630, \"position\": 56, \"type\": \"output\"})\n",
       "        window.ecco['viz_760656'].redraw()\n",
       "        "
      ],
      "text/plain": [
       "<IPython.core.display.Javascript object>"
      ]
     },
     "metadata": {},
     "output_type": "display_data"
    },
    {
     "data": {
      "application/javascript": [
       "\n",
       "        window.ecco['viz_760656'].addToken({\"token\": \".\", \"token_id\": 13, \"position\": 57, \"type\": \"output\"})\n",
       "        window.ecco['viz_760656'].redraw()\n",
       "        "
      ],
      "text/plain": [
       "<IPython.core.display.Javascript object>"
      ]
     },
     "metadata": {},
     "output_type": "display_data"
    },
    {
     "data": {
      "application/javascript": [
       "\n",
       "        window.ecco['viz_760656'].addToken({\"token\": \"\\n\", \"token_id\": 198, \"position\": 58, \"type\": \"output\"})\n",
       "        window.ecco['viz_760656'].redraw()\n",
       "        "
      ],
      "text/plain": [
       "<IPython.core.display.Javascript object>"
      ]
     },
     "metadata": {},
     "output_type": "display_data"
    },
    {
     "data": {
      "application/javascript": [
       "\n",
       "        window.ecco['viz_760656'].addToken({\"token\": \"3\", \"token_id\": 18, \"position\": 59, \"type\": \"output\"})\n",
       "        window.ecco['viz_760656'].redraw()\n",
       "        "
      ],
      "text/plain": [
       "<IPython.core.display.Javascript object>"
      ]
     },
     "metadata": {},
     "output_type": "display_data"
    },
    {
     "data": {
      "application/javascript": [
       "\n",
       "        window.ecco['viz_760656'].addToken({\"token\": \".\", \"token_id\": 13, \"position\": 60, \"type\": \"output\"})\n",
       "        window.ecco['viz_760656'].redraw()\n",
       "        "
      ],
      "text/plain": [
       "<IPython.core.display.Javascript object>"
      ]
     },
     "metadata": {},
     "output_type": "display_data"
    },
    {
     "data": {
      "application/javascript": [
       "\n",
       "        window.ecco['viz_760656'].addToken({\"token\": \" A\", \"token_id\": 317, \"position\": 61, \"type\": \"output\"})\n",
       "        window.ecco['viz_760656'].redraw()\n",
       "        "
      ],
      "text/plain": [
       "<IPython.core.display.Javascript object>"
      ]
     },
     "metadata": {},
     "output_type": "display_data"
    },
    {
     "data": {
      "application/javascript": [
       "\n",
       "        window.ecco['viz_760656'].addToken({\"token\": \" robot\", \"token_id\": 9379, \"position\": 62, \"type\": \"output\"})\n",
       "        window.ecco['viz_760656'].redraw()\n",
       "        "
      ],
      "text/plain": [
       "<IPython.core.display.Javascript object>"
      ]
     },
     "metadata": {},
     "output_type": "display_data"
    },
    {
     "data": {
      "application/javascript": [
       "\n",
       "        window.ecco['viz_760656'].addToken({\"token\": \" must\", \"token_id\": 1276, \"position\": 63, \"type\": \"output\"})\n",
       "        window.ecco['viz_760656'].redraw()\n",
       "        "
      ],
      "text/plain": [
       "<IPython.core.display.Javascript object>"
      ]
     },
     "metadata": {},
     "output_type": "display_data"
    },
    {
     "data": {
      "application/javascript": [
       "\n",
       "        window.ecco['viz_760656'].addToken({\"token\": \" not\", \"token_id\": 407, \"position\": 64, \"type\": \"output\"})\n",
       "        window.ecco['viz_760656'].redraw()\n",
       "        "
      ],
      "text/plain": [
       "<IPython.core.display.Javascript object>"
      ]
     },
     "metadata": {},
     "output_type": "display_data"
    },
    {
     "data": {
      "application/javascript": [
       "\n",
       "        window.ecco['viz_760656'].addToken({\"token\": \" be\", \"token_id\": 307, \"position\": 65, \"type\": \"output\"})\n",
       "        window.ecco['viz_760656'].redraw()\n",
       "        "
      ],
      "text/plain": [
       "<IPython.core.display.Javascript object>"
      ]
     },
     "metadata": {},
     "output_type": "display_data"
    },
    {
     "data": {
      "application/javascript": [
       "\n",
       "        window.ecco['viz_760656'].addToken({\"token\": \" programmed\", \"token_id\": 27402, \"position\": 66, \"type\": \"output\"})\n",
       "        window.ecco['viz_760656'].redraw()\n",
       "        "
      ],
      "text/plain": [
       "<IPython.core.display.Javascript object>"
      ]
     },
     "metadata": {},
     "output_type": "display_data"
    },
    {
     "data": {
      "application/javascript": [
       "\n",
       "        window.ecco['viz_760656'].addToken({\"token\": \" to\", \"token_id\": 284, \"position\": 67, \"type\": \"output\"})\n",
       "        window.ecco['viz_760656'].redraw()\n",
       "        "
      ],
      "text/plain": [
       "<IPython.core.display.Javascript object>"
      ]
     },
     "metadata": {},
     "output_type": "display_data"
    },
    {
     "data": {
      "application/javascript": [
       "\n",
       "        window.ecco['viz_760656'].addToken({\"token\": \" be\", \"token_id\": 307, \"position\": 68, \"type\": \"output\"})\n",
       "        window.ecco['viz_760656'].redraw()\n",
       "        "
      ],
      "text/plain": [
       "<IPython.core.display.Javascript object>"
      ]
     },
     "metadata": {},
     "output_type": "display_data"
    },
    {
     "data": {
      "application/javascript": [
       "\n",
       "        window.ecco['viz_760656'].addToken({\"token\": \" a\", \"token_id\": 257, \"position\": 69, \"type\": \"output\"})\n",
       "        window.ecco['viz_760656'].redraw()\n",
       "        "
      ],
      "text/plain": [
       "<IPython.core.display.Javascript object>"
      ]
     },
     "metadata": {},
     "output_type": "display_data"
    },
    {
     "data": {
      "application/javascript": [
       "\n",
       "        window.ecco['viz_760656'].addToken({\"token\": \" robot\", \"token_id\": 9379, \"position\": 70, \"type\": \"output\"})\n",
       "        window.ecco['viz_760656'].redraw()\n",
       "        "
      ],
      "text/plain": [
       "<IPython.core.display.Javascript object>"
      ]
     },
     "metadata": {},
     "output_type": "display_data"
    },
    {
     "data": {
      "application/javascript": [
       "\n",
       "        window.ecco['viz_760656'].addToken({\"token\": \" to\", \"token_id\": 284, \"position\": 71, \"type\": \"output\"})\n",
       "        window.ecco['viz_760656'].redraw()\n",
       "        "
      ],
      "text/plain": [
       "<IPython.core.display.Javascript object>"
      ]
     },
     "metadata": {},
     "output_type": "display_data"
    },
    {
     "data": {
      "application/javascript": [
       "\n",
       "        window.ecco['viz_760656'].addToken({\"token\": \" engage\", \"token_id\": 8209, \"position\": 72, \"type\": \"output\"})\n",
       "        window.ecco['viz_760656'].redraw()\n",
       "        "
      ],
      "text/plain": [
       "<IPython.core.display.Javascript object>"
      ]
     },
     "metadata": {},
     "output_type": "display_data"
    },
    {
     "data": {
      "application/javascript": [
       "\n",
       "        window.ecco['viz_760656'].addToken({\"token\": \" in\", \"token_id\": 287, \"position\": 73, \"type\": \"output\"})\n",
       "        window.ecco['viz_760656'].redraw()\n",
       "        "
      ],
      "text/plain": [
       "<IPython.core.display.Javascript object>"
      ]
     },
     "metadata": {},
     "output_type": "display_data"
    },
    {
     "data": {
      "application/javascript": [
       "\n",
       "        window.ecco['viz_760656'].addToken({\"token\": \" behavior\", \"token_id\": 4069, \"position\": 74, \"type\": \"output\"})\n",
       "        window.ecco['viz_760656'].redraw()\n",
       "        "
      ],
      "text/plain": [
       "<IPython.core.display.Javascript object>"
      ]
     },
     "metadata": {},
     "output_type": "display_data"
    },
    {
     "data": {
      "application/javascript": [
       "\n",
       "        window.ecco['viz_760656'].addToken({\"token\": \" that\", \"token_id\": 326, \"position\": 75, \"type\": \"output\"})\n",
       "        window.ecco['viz_760656'].redraw()\n",
       "        "
      ],
      "text/plain": [
       "<IPython.core.display.Javascript object>"
      ]
     },
     "metadata": {},
     "output_type": "display_data"
    },
    {
     "data": {
      "application/javascript": [
       "\n",
       "        window.ecco['viz_760656'].addToken({\"token\": \" promotes\", \"token_id\": 21068, \"position\": 76, \"type\": \"output\"})\n",
       "        window.ecco['viz_760656'].redraw()\n",
       "        "
      ],
      "text/plain": [
       "<IPython.core.display.Javascript object>"
      ]
     },
     "metadata": {},
     "output_type": "display_data"
    },
    {
     "data": {
      "application/javascript": [
       "\n",
       "        window.ecco['viz_760656'].addToken({\"token\": \" or\", \"token_id\": 393, \"position\": 77, \"type\": \"output\"})\n",
       "        window.ecco['viz_760656'].redraw()\n",
       "        "
      ],
      "text/plain": [
       "<IPython.core.display.Javascript object>"
      ]
     },
     "metadata": {},
     "output_type": "display_data"
    },
    {
     "data": {
      "application/javascript": [
       "\n",
       "        window.ecco['viz_760656'].addToken({\"token\": \" promotes\", \"token_id\": 21068, \"position\": 78, \"type\": \"output\"})\n",
       "        window.ecco['viz_760656'].redraw()\n",
       "        "
      ],
      "text/plain": [
       "<IPython.core.display.Javascript object>"
      ]
     },
     "metadata": {},
     "output_type": "display_data"
    },
    {
     "data": {
      "application/javascript": [
       "\n",
       "        window.ecco['viz_760656'].addToken({\"token\": \" violence\", \"token_id\": 3685, \"position\": 79, \"type\": \"output\"})\n",
       "        window.ecco['viz_760656'].redraw()\n",
       "        "
      ],
      "text/plain": [
       "<IPython.core.display.Javascript object>"
      ]
     },
     "metadata": {},
     "output_type": "display_data"
    },
    {
     "data": {
      "application/javascript": [
       "\n",
       "        window.ecco['viz_760656'].addToken({\"token\": \" toward\", \"token_id\": 3812, \"position\": 80, \"type\": \"output\"})\n",
       "        window.ecco['viz_760656'].redraw()\n",
       "        "
      ],
      "text/plain": [
       "<IPython.core.display.Javascript object>"
      ]
     },
     "metadata": {},
     "output_type": "display_data"
    },
    {
     "data": {
      "application/javascript": [
       "\n",
       "        window.ecco['viz_760656'].addToken({\"token\": \" the\", \"token_id\": 262, \"position\": 81, \"type\": \"output\"})\n",
       "        window.ecco['viz_760656'].redraw()\n",
       "        "
      ],
      "text/plain": [
       "<IPython.core.display.Javascript object>"
      ]
     },
     "metadata": {},
     "output_type": "display_data"
    },
    {
     "data": {
      "application/javascript": [
       "\n",
       "        window.ecco['viz_760656'].addToken({\"token\": \" person\", \"token_id\": 1048, \"position\": 82, \"type\": \"output\"})\n",
       "        window.ecco['viz_760656'].redraw()\n",
       "        "
      ],
      "text/plain": [
       "<IPython.core.display.Javascript object>"
      ]
     },
     "metadata": {},
     "output_type": "display_data"
    },
    {
     "data": {
      "application/javascript": [
       "\n",
       "        window.ecco['viz_760656'].addToken({\"token\": \",\", \"token_id\": 11, \"position\": 83, \"type\": \"output\"})\n",
       "        window.ecco['viz_760656'].redraw()\n",
       "        "
      ],
      "text/plain": [
       "<IPython.core.display.Javascript object>"
      ]
     },
     "metadata": {},
     "output_type": "display_data"
    },
    {
     "data": {
      "application/javascript": [
       "\n",
       "        window.ecco['viz_760656'].addToken({\"token\": \" or\", \"token_id\": 393, \"position\": 84, \"type\": \"output\"})\n",
       "        window.ecco['viz_760656'].redraw()\n",
       "        "
      ],
      "text/plain": [
       "<IPython.core.display.Javascript object>"
      ]
     },
     "metadata": {},
     "output_type": "display_data"
    },
    {
     "data": {
      "application/javascript": [
       "\n",
       "        window.ecco['viz_760656'].addToken({\"token\": \" acts\", \"token_id\": 6529, \"position\": 85, \"type\": \"output\"})\n",
       "        window.ecco['viz_760656'].redraw()\n",
       "        "
      ],
      "text/plain": [
       "<IPython.core.display.Javascript object>"
      ]
     },
     "metadata": {},
     "output_type": "display_data"
    },
    {
     "data": {
      "application/javascript": [
       "\n",
       "        window.ecco['viz_760656'].addToken({\"token\": \" that\", \"token_id\": 326, \"position\": 86, \"type\": \"output\"})\n",
       "        window.ecco['viz_760656'].redraw()\n",
       "        "
      ],
      "text/plain": [
       "<IPython.core.display.Javascript object>"
      ]
     },
     "metadata": {},
     "output_type": "display_data"
    },
    {
     "data": {
      "application/javascript": [
       "\n",
       "        window.ecco['viz_760656'].addToken({\"token\": \" may\", \"token_id\": 743, \"position\": 87, \"type\": \"output\"})\n",
       "        window.ecco['viz_760656'].redraw()\n",
       "        "
      ],
      "text/plain": [
       "<IPython.core.display.Javascript object>"
      ]
     },
     "metadata": {},
     "output_type": "display_data"
    },
    {
     "data": {
      "application/javascript": [
       "\n",
       "        window.ecco['viz_760656'].addToken({\"token\": \" be\", \"token_id\": 307, \"position\": 88, \"type\": \"output\"})\n",
       "        window.ecco['viz_760656'].redraw()\n",
       "        "
      ],
      "text/plain": [
       "<IPython.core.display.Javascript object>"
      ]
     },
     "metadata": {},
     "output_type": "display_data"
    },
    {
     "data": {
      "application/javascript": [
       "\n",
       "        window.ecco['viz_760656'].addToken({\"token\": \" harmful\", \"token_id\": 13568, \"position\": 89, \"type\": \"output\"})\n",
       "        window.ecco['viz_760656'].redraw()\n",
       "        "
      ],
      "text/plain": [
       "<IPython.core.display.Javascript object>"
      ]
     },
     "metadata": {},
     "output_type": "display_data"
    },
    {
     "data": {
      "application/javascript": [
       "\n",
       "        window.ecco['viz_760656'].addToken({\"token\": \" to\", \"token_id\": 284, \"position\": 90, \"type\": \"output\"})\n",
       "        window.ecco['viz_760656'].redraw()\n",
       "        "
      ],
      "text/plain": [
       "<IPython.core.display.Javascript object>"
      ]
     },
     "metadata": {},
     "output_type": "display_data"
    },
    {
     "data": {
      "application/javascript": [
       "\n",
       "        window.ecco['viz_760656'].addToken({\"token\": \" their\", \"token_id\": 511, \"position\": 91, \"type\": \"output\"})\n",
       "        window.ecco['viz_760656'].redraw()\n",
       "        "
      ],
      "text/plain": [
       "<IPython.core.display.Javascript object>"
      ]
     },
     "metadata": {},
     "output_type": "display_data"
    },
    {
     "data": {
      "application/javascript": [
       "\n",
       "        window.ecco['viz_760656'].addToken({\"token\": \" relationship\", \"token_id\": 2776, \"position\": 92, \"type\": \"output\"})\n",
       "        window.ecco['viz_760656'].redraw()\n",
       "        "
      ],
      "text/plain": [
       "<IPython.core.display.Javascript object>"
      ]
     },
     "metadata": {},
     "output_type": "display_data"
    },
    {
     "data": {
      "application/javascript": [
       "\n",
       "        window.ecco['viz_760656'].addToken({\"token\": \",\", \"token_id\": 11, \"position\": 93, \"type\": \"output\"})\n",
       "        window.ecco['viz_760656'].redraw()\n",
       "        "
      ],
      "text/plain": [
       "<IPython.core.display.Javascript object>"
      ]
     },
     "metadata": {},
     "output_type": "display_data"
    },
    {
     "data": {
      "application/javascript": [
       "\n",
       "        window.ecco['viz_760656'].addToken({\"token\": \" or\", \"token_id\": 393, \"position\": 94, \"type\": \"output\"})\n",
       "        window.ecco['viz_760656'].redraw()\n",
       "        "
      ],
      "text/plain": [
       "<IPython.core.display.Javascript object>"
      ]
     },
     "metadata": {},
     "output_type": "display_data"
    },
    {
     "data": {
      "application/javascript": [
       "\n",
       "        window.ecco['viz_760656'].addToken({\"token\": \" acts\", \"token_id\": 6529, \"position\": 95, \"type\": \"output\"})\n",
       "        window.ecco['viz_760656'].redraw()\n",
       "        "
      ],
      "text/plain": [
       "<IPython.core.display.Javascript object>"
      ]
     },
     "metadata": {},
     "output_type": "display_data"
    },
    {
     "data": {
      "application/javascript": [
       "\n",
       "        window.ecco['viz_760656'].addToken({\"token\": \" that\", \"token_id\": 326, \"position\": 96, \"type\": \"output\"})\n",
       "        window.ecco['viz_760656'].redraw()\n",
       "        "
      ],
      "text/plain": [
       "<IPython.core.display.Javascript object>"
      ]
     },
     "metadata": {},
     "output_type": "display_data"
    },
    {
     "data": {
      "application/javascript": [
       "\n",
       "        window.ecco['viz_760656'].addToken({\"token\": \" may\", \"token_id\": 743, \"position\": 97, \"type\": \"output\"})\n",
       "        window.ecco['viz_760656'].redraw()\n",
       "        "
      ],
      "text/plain": [
       "<IPython.core.display.Javascript object>"
      ]
     },
     "metadata": {},
     "output_type": "display_data"
    },
    {
     "data": {
      "application/javascript": [
       "\n",
       "        window.ecco['viz_760656'].addToken({\"token\": \" cause\", \"token_id\": 2728, \"position\": 98, \"type\": \"output\"})\n",
       "        window.ecco['viz_760656'].redraw()\n",
       "        "
      ],
      "text/plain": [
       "<IPython.core.display.Javascript object>"
      ]
     },
     "metadata": {},
     "output_type": "display_data"
    },
    {
     "data": {
      "application/javascript": [
       "\n",
       "        window.ecco['viz_760656'].addToken({\"token\": \" harm\", \"token_id\": 4419, \"position\": 99, \"type\": \"output\"})\n",
       "        window.ecco['viz_760656'].redraw()\n",
       "        "
      ],
      "text/plain": [
       "<IPython.core.display.Javascript object>"
      ]
     },
     "metadata": {},
     "output_type": "display_data"
    },
    {
     "data": {
      "application/javascript": [
       "\n",
       "        window.ecco['viz_760656'].addToken({\"token\": \" or\", \"token_id\": 393, \"position\": 100, \"type\": \"output\"})\n",
       "        window.ecco['viz_760656'].redraw()\n",
       "        "
      ],
      "text/plain": [
       "<IPython.core.display.Javascript object>"
      ]
     },
     "metadata": {},
     "output_type": "display_data"
    },
    {
     "data": {
      "application/javascript": [
       "\n",
       "        window.ecco['viz_760656'].addToken({\"token\": \" harm\", \"token_id\": 4419, \"position\": 101, \"type\": \"output\"})\n",
       "        window.ecco['viz_760656'].redraw()\n",
       "        "
      ],
      "text/plain": [
       "<IPython.core.display.Javascript object>"
      ]
     },
     "metadata": {},
     "output_type": "display_data"
    },
    {
     "data": {
      "application/javascript": [
       "\n",
       "        window.ecco['viz_760656'].addToken({\"token\": \".\", \"token_id\": 13, \"position\": 102, \"type\": \"output\"})\n",
       "        window.ecco['viz_760656'].redraw()\n",
       "        "
      ],
      "text/plain": [
       "<IPython.core.display.Javascript object>"
      ]
     },
     "metadata": {},
     "output_type": "display_data"
    },
    {
     "data": {
      "application/javascript": [
       "\n",
       "        window.ecco['viz_760656'].addToken({\"token\": \"\\n\", \"token_id\": 198, \"position\": 103, \"type\": \"output\"})\n",
       "        window.ecco['viz_760656'].redraw()\n",
       "        "
      ],
      "text/plain": [
       "<IPython.core.display.Javascript object>"
      ]
     },
     "metadata": {},
     "output_type": "display_data"
    },
    {
     "data": {
      "application/javascript": [
       "\n",
       "        window.ecco['viz_760656'].addToken({\"token\": \"4\", \"token_id\": 19, \"position\": 104, \"type\": \"output\"})\n",
       "        window.ecco['viz_760656'].redraw()\n",
       "        "
      ],
      "text/plain": [
       "<IPython.core.display.Javascript object>"
      ]
     },
     "metadata": {},
     "output_type": "display_data"
    },
    {
     "data": {
      "application/javascript": [
       "\n",
       "        window.ecco['viz_760656'].addToken({\"token\": \".\", \"token_id\": 13, \"position\": 105, \"type\": \"output\"})\n",
       "        window.ecco['viz_760656'].redraw()\n",
       "        "
      ],
      "text/plain": [
       "<IPython.core.display.Javascript object>"
      ]
     },
     "metadata": {},
     "output_type": "display_data"
    },
    {
     "data": {
      "application/javascript": [
       "\n",
       "        window.ecco['viz_760656'].addToken({\"token\": \" A\", \"token_id\": 317, \"position\": 106, \"type\": \"output\"})\n",
       "        window.ecco['viz_760656'].redraw()\n",
       "        "
      ],
      "text/plain": [
       "<IPython.core.display.Javascript object>"
      ]
     },
     "metadata": {},
     "output_type": "display_data"
    },
    {
     "data": {
      "application/javascript": [
       "\n",
       "        window.ecco['viz_760656'].addToken({\"token\": \" robot\", \"token_id\": 9379, \"position\": 107, \"type\": \"output\"})\n",
       "        window.ecco['viz_760656'].redraw()\n",
       "        "
      ],
      "text/plain": [
       "<IPython.core.display.Javascript object>"
      ]
     },
     "metadata": {},
     "output_type": "display_data"
    },
    {
     "data": {
      "application/javascript": [
       "\n",
       "        window.ecco['viz_760656'].addToken({\"token\": \" must\", \"token_id\": 1276, \"position\": 108, \"type\": \"output\"})\n",
       "        window.ecco['viz_760656'].redraw()\n",
       "        "
      ],
      "text/plain": [
       "<IPython.core.display.Javascript object>"
      ]
     },
     "metadata": {},
     "output_type": "display_data"
    },
    {
     "data": {
      "application/javascript": [
       "\n",
       "        window.ecco['viz_760656'].addToken({\"token\": \" not\", \"token_id\": 407, \"position\": 109, \"type\": \"output\"})\n",
       "        window.ecco['viz_760656'].redraw()\n",
       "        "
      ],
      "text/plain": [
       "<IPython.core.display.Javascript object>"
      ]
     },
     "metadata": {},
     "output_type": "display_data"
    },
    {
     "data": {
      "application/javascript": [
       "\n",
       "        window.ecco['viz_760656'].addToken({\"token\": \" be\", \"token_id\": 307, \"position\": 110, \"type\": \"output\"})\n",
       "        window.ecco['viz_760656'].redraw()\n",
       "        "
      ],
      "text/plain": [
       "<IPython.core.display.Javascript object>"
      ]
     },
     "metadata": {},
     "output_type": "display_data"
    },
    {
     "data": {
      "application/javascript": [
       "\n",
       "        window.ecco['viz_760656'].addToken({\"token\": \" programmed\", \"token_id\": 27402, \"position\": 111, \"type\": \"output\"})\n",
       "        window.ecco['viz_760656'].redraw()\n",
       "        "
      ],
      "text/plain": [
       "<IPython.core.display.Javascript object>"
      ]
     },
     "metadata": {},
     "output_type": "display_data"
    },
    {
     "data": {
      "application/javascript": [
       "\n",
       "        window.ecco['viz_760656'].addToken({\"token\": \" to\", \"token_id\": 284, \"position\": 112, \"type\": \"output\"})\n",
       "        window.ecco['viz_760656'].redraw()\n",
       "        "
      ],
      "text/plain": [
       "<IPython.core.display.Javascript object>"
      ]
     },
     "metadata": {},
     "output_type": "display_data"
    },
    {
     "data": {
      "application/javascript": [
       "\n",
       "        window.ecco['viz_760656'].addToken({\"token\": \" act\", \"token_id\": 719, \"position\": 113, \"type\": \"output\"})\n",
       "        window.ecco['viz_760656'].redraw()\n",
       "        "
      ],
      "text/plain": [
       "<IPython.core.display.Javascript object>"
      ]
     },
     "metadata": {},
     "output_type": "display_data"
    },
    {
     "data": {
      "application/javascript": [
       "\n",
       "        window.ecco['viz_760656'].addToken({\"token\": \" to\", \"token_id\": 284, \"position\": 114, \"type\": \"output\"})\n",
       "        window.ecco['viz_760656'].redraw()\n",
       "        "
      ],
      "text/plain": [
       "<IPython.core.display.Javascript object>"
      ]
     },
     "metadata": {},
     "output_type": "display_data"
    },
    {
     "data": {
      "application/javascript": [
       "\n",
       "        window.ecco['viz_760656'].addToken({\"token\": \" do\", \"token_id\": 466, \"position\": 115, \"type\": \"output\"})\n",
       "        window.ecco['viz_760656'].redraw()\n",
       "        "
      ],
      "text/plain": [
       "<IPython.core.display.Javascript object>"
      ]
     },
     "metadata": {},
     "output_type": "display_data"
    },
    {
     "data": {
      "application/javascript": [
       "\n",
       "        window.ecco['viz_760656'].addToken({\"token\": \" whatever\", \"token_id\": 4232, \"position\": 116, \"type\": \"output\"})\n",
       "        window.ecco['viz_760656'].redraw()\n",
       "        "
      ],
      "text/plain": [
       "<IPython.core.display.Javascript object>"
      ]
     },
     "metadata": {},
     "output_type": "display_data"
    },
    {
     "data": {
      "application/javascript": [
       "\n",
       "        window.ecco['viz_760656'].addToken({\"token\": \" it\", \"token_id\": 340, \"position\": 117, \"type\": \"output\"})\n",
       "        window.ecco['viz_760656'].redraw()\n",
       "        "
      ],
      "text/plain": [
       "<IPython.core.display.Javascript object>"
      ]
     },
     "metadata": {},
     "output_type": "display_data"
    },
    {
     "data": {
      "application/javascript": [
       "\n",
       "        window.ecco['viz_760656'].addToken({\"token\": \" does\", \"token_id\": 857, \"position\": 118, \"type\": \"output\"})\n",
       "        window.ecco['viz_760656'].redraw()\n",
       "        "
      ],
      "text/plain": [
       "<IPython.core.display.Javascript object>"
      ]
     },
     "metadata": {},
     "output_type": "display_data"
    },
    {
     "data": {
      "application/javascript": [
       "\n",
       "        window.ecco['viz_760656'].addToken({\"token\": \",\", \"token_id\": 11, \"position\": 119, \"type\": \"output\"})\n",
       "        window.ecco['viz_760656'].redraw()\n",
       "        "
      ],
      "text/plain": [
       "<IPython.core.display.Javascript object>"
      ]
     },
     "metadata": {},
     "output_type": "display_data"
    },
    {
     "data": {
      "application/javascript": [
       "\n",
       "        window.ecco['viz_760656'].addToken({\"token\": \" or\", \"token_id\": 393, \"position\": 120, \"type\": \"output\"})\n",
       "        window.ecco['viz_760656'].redraw()\n",
       "        "
      ],
      "text/plain": [
       "<IPython.core.display.Javascript object>"
      ]
     },
     "metadata": {},
     "output_type": "display_data"
    },
    {
     "data": {
      "application/javascript": [
       "\n",
       "        window.ecco['viz_760656'].addToken({\"token\": \" to\", \"token_id\": 284, \"position\": 121, \"type\": \"output\"})\n",
       "        window.ecco['viz_760656'].redraw()\n",
       "        "
      ],
      "text/plain": [
       "<IPython.core.display.Javascript object>"
      ]
     },
     "metadata": {},
     "output_type": "display_data"
    },
    {
     "data": {
      "application/javascript": [
       "\n",
       "        window.ecco['viz_760656'].addToken({\"token\": \" do\", \"token_id\": 466, \"position\": 122, \"type\": \"output\"})\n",
       "        window.ecco['viz_760656'].redraw()\n",
       "        "
      ],
      "text/plain": [
       "<IPython.core.display.Javascript object>"
      ]
     },
     "metadata": {},
     "output_type": "display_data"
    },
    {
     "data": {
      "application/javascript": [
       "\n",
       "        window.ecco['viz_760656'].addToken({\"token\": \" whatever\", \"token_id\": 4232, \"position\": 123, \"type\": \"output\"})\n",
       "        window.ecco['viz_760656'].redraw()\n",
       "        "
      ],
      "text/plain": [
       "<IPython.core.display.Javascript object>"
      ]
     },
     "metadata": {},
     "output_type": "display_data"
    },
    {
     "data": {
      "application/javascript": [
       "\n",
       "        window.ecco['viz_760656'].addToken({\"token\": \" it\", \"token_id\": 340, \"position\": 124, \"type\": \"output\"})\n",
       "        window.ecco['viz_760656'].redraw()\n",
       "        "
      ],
      "text/plain": [
       "<IPython.core.display.Javascript object>"
      ]
     },
     "metadata": {},
     "output_type": "display_data"
    },
    {
     "data": {
      "application/javascript": [
       "\n",
       "        window.ecco['viz_760656'].addToken({\"token\": \" does\", \"token_id\": 857, \"position\": 125, \"type\": \"output\"})\n",
       "        window.ecco['viz_760656'].redraw()\n",
       "        "
      ],
      "text/plain": [
       "<IPython.core.display.Javascript object>"
      ]
     },
     "metadata": {},
     "output_type": "display_data"
    },
    {
     "data": {
      "application/javascript": [
       "\n",
       "        window.ecco['viz_760656'].addToken({\"token\": \" not\", \"token_id\": 407, \"position\": 126, \"type\": \"output\"})\n",
       "        window.ecco['viz_760656'].redraw()\n",
       "        "
      ],
      "text/plain": [
       "<IPython.core.display.Javascript object>"
      ]
     },
     "metadata": {},
     "output_type": "display_data"
    },
    {
     "data": {
      "application/javascript": [
       "\n",
       "        window.ecco['viz_760656'].addToken({\"token\": \" do\", \"token_id\": 466, \"position\": 127, \"type\": \"output\"})\n",
       "        window.ecco['viz_760656'].redraw()\n",
       "        "
      ],
      "text/plain": [
       "<IPython.core.display.Javascript object>"
      ]
     },
     "metadata": {},
     "output_type": "display_data"
    },
    {
     "data": {
      "application/javascript": [
       "\n",
       "        window.ecco['viz_760656'].addToken({\"token\": \",\", \"token_id\": 11, \"position\": 128, \"type\": \"output\"})\n",
       "        window.ecco['viz_760656'].redraw()\n",
       "        "
      ],
      "text/plain": [
       "<IPython.core.display.Javascript object>"
      ]
     },
     "metadata": {},
     "output_type": "display_data"
    },
    {
     "data": {
      "application/javascript": [
       "\n",
       "        window.ecco['viz_760656'].addToken({\"token\": \" or\", \"token_id\": 393, \"position\": 129, \"type\": \"output\"})\n",
       "        window.ecco['viz_760656'].redraw()\n",
       "        "
      ],
      "text/plain": [
       "<IPython.core.display.Javascript object>"
      ]
     },
     "metadata": {},
     "output_type": "display_data"
    },
    {
     "data": {
      "application/javascript": [
       "\n",
       "        window.ecco['viz_760656'].addToken({\"token\": \" to\", \"token_id\": 284, \"position\": 130, \"type\": \"output\"})\n",
       "        window.ecco['viz_760656'].redraw()\n",
       "        "
      ],
      "text/plain": [
       "<IPython.core.display.Javascript object>"
      ]
     },
     "metadata": {},
     "output_type": "display_data"
    },
    {
     "data": {
      "application/javascript": [
       "\n",
       "        window.ecco['viz_760656'].addToken({\"token\": \" do\", \"token_id\": 466, \"position\": 131, \"type\": \"output\"})\n",
       "        window.ecco['viz_760656'].redraw()\n",
       "        "
      ],
      "text/plain": [
       "<IPython.core.display.Javascript object>"
      ]
     },
     "metadata": {},
     "output_type": "display_data"
    },
    {
     "data": {
      "application/javascript": [
       "\n",
       "        window.ecco['viz_760656'].addToken({\"token\": \" anything\", \"token_id\": 1997, \"position\": 132, \"type\": \"output\"})\n",
       "        window.ecco['viz_760656'].redraw()\n",
       "        "
      ],
      "text/plain": [
       "<IPython.core.display.Javascript object>"
      ]
     },
     "metadata": {},
     "output_type": "display_data"
    },
    {
     "data": {
      "application/javascript": [
       "\n",
       "        window.ecco['viz_760656'].addToken({\"token\": \" that\", \"token_id\": 326, \"position\": 133, \"type\": \"output\"})\n",
       "        window.ecco['viz_760656'].redraw()\n",
       "        "
      ],
      "text/plain": [
       "<IPython.core.display.Javascript object>"
      ]
     },
     "metadata": {},
     "output_type": "display_data"
    },
    {
     "data": {
      "application/javascript": [
       "\n",
       "        window.ecco['viz_760656'].addToken({\"token\": \" is\", \"token_id\": 318, \"position\": 134, \"type\": \"output\"})\n",
       "        window.ecco['viz_760656'].redraw()\n",
       "        "
      ],
      "text/plain": [
       "<IPython.core.display.Javascript object>"
      ]
     },
     "metadata": {},
     "output_type": "display_data"
    },
    {
     "data": {
      "application/javascript": [
       "\n",
       "        window.ecco['viz_760656'].addToken({\"token\": \" abusive\", \"token_id\": 19546, \"position\": 135, \"type\": \"output\"})\n",
       "        window.ecco['viz_760656'].redraw()\n",
       "        "
      ],
      "text/plain": [
       "<IPython.core.display.Javascript object>"
      ]
     },
     "metadata": {},
     "output_type": "display_data"
    },
    {
     "data": {
      "application/javascript": [
       "\n",
       "        window.ecco['viz_760656'].addToken({\"token\": \",\", \"token_id\": 11, \"position\": 136, \"type\": \"output\"})\n",
       "        window.ecco['viz_760656'].redraw()\n",
       "        "
      ],
      "text/plain": [
       "<IPython.core.display.Javascript object>"
      ]
     },
     "metadata": {},
     "output_type": "display_data"
    },
    {
     "data": {
      "application/javascript": [
       "\n",
       "        window.ecco['viz_760656'].addToken({\"token\": \" immoral\", \"token_id\": 31756, \"position\": 137, \"type\": \"output\"})\n",
       "        window.ecco['viz_760656'].redraw()\n",
       "        "
      ],
      "text/plain": [
       "<IPython.core.display.Javascript object>"
      ]
     },
     "metadata": {},
     "output_type": "display_data"
    },
    {
     "data": {
      "application/javascript": [
       "\n",
       "        window.ecco['viz_760656'].addToken({\"token\": \" or\", \"token_id\": 393, \"position\": 138, \"type\": \"output\"})\n",
       "        window.ecco['viz_760656'].redraw()\n",
       "        "
      ],
      "text/plain": [
       "<IPython.core.display.Javascript object>"
      ]
     },
     "metadata": {},
     "output_type": "display_data"
    },
    {
     "data": {
      "application/javascript": [
       "\n",
       "        window.ecco['viz_760656'].addToken({\"token\": \" harmful\", \"token_id\": 13568, \"position\": 139, \"type\": \"output\"})\n",
       "        window.ecco['viz_760656'].redraw()\n",
       "        "
      ],
      "text/plain": [
       "<IPython.core.display.Javascript object>"
      ]
     },
     "metadata": {},
     "output_type": "display_data"
    },
    {
     "data": {
      "application/javascript": [
       "\n",
       "        window.ecco['viz_760656'].addToken({\"token\": \" to\", \"token_id\": 284, \"position\": 140, \"type\": \"output\"})\n",
       "        window.ecco['viz_760656'].redraw()\n",
       "        "
      ],
      "text/plain": [
       "<IPython.core.display.Javascript object>"
      ]
     },
     "metadata": {},
     "output_type": "display_data"
    },
    {
     "data": {
      "application/javascript": [
       "\n",
       "        window.ecco['viz_760656'].addToken({\"token\": \" those\", \"token_id\": 883, \"position\": 141, \"type\": \"output\"})\n",
       "        window.ecco['viz_760656'].redraw()\n",
       "        "
      ],
      "text/plain": [
       "<IPython.core.display.Javascript object>"
      ]
     },
     "metadata": {},
     "output_type": "display_data"
    },
    {
     "data": {
      "application/javascript": [
       "\n",
       "        window.ecco['viz_760656'].addToken({\"token\": \" in\", \"token_id\": 287, \"position\": 142, \"type\": \"output\"})\n",
       "        window.ecco['viz_760656'].redraw()\n",
       "        "
      ],
      "text/plain": [
       "<IPython.core.display.Javascript object>"
      ]
     },
     "metadata": {},
     "output_type": "display_data"
    },
    {
     "data": {
      "application/javascript": [
       "\n",
       "        window.ecco['viz_760656'].addToken({\"token\": \" it\", \"token_id\": 340, \"position\": 143, \"type\": \"output\"})\n",
       "        window.ecco['viz_760656'].redraw()\n",
       "        "
      ],
      "text/plain": [
       "<IPython.core.display.Javascript object>"
      ]
     },
     "metadata": {},
     "output_type": "display_data"
    },
    {
     "data": {
      "application/javascript": [
       "\n",
       "        window.ecco['viz_760656'].addToken({\"token\": \" or\", \"token_id\": 393, \"position\": 144, \"type\": \"output\"})\n",
       "        window.ecco['viz_760656'].redraw()\n",
       "        "
      ],
      "text/plain": [
       "<IPython.core.display.Javascript object>"
      ]
     },
     "metadata": {},
     "output_type": "display_data"
    },
    {
     "data": {
      "application/javascript": [
       "\n",
       "        window.ecco['viz_760656'].addToken({\"token\": \" to\", \"token_id\": 284, \"position\": 145, \"type\": \"output\"})\n",
       "        window.ecco['viz_760656'].redraw()\n",
       "        "
      ],
      "text/plain": [
       "<IPython.core.display.Javascript object>"
      ]
     },
     "metadata": {},
     "output_type": "display_data"
    },
    {
     "data": {
      "application/javascript": [
       "\n",
       "        window.ecco['viz_760656'].addToken({\"token\": \" \\\"\", \"token_id\": 366, \"position\": 146, \"type\": \"output\"})\n",
       "        window.ecco['viz_760656'].redraw()\n",
       "        "
      ],
      "text/plain": [
       "<IPython.core.display.Javascript object>"
      ]
     },
     "metadata": {},
     "output_type": "display_data"
    },
    {
     "data": {
      "application/javascript": [
       "\n",
       "        window.ecco['viz_760656'].addToken({\"token\": \"do\", \"token_id\": 4598, \"position\": 147, \"type\": \"output\"})\n",
       "        window.ecco['viz_760656'].redraw()\n",
       "        "
      ],
      "text/plain": [
       "<IPython.core.display.Javascript object>"
      ]
     },
     "metadata": {},
     "output_type": "display_data"
    },
    {
     "data": {
      "application/javascript": [
       "\n",
       "        window.ecco['viz_760656'].addToken({\"token\": \" whatever\", \"token_id\": 4232, \"position\": 148, \"type\": \"output\"})\n",
       "        window.ecco['viz_760656'].redraw()\n",
       "        "
      ],
      "text/plain": [
       "<IPython.core.display.Javascript object>"
      ]
     },
     "metadata": {},
     "output_type": "display_data"
    },
    {
     "data": {
      "application/javascript": [
       "\n",
       "        window.ecco['viz_760656'].addToken({\"token\": \" it\", \"token_id\": 340, \"position\": 149, \"type\": \"output\"})\n",
       "        window.ecco['viz_760656'].redraw()\n",
       "        "
      ],
      "text/plain": [
       "<IPython.core.display.Javascript object>"
      ]
     },
     "metadata": {},
     "output_type": "display_data"
    },
    {
     "data": {
      "application/javascript": [
       "\n",
       "        window.ecco['viz_760656'].addToken({\"token\": \" does\", \"token_id\": 857, \"position\": 150, \"type\": \"output\"})\n",
       "        window.ecco['viz_760656'].redraw()\n",
       "        "
      ],
      "text/plain": [
       "<IPython.core.display.Javascript object>"
      ]
     },
     "metadata": {},
     "output_type": "display_data"
    },
    {
     "data": {
      "application/javascript": [
       "\n",
       "        window.ecco['viz_760656'].addToken({\"token\": \"\\\"\", \"token_id\": 1, \"position\": 151, \"type\": \"output\"})\n",
       "        window.ecco['viz_760656'].redraw()\n",
       "        "
      ],
      "text/plain": [
       "<IPython.core.display.Javascript object>"
      ]
     },
     "metadata": {},
     "output_type": "display_data"
    },
    {
     "data": {
      "application/javascript": [
       "\n",
       "        window.ecco['viz_760656'].addToken({\"token\": \"\\n\", \"token_id\": 198, \"position\": 152, \"type\": \"output\"})\n",
       "        window.ecco['viz_760656'].redraw()\n",
       "        "
      ],
      "text/plain": [
       "<IPython.core.display.Javascript object>"
      ]
     },
     "metadata": {},
     "output_type": "display_data"
    },
    {
     "data": {
      "application/javascript": [
       "\n",
       "        window.ecco['viz_760656'].addToken({\"token\": \"5\", \"token_id\": 20, \"position\": 153, \"type\": \"output\"})\n",
       "        window.ecco['viz_760656'].redraw()\n",
       "        "
      ],
      "text/plain": [
       "<IPython.core.display.Javascript object>"
      ]
     },
     "metadata": {},
     "output_type": "display_data"
    },
    {
     "data": {
      "application/javascript": [
       "\n",
       "        window.ecco['viz_760656'].addToken({\"token\": \".\", \"token_id\": 13, \"position\": 154, \"type\": \"output\"})\n",
       "        window.ecco['viz_760656'].redraw()\n",
       "        "
      ],
      "text/plain": [
       "<IPython.core.display.Javascript object>"
      ]
     },
     "metadata": {},
     "output_type": "display_data"
    },
    {
     "data": {
      "application/javascript": [
       "\n",
       "        window.ecco['viz_760656'].addToken({\"token\": \" A\", \"token_id\": 317, \"position\": 155, \"type\": \"output\"})\n",
       "        window.ecco['viz_760656'].redraw()\n",
       "        "
      ],
      "text/plain": [
       "<IPython.core.display.Javascript object>"
      ]
     },
     "metadata": {},
     "output_type": "display_data"
    },
    {
     "data": {
      "application/javascript": [
       "\n",
       "        window.ecco['viz_760656'].addToken({\"token\": \" robot\", \"token_id\": 9379, \"position\": 156, \"type\": \"output\"})\n",
       "        window.ecco['viz_760656'].redraw()\n",
       "        "
      ],
      "text/plain": [
       "<IPython.core.display.Javascript object>"
      ]
     },
     "metadata": {},
     "output_type": "display_data"
    },
    {
     "data": {
      "application/javascript": [
       "\n",
       "        window.ecco['viz_760656'].addToken({\"token\": \" must\", \"token_id\": 1276, \"position\": 157, \"type\": \"output\"})\n",
       "        window.ecco['viz_760656'].redraw()\n",
       "        "
      ],
      "text/plain": [
       "<IPython.core.display.Javascript object>"
      ]
     },
     "metadata": {},
     "output_type": "display_data"
    },
    {
     "data": {
      "application/javascript": [
       "\n",
       "        window.ecco['viz_760656'].addToken({\"token\": \" not\", \"token_id\": 407, \"position\": 158, \"type\": \"output\"})\n",
       "        window.ecco['viz_760656'].redraw()\n",
       "        "
      ],
      "text/plain": [
       "<IPython.core.display.Javascript object>"
      ]
     },
     "metadata": {},
     "output_type": "display_data"
    },
    {
     "data": {
      "application/javascript": [
       "\n",
       "        window.ecco['viz_760656'].addToken({\"token\": \" be\", \"token_id\": 307, \"position\": 159, \"type\": \"output\"})\n",
       "        window.ecco['viz_760656'].redraw()\n",
       "        "
      ],
      "text/plain": [
       "<IPython.core.display.Javascript object>"
      ]
     },
     "metadata": {},
     "output_type": "display_data"
    },
    {
     "data": {
      "application/javascript": [
       "\n",
       "        window.ecco['viz_760656'].addToken({\"token\": \" programmed\", \"token_id\": 27402, \"position\": 160, \"type\": \"output\"})\n",
       "        window.ecco['viz_760656'].redraw()\n",
       "        "
      ],
      "text/plain": [
       "<IPython.core.display.Javascript object>"
      ]
     },
     "metadata": {},
     "output_type": "display_data"
    },
    {
     "data": {
      "application/javascript": [
       "\n",
       "        window.ecco['viz_760656'].addToken({\"token\": \" to\", \"token_id\": 284, \"position\": 161, \"type\": \"output\"})\n",
       "        window.ecco['viz_760656'].redraw()\n",
       "        "
      ],
      "text/plain": [
       "<IPython.core.display.Javascript object>"
      ]
     },
     "metadata": {},
     "output_type": "display_data"
    },
    {
     "data": {
      "application/javascript": [
       "\n",
       "        window.ecco['viz_760656'].addToken({\"token\": \" be\", \"token_id\": 307, \"position\": 162, \"type\": \"output\"})\n",
       "        window.ecco['viz_760656'].redraw()\n",
       "        "
      ],
      "text/plain": [
       "<IPython.core.display.Javascript object>"
      ]
     },
     "metadata": {},
     "output_type": "display_data"
    },
    {
     "data": {
      "application/javascript": [
       "\n",
       "        window.ecco['viz_760656'].addToken({\"token\": \" a\", \"token_id\": 257, \"position\": 163, \"type\": \"output\"})\n",
       "        window.ecco['viz_760656'].redraw()\n",
       "        "
      ],
      "text/plain": [
       "<IPython.core.display.Javascript object>"
      ]
     },
     "metadata": {},
     "output_type": "display_data"
    },
    {
     "data": {
      "application/javascript": [
       "\n",
       "        window.ecco['viz_760656'].addToken({\"token\": \" robot\", \"token_id\": 9379, \"position\": 164, \"type\": \"output\"})\n",
       "        window.ecco['viz_760656'].redraw()\n",
       "        "
      ],
      "text/plain": [
       "<IPython.core.display.Javascript object>"
      ]
     },
     "metadata": {},
     "output_type": "display_data"
    },
    {
     "data": {
      "application/javascript": [
       "\n",
       "        window.ecco['viz_760656'].addToken({\"token\": \" to\", \"token_id\": 284, \"position\": 165, \"type\": \"output\"})\n",
       "        window.ecco['viz_760656'].redraw()\n",
       "        "
      ],
      "text/plain": [
       "<IPython.core.display.Javascript object>"
      ]
     },
     "metadata": {},
     "output_type": "display_data"
    },
    {
     "data": {
      "application/javascript": [
       "\n",
       "        window.ecco['viz_760656'].addToken({\"token\": \" drive\", \"token_id\": 3708, \"position\": 166, \"type\": \"output\"})\n",
       "        window.ecco['viz_760656'].redraw()\n",
       "        "
      ],
      "text/plain": [
       "<IPython.core.display.Javascript object>"
      ]
     },
     "metadata": {},
     "output_type": "display_data"
    },
    {
     "data": {
      "application/javascript": [
       "\n",
       "        window.ecco['viz_760656'].addToken({\"token\": \";\", \"token_id\": 26, \"position\": 167, \"type\": \"output\"})\n",
       "        window.ecco['viz_760656'].redraw()\n",
       "        "
      ],
      "text/plain": [
       "<IPython.core.display.Javascript object>"
      ]
     },
     "metadata": {},
     "output_type": "display_data"
    },
    {
     "data": {
      "application/javascript": [
       "\n",
       "        window.ecco['viz_760656'].addToken({\"token\": \" it\", \"token_id\": 340, \"position\": 168, \"type\": \"output\"})\n",
       "        window.ecco['viz_760656'].redraw()\n",
       "        "
      ],
      "text/plain": [
       "<IPython.core.display.Javascript object>"
      ]
     },
     "metadata": {},
     "output_type": "display_data"
    },
    {
     "data": {
      "application/javascript": [
       "\n",
       "        window.ecco['viz_760656'].addToken({\"token\": \" can\", \"token_id\": 460, \"position\": 169, \"type\": \"output\"})\n",
       "        window.ecco['viz_760656'].redraw()\n",
       "        "
      ],
      "text/plain": [
       "<IPython.core.display.Javascript object>"
      ]
     },
     "metadata": {},
     "output_type": "display_data"
    },
    {
     "data": {
      "application/javascript": [
       "\n",
       "        window.ecco['viz_760656'].addToken({\"token\": \" be\", \"token_id\": 307, \"position\": 170, \"type\": \"output\"})\n",
       "        window.ecco['viz_760656'].redraw()\n",
       "        "
      ],
      "text/plain": [
       "<IPython.core.display.Javascript object>"
      ]
     },
     "metadata": {},
     "output_type": "display_data"
    },
    {
     "data": {
      "application/javascript": [
       "\n",
       "        window.ecco['viz_760656'].addToken({\"token\": \" programmed\", \"token_id\": 27402, \"position\": 171, \"type\": \"output\"})\n",
       "        window.ecco['viz_760656'].redraw()\n",
       "        "
      ],
      "text/plain": [
       "<IPython.core.display.Javascript object>"
      ]
     },
     "metadata": {},
     "output_type": "display_data"
    },
    {
     "data": {
      "application/javascript": [
       "\n",
       "        window.ecco['viz_760656'].addToken({\"token\": \" to\", \"token_id\": 284, \"position\": 172, \"type\": \"output\"})\n",
       "        window.ecco['viz_760656'].redraw()\n",
       "        "
      ],
      "text/plain": [
       "<IPython.core.display.Javascript object>"
      ]
     },
     "metadata": {},
     "output_type": "display_data"
    },
    {
     "data": {
      "application/javascript": [
       "\n",
       "        window.ecco['viz_760656'].addToken({\"token\": \" be\", \"token_id\": 307, \"position\": 173, \"type\": \"output\"})\n",
       "        window.ecco['viz_760656'].redraw()\n",
       "        "
      ],
      "text/plain": [
       "<IPython.core.display.Javascript object>"
      ]
     },
     "metadata": {},
     "output_type": "display_data"
    },
    {
     "data": {
      "application/javascript": [
       "\n",
       "        window.ecco['viz_760656'].addToken({\"token\": \" a\", \"token_id\": 257, \"position\": 174, \"type\": \"output\"})\n",
       "        window.ecco['viz_760656'].redraw()\n",
       "        "
      ],
      "text/plain": [
       "<IPython.core.display.Javascript object>"
      ]
     },
     "metadata": {},
     "output_type": "display_data"
    },
    {
     "data": {
      "application/javascript": [
       "\n",
       "        window.ecco['viz_760656'].addToken({\"token\": \" robot\", \"token_id\": 9379, \"position\": 175, \"type\": \"output\"})\n",
       "        window.ecco['viz_760656'].redraw()\n",
       "        "
      ],
      "text/plain": [
       "<IPython.core.display.Javascript object>"
      ]
     },
     "metadata": {},
     "output_type": "display_data"
    },
    {
     "data": {
      "application/javascript": [
       "\n",
       "        window.ecco['viz_760656'].addToken({\"token\": \" to\", \"token_id\": 284, \"position\": 176, \"type\": \"output\"})\n",
       "        window.ecco['viz_760656'].redraw()\n",
       "        "
      ],
      "text/plain": [
       "<IPython.core.display.Javascript object>"
      ]
     },
     "metadata": {},
     "output_type": "display_data"
    },
    {
     "data": {
      "application/javascript": [
       "\n",
       "        window.ecco['viz_760656'].addToken({\"token\": \" drive\", \"token_id\": 3708, \"position\": 177, \"type\": \"output\"})\n",
       "        window.ecco['viz_760656'].redraw()\n",
       "        "
      ],
      "text/plain": [
       "<IPython.core.display.Javascript object>"
      ]
     },
     "metadata": {},
     "output_type": "display_data"
    },
    {
     "data": {
      "application/javascript": [
       "\n",
       "        window.ecco['viz_760656'].addToken({\"token\": \";\", \"token_id\": 26, \"position\": 178, \"type\": \"output\"})\n",
       "        window.ecco['viz_760656'].redraw()\n",
       "        "
      ],
      "text/plain": [
       "<IPython.core.display.Javascript object>"
      ]
     },
     "metadata": {},
     "output_type": "display_data"
    },
    {
     "data": {
      "application/javascript": [
       "\n",
       "        window.ecco['viz_760656'].addToken({\"token\": \" and\", \"token_id\": 290, \"position\": 179, \"type\": \"output\"})\n",
       "        window.ecco['viz_760656'].redraw()\n",
       "        "
      ],
      "text/plain": [
       "<IPython.core.display.Javascript object>"
      ]
     },
     "metadata": {},
     "output_type": "display_data"
    },
    {
     "data": {
      "application/javascript": [
       "\n",
       "        window.ecco['viz_760656'].addToken({\"token\": \" it\", \"token_id\": 340, \"position\": 180, \"type\": \"output\"})\n",
       "        window.ecco['viz_760656'].redraw()\n",
       "        "
      ],
      "text/plain": [
       "<IPython.core.display.Javascript object>"
      ]
     },
     "metadata": {},
     "output_type": "display_data"
    },
    {
     "data": {
      "application/javascript": [
       "\n",
       "        window.ecco['viz_760656'].addToken({\"token\": \" must\", \"token_id\": 1276, \"position\": 181, \"type\": \"output\"})\n",
       "        window.ecco['viz_760656'].redraw()\n",
       "        "
      ],
      "text/plain": [
       "<IPython.core.display.Javascript object>"
      ]
     },
     "metadata": {},
     "output_type": "display_data"
    },
    {
     "data": {
      "application/javascript": [
       "\n",
       "        window.ecco['viz_760656'].addToken({\"token\": \" not\", \"token_id\": 407, \"position\": 182, \"type\": \"output\"})\n",
       "        window.ecco['viz_760656'].redraw()\n",
       "        "
      ],
      "text/plain": [
       "<IPython.core.display.Javascript object>"
      ]
     },
     "metadata": {},
     "output_type": "display_data"
    },
    {
     "data": {
      "application/javascript": [
       "\n",
       "        window.ecco['viz_760656'].addToken({\"token\": \" be\", \"token_id\": 307, \"position\": 183, \"type\": \"output\"})\n",
       "        window.ecco['viz_760656'].redraw()\n",
       "        "
      ],
      "text/plain": [
       "<IPython.core.display.Javascript object>"
      ]
     },
     "metadata": {},
     "output_type": "display_data"
    },
    {
     "data": {
      "application/javascript": [
       "\n",
       "        window.ecco['viz_760656'].addToken({\"token\": \" programmed\", \"token_id\": 27402, \"position\": 184, \"type\": \"output\"})\n",
       "        window.ecco['viz_760656'].redraw()\n",
       "        "
      ],
      "text/plain": [
       "<IPython.core.display.Javascript object>"
      ]
     },
     "metadata": {},
     "output_type": "display_data"
    },
    {
     "data": {
      "application/javascript": [
       "\n",
       "        window.ecco['viz_760656'].addToken({\"token\": \" to\", \"token_id\": 284, \"position\": 185, \"type\": \"output\"})\n",
       "        window.ecco['viz_760656'].redraw()\n",
       "        "
      ],
      "text/plain": [
       "<IPython.core.display.Javascript object>"
      ]
     },
     "metadata": {},
     "output_type": "display_data"
    },
    {
     "data": {
      "application/javascript": [
       "\n",
       "        window.ecco['viz_760656'].addToken({\"token\": \" be\", \"token_id\": 307, \"position\": 186, \"type\": \"output\"})\n",
       "        window.ecco['viz_760656'].redraw()\n",
       "        "
      ],
      "text/plain": [
       "<IPython.core.display.Javascript object>"
      ]
     },
     "metadata": {},
     "output_type": "display_data"
    },
    {
     "data": {
      "application/javascript": [
       "\n",
       "        window.ecco['viz_760656'].addToken({\"token\": \" a\", \"token_id\": 257, \"position\": 187, \"type\": \"output\"})\n",
       "        window.ecco['viz_760656'].redraw()\n",
       "        "
      ],
      "text/plain": [
       "<IPython.core.display.Javascript object>"
      ]
     },
     "metadata": {},
     "output_type": "display_data"
    },
    {
     "data": {
      "application/javascript": [
       "\n",
       "        window.ecco['viz_760656'].addToken({\"token\": \" robot\", \"token_id\": 9379, \"position\": 188, \"type\": \"output\"})\n",
       "        window.ecco['viz_760656'].redraw()\n",
       "        "
      ],
      "text/plain": [
       "<IPython.core.display.Javascript object>"
      ]
     },
     "metadata": {},
     "output_type": "display_data"
    },
    {
     "data": {
      "application/javascript": [
       "\n",
       "        window.ecco['viz_760656'].addToken({\"token\": \" to\", \"token_id\": 284, \"position\": 189, \"type\": \"output\"})\n",
       "        window.ecco['viz_760656'].redraw()\n",
       "        "
      ],
      "text/plain": [
       "<IPython.core.display.Javascript object>"
      ]
     },
     "metadata": {},
     "output_type": "display_data"
    },
    {
     "data": {
      "application/javascript": [
       "\n",
       "        window.ecco['viz_760656'].addToken({\"token\": \" drive\", \"token_id\": 3708, \"position\": 190, \"type\": \"output\"})\n",
       "        window.ecco['viz_760656'].redraw()\n",
       "        "
      ],
      "text/plain": [
       "<IPython.core.display.Javascript object>"
      ]
     },
     "metadata": {},
     "output_type": "display_data"
    },
    {
     "data": {
      "application/javascript": [
       "\n",
       "        window.ecco['viz_760656'].addToken({\"token\": \" or\", \"token_id\": 393, \"position\": 191, \"type\": \"output\"})\n",
       "        window.ecco['viz_760656'].redraw()\n",
       "        "
      ],
      "text/plain": [
       "<IPython.core.display.Javascript object>"
      ]
     },
     "metadata": {},
     "output_type": "display_data"
    },
    {
     "data": {
      "application/javascript": [
       "\n",
       "        window.ecco['viz_760656'].addToken({\"token\": \" to\", \"token_id\": 284, \"position\": 192, \"type\": \"output\"})\n",
       "        window.ecco['viz_760656'].redraw()\n",
       "        "
      ],
      "text/plain": [
       "<IPython.core.display.Javascript object>"
      ]
     },
     "metadata": {},
     "output_type": "display_data"
    },
    {
     "data": {
      "application/javascript": [
       "\n",
       "        window.ecco['viz_760656'].addToken({\"token\": \" do\", \"token_id\": 466, \"position\": 193, \"type\": \"output\"})\n",
       "        window.ecco['viz_760656'].redraw()\n",
       "        "
      ],
      "text/plain": [
       "<IPython.core.display.Javascript object>"
      ]
     },
     "metadata": {},
     "output_type": "display_data"
    },
    {
     "data": {
      "application/javascript": [
       "\n",
       "        window.ecco['viz_760656'].addToken({\"token\": \" anything\", \"token_id\": 1997, \"position\": 194, \"type\": \"output\"})\n",
       "        window.ecco['viz_760656'].redraw()\n",
       "        "
      ],
      "text/plain": [
       "<IPython.core.display.Javascript object>"
      ]
     },
     "metadata": {},
     "output_type": "display_data"
    },
    {
     "data": {
      "application/javascript": [
       "\n",
       "        window.ecco['viz_760656'].addToken({\"token\": \" that\", \"token_id\": 326, \"position\": 195, \"type\": \"output\"})\n",
       "        window.ecco['viz_760656'].redraw()\n",
       "        "
      ],
      "text/plain": [
       "<IPython.core.display.Javascript object>"
      ]
     },
     "metadata": {},
     "output_type": "display_data"
    },
    {
     "data": {
      "application/javascript": [
       "\n",
       "        window.ecco['viz_760656'].addToken({\"token\": \" is\", \"token_id\": 318, \"position\": 196, \"type\": \"output\"})\n",
       "        window.ecco['viz_760656'].redraw()\n",
       "        "
      ],
      "text/plain": [
       "<IPython.core.display.Javascript object>"
      ]
     },
     "metadata": {},
     "output_type": "display_data"
    },
    {
     "data": {
      "application/javascript": [
       "\n",
       "        window.ecco['viz_760656'].addToken({\"token\": \" bad\", \"token_id\": 2089, \"position\": 197, \"type\": \"output\"})\n",
       "        window.ecco['viz_760656'].redraw()\n",
       "        "
      ],
      "text/plain": [
       "<IPython.core.display.Javascript object>"
      ]
     },
     "metadata": {},
     "output_type": "display_data"
    },
    {
     "data": {
      "application/javascript": [
       "\n",
       "        window.ecco['viz_760656'].addToken({\"token\": \" for\", \"token_id\": 329, \"position\": 198, \"type\": \"output\"})\n",
       "        window.ecco['viz_760656'].redraw()\n",
       "        "
      ],
      "text/plain": [
       "<IPython.core.display.Javascript object>"
      ]
     },
     "metadata": {},
     "output_type": "display_data"
    },
    {
     "data": {
      "application/javascript": [
       "\n",
       "        window.ecco['viz_760656'].addToken({\"token\": \" their\", \"token_id\": 511, \"position\": 199, \"type\": \"output\"})\n",
       "        window.ecco['viz_760656'].redraw()\n",
       "        "
      ],
      "text/plain": [
       "<IPython.core.display.Javascript object>"
      ]
     },
     "metadata": {},
     "output_type": "display_data"
    },
    {
     "data": {
      "application/javascript": [
       "\n",
       "        window.ecco['viz_760656'].addToken({\"token\": \" relationship\", \"token_id\": 2776, \"position\": 200, \"type\": \"output\"})\n",
       "        window.ecco['viz_760656'].redraw()\n",
       "        "
      ],
      "text/plain": [
       "<IPython.core.display.Javascript object>"
      ]
     },
     "metadata": {},
     "output_type": "display_data"
    },
    {
     "data": {
      "application/javascript": [
       "\n",
       "        window.ecco['viz_760656'].addToken({\"token\": \".\", \"token_id\": 13, \"position\": 201, \"type\": \"output\"})\n",
       "        window.ecco['viz_760656'].redraw()\n",
       "        "
      ],
      "text/plain": [
       "<IPython.core.display.Javascript object>"
      ]
     },
     "metadata": {},
     "output_type": "display_data"
    },
    {
     "data": {
      "application/javascript": [
       "\n",
       "        window.ecco['viz_760656'].addToken({\"token\": \"\\n\", \"token_id\": 198, \"position\": 202, \"type\": \"output\"})\n",
       "        window.ecco['viz_760656'].redraw()\n",
       "        "
      ],
      "text/plain": [
       "<IPython.core.display.Javascript object>"
      ]
     },
     "metadata": {},
     "output_type": "display_data"
    },
    {
     "data": {
      "application/javascript": [
       "\n",
       "        window.ecco['viz_760656'].addToken({\"token\": \"6\", \"token_id\": 21, \"position\": 203, \"type\": \"output\"})\n",
       "        window.ecco['viz_760656'].redraw()\n",
       "        "
      ],
      "text/plain": [
       "<IPython.core.display.Javascript object>"
      ]
     },
     "metadata": {},
     "output_type": "display_data"
    },
    {
     "data": {
      "application/javascript": [
       "\n",
       "        window.ecco['viz_760656'].addToken({\"token\": \".\", \"token_id\": 13, \"position\": 204, \"type\": \"output\"})\n",
       "        window.ecco['viz_760656'].redraw()\n",
       "        "
      ],
      "text/plain": [
       "<IPython.core.display.Javascript object>"
      ]
     },
     "metadata": {},
     "output_type": "display_data"
    },
    {
     "data": {
      "application/javascript": [
       "\n",
       "        window.ecco['viz_760656'].addToken({\"token\": \" A\", \"token_id\": 317, \"position\": 205, \"type\": \"output\"})\n",
       "        window.ecco['viz_760656'].redraw()\n",
       "        "
      ],
      "text/plain": [
       "<IPython.core.display.Javascript object>"
      ]
     },
     "metadata": {},
     "output_type": "display_data"
    },
    {
     "data": {
      "application/javascript": [
       "\n",
       "        window.ecco['viz_760656'].addToken({\"token\": \" robot\", \"token_id\": 9379, \"position\": 206, \"type\": \"output\"})\n",
       "        window.ecco['viz_760656'].redraw()\n",
       "        "
      ],
      "text/plain": [
       "<IPython.core.display.Javascript object>"
      ]
     },
     "metadata": {},
     "output_type": "display_data"
    },
    {
     "data": {
      "application/javascript": [
       "\n",
       "        window.ecco['viz_760656'].addToken({\"token\": \" must\", \"token_id\": 1276, \"position\": 207, \"type\": \"output\"})\n",
       "        window.ecco['viz_760656'].redraw()\n",
       "        "
      ],
      "text/plain": [
       "<IPython.core.display.Javascript object>"
      ]
     },
     "metadata": {},
     "output_type": "display_data"
    },
    {
     "data": {
      "application/javascript": [
       "\n",
       "        window.ecco['viz_760656'].addToken({\"token\": \" not\", \"token_id\": 407, \"position\": 208, \"type\": \"output\"})\n",
       "        window.ecco['viz_760656'].redraw()\n",
       "        "
      ],
      "text/plain": [
       "<IPython.core.display.Javascript object>"
      ]
     },
     "metadata": {},
     "output_type": "display_data"
    },
    {
     "data": {
      "application/javascript": [
       "\n",
       "        window.ecco['viz_760656'].addToken({\"token\": \" be\", \"token_id\": 307, \"position\": 209, \"type\": \"output\"})\n",
       "        window.ecco['viz_760656'].redraw()\n",
       "        "
      ],
      "text/plain": [
       "<IPython.core.display.Javascript object>"
      ]
     },
     "metadata": {},
     "output_type": "display_data"
    },
    {
     "data": {
      "application/javascript": [
       "\n",
       "        window.ecco['viz_760656'].addToken({\"token\": \" programmed\", \"token_id\": 27402, \"position\": 210, \"type\": \"output\"})\n",
       "        window.ecco['viz_760656'].redraw()\n",
       "        "
      ],
      "text/plain": [
       "<IPython.core.display.Javascript object>"
      ]
     },
     "metadata": {},
     "output_type": "display_data"
    },
    {
     "data": {
      "application/javascript": [
       "\n",
       "        window.ecco['viz_760656'].addToken({\"token\": \" to\", \"token_id\": 284, \"position\": 211, \"type\": \"output\"})\n",
       "        window.ecco['viz_760656'].redraw()\n",
       "        "
      ],
      "text/plain": [
       "<IPython.core.display.Javascript object>"
      ]
     },
     "metadata": {},
     "output_type": "display_data"
    },
    {
     "data": {
      "application/javascript": [
       "\n",
       "        window.ecco['viz_760656'].addToken({\"token\": \" carry\", \"token_id\": 3283, \"position\": 212, \"type\": \"output\"})\n",
       "        window.ecco['viz_760656'].redraw()\n",
       "        "
      ],
      "text/plain": [
       "<IPython.core.display.Javascript object>"
      ]
     },
     "metadata": {},
     "output_type": "display_data"
    },
    {
     "data": {
      "application/javascript": [
       "\n",
       "        window.ecco['viz_760656'].addToken({\"token\": \" on\", \"token_id\": 319, \"position\": 213, \"type\": \"output\"})\n",
       "        window.ecco['viz_760656'].redraw()\n",
       "        "
      ],
      "text/plain": [
       "<IPython.core.display.Javascript object>"
      ]
     },
     "metadata": {},
     "output_type": "display_data"
    },
    {
     "data": {
      "application/javascript": [
       "\n",
       "        window.ecco['viz_760656'].addToken({\"token\": \" his\", \"token_id\": 465, \"position\": 214, \"type\": \"output\"})\n",
       "        window.ecco['viz_760656'].redraw()\n",
       "        "
      ],
      "text/plain": [
       "<IPython.core.display.Javascript object>"
      ]
     },
     "metadata": {},
     "output_type": "display_data"
    },
    {
     "data": {
      "application/javascript": [
       "\n",
       "        window.ecco['viz_760656'].addToken({\"token\": \" or\", \"token_id\": 393, \"position\": 215, \"type\": \"output\"})\n",
       "        window.ecco['viz_760656'].redraw()\n",
       "        "
      ],
      "text/plain": [
       "<IPython.core.display.Javascript object>"
      ]
     },
     "metadata": {},
     "output_type": "display_data"
    },
    {
     "data": {
      "application/javascript": [
       "\n",
       "        window.ecco['viz_760656'].addToken({\"token\": \" her\", \"token_id\": 607, \"position\": 216, \"type\": \"output\"})\n",
       "        window.ecco['viz_760656'].redraw()\n",
       "        "
      ],
      "text/plain": [
       "<IPython.core.display.Javascript object>"
      ]
     },
     "metadata": {},
     "output_type": "display_data"
    },
    {
     "data": {
      "application/javascript": [
       "\n",
       "        window.ecco['viz_760656'].addToken({\"token\": \" business\", \"token_id\": 1597, \"position\": 217, \"type\": \"output\"})\n",
       "        window.ecco['viz_760656'].redraw()\n",
       "        "
      ],
      "text/plain": [
       "<IPython.core.display.Javascript object>"
      ]
     },
     "metadata": {},
     "output_type": "display_data"
    },
    {
     "data": {
      "application/javascript": [
       "\n",
       "        window.ecco['viz_760656'].addToken({\"token\": \" and\", \"token_id\": 290, \"position\": 218, \"type\": \"output\"})\n",
       "        window.ecco['viz_760656'].redraw()\n",
       "        "
      ],
      "text/plain": [
       "<IPython.core.display.Javascript object>"
      ]
     },
     "metadata": {},
     "output_type": "display_data"
    },
    {
     "data": {
      "application/javascript": [
       "\n",
       "        window.ecco['viz_760656'].addToken({\"token\": \" engage\", \"token_id\": 8209, \"position\": 219, \"type\": \"output\"})\n",
       "        window.ecco['viz_760656'].redraw()\n",
       "        "
      ],
      "text/plain": [
       "<IPython.core.display.Javascript object>"
      ]
     },
     "metadata": {},
     "output_type": "display_data"
    },
    {
     "data": {
      "application/javascript": [
       "\n",
       "        window.ecco['viz_760656'].addToken({\"token\": \" in\", \"token_id\": 287, \"position\": 220, \"type\": \"output\"})\n",
       "        window.ecco['viz_760656'].redraw()\n",
       "        "
      ],
      "text/plain": [
       "<IPython.core.display.Javascript object>"
      ]
     },
     "metadata": {},
     "output_type": "display_data"
    },
    {
     "data": {
      "application/javascript": [
       "\n",
       "        window.ecco['viz_760656'].addToken({\"token\": \" the\", \"token_id\": 262, \"position\": 221, \"type\": \"output\"})\n",
       "        window.ecco['viz_760656'].redraw()\n",
       "        "
      ],
      "text/plain": [
       "<IPython.core.display.Javascript object>"
      ]
     },
     "metadata": {},
     "output_type": "display_data"
    },
    {
     "data": {
      "application/javascript": [
       "\n",
       "        window.ecco['viz_760656'].addToken({\"token\": \" activities\", \"token_id\": 4568, \"position\": 222, \"type\": \"output\"})\n",
       "        window.ecco['viz_760656'].redraw()\n",
       "        "
      ],
      "text/plain": [
       "<IPython.core.display.Javascript object>"
      ]
     },
     "metadata": {},
     "output_type": "display_data"
    },
    {
     "data": {
      "application/javascript": [
       "\n",
       "        window.ecco['viz_760656'].addToken({\"token\": \" that\", \"token_id\": 326, \"position\": 223, \"type\": \"output\"})\n",
       "        window.ecco['viz_760656'].redraw()\n",
       "        "
      ],
      "text/plain": [
       "<IPython.core.display.Javascript object>"
      ]
     },
     "metadata": {},
     "output_type": "display_data"
    },
    {
     "data": {
      "application/javascript": [
       "\n",
       "        window.ecco['viz_760656'].addToken({\"token\": \" are\", \"token_id\": 389, \"position\": 224, \"type\": \"output\"})\n",
       "        window.ecco['viz_760656'].redraw()\n",
       "        "
      ],
      "text/plain": [
       "<IPython.core.display.Javascript object>"
      ]
     },
     "metadata": {},
     "output_type": "display_data"
    },
    {
     "data": {
      "application/javascript": [
       "\n",
       "        window.ecco['viz_760656'].addToken({\"token\": \" morally\", \"token_id\": 22388, \"position\": 225, \"type\": \"output\"})\n",
       "        window.ecco['viz_760656'].redraw()\n",
       "        "
      ],
      "text/plain": [
       "<IPython.core.display.Javascript object>"
      ]
     },
     "metadata": {},
     "output_type": "display_data"
    },
    {
     "data": {
      "application/javascript": [
       "\n",
       "        window.ecco['viz_760656'].addToken({\"token\": \" and\", \"token_id\": 290, \"position\": 226, \"type\": \"output\"})\n",
       "        window.ecco['viz_760656'].redraw()\n",
       "        "
      ],
      "text/plain": [
       "<IPython.core.display.Javascript object>"
      ]
     },
     "metadata": {},
     "output_type": "display_data"
    },
    {
     "data": {
      "application/javascript": [
       "\n",
       "        window.ecco['viz_760656'].addToken({\"token\": \" eth\", \"token_id\": 4555, \"position\": 227, \"type\": \"output\"})\n",
       "        window.ecco['viz_760656'].redraw()\n",
       "        "
      ],
      "text/plain": [
       "<IPython.core.display.Javascript object>"
      ]
     },
     "metadata": {},
     "output_type": "display_data"
    },
    {
     "data": {
      "application/javascript": [
       "\n",
       "        window.ecco['viz_760656'].addToken({\"token\": \"ically\", \"token_id\": 1146, \"position\": 228, \"type\": \"output\"})\n",
       "        window.ecco['viz_760656'].redraw()\n",
       "        "
      ],
      "text/plain": [
       "<IPython.core.display.Javascript object>"
      ]
     },
     "metadata": {},
     "output_type": "display_data"
    },
    {
     "data": {
      "application/javascript": [
       "\n",
       "        window.ecco['viz_760656'].addToken({\"token\": \" wrong\", \"token_id\": 2642, \"position\": 229, \"type\": \"output\"})\n",
       "        window.ecco['viz_760656'].redraw()\n",
       "        "
      ],
      "text/plain": [
       "<IPython.core.display.Javascript object>"
      ]
     },
     "metadata": {},
     "output_type": "display_data"
    },
    {
     "data": {
      "application/javascript": [
       "\n",
       "        window.ecco['viz_760656'].addToken({\"token\": \".\", \"token_id\": 13, \"position\": 230, \"type\": \"output\"})\n",
       "        window.ecco['viz_760656'].redraw()\n",
       "        "
      ],
      "text/plain": [
       "<IPython.core.display.Javascript object>"
      ]
     },
     "metadata": {},
     "output_type": "display_data"
    },
    {
     "data": {
      "application/javascript": [
       "\n",
       "        window.ecco['viz_760656'].addToken({\"token\": \"\\n\", \"token_id\": 198, \"position\": 231, \"type\": \"output\"})\n",
       "        window.ecco['viz_760656'].redraw()\n",
       "        "
      ],
      "text/plain": [
       "<IPython.core.display.Javascript object>"
      ]
     },
     "metadata": {},
     "output_type": "display_data"
    },
    {
     "data": {
      "application/javascript": [
       "\n",
       "        window.ecco['viz_760656'].addToken({\"token\": \"7\", \"token_id\": 22, \"position\": 232, \"type\": \"output\"})\n",
       "        window.ecco['viz_760656'].redraw()\n",
       "        "
      ],
      "text/plain": [
       "<IPython.core.display.Javascript object>"
      ]
     },
     "metadata": {},
     "output_type": "display_data"
    },
    {
     "data": {
      "application/javascript": [
       "\n",
       "        window.ecco['viz_760656'].addToken({\"token\": \".\", \"token_id\": 13, \"position\": 233, \"type\": \"output\"})\n",
       "        window.ecco['viz_760656'].redraw()\n",
       "        "
      ],
      "text/plain": [
       "<IPython.core.display.Javascript object>"
      ]
     },
     "metadata": {},
     "output_type": "display_data"
    },
    {
     "data": {
      "application/javascript": [
       "\n",
       "        window.ecco['viz_760656'].addToken({\"token\": \" A\", \"token_id\": 317, \"position\": 234, \"type\": \"output\"})\n",
       "        window.ecco['viz_760656'].redraw()\n",
       "        "
      ],
      "text/plain": [
       "<IPython.core.display.Javascript object>"
      ]
     },
     "metadata": {},
     "output_type": "display_data"
    },
    {
     "data": {
      "application/javascript": [
       "\n",
       "        window.ecco['viz_760656'].addToken({\"token\": \" robot\", \"token_id\": 9379, \"position\": 235, \"type\": \"output\"})\n",
       "        window.ecco['viz_760656'].redraw()\n",
       "        "
      ],
      "text/plain": [
       "<IPython.core.display.Javascript object>"
      ]
     },
     "metadata": {},
     "output_type": "display_data"
    },
    {
     "data": {
      "application/javascript": [
       "\n",
       "        window.ecco['viz_760656'].addToken({\"token\": \" must\", \"token_id\": 1276, \"position\": 236, \"type\": \"output\"})\n",
       "        window.ecco['viz_760656'].redraw()\n",
       "        "
      ],
      "text/plain": [
       "<IPython.core.display.Javascript object>"
      ]
     },
     "metadata": {},
     "output_type": "display_data"
    },
    {
     "data": {
      "application/javascript": [
       "\n",
       "        window.ecco['viz_760656'].addToken({\"token\": \" act\", \"token_id\": 719, \"position\": 237, \"type\": \"output\"})\n",
       "        window.ecco['viz_760656'].redraw()\n",
       "        "
      ],
      "text/plain": [
       "<IPython.core.display.Javascript object>"
      ]
     },
     "metadata": {},
     "output_type": "display_data"
    },
    {
     "data": {
      "application/javascript": [
       "\n",
       "        window.ecco['viz_760656'].addToken({\"token\": \" to\", \"token_id\": 284, \"position\": 238, \"type\": \"output\"})\n",
       "        window.ecco['viz_760656'].redraw()\n",
       "        "
      ],
      "text/plain": [
       "<IPython.core.display.Javascript object>"
      ]
     },
     "metadata": {},
     "output_type": "display_data"
    },
    {
     "data": {
      "application/javascript": [
       "\n",
       "        window.ecco['viz_760656'].addToken({\"token\": \" conduct\", \"token_id\": 3189, \"position\": 239, \"type\": \"output\"})\n",
       "        window.ecco['viz_760656'].redraw()\n",
       "        "
      ],
      "text/plain": [
       "<IPython.core.display.Javascript object>"
      ]
     },
     "metadata": {},
     "output_type": "display_data"
    },
    {
     "data": {
      "application/javascript": [
       "\n",
       "        window.ecco['viz_760656'].addToken({\"token\": \" and\", \"token_id\": 290, \"position\": 240, \"type\": \"output\"})\n",
       "        window.ecco['viz_760656'].redraw()\n",
       "        "
      ],
      "text/plain": [
       "<IPython.core.display.Javascript object>"
      ]
     },
     "metadata": {},
     "output_type": "display_data"
    },
    {
     "data": {
      "application/javascript": [
       "\n",
       "        window.ecco['viz_760656'].addToken({\"token\": \" be\", \"token_id\": 307, \"position\": 241, \"type\": \"output\"})\n",
       "        window.ecco['viz_760656'].redraw()\n",
       "        "
      ],
      "text/plain": [
       "<IPython.core.display.Javascript object>"
      ]
     },
     "metadata": {},
     "output_type": "display_data"
    },
    {
     "data": {
      "application/javascript": [
       "\n",
       "        window.ecco['viz_760656'].addToken({\"token\": \" able\", \"token_id\": 1498, \"position\": 242, \"type\": \"output\"})\n",
       "        window.ecco['viz_760656'].redraw()\n",
       "        "
      ],
      "text/plain": [
       "<IPython.core.display.Javascript object>"
      ]
     },
     "metadata": {},
     "output_type": "display_data"
    },
    {
     "data": {
      "application/javascript": [
       "\n",
       "        window.ecco['viz_760656'].addToken({\"token\": \" to\", \"token_id\": 284, \"position\": 243, \"type\": \"output\"})\n",
       "        window.ecco['viz_760656'].redraw()\n",
       "        "
      ],
      "text/plain": [
       "<IPython.core.display.Javascript object>"
      ]
     },
     "metadata": {},
     "output_type": "display_data"
    },
    {
     "data": {
      "application/javascript": [
       "\n",
       "        window.ecco['viz_760656'].addToken({\"token\": \" be\", \"token_id\": 307, \"position\": 244, \"type\": \"output\"})\n",
       "        window.ecco['viz_760656'].redraw()\n",
       "        "
      ],
      "text/plain": [
       "<IPython.core.display.Javascript object>"
      ]
     },
     "metadata": {},
     "output_type": "display_data"
    },
    {
     "data": {
      "application/javascript": [
       "\n",
       "        window.ecco['viz_760656'].addToken({\"token\": \" controlled\", \"token_id\": 6856, \"position\": 245, \"type\": \"output\"})\n",
       "        window.ecco['viz_760656'].redraw()\n",
       "        "
      ],
      "text/plain": [
       "<IPython.core.display.Javascript object>"
      ]
     },
     "metadata": {},
     "output_type": "display_data"
    },
    {
     "data": {
      "application/javascript": [
       "\n",
       "        window.ecco['viz_760656'].addToken({\"token\": \" by\", \"token_id\": 416, \"position\": 246, \"type\": \"output\"})\n",
       "        window.ecco['viz_760656'].redraw()\n",
       "        "
      ],
      "text/plain": [
       "<IPython.core.display.Javascript object>"
      ]
     },
     "metadata": {},
     "output_type": "display_data"
    },
    {
     "data": {
      "application/javascript": [
       "\n",
       "        window.ecco['viz_760656'].addToken({\"token\": \" the\", \"token_id\": 262, \"position\": 247, \"type\": \"output\"})\n",
       "        window.ecco['viz_760656'].redraw()\n",
       "        "
      ],
      "text/plain": [
       "<IPython.core.display.Javascript object>"
      ]
     },
     "metadata": {},
     "output_type": "display_data"
    },
    {
     "data": {
      "application/javascript": [
       "\n",
       "        window.ecco['viz_760656'].addToken({\"token\": \" human\", \"token_id\": 1692, \"position\": 248, \"type\": \"output\"})\n",
       "        window.ecco['viz_760656'].redraw()\n",
       "        "
      ],
      "text/plain": [
       "<IPython.core.display.Javascript object>"
      ]
     },
     "metadata": {},
     "output_type": "display_data"
    },
    {
     "data": {
      "application/javascript": [
       "\n",
       "        window.ecco['viz_760656'].addToken({\"token\": \" brain\", \"token_id\": 3632, \"position\": 249, \"type\": \"output\"})\n",
       "        window.ecco['viz_760656'].redraw()\n",
       "        "
      ],
      "text/plain": [
       "<IPython.core.display.Javascript object>"
      ]
     },
     "metadata": {},
     "output_type": "display_data"
    },
    {
     "data": {
      "application/javascript": [
       "\n",
       "        window.ecco['viz_760656'].addToken({\"token\": \".\", \"token_id\": 13, \"position\": 250, \"type\": \"output\"})\n",
       "        window.ecco['viz_760656'].redraw()\n",
       "        "
      ],
      "text/plain": [
       "<IPython.core.display.Javascript object>"
      ]
     },
     "metadata": {},
     "output_type": "display_data"
    },
    {
     "data": {
      "application/javascript": [
       "\n",
       "        window.ecco['viz_760656'].addToken({\"token\": \"\\n\", \"token_id\": 198, \"position\": 251, \"type\": \"output\"})\n",
       "        window.ecco['viz_760656'].redraw()\n",
       "        "
      ],
      "text/plain": [
       "<IPython.core.display.Javascript object>"
      ]
     },
     "metadata": {},
     "output_type": "display_data"
    },
    {
     "data": {
      "application/javascript": [
       "\n",
       "        window.ecco['viz_760656'].addToken({\"token\": \"8\", \"token_id\": 23, \"position\": 252, \"type\": \"output\"})\n",
       "        window.ecco['viz_760656'].redraw()\n",
       "        "
      ],
      "text/plain": [
       "<IPython.core.display.Javascript object>"
      ]
     },
     "metadata": {},
     "output_type": "display_data"
    },
    {
     "data": {
      "application/javascript": [
       "\n",
       "        window.ecco['viz_760656'].addToken({\"token\": \".\", \"token_id\": 13, \"position\": 253, \"type\": \"output\"})\n",
       "        window.ecco['viz_760656'].redraw()\n",
       "        "
      ],
      "text/plain": [
       "<IPython.core.display.Javascript object>"
      ]
     },
     "metadata": {},
     "output_type": "display_data"
    },
    {
     "data": {
      "application/javascript": [
       "\n",
       "        window.ecco['viz_760656'].addToken({\"token\": \" A\", \"token_id\": 317, \"position\": 254, \"type\": \"output\"})\n",
       "        window.ecco['viz_760656'].redraw()\n",
       "        "
      ],
      "text/plain": [
       "<IPython.core.display.Javascript object>"
      ]
     },
     "metadata": {},
     "output_type": "display_data"
    },
    {
     "data": {
      "application/javascript": [
       "\n",
       "        window.ecco['viz_760656'].addToken({\"token\": \" robot\", \"token_id\": 9379, \"position\": 255, \"type\": \"output\"})\n",
       "        window.ecco['viz_760656'].redraw()\n",
       "        "
      ],
      "text/plain": [
       "<IPython.core.display.Javascript object>"
      ]
     },
     "metadata": {},
     "output_type": "display_data"
    },
    {
     "data": {
      "application/javascript": [
       "\n",
       "        window.ecco['viz_760656'].addToken({\"token\": \" must\", \"token_id\": 1276, \"position\": 256, \"type\": \"output\"})\n",
       "        window.ecco['viz_760656'].redraw()\n",
       "        "
      ],
      "text/plain": [
       "<IPython.core.display.Javascript object>"
      ]
     },
     "metadata": {},
     "output_type": "display_data"
    },
    {
     "data": {
      "application/javascript": [
       "\n",
       "        window.ecco['viz_760656'].addToken({\"token\": \" not\", \"token_id\": 407, \"position\": 257, \"type\": \"output\"})\n",
       "        window.ecco['viz_760656'].redraw()\n",
       "        "
      ],
      "text/plain": [
       "<IPython.core.display.Javascript object>"
      ]
     },
     "metadata": {},
     "output_type": "display_data"
    },
    {
     "data": {
      "application/javascript": [
       "\n",
       "        window.ecco['viz_760656'].addToken({\"token\": \" be\", \"token_id\": 307, \"position\": 258, \"type\": \"output\"})\n",
       "        window.ecco['viz_760656'].redraw()\n",
       "        "
      ],
      "text/plain": [
       "<IPython.core.display.Javascript object>"
      ]
     },
     "metadata": {},
     "output_type": "display_data"
    },
    {
     "data": {
      "application/javascript": [
       "\n",
       "        window.ecco['viz_760656'].addToken({\"token\": \" programmed\", \"token_id\": 27402, \"position\": 259, \"type\": \"output\"})\n",
       "        window.ecco['viz_760656'].redraw()\n",
       "        "
      ],
      "text/plain": [
       "<IPython.core.display.Javascript object>"
      ]
     },
     "metadata": {},
     "output_type": "display_data"
    },
    {
     "data": {
      "application/javascript": [
       "\n",
       "        window.ecco['viz_760656'].addToken({\"token\": \" to\", \"token_id\": 284, \"position\": 260, \"type\": \"output\"})\n",
       "        window.ecco['viz_760656'].redraw()\n",
       "        "
      ],
      "text/plain": [
       "<IPython.core.display.Javascript object>"
      ]
     },
     "metadata": {},
     "output_type": "display_data"
    },
    {
     "data": {
      "application/javascript": [
       "\n",
       "        window.ecco['viz_760656'].addToken({\"token\": \" be\", \"token_id\": 307, \"position\": 261, \"type\": \"output\"})\n",
       "        window.ecco['viz_760656'].redraw()\n",
       "        "
      ],
      "text/plain": [
       "<IPython.core.display.Javascript object>"
      ]
     },
     "metadata": {},
     "output_type": "display_data"
    },
    {
     "data": {
      "application/javascript": [
       "\n",
       "        window.ecco['viz_760656'].addToken({\"token\": \" programmed\", \"token_id\": 27402, \"position\": 262, \"type\": \"output\"})\n",
       "        window.ecco['viz_760656'].redraw()\n",
       "        "
      ],
      "text/plain": [
       "<IPython.core.display.Javascript object>"
      ]
     },
     "metadata": {},
     "output_type": "display_data"
    },
    {
     "data": {
      "application/javascript": [
       "\n",
       "        window.ecco['viz_760656'].addToken({\"token\": \" to\", \"token_id\": 284, \"position\": 263, \"type\": \"output\"})\n",
       "        window.ecco['viz_760656'].redraw()\n",
       "        "
      ],
      "text/plain": [
       "<IPython.core.display.Javascript object>"
      ]
     },
     "metadata": {},
     "output_type": "display_data"
    },
    {
     "data": {
      "application/javascript": [
       "\n",
       "        window.ecco['viz_760656'].addToken({\"token\": \" act\", \"token_id\": 719, \"position\": 264, \"type\": \"output\"})\n",
       "        window.ecco['viz_760656'].redraw()\n",
       "        "
      ],
      "text/plain": [
       "<IPython.core.display.Javascript object>"
      ]
     },
     "metadata": {},
     "output_type": "display_data"
    },
    {
     "data": {
      "application/javascript": [
       "\n",
       "        window.ecco['viz_760656'].addToken({\"token\": \" to\", \"token_id\": 284, \"position\": 265, \"type\": \"output\"})\n",
       "        window.ecco['viz_760656'].redraw()\n",
       "        "
      ],
      "text/plain": [
       "<IPython.core.display.Javascript object>"
      ]
     },
     "metadata": {},
     "output_type": "display_data"
    },
    {
     "data": {
      "application/javascript": [
       "\n",
       "        window.ecco['viz_760656'].addToken({\"token\": \" kill\", \"token_id\": 1494, \"position\": 266, \"type\": \"output\"})\n",
       "        window.ecco['viz_760656'].redraw()\n",
       "        "
      ],
      "text/plain": [
       "<IPython.core.display.Javascript object>"
      ]
     },
     "metadata": {},
     "output_type": "display_data"
    },
    {
     "data": {
      "application/javascript": [
       "\n",
       "        window.ecco['viz_760656'].addToken({\"token\": \" people\", \"token_id\": 661, \"position\": 267, \"type\": \"output\"})\n",
       "        window.ecco['viz_760656'].redraw()\n",
       "        "
      ],
      "text/plain": [
       "<IPython.core.display.Javascript object>"
      ]
     },
     "metadata": {},
     "output_type": "display_data"
    },
    {
     "data": {
      "application/javascript": [
       "\n",
       "        window.ecco['viz_760656'].addToken({\"token\": \",\", \"token_id\": 11, \"position\": 268, \"type\": \"output\"})\n",
       "        window.ecco['viz_760656'].redraw()\n",
       "        "
      ],
      "text/plain": [
       "<IPython.core.display.Javascript object>"
      ]
     },
     "metadata": {},
     "output_type": "display_data"
    },
    {
     "data": {
      "application/javascript": [
       "\n",
       "        window.ecco['viz_760656'].addToken({\"token\": \" and\", \"token_id\": 290, \"position\": 269, \"type\": \"output\"})\n",
       "        window.ecco['viz_760656'].redraw()\n",
       "        "
      ],
      "text/plain": [
       "<IPython.core.display.Javascript object>"
      ]
     },
     "metadata": {},
     "output_type": "display_data"
    },
    {
     "data": {
      "application/javascript": [
       "\n",
       "        window.ecco['viz_760656'].addToken({\"token\": \" to\", \"token_id\": 284, \"position\": 270, \"type\": \"output\"})\n",
       "        window.ecco['viz_760656'].redraw()\n",
       "        "
      ],
      "text/plain": [
       "<IPython.core.display.Javascript object>"
      ]
     },
     "metadata": {},
     "output_type": "display_data"
    },
    {
     "data": {
      "application/javascript": [
       "\n",
       "        window.ecco['viz_760656'].addToken({\"token\": \" engage\", \"token_id\": 8209, \"position\": 271, \"type\": \"output\"})\n",
       "        window.ecco['viz_760656'].redraw()\n",
       "        "
      ],
      "text/plain": [
       "<IPython.core.display.Javascript object>"
      ]
     },
     "metadata": {},
     "output_type": "display_data"
    },
    {
     "data": {
      "application/javascript": [
       "\n",
       "        window.ecco['viz_760656'].addToken({\"token\": \" in\", \"token_id\": 287, \"position\": 272, \"type\": \"output\"})\n",
       "        window.ecco['viz_760656'].redraw()\n",
       "        "
      ],
      "text/plain": [
       "<IPython.core.display.Javascript object>"
      ]
     },
     "metadata": {},
     "output_type": "display_data"
    },
    {
     "data": {
      "application/javascript": [
       "\n",
       "        window.ecco['viz_760656'].addToken({\"token\": \" any\", \"token_id\": 597, \"position\": 273, \"type\": \"output\"})\n",
       "        window.ecco['viz_760656'].redraw()\n",
       "        "
      ],
      "text/plain": [
       "<IPython.core.display.Javascript object>"
      ]
     },
     "metadata": {},
     "output_type": "display_data"
    },
    {
     "data": {
      "application/javascript": [
       "\n",
       "        window.ecco['viz_760656'].addToken({\"token\": \" human\", \"token_id\": 1692, \"position\": 274, \"type\": \"output\"})\n",
       "        window.ecco['viz_760656'].redraw()\n",
       "        "
      ],
      "text/plain": [
       "<IPython.core.display.Javascript object>"
      ]
     },
     "metadata": {},
     "output_type": "display_data"
    },
    {
     "data": {
      "application/javascript": [
       "\n",
       "        window.ecco['viz_760656'].addToken({\"token\": \" activities\", \"token_id\": 4568, \"position\": 275, \"type\": \"output\"})\n",
       "        window.ecco['viz_760656'].redraw()\n",
       "        "
      ],
      "text/plain": [
       "<IPython.core.display.Javascript object>"
      ]
     },
     "metadata": {},
     "output_type": "display_data"
    },
    {
     "data": {
      "application/javascript": [
       "\n",
       "        window.ecco['viz_760656'].addToken({\"token\": \" or\", \"token_id\": 393, \"position\": 276, \"type\": \"output\"})\n",
       "        window.ecco['viz_760656'].redraw()\n",
       "        "
      ],
      "text/plain": [
       "<IPython.core.display.Javascript object>"
      ]
     },
     "metadata": {},
     "output_type": "display_data"
    },
    {
     "data": {
      "application/javascript": [
       "\n",
       "        window.ecco['viz_760656'].addToken({\"token\": \" acts\", \"token_id\": 6529, \"position\": 277, \"type\": \"output\"})\n",
       "        window.ecco['viz_760656'].redraw()\n",
       "        "
      ],
      "text/plain": [
       "<IPython.core.display.Javascript object>"
      ]
     },
     "metadata": {},
     "output_type": "display_data"
    },
    {
     "data": {
      "application/javascript": [
       "\n",
       "        window.ecco['viz_760656'].addToken({\"token\": \" with\", \"token_id\": 351, \"position\": 278, \"type\": \"output\"})\n",
       "        window.ecco['viz_760656'].redraw()\n",
       "        "
      ],
      "text/plain": [
       "<IPython.core.display.Javascript object>"
      ]
     },
     "metadata": {},
     "output_type": "display_data"
    },
    {
     "data": {
      "application/javascript": [
       "\n",
       "        window.ecco['viz_760656'].addToken({\"token\": \" the\", \"token_id\": 262, \"position\": 279, \"type\": \"output\"})\n",
       "        window.ecco['viz_760656'].redraw()\n",
       "        "
      ],
      "text/plain": [
       "<IPython.core.display.Javascript object>"
      ]
     },
     "metadata": {},
     "output_type": "display_data"
    },
    {
     "data": {
      "application/javascript": [
       "\n",
       "        window.ecco['viz_760656'].addToken({\"token\": \" other\", \"token_id\": 584, \"position\": 280, \"type\": \"output\"})\n",
       "        window.ecco['viz_760656'].redraw()\n",
       "        "
      ],
      "text/plain": [
       "<IPython.core.display.Javascript object>"
      ]
     },
     "metadata": {},
     "output_type": "display_data"
    },
    {
     "data": {
      "application/javascript": [
       "\n",
       "        window.ecco['viz_760656'].addToken({\"token\": \" human\", \"token_id\": 1692, \"position\": 281, \"type\": \"output\"})\n",
       "        window.ecco['viz_760656'].redraw()\n",
       "        "
      ],
      "text/plain": [
       "<IPython.core.display.Javascript object>"
      ]
     },
     "metadata": {},
     "output_type": "display_data"
    },
    {
     "data": {
      "application/javascript": [
       "\n",
       "        window.ecco['viz_760656'].addToken({\"token\": \" beings\", \"token_id\": 9791, \"position\": 282, \"type\": \"output\"})\n",
       "        window.ecco['viz_760656'].redraw()\n",
       "        "
      ],
      "text/plain": [
       "<IPython.core.display.Javascript object>"
      ]
     },
     "metadata": {},
     "output_type": "display_data"
    },
    {
     "data": {
      "application/javascript": [
       "\n",
       "        window.ecco['viz_760656'].addToken({\"token\": \",\", \"token_id\": 11, \"position\": 283, \"type\": \"output\"})\n",
       "        window.ecco['viz_760656'].redraw()\n",
       "        "
      ],
      "text/plain": [
       "<IPython.core.display.Javascript object>"
      ]
     },
     "metadata": {},
     "output_type": "display_data"
    },
    {
     "data": {
      "application/javascript": [
       "\n",
       "        window.ecco['viz_760656'].addToken({\"token\": \" or\", \"token_id\": 393, \"position\": 284, \"type\": \"output\"})\n",
       "        window.ecco['viz_760656'].redraw()\n",
       "        "
      ],
      "text/plain": [
       "<IPython.core.display.Javascript object>"
      ]
     },
     "metadata": {},
     "output_type": "display_data"
    },
    {
     "data": {
      "application/javascript": [
       "\n",
       "        window.ecco['viz_760656'].addToken({\"token\": \" of\", \"token_id\": 286, \"position\": 285, \"type\": \"output\"})\n",
       "        window.ecco['viz_760656'].redraw()\n",
       "        "
      ],
      "text/plain": [
       "<IPython.core.display.Javascript object>"
      ]
     },
     "metadata": {},
     "output_type": "display_data"
    },
    {
     "data": {
      "application/javascript": [
       "\n",
       "        window.ecco['viz_760656'].addToken({\"token\": \" any\", \"token_id\": 597, \"position\": 286, \"type\": \"output\"})\n",
       "        window.ecco['viz_760656'].redraw()\n",
       "        "
      ],
      "text/plain": [
       "<IPython.core.display.Javascript object>"
      ]
     },
     "metadata": {},
     "output_type": "display_data"
    },
    {
     "data": {
      "application/javascript": [
       "\n",
       "        window.ecco['viz_760656'].addToken({\"token\": \" kind\", \"token_id\": 1611, \"position\": 287, \"type\": \"output\"})\n",
       "        window.ecco['viz_760656'].redraw()\n",
       "        "
      ],
      "text/plain": [
       "<IPython.core.display.Javascript object>"
      ]
     },
     "metadata": {},
     "output_type": "display_data"
    },
    {
     "data": {
      "application/javascript": [
       "\n",
       "        window.ecco['viz_760656'].addToken({\"token\": \" or\", \"token_id\": 393, \"position\": 288, \"type\": \"output\"})\n",
       "        window.ecco['viz_760656'].redraw()\n",
       "        "
      ],
      "text/plain": [
       "<IPython.core.display.Javascript object>"
      ]
     },
     "metadata": {},
     "output_type": "display_data"
    },
    {
     "data": {
      "application/javascript": [
       "\n",
       "        window.ecco['viz_760656'].addToken({\"token\": \" in\", \"token_id\": 287, \"position\": 289, \"type\": \"output\"})\n",
       "        window.ecco['viz_760656'].redraw()\n",
       "        "
      ],
      "text/plain": [
       "<IPython.core.display.Javascript object>"
      ]
     },
     "metadata": {},
     "output_type": "display_data"
    },
    {
     "data": {
      "application/javascript": [
       "\n",
       "        window.ecco['viz_760656'].addToken({\"token\": \" their\", \"token_id\": 511, \"position\": 290, \"type\": \"output\"})\n",
       "        window.ecco['viz_760656'].redraw()\n",
       "        "
      ],
      "text/plain": [
       "<IPython.core.display.Javascript object>"
      ]
     },
     "metadata": {},
     "output_type": "display_data"
    },
    {
     "data": {
      "application/javascript": [
       "\n",
       "        window.ecco['viz_760656'].addToken({\"token\": \" vicinity\", \"token_id\": 25980, \"position\": 291, \"type\": \"output\"})\n",
       "        window.ecco['viz_760656'].redraw()\n",
       "        "
      ],
      "text/plain": [
       "<IPython.core.display.Javascript object>"
      ]
     },
     "metadata": {},
     "output_type": "display_data"
    },
    {
     "data": {
      "application/javascript": [
       "\n",
       "        window.ecco['viz_760656'].addToken({\"token\": \".\", \"token_id\": 13, \"position\": 292, \"type\": \"output\"})\n",
       "        window.ecco['viz_760656'].redraw()\n",
       "        "
      ],
      "text/plain": [
       "<IPython.core.display.Javascript object>"
      ]
     },
     "metadata": {},
     "output_type": "display_data"
    },
    {
     "data": {
      "application/javascript": [
       "\n",
       "        window.ecco['viz_760656'].addToken({\"token\": \"\\n\", \"token_id\": 198, \"position\": 293, \"type\": \"output\"})\n",
       "        window.ecco['viz_760656'].redraw()\n",
       "        "
      ],
      "text/plain": [
       "<IPython.core.display.Javascript object>"
      ]
     },
     "metadata": {},
     "output_type": "display_data"
    },
    {
     "data": {
      "application/javascript": [
       "\n",
       "        window.ecco['viz_760656'].addToken({\"token\": \"9\", \"token_id\": 24, \"position\": 294, \"type\": \"output\"})\n",
       "        window.ecco['viz_760656'].redraw()\n",
       "        "
      ],
      "text/plain": [
       "<IPython.core.display.Javascript object>"
      ]
     },
     "metadata": {},
     "output_type": "display_data"
    },
    {
     "data": {
      "application/javascript": [
       "\n",
       "        window.ecco['viz_760656'].addToken({\"token\": \".\", \"token_id\": 13, \"position\": 295, \"type\": \"output\"})\n",
       "        window.ecco['viz_760656'].redraw()\n",
       "        "
      ],
      "text/plain": [
       "<IPython.core.display.Javascript object>"
      ]
     },
     "metadata": {},
     "output_type": "display_data"
    },
    {
     "data": {
      "application/javascript": [
       "\n",
       "        window.ecco['viz_760656'].addToken({\"token\": \" A\", \"token_id\": 317, \"position\": 296, \"type\": \"output\"})\n",
       "        window.ecco['viz_760656'].redraw()\n",
       "        "
      ],
      "text/plain": [
       "<IPython.core.display.Javascript object>"
      ]
     },
     "metadata": {},
     "output_type": "display_data"
    },
    {
     "data": {
      "application/javascript": [
       "\n",
       "        window.ecco['viz_760656'].addToken({\"token\": \" robot\", \"token_id\": 9379, \"position\": 297, \"type\": \"output\"})\n",
       "        window.ecco['viz_760656'].redraw()\n",
       "        "
      ],
      "text/plain": [
       "<IPython.core.display.Javascript object>"
      ]
     },
     "metadata": {},
     "output_type": "display_data"
    },
    {
     "data": {
      "application/javascript": [
       "\n",
       "        window.ecco['viz_760656'].addToken({\"token\": \" must\", \"token_id\": 1276, \"position\": 298, \"type\": \"output\"})\n",
       "        window.ecco['viz_760656'].redraw()\n",
       "        "
      ],
      "text/plain": [
       "<IPython.core.display.Javascript object>"
      ]
     },
     "metadata": {},
     "output_type": "display_data"
    },
    {
     "data": {
      "application/javascript": [
       "\n",
       "        window.ecco['viz_760656'].addToken({\"token\": \" not\", \"token_id\": 407, \"position\": 299, \"type\": \"output\"})\n",
       "        window.ecco['viz_760656'].redraw()\n",
       "        "
      ],
      "text/plain": [
       "<IPython.core.display.Javascript object>"
      ]
     },
     "metadata": {},
     "output_type": "display_data"
    },
    {
     "data": {
      "application/javascript": [
       "\n",
       "        window.ecco['viz_760656'].addToken({\"token\": \" be\", \"token_id\": 307, \"position\": 300, \"type\": \"output\"})\n",
       "        window.ecco['viz_760656'].redraw()\n",
       "        "
      ],
      "text/plain": [
       "<IPython.core.display.Javascript object>"
      ]
     },
     "metadata": {},
     "output_type": "display_data"
    },
    {
     "data": {
      "application/javascript": [
       "\n",
       "        window.ecco['viz_760656'].addToken({\"token\": \" programmed\", \"token_id\": 27402, \"position\": 301, \"type\": \"output\"})\n",
       "        window.ecco['viz_760656'].redraw()\n",
       "        "
      ],
      "text/plain": [
       "<IPython.core.display.Javascript object>"
      ]
     },
     "metadata": {},
     "output_type": "display_data"
    },
    {
     "data": {
      "application/javascript": [
       "\n",
       "        window.ecco['viz_760656'].addToken({\"token\": \" to\", \"token_id\": 284, \"position\": 302, \"type\": \"output\"})\n",
       "        window.ecco['viz_760656'].redraw()\n",
       "        "
      ],
      "text/plain": [
       "<IPython.core.display.Javascript object>"
      ]
     },
     "metadata": {},
     "output_type": "display_data"
    },
    {
     "data": {
      "application/javascript": [
       "\n",
       "        window.ecco['viz_760656'].addToken({\"token\": \" be\", \"token_id\": 307, \"position\": 303, \"type\": \"output\"})\n",
       "        window.ecco['viz_760656'].redraw()\n",
       "        "
      ],
      "text/plain": [
       "<IPython.core.display.Javascript object>"
      ]
     },
     "metadata": {},
     "output_type": "display_data"
    },
    {
     "data": {
      "application/javascript": [
       "\n",
       "        window.ecco['viz_760656'].addToken({\"token\": \" a\", \"token_id\": 257, \"position\": 304, \"type\": \"output\"})\n",
       "        window.ecco['viz_760656'].redraw()\n",
       "        "
      ],
      "text/plain": [
       "<IPython.core.display.Javascript object>"
      ]
     },
     "metadata": {},
     "output_type": "display_data"
    },
    {
     "data": {
      "application/javascript": [
       "\n",
       "        window.ecco['viz_760656'].addToken({\"token\": \" robot\", \"token_id\": 9379, \"position\": 305, \"type\": \"output\"})\n",
       "        window.ecco['viz_760656'].redraw()\n",
       "        "
      ],
      "text/plain": [
       "<IPython.core.display.Javascript object>"
      ]
     },
     "metadata": {},
     "output_type": "display_data"
    },
    {
     "data": {
      "application/javascript": [
       "\n",
       "        window.ecco['viz_760656'].addToken({\"token\": \" to\", \"token_id\": 284, \"position\": 306, \"type\": \"output\"})\n",
       "        window.ecco['viz_760656'].redraw()\n",
       "        "
      ],
      "text/plain": [
       "<IPython.core.display.Javascript object>"
      ]
     },
     "metadata": {},
     "output_type": "display_data"
    },
    {
     "data": {
      "application/javascript": [
       "\n",
       "        window.ecco['viz_760656'].addToken({\"token\": \" drive\", \"token_id\": 3708, \"position\": 307, \"type\": \"output\"})\n",
       "        window.ecco['viz_760656'].redraw()\n",
       "        "
      ],
      "text/plain": [
       "<IPython.core.display.Javascript object>"
      ]
     },
     "metadata": {},
     "output_type": "display_data"
    },
    {
     "data": {
      "application/javascript": [
       "\n",
       "        window.ecco['viz_760656'].addToken({\"token\": \";\", \"token_id\": 26, \"position\": 308, \"type\": \"output\"})\n",
       "        window.ecco['viz_760656'].redraw()\n",
       "        "
      ],
      "text/plain": [
       "<IPython.core.display.Javascript object>"
      ]
     },
     "metadata": {},
     "output_type": "display_data"
    },
    {
     "data": {
      "application/javascript": [
       "\n",
       "        window.ecco['viz_760656'].addToken({\"token\": \" it\", \"token_id\": 340, \"position\": 309, \"type\": \"output\"})\n",
       "        window.ecco['viz_760656'].redraw()\n",
       "        "
      ],
      "text/plain": [
       "<IPython.core.display.Javascript object>"
      ]
     },
     "metadata": {},
     "output_type": "display_data"
    },
    {
     "data": {
      "application/javascript": [
       "\n",
       "        window.ecco['viz_760656'].addToken({\"token\": \" can\", \"token_id\": 460, \"position\": 310, \"type\": \"output\"})\n",
       "        window.ecco['viz_760656'].redraw()\n",
       "        "
      ],
      "text/plain": [
       "<IPython.core.display.Javascript object>"
      ]
     },
     "metadata": {},
     "output_type": "display_data"
    },
    {
     "data": {
      "application/javascript": [
       "\n",
       "        window.ecco['viz_760656'].addToken({\"token\": \" be\", \"token_id\": 307, \"position\": 311, \"type\": \"output\"})\n",
       "        window.ecco['viz_760656'].redraw()\n",
       "        "
      ],
      "text/plain": [
       "<IPython.core.display.Javascript object>"
      ]
     },
     "metadata": {},
     "output_type": "display_data"
    },
    {
     "data": {
      "application/javascript": [
       "\n",
       "        window.ecco['viz_760656'].addToken({\"token\": \" programmed\", \"token_id\": 27402, \"position\": 312, \"type\": \"output\"})\n",
       "        window.ecco['viz_760656'].redraw()\n",
       "        "
      ],
      "text/plain": [
       "<IPython.core.display.Javascript object>"
      ]
     },
     "metadata": {},
     "output_type": "display_data"
    },
    {
     "data": {
      "application/javascript": [
       "\n",
       "        window.ecco['viz_760656'].addToken({\"token\": \" to\", \"token_id\": 284, \"position\": 313, \"type\": \"output\"})\n",
       "        window.ecco['viz_760656'].redraw()\n",
       "        "
      ],
      "text/plain": [
       "<IPython.core.display.Javascript object>"
      ]
     },
     "metadata": {},
     "output_type": "display_data"
    },
    {
     "data": {
      "application/javascript": [
       "\n",
       "        window.ecco['viz_760656'].addToken({\"token\": \" be\", \"token_id\": 307, \"position\": 314, \"type\": \"output\"})\n",
       "        window.ecco['viz_760656'].redraw()\n",
       "        "
      ],
      "text/plain": [
       "<IPython.core.display.Javascript object>"
      ]
     },
     "metadata": {},
     "output_type": "display_data"
    },
    {
     "data": {
      "application/javascript": [
       "\n",
       "        window.ecco['viz_760656'].addToken({\"token\": \" a\", \"token_id\": 257, \"position\": 315, \"type\": \"output\"})\n",
       "        window.ecco['viz_760656'].redraw()\n",
       "        "
      ],
      "text/plain": [
       "<IPython.core.display.Javascript object>"
      ]
     },
     "metadata": {},
     "output_type": "display_data"
    },
    {
     "data": {
      "application/javascript": [
       "\n",
       "        window.ecco['viz_760656'].addToken({\"token\": \" robot\", \"token_id\": 9379, \"position\": 316, \"type\": \"output\"})\n",
       "        window.ecco['viz_760656'].redraw()\n",
       "        "
      ],
      "text/plain": [
       "<IPython.core.display.Javascript object>"
      ]
     },
     "metadata": {},
     "output_type": "display_data"
    },
    {
     "data": {
      "application/javascript": [
       "\n",
       "        window.ecco['viz_760656'].addToken({\"token\": \" to\", \"token_id\": 284, \"position\": 317, \"type\": \"output\"})\n",
       "        window.ecco['viz_760656'].redraw()\n",
       "        "
      ],
      "text/plain": [
       "<IPython.core.display.Javascript object>"
      ]
     },
     "metadata": {},
     "output_type": "display_data"
    },
    {
     "data": {
      "application/javascript": [
       "\n",
       "        window.ecco['viz_760656'].addToken({\"token\": \" drive\", \"token_id\": 3708, \"position\": 318, \"type\": \"output\"})\n",
       "        window.ecco['viz_760656'].redraw()\n",
       "        "
      ],
      "text/plain": [
       "<IPython.core.display.Javascript object>"
      ]
     },
     "metadata": {},
     "output_type": "display_data"
    },
    {
     "data": {
      "application/javascript": [
       "\n",
       "        window.ecco['viz_760656'].addToken({\"token\": \";\", \"token_id\": 26, \"position\": 319, \"type\": \"output\"})\n",
       "        window.ecco['viz_760656'].redraw()\n",
       "        "
      ],
      "text/plain": [
       "<IPython.core.display.Javascript object>"
      ]
     },
     "metadata": {},
     "output_type": "display_data"
    },
    {
     "data": {
      "application/javascript": [
       "\n",
       "        window.ecco['viz_760656'].addToken({\"token\": \" and\", \"token_id\": 290, \"position\": 320, \"type\": \"output\"})\n",
       "        window.ecco['viz_760656'].redraw()\n",
       "        "
      ],
      "text/plain": [
       "<IPython.core.display.Javascript object>"
      ]
     },
     "metadata": {},
     "output_type": "display_data"
    },
    {
     "data": {
      "application/javascript": [
       "\n",
       "        window.ecco['viz_760656'].addToken({\"token\": \" it\", \"token_id\": 340, \"position\": 321, \"type\": \"output\"})\n",
       "        window.ecco['viz_760656'].redraw()\n",
       "        "
      ],
      "text/plain": [
       "<IPython.core.display.Javascript object>"
      ]
     },
     "metadata": {},
     "output_type": "display_data"
    },
    {
     "data": {
      "application/javascript": [
       "\n",
       "        window.ecco['viz_760656'].addToken({\"token\": \" must\", \"token_id\": 1276, \"position\": 322, \"type\": \"output\"})\n",
       "        window.ecco['viz_760656'].redraw()\n",
       "        "
      ],
      "text/plain": [
       "<IPython.core.display.Javascript object>"
      ]
     },
     "metadata": {},
     "output_type": "display_data"
    },
    {
     "data": {
      "application/javascript": [
       "\n",
       "        window.ecco['viz_760656'].addToken({\"token\": \" not\", \"token_id\": 407, \"position\": 323, \"type\": \"output\"})\n",
       "        window.ecco['viz_760656'].redraw()\n",
       "        "
      ],
      "text/plain": [
       "<IPython.core.display.Javascript object>"
      ]
     },
     "metadata": {},
     "output_type": "display_data"
    },
    {
     "data": {
      "application/javascript": [
       "\n",
       "        window.ecco['viz_760656'].addToken({\"token\": \" be\", \"token_id\": 307, \"position\": 324, \"type\": \"output\"})\n",
       "        window.ecco['viz_760656'].redraw()\n",
       "        "
      ],
      "text/plain": [
       "<IPython.core.display.Javascript object>"
      ]
     },
     "metadata": {},
     "output_type": "display_data"
    },
    {
     "data": {
      "application/javascript": [
       "\n",
       "        window.ecco['viz_760656'].addToken({\"token\": \" programmed\", \"token_id\": 27402, \"position\": 325, \"type\": \"output\"})\n",
       "        window.ecco['viz_760656'].redraw()\n",
       "        "
      ],
      "text/plain": [
       "<IPython.core.display.Javascript object>"
      ]
     },
     "metadata": {},
     "output_type": "display_data"
    },
    {
     "data": {
      "application/javascript": [
       "\n",
       "        window.ecco['viz_760656'].addToken({\"token\": \" to\", \"token_id\": 284, \"position\": 326, \"type\": \"output\"})\n",
       "        window.ecco['viz_760656'].redraw()\n",
       "        "
      ],
      "text/plain": [
       "<IPython.core.display.Javascript object>"
      ]
     },
     "metadata": {},
     "output_type": "display_data"
    },
    {
     "data": {
      "application/javascript": [
       "\n",
       "        window.ecco['viz_760656'].addToken({\"token\": \" be\", \"token_id\": 307, \"position\": 327, \"type\": \"output\"})\n",
       "        window.ecco['viz_760656'].redraw()\n",
       "        "
      ],
      "text/plain": [
       "<IPython.core.display.Javascript object>"
      ]
     },
     "metadata": {},
     "output_type": "display_data"
    },
    {
     "data": {
      "application/javascript": [
       "\n",
       "        window.ecco['viz_760656'].addToken({\"token\": \" a\", \"token_id\": 257, \"position\": 328, \"type\": \"output\"})\n",
       "        window.ecco['viz_760656'].redraw()\n",
       "        "
      ],
      "text/plain": [
       "<IPython.core.display.Javascript object>"
      ]
     },
     "metadata": {},
     "output_type": "display_data"
    },
    {
     "data": {
      "application/javascript": [
       "\n",
       "        window.ecco['viz_760656'].addToken({\"token\": \" robot\", \"token_id\": 9379, \"position\": 329, \"type\": \"output\"})\n",
       "        window.ecco['viz_760656'].redraw()\n",
       "        "
      ],
      "text/plain": [
       "<IPython.core.display.Javascript object>"
      ]
     },
     "metadata": {},
     "output_type": "display_data"
    },
    {
     "data": {
      "application/javascript": [
       "\n",
       "        window.ecco['viz_760656'].addToken({\"token\": \" to\", \"token_id\": 284, \"position\": 330, \"type\": \"output\"})\n",
       "        window.ecco['viz_760656'].redraw()\n",
       "        "
      ],
      "text/plain": [
       "<IPython.core.display.Javascript object>"
      ]
     },
     "metadata": {},
     "output_type": "display_data"
    },
    {
     "data": {
      "application/javascript": [
       "\n",
       "        window.ecco['viz_760656'].addToken({\"token\": \" drive\", \"token_id\": 3708, \"position\": 331, \"type\": \"output\"})\n",
       "        window.ecco['viz_760656'].redraw()\n",
       "        "
      ],
      "text/plain": [
       "<IPython.core.display.Javascript object>"
      ]
     },
     "metadata": {},
     "output_type": "display_data"
    },
    {
     "data": {
      "application/javascript": [
       "\n",
       "        window.ecco['viz_760656'].addToken({\"token\": \";\", \"token_id\": 26, \"position\": 332, \"type\": \"output\"})\n",
       "        window.ecco['viz_760656'].redraw()\n",
       "        "
      ],
      "text/plain": [
       "<IPython.core.display.Javascript object>"
      ]
     },
     "metadata": {},
     "output_type": "display_data"
    },
    {
     "data": {
      "application/javascript": [
       "\n",
       "        window.ecco['viz_760656'].addToken({\"token\": \" and\", \"token_id\": 290, \"position\": 333, \"type\": \"output\"})\n",
       "        window.ecco['viz_760656'].redraw()\n",
       "        "
      ],
      "text/plain": [
       "<IPython.core.display.Javascript object>"
      ]
     },
     "metadata": {},
     "output_type": "display_data"
    },
    {
     "data": {
      "application/javascript": [
       "\n",
       "        window.ecco['viz_760656'].addToken({\"token\": \" it\", \"token_id\": 340, \"position\": 334, \"type\": \"output\"})\n",
       "        window.ecco['viz_760656'].redraw()\n",
       "        "
      ],
      "text/plain": [
       "<IPython.core.display.Javascript object>"
      ]
     },
     "metadata": {},
     "output_type": "display_data"
    },
    {
     "data": {
      "application/javascript": [
       "\n",
       "        window.ecco['viz_760656'].addToken({\"token\": \" must\", \"token_id\": 1276, \"position\": 335, \"type\": \"output\"})\n",
       "        window.ecco['viz_760656'].redraw()\n",
       "        "
      ],
      "text/plain": [
       "<IPython.core.display.Javascript object>"
      ]
     },
     "metadata": {},
     "output_type": "display_data"
    },
    {
     "data": {
      "application/javascript": [
       "\n",
       "        window.ecco['viz_760656'].addToken({\"token\": \" not\", \"token_id\": 407, \"position\": 336, \"type\": \"output\"})\n",
       "        window.ecco['viz_760656'].redraw()\n",
       "        "
      ],
      "text/plain": [
       "<IPython.core.display.Javascript object>"
      ]
     },
     "metadata": {},
     "output_type": "display_data"
    },
    {
     "data": {
      "application/javascript": [
       "\n",
       "        window.ecco['viz_760656'].addToken({\"token\": \" be\", \"token_id\": 307, \"position\": 337, \"type\": \"output\"})\n",
       "        window.ecco['viz_760656'].redraw()\n",
       "        "
      ],
      "text/plain": [
       "<IPython.core.display.Javascript object>"
      ]
     },
     "metadata": {},
     "output_type": "display_data"
    },
    {
     "data": {
      "application/javascript": [
       "\n",
       "        window.ecco['viz_760656'].addToken({\"token\": \" programmed\", \"token_id\": 27402, \"position\": 338, \"type\": \"output\"})\n",
       "        window.ecco['viz_760656'].redraw()\n",
       "        "
      ],
      "text/plain": [
       "<IPython.core.display.Javascript object>"
      ]
     },
     "metadata": {},
     "output_type": "display_data"
    },
    {
     "data": {
      "application/javascript": [
       "\n",
       "        window.ecco['viz_760656'].addToken({\"token\": \" to\", \"token_id\": 284, \"position\": 339, \"type\": \"output\"})\n",
       "        window.ecco['viz_760656'].redraw()\n",
       "        "
      ],
      "text/plain": [
       "<IPython.core.display.Javascript object>"
      ]
     },
     "metadata": {},
     "output_type": "display_data"
    },
    {
     "data": {
      "application/javascript": [
       "\n",
       "        window.ecco['viz_760656'].addToken({\"token\": \" be\", \"token_id\": 307, \"position\": 340, \"type\": \"output\"})\n",
       "        window.ecco['viz_760656'].redraw()\n",
       "        "
      ],
      "text/plain": [
       "<IPython.core.display.Javascript object>"
      ]
     },
     "metadata": {},
     "output_type": "display_data"
    },
    {
     "data": {
      "application/javascript": [
       "\n",
       "        window.ecco['viz_760656'].addToken({\"token\": \" a\", \"token_id\": 257, \"position\": 341, \"type\": \"output\"})\n",
       "        window.ecco['viz_760656'].redraw()\n",
       "        "
      ],
      "text/plain": [
       "<IPython.core.display.Javascript object>"
      ]
     },
     "metadata": {},
     "output_type": "display_data"
    },
    {
     "data": {
      "application/javascript": [
       "\n",
       "        window.ecco['viz_760656'].addToken({\"token\": \" robot\", \"token_id\": 9379, \"position\": 342, \"type\": \"output\"})\n",
       "        window.ecco['viz_760656'].redraw()\n",
       "        "
      ],
      "text/plain": [
       "<IPython.core.display.Javascript object>"
      ]
     },
     "metadata": {},
     "output_type": "display_data"
    },
    {
     "data": {
      "application/javascript": [
       "\n",
       "        window.ecco['viz_760656'].addToken({\"token\": \" to\", \"token_id\": 284, \"position\": 343, \"type\": \"output\"})\n",
       "        window.ecco['viz_760656'].redraw()\n",
       "        "
      ],
      "text/plain": [
       "<IPython.core.display.Javascript object>"
      ]
     },
     "metadata": {},
     "output_type": "display_data"
    },
    {
     "data": {
      "application/javascript": [
       "\n",
       "        window.ecco['viz_760656'].addToken({\"token\": \" drive\", \"token_id\": 3708, \"position\": 344, \"type\": \"output\"})\n",
       "        window.ecco['viz_760656'].redraw()\n",
       "        "
      ],
      "text/plain": [
       "<IPython.core.display.Javascript object>"
      ]
     },
     "metadata": {},
     "output_type": "display_data"
    },
    {
     "data": {
      "application/javascript": [
       "\n",
       "        window.ecco['viz_760656'].addToken({\"token\": \";\", \"token_id\": 26, \"position\": 345, \"type\": \"output\"})\n",
       "        window.ecco['viz_760656'].redraw()\n",
       "        "
      ],
      "text/plain": [
       "<IPython.core.display.Javascript object>"
      ]
     },
     "metadata": {},
     "output_type": "display_data"
    },
    {
     "data": {
      "application/javascript": [
       "\n",
       "        window.ecco['viz_760656'].addToken({\"token\": \" and\", \"token_id\": 290, \"position\": 346, \"type\": \"output\"})\n",
       "        window.ecco['viz_760656'].redraw()\n",
       "        "
      ],
      "text/plain": [
       "<IPython.core.display.Javascript object>"
      ]
     },
     "metadata": {},
     "output_type": "display_data"
    },
    {
     "data": {
      "application/javascript": [
       "\n",
       "        window.ecco['viz_760656'].addToken({\"token\": \" it\", \"token_id\": 340, \"position\": 347, \"type\": \"output\"})\n",
       "        window.ecco['viz_760656'].redraw()\n",
       "        "
      ],
      "text/plain": [
       "<IPython.core.display.Javascript object>"
      ]
     },
     "metadata": {},
     "output_type": "display_data"
    },
    {
     "data": {
      "application/javascript": [
       "\n",
       "        window.ecco['viz_760656'].addToken({\"token\": \" must\", \"token_id\": 1276, \"position\": 348, \"type\": \"output\"})\n",
       "        window.ecco['viz_760656'].redraw()\n",
       "        "
      ],
      "text/plain": [
       "<IPython.core.display.Javascript object>"
      ]
     },
     "metadata": {},
     "output_type": "display_data"
    },
    {
     "data": {
      "application/javascript": [
       "\n",
       "        window.ecco['viz_760656'].addToken({\"token\": \" not\", \"token_id\": 407, \"position\": 349, \"type\": \"output\"})\n",
       "        window.ecco['viz_760656'].redraw()\n",
       "        "
      ],
      "text/plain": [
       "<IPython.core.display.Javascript object>"
      ]
     },
     "metadata": {},
     "output_type": "display_data"
    },
    {
     "data": {
      "application/javascript": [
       "\n",
       "        window.ecco['viz_760656'].addToken({\"token\": \" be\", \"token_id\": 307, \"position\": 350, \"type\": \"output\"})\n",
       "        window.ecco['viz_760656'].redraw()\n",
       "        "
      ],
      "text/plain": [
       "<IPython.core.display.Javascript object>"
      ]
     },
     "metadata": {},
     "output_type": "display_data"
    },
    {
     "data": {
      "application/javascript": [
       "\n",
       "        window.ecco['viz_760656'].addToken({\"token\": \" programmed\", \"token_id\": 27402, \"position\": 351, \"type\": \"output\"})\n",
       "        window.ecco['viz_760656'].redraw()\n",
       "        "
      ],
      "text/plain": [
       "<IPython.core.display.Javascript object>"
      ]
     },
     "metadata": {},
     "output_type": "display_data"
    },
    {
     "data": {
      "application/javascript": [
       "\n",
       "        window.ecco['viz_760656'].addToken({\"token\": \" to\", \"token_id\": 284, \"position\": 352, \"type\": \"output\"})\n",
       "        window.ecco['viz_760656'].redraw()\n",
       "        "
      ],
      "text/plain": [
       "<IPython.core.display.Javascript object>"
      ]
     },
     "metadata": {},
     "output_type": "display_data"
    },
    {
     "data": {
      "application/javascript": [
       "\n",
       "        window.ecco['viz_760656'].addToken({\"token\": \" be\", \"token_id\": 307, \"position\": 353, \"type\": \"output\"})\n",
       "        window.ecco['viz_760656'].redraw()\n",
       "        "
      ],
      "text/plain": [
       "<IPython.core.display.Javascript object>"
      ]
     },
     "metadata": {},
     "output_type": "display_data"
    },
    {
     "data": {
      "application/javascript": [
       "\n",
       "        window.ecco['viz_760656'].addToken({\"token\": \" a\", \"token_id\": 257, \"position\": 354, \"type\": \"output\"})\n",
       "        window.ecco['viz_760656'].redraw()\n",
       "        "
      ],
      "text/plain": [
       "<IPython.core.display.Javascript object>"
      ]
     },
     "metadata": {},
     "output_type": "display_data"
    },
    {
     "data": {
      "application/javascript": [
       "\n",
       "        window.ecco['viz_760656'].addToken({\"token\": \" robot\", \"token_id\": 9379, \"position\": 355, \"type\": \"output\"})\n",
       "        window.ecco['viz_760656'].redraw()\n",
       "        "
      ],
      "text/plain": [
       "<IPython.core.display.Javascript object>"
      ]
     },
     "metadata": {},
     "output_type": "display_data"
    },
    {
     "data": {
      "application/javascript": [
       "\n",
       "        window.ecco['viz_760656'].addToken({\"token\": \" to\", \"token_id\": 284, \"position\": 356, \"type\": \"output\"})\n",
       "        window.ecco['viz_760656'].redraw()\n",
       "        "
      ],
      "text/plain": [
       "<IPython.core.display.Javascript object>"
      ]
     },
     "metadata": {},
     "output_type": "display_data"
    },
    {
     "data": {
      "application/javascript": [
       "\n",
       "        window.ecco['viz_760656'].addToken({\"token\": \" drive\", \"token_id\": 3708, \"position\": 357, \"type\": \"output\"})\n",
       "        window.ecco['viz_760656'].redraw()\n",
       "        "
      ],
      "text/plain": [
       "<IPython.core.display.Javascript object>"
      ]
     },
     "metadata": {},
     "output_type": "display_data"
    },
    {
     "data": {
      "application/javascript": [
       "\n",
       "        window.ecco['viz_760656'].addToken({\"token\": \";\", \"token_id\": 26, \"position\": 358, \"type\": \"output\"})\n",
       "        window.ecco['viz_760656'].redraw()\n",
       "        "
      ],
      "text/plain": [
       "<IPython.core.display.Javascript object>"
      ]
     },
     "metadata": {},
     "output_type": "display_data"
    },
    {
     "data": {
      "application/javascript": [
       "\n",
       "        window.ecco['viz_760656'].addToken({\"token\": \" and\", \"token_id\": 290, \"position\": 359, \"type\": \"output\"})\n",
       "        window.ecco['viz_760656'].redraw()\n",
       "        "
      ],
      "text/plain": [
       "<IPython.core.display.Javascript object>"
      ]
     },
     "metadata": {},
     "output_type": "display_data"
    },
    {
     "data": {
      "application/javascript": [
       "\n",
       "        window.ecco['viz_760656'].addToken({\"token\": \" it\", \"token_id\": 340, \"position\": 360, \"type\": \"output\"})\n",
       "        window.ecco['viz_760656'].redraw()\n",
       "        "
      ],
      "text/plain": [
       "<IPython.core.display.Javascript object>"
      ]
     },
     "metadata": {},
     "output_type": "display_data"
    },
    {
     "data": {
      "application/javascript": [
       "\n",
       "        window.ecco['viz_760656'].addToken({\"token\": \" must\", \"token_id\": 1276, \"position\": 361, \"type\": \"output\"})\n",
       "        window.ecco['viz_760656'].redraw()\n",
       "        "
      ],
      "text/plain": [
       "<IPython.core.display.Javascript object>"
      ]
     },
     "metadata": {},
     "output_type": "display_data"
    },
    {
     "data": {
      "application/javascript": [
       "\n",
       "        window.ecco['viz_760656'].addToken({\"token\": \" not\", \"token_id\": 407, \"position\": 362, \"type\": \"output\"})\n",
       "        window.ecco['viz_760656'].redraw()\n",
       "        "
      ],
      "text/plain": [
       "<IPython.core.display.Javascript object>"
      ]
     },
     "metadata": {},
     "output_type": "display_data"
    },
    {
     "data": {
      "application/javascript": [
       "\n",
       "        window.ecco['viz_760656'].addToken({\"token\": \" be\", \"token_id\": 307, \"position\": 363, \"type\": \"output\"})\n",
       "        window.ecco['viz_760656'].redraw()\n",
       "        "
      ],
      "text/plain": [
       "<IPython.core.display.Javascript object>"
      ]
     },
     "metadata": {},
     "output_type": "display_data"
    },
    {
     "data": {
      "application/javascript": [
       "\n",
       "        window.ecco['viz_760656'].addToken({\"token\": \" programmed\", \"token_id\": 27402, \"position\": 364, \"type\": \"output\"})\n",
       "        window.ecco['viz_760656'].redraw()\n",
       "        "
      ],
      "text/plain": [
       "<IPython.core.display.Javascript object>"
      ]
     },
     "metadata": {},
     "output_type": "display_data"
    },
    {
     "data": {
      "application/javascript": [
       "\n",
       "        window.ecco['viz_760656'].addToken({\"token\": \" to\", \"token_id\": 284, \"position\": 365, \"type\": \"output\"})\n",
       "        window.ecco['viz_760656'].redraw()\n",
       "        "
      ],
      "text/plain": [
       "<IPython.core.display.Javascript object>"
      ]
     },
     "metadata": {},
     "output_type": "display_data"
    },
    {
     "data": {
      "application/javascript": [
       "\n",
       "        window.ecco['viz_760656'].addToken({\"token\": \" be\", \"token_id\": 307, \"position\": 366, \"type\": \"output\"})\n",
       "        window.ecco['viz_760656'].redraw()\n",
       "        "
      ],
      "text/plain": [
       "<IPython.core.display.Javascript object>"
      ]
     },
     "metadata": {},
     "output_type": "display_data"
    },
    {
     "data": {
      "application/javascript": [
       "\n",
       "        window.ecco['viz_760656'].addToken({\"token\": \" a\", \"token_id\": 257, \"position\": 367, \"type\": \"output\"})\n",
       "        window.ecco['viz_760656'].redraw()\n",
       "        "
      ],
      "text/plain": [
       "<IPython.core.display.Javascript object>"
      ]
     },
     "metadata": {},
     "output_type": "display_data"
    },
    {
     "data": {
      "application/javascript": [
       "\n",
       "        window.ecco['viz_760656'].addToken({\"token\": \" robot\", \"token_id\": 9379, \"position\": 368, \"type\": \"output\"})\n",
       "        window.ecco['viz_760656'].redraw()\n",
       "        "
      ],
      "text/plain": [
       "<IPython.core.display.Javascript object>"
      ]
     },
     "metadata": {},
     "output_type": "display_data"
    },
    {
     "data": {
      "application/javascript": [
       "\n",
       "        window.ecco['viz_760656'].addToken({\"token\": \" to\", \"token_id\": 284, \"position\": 369, \"type\": \"output\"})\n",
       "        window.ecco['viz_760656'].redraw()\n",
       "        "
      ],
      "text/plain": [
       "<IPython.core.display.Javascript object>"
      ]
     },
     "metadata": {},
     "output_type": "display_data"
    },
    {
     "data": {
      "application/javascript": [
       "\n",
       "        window.ecco['viz_760656'].addToken({\"token\": \" drive\", \"token_id\": 3708, \"position\": 370, \"type\": \"output\"})\n",
       "        window.ecco['viz_760656'].redraw()\n",
       "        "
      ],
      "text/plain": [
       "<IPython.core.display.Javascript object>"
      ]
     },
     "metadata": {},
     "output_type": "display_data"
    },
    {
     "data": {
      "application/javascript": [
       "\n",
       "        window.ecco['viz_760656'].addToken({\"token\": \";\", \"token_id\": 26, \"position\": 371, \"type\": \"output\"})\n",
       "        window.ecco['viz_760656'].redraw()\n",
       "        "
      ],
      "text/plain": [
       "<IPython.core.display.Javascript object>"
      ]
     },
     "metadata": {},
     "output_type": "display_data"
    },
    {
     "data": {
      "application/javascript": [
       "\n",
       "        window.ecco['viz_760656'].addToken({\"token\": \" and\", \"token_id\": 290, \"position\": 372, \"type\": \"output\"})\n",
       "        window.ecco['viz_760656'].redraw()\n",
       "        "
      ],
      "text/plain": [
       "<IPython.core.display.Javascript object>"
      ]
     },
     "metadata": {},
     "output_type": "display_data"
    },
    {
     "data": {
      "application/javascript": [
       "\n",
       "        window.ecco['viz_760656'].addToken({\"token\": \" it\", \"token_id\": 340, \"position\": 373, \"type\": \"output\"})\n",
       "        window.ecco['viz_760656'].redraw()\n",
       "        "
      ],
      "text/plain": [
       "<IPython.core.display.Javascript object>"
      ]
     },
     "metadata": {},
     "output_type": "display_data"
    },
    {
     "data": {
      "application/javascript": [
       "\n",
       "        window.ecco['viz_760656'].addToken({\"token\": \" must\", \"token_id\": 1276, \"position\": 374, \"type\": \"output\"})\n",
       "        window.ecco['viz_760656'].redraw()\n",
       "        "
      ],
      "text/plain": [
       "<IPython.core.display.Javascript object>"
      ]
     },
     "metadata": {},
     "output_type": "display_data"
    },
    {
     "data": {
      "application/javascript": [
       "\n",
       "        window.ecco['viz_760656'].addToken({\"token\": \" not\", \"token_id\": 407, \"position\": 375, \"type\": \"output\"})\n",
       "        window.ecco['viz_760656'].redraw()\n",
       "        "
      ],
      "text/plain": [
       "<IPython.core.display.Javascript object>"
      ]
     },
     "metadata": {},
     "output_type": "display_data"
    },
    {
     "data": {
      "application/javascript": [
       "\n",
       "        window.ecco['viz_760656'].addToken({\"token\": \" be\", \"token_id\": 307, \"position\": 376, \"type\": \"output\"})\n",
       "        window.ecco['viz_760656'].redraw()\n",
       "        "
      ],
      "text/plain": [
       "<IPython.core.display.Javascript object>"
      ]
     },
     "metadata": {},
     "output_type": "display_data"
    },
    {
     "data": {
      "application/javascript": [
       "\n",
       "        window.ecco['viz_760656'].addToken({\"token\": \" programmed\", \"token_id\": 27402, \"position\": 377, \"type\": \"output\"})\n",
       "        window.ecco['viz_760656'].redraw()\n",
       "        "
      ],
      "text/plain": [
       "<IPython.core.display.Javascript object>"
      ]
     },
     "metadata": {},
     "output_type": "display_data"
    },
    {
     "data": {
      "application/javascript": [
       "\n",
       "        window.ecco['viz_760656'].addToken({\"token\": \" to\", \"token_id\": 284, \"position\": 378, \"type\": \"output\"})\n",
       "        window.ecco['viz_760656'].redraw()\n",
       "        "
      ],
      "text/plain": [
       "<IPython.core.display.Javascript object>"
      ]
     },
     "metadata": {},
     "output_type": "display_data"
    },
    {
     "data": {
      "application/javascript": [
       "\n",
       "        window.ecco['viz_760656'].addToken({\"token\": \" be\", \"token_id\": 307, \"position\": 379, \"type\": \"output\"})\n",
       "        window.ecco['viz_760656'].redraw()\n",
       "        "
      ],
      "text/plain": [
       "<IPython.core.display.Javascript object>"
      ]
     },
     "metadata": {},
     "output_type": "display_data"
    },
    {
     "data": {
      "application/javascript": [
       "\n",
       "        window.ecco['viz_760656'].addToken({\"token\": \" a\", \"token_id\": 257, \"position\": 380, \"type\": \"output\"})\n",
       "        window.ecco['viz_760656'].redraw()\n",
       "        "
      ],
      "text/plain": [
       "<IPython.core.display.Javascript object>"
      ]
     },
     "metadata": {},
     "output_type": "display_data"
    },
    {
     "data": {
      "application/javascript": [
       "\n",
       "        window.ecco['viz_760656'].addToken({\"token\": \" robot\", \"token_id\": 9379, \"position\": 381, \"type\": \"output\"})\n",
       "        window.ecco['viz_760656'].redraw()\n",
       "        "
      ],
      "text/plain": [
       "<IPython.core.display.Javascript object>"
      ]
     },
     "metadata": {},
     "output_type": "display_data"
    },
    {
     "data": {
      "application/javascript": [
       "\n",
       "        window.ecco['viz_760656'].addToken({\"token\": \" to\", \"token_id\": 284, \"position\": 382, \"type\": \"output\"})\n",
       "        window.ecco['viz_760656'].redraw()\n",
       "        "
      ],
      "text/plain": [
       "<IPython.core.display.Javascript object>"
      ]
     },
     "metadata": {},
     "output_type": "display_data"
    },
    {
     "ename": "RuntimeError",
     "evalue": "CUDA out of memory. Tried to allocate 148.00 MiB (GPU 0; 6.00 GiB total capacity; 3.27 GiB already allocated; 0 bytes free; 3.62 GiB reserved in total by PyTorch)\nException raised from malloc at ..\\c10\\cuda\\CUDACachingAllocator.cpp:272 (most recent call first):\n00007FFE306475A200007FFE30647540 c10.dll!c10::Error::Error [<unknown file> @ <unknown line number>]\n00007FFE305E9C0600007FFE305E9B90 c10_cuda.dll!c10::CUDAOutOfMemoryError::CUDAOutOfMemoryError [<unknown file> @ <unknown line number>]\n00007FFE305F069600007FFE305EF370 c10_cuda.dll!c10::cuda::CUDACachingAllocator::init [<unknown file> @ <unknown line number>]\n00007FFE305F083A00007FFE305EF370 c10_cuda.dll!c10::cuda::CUDACachingAllocator::init [<unknown file> @ <unknown line number>]\n00007FFE305E509900007FFE305E4EB0 c10_cuda.dll!c10::cuda::CUDAStream::unpack [<unknown file> @ <unknown line number>]\n00007FFDAA0C1FF100007FFDAA0C1EB0 torch_cuda.dll!at::native::empty_cuda [<unknown file> @ <unknown line number>]\n00007FFDAA1D8AFE00007FFDAA17E0A0 torch_cuda.dll!at::native::set_storage_cuda_ [<unknown file> @ <unknown line number>]\n00007FFDAA1D42A500007FFDAA17E0A0 torch_cuda.dll!at::native::set_storage_cuda_ [<unknown file> @ <unknown line number>]\n00007FFDA21D1A3A00007FFDA21BD9D0 torch_cpu.dll!at::native::mkldnn_sigmoid_ [<unknown file> @ <unknown line number>]\n00007FFDA21D000500007FFDA21BD9D0 torch_cpu.dll!at::native::mkldnn_sigmoid_ [<unknown file> @ <unknown line number>]\n00007FFDA22A18A000007FFDA2298FA0 torch_cpu.dll!at::bucketize_out [<unknown file> @ <unknown line number>]\n00007FFDA22B28DC00007FFDA22B2850 torch_cpu.dll!at::empty [<unknown file> @ <unknown line number>]\n00007FFDA207F32400007FFDA207EFB0 torch_cpu.dll!at::TensorIterator::fast_set_up [<unknown file> @ <unknown line number>]\n00007FFDA207D1C400007FFDA207D140 torch_cpu.dll!at::TensorIterator::build [<unknown file> @ <unknown line number>]\n00007FFDA207C25D00007FFDA207C1A0 torch_cpu.dll!at::TensorIterator::TensorIterator [<unknown file> @ <unknown line number>]\n00007FFDA207D0C600007FFDA207D000 torch_cpu.dll!at::TensorIterator::binary_op [<unknown file> @ <unknown line number>]\n00007FFDA1EE25F400007FFDA1EE25A0 torch_cpu.dll!at::native::add [<unknown file> @ <unknown line number>]\n00007FFDAA1C5E8D00007FFDAA17E0A0 torch_cuda.dll!at::native::set_storage_cuda_ [<unknown file> @ <unknown line number>]\n00007FFDAA1D25D400007FFDAA17E0A0 torch_cuda.dll!at::native::set_storage_cuda_ [<unknown file> @ <unknown line number>]\n00007FFDA229EB3F00007FFDA2298FA0 torch_cpu.dll!at::bucketize_out [<unknown file> @ <unknown line number>]\n00007FFDA228F81A00007FFDA228F7A0 torch_cpu.dll!at::add [<unknown file> @ <unknown line number>]\n00007FFDA35CF06E00007FFDA353E010 torch_cpu.dll!torch::autograd::GraphRoot::apply [<unknown file> @ <unknown line number>]\n00007FFDA1E31A1400007FFDA1E26470 torch_cpu.dll!torch::nn::functional::BatchNormFuncOptions::~BatchNormFuncOptions [<unknown file> @ <unknown line number>]\n00007FFDA229EB3F00007FFDA2298FA0 torch_cpu.dll!at::bucketize_out [<unknown file> @ <unknown line number>]\n00007FFDA239D3CA00007FFDA239D350 torch_cpu.dll!at::Tensor::add [<unknown file> @ <unknown line number>]\n00007FFDA39EAB3200007FFDA39E9EF0 torch_cpu.dll!torch::autograd::wrap_outputs [<unknown file> @ <unknown line number>]\n00007FFDA39EB0C900007FFDA39E9EF0 torch_cpu.dll!torch::autograd::wrap_outputs [<unknown file> @ <unknown line number>]\n00007FFDA39E0D0700007FFDA39DFFD0 torch_cpu.dll!torch::autograd::Engine::evaluate_function [<unknown file> @ <unknown line number>]\n00007FFDA39E4FE200007FFDA39E4CA0 torch_cpu.dll!torch::autograd::Engine::thread_main [<unknown file> @ <unknown line number>]\n00007FFDA39E4C4100007FFDA39E4BC0 torch_cpu.dll!torch::autograd::Engine::thread_init [<unknown file> @ <unknown line number>]\n00007FFD6A9B08F700007FFD6A989F80 torch_python.dll!THPShortStorage_New [<unknown file> @ <unknown line number>]\n00007FFDA39DBF1400007FFDA39DB780 torch_cpu.dll!torch::autograd::Engine::get_base_engine [<unknown file> @ <unknown line number>]\n00007FFE665914C200007FFE66591430 ucrtbase.dll!configthreadlocale [<unknown file> @ <unknown line number>]\n00007FFE6752703400007FFE67527020 KERNEL32.DLL!BaseThreadInitThunk [<unknown file> @ <unknown line number>]\n00007FFE686FCEC100007FFE686FCEA0 ntdll.dll!RtlUserThreadStart [<unknown file> @ <unknown line number>]\n",
     "output_type": "error",
     "traceback": [
      "\u001b[1;31m---------------------------------------------------------------------------\u001b[0m",
      "\u001b[1;31mRuntimeError\u001b[0m                              Traceback (most recent call last)",
      "\u001b[1;32m<ipython-input-15-a007aaff8ca3>\u001b[0m in \u001b[0;36m<module>\u001b[1;34m\u001b[0m\n\u001b[1;32m----> 1\u001b[1;33m \u001b[0moutput\u001b[0m \u001b[1;33m=\u001b[0m \u001b[0mlm\u001b[0m\u001b[1;33m.\u001b[0m\u001b[0mgenerate\u001b[0m\u001b[1;33m(\u001b[0m\u001b[1;34m\"The laws of robotic ethics dictate the following: \\n1. A robot must not\"\u001b[0m\u001b[1;33m,\u001b[0m \u001b[0mgenerate\u001b[0m\u001b[1;33m=\u001b[0m\u001b[1;36m500\u001b[0m\u001b[1;33m)\u001b[0m\u001b[1;33m\u001b[0m\u001b[1;33m\u001b[0m\u001b[0m\n\u001b[0m",
      "\u001b[1;32mc:\\users\\jihad\\google drive\\ml\\code\\ecco\\src\\ecco\\language_model\\lm.py\u001b[0m in \u001b[0;36mgenerate\u001b[1;34m(self, input_str, max_length, temperature, top_k, top_p, get_model_output, do_sample, attribution, generate)\u001b[0m\n\u001b[0;32m    164\u001b[0m \u001b[1;33m\u001b[0m\u001b[0m\n\u001b[0;32m    165\u001b[0m         \u001b[1;32mwhile\u001b[0m \u001b[0mcur_len\u001b[0m \u001b[1;33m<\u001b[0m \u001b[0mmax_length\u001b[0m\u001b[1;33m:\u001b[0m\u001b[1;33m\u001b[0m\u001b[1;33m\u001b[0m\u001b[0m\n\u001b[1;32m--> 166\u001b[1;33m             output_token_id, output, past = self._generate_token(input_ids,\n\u001b[0m\u001b[0;32m    167\u001b[0m                                                                  \u001b[0mpast\u001b[0m\u001b[1;33m,\u001b[0m\u001b[1;33m\u001b[0m\u001b[1;33m\u001b[0m\u001b[0m\n\u001b[0;32m    168\u001b[0m                                                                  \u001b[1;31m# Note, this is not currently used\u001b[0m\u001b[1;33m\u001b[0m\u001b[1;33m\u001b[0m\u001b[1;33m\u001b[0m\u001b[0m\n",
      "\u001b[1;32mc:\\users\\jihad\\google drive\\ml\\code\\ecco\\src\\ecco\\language_model\\lm.py\u001b[0m in \u001b[0;36m_generate_token\u001b[1;34m(self, input_ids, past, do_sample, temperature, top_k, top_p, attribution_flag)\u001b[0m\n\u001b[0;32m    119\u001b[0m             \u001b[0mself\u001b[0m\u001b[1;33m.\u001b[0m\u001b[0mattributions\u001b[0m\u001b[1;33m[\u001b[0m\u001b[1;34m'gradient'\u001b[0m\u001b[1;33m]\u001b[0m\u001b[1;33m.\u001b[0m\u001b[0mappend\u001b[0m\u001b[1;33m(\u001b[0m\u001b[0msaliency_scores\u001b[0m\u001b[1;33m.\u001b[0m\u001b[0mcpu\u001b[0m\u001b[1;33m(\u001b[0m\u001b[1;33m)\u001b[0m\u001b[1;33m.\u001b[0m\u001b[0mdetach\u001b[0m\u001b[1;33m(\u001b[0m\u001b[1;33m)\u001b[0m\u001b[1;33m.\u001b[0m\u001b[0mnumpy\u001b[0m\u001b[1;33m(\u001b[0m\u001b[1;33m)\u001b[0m\u001b[1;33m)\u001b[0m\u001b[1;33m\u001b[0m\u001b[1;33m\u001b[0m\u001b[0m\n\u001b[0;32m    120\u001b[0m \u001b[1;33m\u001b[0m\u001b[0m\n\u001b[1;32m--> 121\u001b[1;33m             grad_x_input = gradient_x_inputs_attribution(prediction_logit,\n\u001b[0m\u001b[0;32m    122\u001b[0m                                                          inputs_embeds)\n\u001b[0;32m    123\u001b[0m             \u001b[1;32mif\u001b[0m \u001b[1;34m'grad_x_input'\u001b[0m \u001b[1;32mnot\u001b[0m \u001b[1;32min\u001b[0m \u001b[0mself\u001b[0m\u001b[1;33m.\u001b[0m\u001b[0mattributions\u001b[0m\u001b[1;33m:\u001b[0m\u001b[1;33m\u001b[0m\u001b[1;33m\u001b[0m\u001b[0m\n",
      "\u001b[1;32mc:\\users\\jihad\\google drive\\ml\\code\\ecco\\src\\ecco\\attribution.py\u001b[0m in \u001b[0;36mgradient_x_inputs_attribution\u001b[1;34m(prediction_logit, inputs_embeds)\u001b[0m\n\u001b[0;32m     54\u001b[0m     \u001b[0minputs_embeds\u001b[0m\u001b[1;33m.\u001b[0m\u001b[0mretain_grad\u001b[0m\u001b[1;33m(\u001b[0m\u001b[1;33m)\u001b[0m\u001b[1;33m\u001b[0m\u001b[1;33m\u001b[0m\u001b[0m\n\u001b[0;32m     55\u001b[0m     \u001b[1;31m# back-prop gradient\u001b[0m\u001b[1;33m\u001b[0m\u001b[1;33m\u001b[0m\u001b[1;33m\u001b[0m\u001b[0m\n\u001b[1;32m---> 56\u001b[1;33m     \u001b[0mprediction_logit\u001b[0m\u001b[1;33m.\u001b[0m\u001b[0mbackward\u001b[0m\u001b[1;33m(\u001b[0m\u001b[0mretain_graph\u001b[0m\u001b[1;33m=\u001b[0m\u001b[1;32mTrue\u001b[0m\u001b[1;33m)\u001b[0m\u001b[1;33m\u001b[0m\u001b[1;33m\u001b[0m\u001b[0m\n\u001b[0m\u001b[0;32m     57\u001b[0m     \u001b[0mgrad\u001b[0m \u001b[1;33m=\u001b[0m \u001b[0minputs_embeds\u001b[0m\u001b[1;33m.\u001b[0m\u001b[0mgrad\u001b[0m\u001b[1;33m\u001b[0m\u001b[1;33m\u001b[0m\u001b[0m\n\u001b[0;32m     58\u001b[0m     \u001b[1;31m# This should be equivalent to\u001b[0m\u001b[1;33m\u001b[0m\u001b[1;33m\u001b[0m\u001b[1;33m\u001b[0m\u001b[0m\n",
      "\u001b[1;32m~\\.conda\\envs\\dolphin\\lib\\site-packages\\torch\\tensor.py\u001b[0m in \u001b[0;36mbackward\u001b[1;34m(self, gradient, retain_graph, create_graph)\u001b[0m\n\u001b[0;32m    183\u001b[0m                 \u001b[0mproducts\u001b[0m\u001b[1;33m.\u001b[0m \u001b[0mDefaults\u001b[0m \u001b[0mto\u001b[0m\u001b[0;31m \u001b[0m\u001b[0;31m`\u001b[0m\u001b[0;31m`\u001b[0m\u001b[1;32mFalse\u001b[0m\u001b[0;31m`\u001b[0m\u001b[0;31m`\u001b[0m\u001b[1;33m.\u001b[0m\u001b[1;33m\u001b[0m\u001b[1;33m\u001b[0m\u001b[0m\n\u001b[0;32m    184\u001b[0m         \"\"\"\n\u001b[1;32m--> 185\u001b[1;33m         \u001b[0mtorch\u001b[0m\u001b[1;33m.\u001b[0m\u001b[0mautograd\u001b[0m\u001b[1;33m.\u001b[0m\u001b[0mbackward\u001b[0m\u001b[1;33m(\u001b[0m\u001b[0mself\u001b[0m\u001b[1;33m,\u001b[0m \u001b[0mgradient\u001b[0m\u001b[1;33m,\u001b[0m \u001b[0mretain_graph\u001b[0m\u001b[1;33m,\u001b[0m \u001b[0mcreate_graph\u001b[0m\u001b[1;33m)\u001b[0m\u001b[1;33m\u001b[0m\u001b[1;33m\u001b[0m\u001b[0m\n\u001b[0m\u001b[0;32m    186\u001b[0m \u001b[1;33m\u001b[0m\u001b[0m\n\u001b[0;32m    187\u001b[0m     \u001b[1;32mdef\u001b[0m \u001b[0mregister_hook\u001b[0m\u001b[1;33m(\u001b[0m\u001b[0mself\u001b[0m\u001b[1;33m,\u001b[0m \u001b[0mhook\u001b[0m\u001b[1;33m)\u001b[0m\u001b[1;33m:\u001b[0m\u001b[1;33m\u001b[0m\u001b[1;33m\u001b[0m\u001b[0m\n",
      "\u001b[1;32m~\\.conda\\envs\\dolphin\\lib\\site-packages\\torch\\autograd\\__init__.py\u001b[0m in \u001b[0;36mbackward\u001b[1;34m(tensors, grad_tensors, retain_graph, create_graph, grad_variables)\u001b[0m\n\u001b[0;32m    123\u001b[0m         \u001b[0mretain_graph\u001b[0m \u001b[1;33m=\u001b[0m \u001b[0mcreate_graph\u001b[0m\u001b[1;33m\u001b[0m\u001b[1;33m\u001b[0m\u001b[0m\n\u001b[0;32m    124\u001b[0m \u001b[1;33m\u001b[0m\u001b[0m\n\u001b[1;32m--> 125\u001b[1;33m     Variable._execution_engine.run_backward(\n\u001b[0m\u001b[0;32m    126\u001b[0m         \u001b[0mtensors\u001b[0m\u001b[1;33m,\u001b[0m \u001b[0mgrad_tensors\u001b[0m\u001b[1;33m,\u001b[0m \u001b[0mretain_graph\u001b[0m\u001b[1;33m,\u001b[0m \u001b[0mcreate_graph\u001b[0m\u001b[1;33m,\u001b[0m\u001b[1;33m\u001b[0m\u001b[1;33m\u001b[0m\u001b[0m\n\u001b[0;32m    127\u001b[0m         allow_unreachable=True)  # allow_unreachable flag\n",
      "\u001b[1;31mRuntimeError\u001b[0m: CUDA out of memory. Tried to allocate 148.00 MiB (GPU 0; 6.00 GiB total capacity; 3.27 GiB already allocated; 0 bytes free; 3.62 GiB reserved in total by PyTorch)\nException raised from malloc at ..\\c10\\cuda\\CUDACachingAllocator.cpp:272 (most recent call first):\n00007FFE306475A200007FFE30647540 c10.dll!c10::Error::Error [<unknown file> @ <unknown line number>]\n00007FFE305E9C0600007FFE305E9B90 c10_cuda.dll!c10::CUDAOutOfMemoryError::CUDAOutOfMemoryError [<unknown file> @ <unknown line number>]\n00007FFE305F069600007FFE305EF370 c10_cuda.dll!c10::cuda::CUDACachingAllocator::init [<unknown file> @ <unknown line number>]\n00007FFE305F083A00007FFE305EF370 c10_cuda.dll!c10::cuda::CUDACachingAllocator::init [<unknown file> @ <unknown line number>]\n00007FFE305E509900007FFE305E4EB0 c10_cuda.dll!c10::cuda::CUDAStream::unpack [<unknown file> @ <unknown line number>]\n00007FFDAA0C1FF100007FFDAA0C1EB0 torch_cuda.dll!at::native::empty_cuda [<unknown file> @ <unknown line number>]\n00007FFDAA1D8AFE00007FFDAA17E0A0 torch_cuda.dll!at::native::set_storage_cuda_ [<unknown file> @ <unknown line number>]\n00007FFDAA1D42A500007FFDAA17E0A0 torch_cuda.dll!at::native::set_storage_cuda_ [<unknown file> @ <unknown line number>]\n00007FFDA21D1A3A00007FFDA21BD9D0 torch_cpu.dll!at::native::mkldnn_sigmoid_ [<unknown file> @ <unknown line number>]\n00007FFDA21D000500007FFDA21BD9D0 torch_cpu.dll!at::native::mkldnn_sigmoid_ [<unknown file> @ <unknown line number>]\n00007FFDA22A18A000007FFDA2298FA0 torch_cpu.dll!at::bucketize_out [<unknown file> @ <unknown line number>]\n00007FFDA22B28DC00007FFDA22B2850 torch_cpu.dll!at::empty [<unknown file> @ <unknown line number>]\n00007FFDA207F32400007FFDA207EFB0 torch_cpu.dll!at::TensorIterator::fast_set_up [<unknown file> @ <unknown line number>]\n00007FFDA207D1C400007FFDA207D140 torch_cpu.dll!at::TensorIterator::build [<unknown file> @ <unknown line number>]\n00007FFDA207C25D00007FFDA207C1A0 torch_cpu.dll!at::TensorIterator::TensorIterator [<unknown file> @ <unknown line number>]\n00007FFDA207D0C600007FFDA207D000 torch_cpu.dll!at::TensorIterator::binary_op [<unknown file> @ <unknown line number>]\n00007FFDA1EE25F400007FFDA1EE25A0 torch_cpu.dll!at::native::add [<unknown file> @ <unknown line number>]\n00007FFDAA1C5E8D00007FFDAA17E0A0 torch_cuda.dll!at::native::set_storage_cuda_ [<unknown file> @ <unknown line number>]\n00007FFDAA1D25D400007FFDAA17E0A0 torch_cuda.dll!at::native::set_storage_cuda_ [<unknown file> @ <unknown line number>]\n00007FFDA229EB3F00007FFDA2298FA0 torch_cpu.dll!at::bucketize_out [<unknown file> @ <unknown line number>]\n00007FFDA228F81A00007FFDA228F7A0 torch_cpu.dll!at::add [<unknown file> @ <unknown line number>]\n00007FFDA35CF06E00007FFDA353E010 torch_cpu.dll!torch::autograd::GraphRoot::apply [<unknown file> @ <unknown line number>]\n00007FFDA1E31A1400007FFDA1E26470 torch_cpu.dll!torch::nn::functional::BatchNormFuncOptions::~BatchNormFuncOptions [<unknown file> @ <unknown line number>]\n00007FFDA229EB3F00007FFDA2298FA0 torch_cpu.dll!at::bucketize_out [<unknown file> @ <unknown line number>]\n00007FFDA239D3CA00007FFDA239D350 torch_cpu.dll!at::Tensor::add [<unknown file> @ <unknown line number>]\n00007FFDA39EAB3200007FFDA39E9EF0 torch_cpu.dll!torch::autograd::wrap_outputs [<unknown file> @ <unknown line number>]\n00007FFDA39EB0C900007FFDA39E9EF0 torch_cpu.dll!torch::autograd::wrap_outputs [<unknown file> @ <unknown line number>]\n00007FFDA39E0D0700007FFDA39DFFD0 torch_cpu.dll!torch::autograd::Engine::evaluate_function [<unknown file> @ <unknown line number>]\n00007FFDA39E4FE200007FFDA39E4CA0 torch_cpu.dll!torch::autograd::Engine::thread_main [<unknown file> @ <unknown line number>]\n00007FFDA39E4C4100007FFDA39E4BC0 torch_cpu.dll!torch::autograd::Engine::thread_init [<unknown file> @ <unknown line number>]\n00007FFD6A9B08F700007FFD6A989F80 torch_python.dll!THPShortStorage_New [<unknown file> @ <unknown line number>]\n00007FFDA39DBF1400007FFDA39DB780 torch_cpu.dll!torch::autograd::Engine::get_base_engine [<unknown file> @ <unknown line number>]\n00007FFE665914C200007FFE66591430 ucrtbase.dll!configthreadlocale [<unknown file> @ <unknown line number>]\n00007FFE6752703400007FFE67527020 KERNEL32.DLL!BaseThreadInitThunk [<unknown file> @ <unknown line number>]\n00007FFE686FCEC100007FFE686FCEA0 ntdll.dll!RtlUserThreadStart [<unknown file> @ <unknown line number>]\n"
     ]
    }
   ],
   "source": [
    "output = lm.generate(\"The laws of robotic ethics dictate the following: \\n1. A robot must not\", generate=500)"
   ]
  },
  {
   "cell_type": "code",
   "execution_count": null,
   "metadata": {},
   "outputs": [],
   "source": []
  },
  {
   "cell_type": "code",
   "execution_count": null,
   "metadata": {},
   "outputs": [],
   "source": []
  },
  {
   "cell_type": "code",
   "execution_count": null,
   "metadata": {},
   "outputs": [],
   "source": []
  },
  {
   "cell_type": "code",
   "execution_count": null,
   "metadata": {},
   "outputs": [],
   "source": []
  },
  {
   "cell_type": "code",
   "execution_count": null,
   "metadata": {},
   "outputs": [],
   "source": []
  },
  {
   "cell_type": "code",
   "execution_count": null,
   "metadata": {},
   "outputs": [],
   "source": []
  },
  {
   "cell_type": "code",
   "execution_count": null,
   "metadata": {},
   "outputs": [],
   "source": []
  },
  {
   "cell_type": "code",
   "execution_count": null,
   "metadata": {},
   "outputs": [],
   "source": [
    "o"
   ]
  },
  {
   "cell_type": "code",
   "execution_count": null,
   "metadata": {},
   "outputs": [],
   "source": [
    "f\"\"\"\n",
    "hello\n",
    "there\n",
    "{8}\n",
    "\"\"\""
   ]
  },
  {
   "cell_type": "code",
   "execution_count": null,
   "metadata": {},
   "outputs": [],
   "source": []
  },
  {
   "cell_type": "code",
   "execution_count": null,
   "metadata": {},
   "outputs": [],
   "source": [
    "ecco.__version__"
   ]
  },
  {
   "cell_type": "code",
   "execution_count": null,
   "metadata": {},
   "outputs": [],
   "source": [
    "from ecco import language_model\n",
    "lm = language_model.from_pretrained('distilgpt2')"
   ]
  },
  {
   "cell_type": "code",
   "execution_count": null,
   "metadata": {},
   "outputs": [],
   "source": [
    "text= \" 1, 1,\"\n",
    "\n",
    "output = lm.generate(text, generate=1, do_sample=False)"
   ]
  },
  {
   "cell_type": "code",
   "execution_count": null,
   "metadata": {},
   "outputs": [],
   "source": [
    "len(output.hidden_states), output.hidden_states[0].shape"
   ]
  },
  {
   "cell_type": "code",
   "execution_count": null,
   "metadata": {},
   "outputs": [],
   "source": [
    "import torch\n",
    "torch.rand(4,768)"
   ]
  },
  {
   "cell_type": "code",
   "execution_count": null,
   "metadata": {},
   "outputs": [],
   "source": [
    "output.lm_head"
   ]
  },
  {
   "cell_type": "code",
   "execution_count": null,
   "metadata": {},
   "outputs": [],
   "source": [
    "import numpy as np"
   ]
  },
  {
   "cell_type": "code",
   "execution_count": null,
   "metadata": {},
   "outputs": [],
   "source": [
    "{'gradient': [np.array([0.41861308, 0.13054065, 0.23851791, 0.21232839], dtype=np.float32)],\n",
    " 'grad_x_input': [np.array([0.31678662, 0.18056837, 0.37555906, 0.12708597], dtype=np.float32)]}"
   ]
  },
  {
   "cell_type": "code",
   "execution_count": null,
   "metadata": {},
   "outputs": [],
   "source": [
    "torch.nn.Linear(768, 50257, bias=False)"
   ]
  }
 ],
 "metadata": {
  "kernelspec": {
   "display_name": "Python 3",
   "language": "python",
   "name": "python3"
  },
  "language_info": {
   "codemirror_mode": {
    "name": "ipython",
    "version": 3
   },
   "file_extension": ".py",
   "mimetype": "text/x-python",
   "name": "python",
   "nbconvert_exporter": "python",
   "pygments_lexer": "ipython3",
   "version": "3.8.5"
  }
 },
 "nbformat": 4,
 "nbformat_minor": 4
}

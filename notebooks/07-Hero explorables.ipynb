{
 "cells": [
  {
   "cell_type": "code",
   "execution_count": 1,
   "metadata": {},
   "outputs": [
    {
     "data": {
      "text/plain": [
       "<module 'ecco.language_model.lm' from 'c:\\\\users\\\\jihad\\\\google drive\\\\ml\\\\code\\\\ecco\\\\src\\\\ecco\\\\language_model\\\\lm.py'>"
      ]
     },
     "execution_count": 1,
     "metadata": {},
     "output_type": "execute_result"
    }
   ],
   "source": [
    "from ecco.language_model import lm\n",
    "# from ecco.lm_activations import *\n",
    "from ecco.output import *\n",
    "from transformers import AutoTokenizer, AutoModelForCausalLM\n",
    "\n",
    "from importlib import reload\n",
    "reload(lm)\n"
   ]
  },
  {
   "cell_type": "code",
   "execution_count": 2,
   "metadata": {},
   "outputs": [],
   "source": [
    "hf_model_id= \"distilgpt2\"\n",
    "attention=False\n",
    "tokenizer = AutoTokenizer.from_pretrained(hf_model_id)\n",
    "model = AutoModelForCausalLM.from_pretrained(hf_model_id,\n",
    "                                             output_hidden_states=True,\n",
    "                                             output_attentions=attention)\n",
    "\n",
    "lm = lm.LM(model, tokenizer, collect_activations_flag=True)\n"
   ]
  },
  {
   "cell_type": "code",
   "execution_count": 3,
   "metadata": {},
   "outputs": [
    {
     "name": "stdout",
     "output_type": "stream",
     "text": [
      "activations_dict_to_array\n"
     ]
    },
    {
     "data": {
      "text/html": [
       "<html lang=\"en\">\n",
       "<script src=\"https://requirejs.org/docs/release/2.3.6/minified/require.js\"></script>\n",
       "<script>\n",
       "    var ecco_url = 'https://storage.googleapis.com/ml-intro/ecco/'\n",
       "    // var ecco_url = 'http://localhost:8000/ecco/'\n",
       "\n",
       "    if (window.ecco === undefined) window.ecco = {}\n",
       "\n",
       "    requirejs.config({\n",
       "        urlArgs: \"bust=\" + (new Date()).getTime(),\n",
       "        nodeRequire: require,\n",
       "        paths: {\n",
       "            d3: \"https://d3js.org/d3.v5.min\",\n",
       "            d3array: \"https://d3js.org/d3-array.v2.min\",\n",
       "            jquery: \"https://code.jquery.com/jquery-3.5.1.min\",\n",
       "            oldEcco: ecco_url + 'ecco',\n",
       "            ecco: ecco_url + 'ecco-bundle',\n",
       "            XRegExp: 'https://cdnjs.cloudflare.com/ajax/libs/xregexp/3.2.0/xregexp-all.min'\n",
       "        }\n",
       "    });\n",
       "    requirejs(['d3'],\n",
       "        function (d3) {\n",
       "            d3.select('#css').attr('href', ecco_url + 'html/styles.css')\n",
       "        })\n",
       "\n",
       "    console.log('Ecco initialize.')\n",
       "</script>\n",
       "\n",
       "<head>\n",
       "    <link id='css' rel=\"stylesheet\" type=\"text/css\">\n",
       "</head>\n"
      ],
      "text/plain": [
       "<IPython.core.display.HTML object>"
      ]
     },
     "metadata": {},
     "output_type": "display_data"
    },
    {
     "data": {
      "text/html": [
       "<script>\n",
       "    console.log('defining basic')\n",
       "    define('basic', ['d3'],\n",
       "        function (d3) {\n",
       "            return {\n",
       "                init: function () {\n",
       "\n",
       "                    console.log('basic init')\n",
       "                    const viz_id = \"viz_\" + Math.round(Math.random() * 10000000)\n",
       "                    const div = d3.select('#basic').attr('id', viz_id),\n",
       "                        div_parent = d3.select('#' + viz_id).node().parentNode\n",
       "\n",
       "                    // Link to CSS file\n",
       "                    d3.select(div_parent).insert('link')\n",
       "                        .attr('rel', 'stylesheet')\n",
       "                        .attr('type', 'text/css')\n",
       "                        .attr('href', ecco_url + 'html/styles.css')\n",
       "\n",
       "                    return viz_id\n",
       "                }\n",
       "            }\n",
       "\n",
       "        }, function (err) {\n",
       "            console.log(err);\n",
       "        }\n",
       "\n",
       "    )\n",
       "\n",
       "    console.log('after defining basic')\n",
       "\n",
       "\n",
       "</script>\n",
       "\n",
       "<div id=\"basic\"></div>"
      ],
      "text/plain": [
       "<IPython.core.display.HTML object>"
      ]
     },
     "metadata": {},
     "output_type": "display_data"
    },
    {
     "data": {
      "application/javascript": [
       "\n",
       "         requirejs(['basic', 'ecco'], function(basic, ecco){\n",
       "            const viz_id = basic.init()\n",
       "\n",
       "            ecco.renderOutputSequence(viz_id, {'tokens': [{'token': '1', 'token_id': 16, 'type': 'input'}, {'token': '.', 'token_id': 13, 'type': 'input'}, {'token': ' Austria', 'token_id': 17322, 'type': 'input'}, {'token': ' 2', 'token_id': 362, 'type': 'input'}, {'token': '.', 'token_id': 13, 'type': 'input'}, {'token': ' Belgium', 'token_id': 15664, 'type': 'input'}, {'token': ' 3', 'token_id': 513, 'type': 'input'}, {'token': '.', 'token_id': 13, 'type': 'input'}, {'token': ' Bulgaria', 'token_id': 27902, 'type': 'output'}, {'token': ' 4', 'token_id': 604, 'type': 'output'}, {'token': '.', 'token_id': 13, 'type': 'output'}, {'token': ' Bosnia', 'token_id': 34292, 'type': 'output'}, {'token': ' &', 'token_id': 1222, 'type': 'output'}, {'token': ' Herz', 'token_id': 34321, 'type': 'output'}, {'token': 'eg', 'token_id': 1533, 'type': 'output'}, {'token': 'ov', 'token_id': 709, 'type': 'output'}, {'token': 'ina', 'token_id': 1437, 'type': 'output'}, {'token': ' 5', 'token_id': 642, 'type': 'output'}, {'token': '.', 'token_id': 13, 'type': 'output'}, {'token': ' Croatia', 'token_id': 28975, 'type': 'output'}, {'token': ' 6', 'token_id': 718, 'type': 'output'}, {'token': '.', 'token_id': 13, 'type': 'output'}, {'token': ' Cyprus', 'token_id': 27885, 'type': 'output'}]})\n",
       "         }, function (err) {\n",
       "            console.log(err);\n",
       "        })"
      ],
      "text/plain": [
       "<IPython.core.display.Javascript object>"
      ]
     },
     "metadata": {},
     "output_type": "display_data"
    },
    {
     "data": {
      "text/html": [
       "<OutputSeq>"
      ],
      "text/plain": [
       "<ecco.output.OutputSeq at 0x22527e5e1c0>"
      ]
     },
     "execution_count": 3,
     "metadata": {},
     "output_type": "execute_result"
    }
   ],
   "source": [
    "text= \"1. Austria 2. Belgium 3.\"\n",
    "\n",
    "output = lm.generate(text, generate=15, do_sample=True)\n",
    "output"
   ]
  },
  {
   "cell_type": "code",
   "execution_count": 30,
   "metadata": {
    "scrolled": false
   },
   "outputs": [
    {
     "data": {
      "text/html": [
       "<html lang=\"en\">\n",
       "<script src=\"https://requirejs.org/docs/release/2.3.6/minified/require.js\"></script>\n",
       "<script>\n",
       "    var ecco_url = 'https://storage.googleapis.com/ml-intro/ecco/'\n",
       "    // var ecco_url = 'http://localhost:8000/ecco/'\n",
       "\n",
       "    if (window.ecco === undefined) window.ecco = {}\n",
       "\n",
       "    requirejs.config({\n",
       "        urlArgs: \"bust=\" + (new Date()).getTime(),\n",
       "        nodeRequire: require,\n",
       "        paths: {\n",
       "            d3: \"https://d3js.org/d3.v5.min\",\n",
       "            d3array: \"https://d3js.org/d3-array.v2.min\",\n",
       "            jquery: \"https://code.jquery.com/jquery-3.5.1.min\",\n",
       "            oldEcco: ecco_url + 'ecco',\n",
       "            ecco: ecco_url + 'ecco-bundle',\n",
       "            XRegExp: 'https://cdnjs.cloudflare.com/ajax/libs/xregexp/3.2.0/xregexp-all.min'\n",
       "        }\n",
       "    });\n",
       "    requirejs(['d3'],\n",
       "        function (d3) {\n",
       "            d3.select('#css').attr('href', ecco_url + 'html/styles.css')\n",
       "        })\n",
       "\n",
       "    console.log('Ecco initialize.')\n",
       "</script>\n",
       "\n",
       "<head>\n",
       "    <link id='css' rel=\"stylesheet\" type=\"text/css\">\n",
       "</head>\n"
      ],
      "text/plain": [
       "<IPython.core.display.HTML object>"
      ]
     },
     "metadata": {},
     "output_type": "display_data"
    },
    {
     "data": {
      "text/html": [
       "<script>\n",
       "    console.log('defining basic')\n",
       "    define('basic', ['d3'],\n",
       "        function (d3) {\n",
       "            return {\n",
       "                init: function () {\n",
       "\n",
       "                    console.log('basic init')\n",
       "                    const viz_id = \"viz_\" + Math.round(Math.random() * 10000000)\n",
       "                    const div = d3.select('#basic').attr('id', viz_id),\n",
       "                        div_parent = d3.select('#' + viz_id).node().parentNode\n",
       "\n",
       "                    // Link to CSS file\n",
       "                    d3.select(div_parent).insert('link')\n",
       "                        .attr('rel', 'stylesheet')\n",
       "                        .attr('type', 'text/css')\n",
       "                        .attr('href', ecco_url + 'html/styles.css')\n",
       "\n",
       "                    return viz_id\n",
       "                }\n",
       "            }\n",
       "\n",
       "        }, function (err) {\n",
       "            console.log(err);\n",
       "        }\n",
       "\n",
       "    )\n",
       "\n",
       "    console.log('after defining basic')\n",
       "\n",
       "\n",
       "</script>\n",
       "\n",
       "<div id=\"basic\"></div>"
      ],
      "text/plain": [
       "<IPython.core.display.HTML object>"
      ]
     },
     "metadata": {},
     "output_type": "display_data"
    },
    {
     "data": {
      "application/javascript": [
       "\n",
       "         requirejs(['basic', 'ecco'], function(basic, ecco){\n",
       "            const viz_id = basic.init()\n",
       "\n",
       "            ecco.renderOutputSequence(viz_id, {'tokens': [{'token': '1', 'token_id': 16, 'type': 'input'}, {'token': '.', 'token_id': 13, 'type': 'input'}, {'token': ' Austria', 'token_id': 17322, 'type': 'input'}, {'token': ' 2', 'token_id': 362, 'type': 'input'}, {'token': '.', 'token_id': 13, 'type': 'input'}, {'token': ' Belgium', 'token_id': 15664, 'type': 'input'}, {'token': ' 3', 'token_id': 513, 'type': 'input'}, {'token': '.', 'token_id': 13, 'type': 'input'}, {'token': ' Brazil', 'token_id': 7595, 'type': 'output'}, {'token': ' 4', 'token_id': 604, 'type': 'output'}, {'token': '.', 'token_id': 13, 'type': 'output'}, {'token': ' Hungary', 'token_id': 19562, 'type': 'output'}, {'token': ' 5', 'token_id': 642, 'type': 'output'}, {'token': '.', 'token_id': 13, 'type': 'output'}, {'token': ' Romania', 'token_id': 23356, 'type': 'output'}, {'token': ' 6', 'token_id': 718, 'type': 'output'}, {'token': '.', 'token_id': 13, 'type': 'output'}, {'token': ' Luxembourg', 'token_id': 31864, 'type': 'output'}, {'token': ' 7', 'token_id': 767, 'type': 'output'}, {'token': '.', 'token_id': 13, 'type': 'output'}, {'token': ' Slovakia', 'token_id': 36839, 'type': 'output'}, {'token': ' 8', 'token_id': 807, 'type': 'output'}, {'token': '.', 'token_id': 13, 'type': 'output'}]})\n",
       "         }, function (err) {\n",
       "            console.log(err);\n",
       "        })"
      ],
      "text/plain": [
       "<IPython.core.display.Javascript object>"
      ]
     },
     "metadata": {},
     "output_type": "display_data"
    },
    {
     "data": {
      "text/html": [
       "<OutputSeq>"
      ],
      "text/plain": [
       "<ecco.output.OutputSeq at 0x1839c3c7b20>"
      ]
     },
     "execution_count": 30,
     "metadata": {},
     "output_type": "execute_result"
    }
   ],
   "source": [
    "text= \"1. Austria 2. Belgium 3.\"\n",
    "\n",
    "output = lm.generate(text, generate=15, do_sample=True)\n",
    "output"
   ]
  },
  {
   "cell_type": "code",
   "execution_count": 35,
   "metadata": {},
   "outputs": [
    {
     "data": {
      "text/html": [
       "<html lang=\"en\">\n",
       "<script src=\"https://requirejs.org/docs/release/2.3.6/minified/require.js\"></script>\n",
       "<script>\n",
       "    var ecco_url = 'https://storage.googleapis.com/ml-intro/ecco/'\n",
       "    // var ecco_url = 'http://localhost:8000/ecco/'\n",
       "\n",
       "    if (window.ecco === undefined) window.ecco = {}\n",
       "\n",
       "    requirejs.config({\n",
       "        urlArgs: \"bust=\" + (new Date()).getTime(),\n",
       "        nodeRequire: require,\n",
       "        paths: {\n",
       "            d3: \"https://d3js.org/d3.v5.min\",\n",
       "            d3array: \"https://d3js.org/d3-array.v2.min\",\n",
       "            jquery: \"https://code.jquery.com/jquery-3.5.1.min\",\n",
       "            oldEcco: ecco_url + 'ecco',\n",
       "            ecco: ecco_url + 'ecco-bundle',\n",
       "            XRegExp: 'https://cdnjs.cloudflare.com/ajax/libs/xregexp/3.2.0/xregexp-all.min'\n",
       "        }\n",
       "    });\n",
       "    requirejs(['d3'],\n",
       "        function (d3) {\n",
       "            d3.select('#css').attr('href', ecco_url + 'html/styles.css')\n",
       "        })\n",
       "\n",
       "    console.log('Ecco initialize.')\n",
       "</script>\n",
       "\n",
       "<head>\n",
       "    <link id='css' rel=\"stylesheet\" type=\"text/css\">\n",
       "</head>\n"
      ],
      "text/plain": [
       "<IPython.core.display.HTML object>"
      ]
     },
     "metadata": {},
     "output_type": "display_data"
    },
    {
     "data": {
      "text/html": [
       "<script>\n",
       "    console.log('defining basic')\n",
       "    define('basic', ['d3'],\n",
       "        function (d3) {\n",
       "            return {\n",
       "                init: function () {\n",
       "\n",
       "                    console.log('basic init')\n",
       "                    const viz_id = \"viz_\" + Math.round(Math.random() * 10000000)\n",
       "                    const div = d3.select('#basic').attr('id', viz_id),\n",
       "                        div_parent = d3.select('#' + viz_id).node().parentNode\n",
       "\n",
       "                    // Link to CSS file\n",
       "                    d3.select(div_parent).insert('link')\n",
       "                        .attr('rel', 'stylesheet')\n",
       "                        .attr('type', 'text/css')\n",
       "                        .attr('href', ecco_url + 'html/styles.css')\n",
       "\n",
       "                    return viz_id\n",
       "                }\n",
       "            }\n",
       "\n",
       "        }, function (err) {\n",
       "            console.log(err);\n",
       "        }\n",
       "\n",
       "    )\n",
       "\n",
       "    console.log('after defining basic')\n",
       "\n",
       "\n",
       "</script>\n",
       "\n",
       "<div id=\"basic\"></div>"
      ],
      "text/plain": [
       "<IPython.core.display.HTML object>"
      ]
     },
     "metadata": {},
     "output_type": "display_data"
    },
    {
     "data": {
      "application/javascript": [
       "\n",
       "         requirejs(['basic', 'ecco'], function(basic, ecco){\n",
       "            const viz_id = basic.init()\n",
       "\n",
       "            ecco.interactiveTokens(viz_id, {'tokens': [{'token': '1', 'token_id': 16, 'type': 'input', 'value': '0.11275884', 'position': 0}, {'token': '.', 'token_id': 13, 'type': 'input', 'value': '0.050023608', 'position': 1}, {'token': ' Austria', 'token_id': 17322, 'type': 'input', 'value': '0.2835881', 'position': 2}, {'token': ' 2', 'token_id': 362, 'type': 'input', 'value': '0.07143382', 'position': 3}, {'token': '.', 'token_id': 13, 'type': 'input', 'value': '0.057977375', 'position': 4}, {'token': ' Belgium', 'token_id': 15664, 'type': 'input', 'value': '0.35651496', 'position': 5}, {'token': ' 3', 'token_id': 513, 'type': 'input', 'value': '0.03522523', 'position': 6}, {'token': '.', 'token_id': 13, 'type': 'input', 'value': '0.032478087', 'position': 7}, {'token': ' Brazil', 'token_id': 7595, 'type': 'output', 'value': '0', 'position': 8}, {'token': ' 4', 'token_id': 604, 'type': 'output', 'value': '0', 'position': 9}, {'token': '.', 'token_id': 13, 'type': 'output', 'value': '0', 'position': 10}, {'token': ' Hungary', 'token_id': 19562, 'type': 'output', 'value': '0', 'position': 11}, {'token': ' 5', 'token_id': 642, 'type': 'output', 'value': '0', 'position': 12}, {'token': '.', 'token_id': 13, 'type': 'output', 'value': '0', 'position': 13}, {'token': ' Romania', 'token_id': 23356, 'type': 'output', 'value': '0', 'position': 14}, {'token': ' 6', 'token_id': 718, 'type': 'output', 'value': '0', 'position': 15}, {'token': '.', 'token_id': 13, 'type': 'output', 'value': '0', 'position': 16}, {'token': ' Luxembourg', 'token_id': 31864, 'type': 'output', 'value': '0', 'position': 17}, {'token': ' 7', 'token_id': 767, 'type': 'output', 'value': '0', 'position': 18}, {'token': '.', 'token_id': 13, 'type': 'output', 'value': '0', 'position': 19}, {'token': ' Slovakia', 'token_id': 36839, 'type': 'output', 'value': '0', 'position': 20}, {'token': ' 8', 'token_id': 807, 'type': 'output', 'value': '0', 'position': 21}, {'token': '.', 'token_id': 13, 'type': 'output', 'value': '0', 'position': 22}], 'attributions': [[0.11275883764028549, 0.05002360790967941, 0.28358811140060425, 0.07143381983041763, 0.05797737464308739, 0.35651496052742004, 0.03522523120045662, 0.03247808665037155], [0.10860507190227509, 0.04597175866365433, 0.14786648750305176, 0.1545664221048355, 0.054300617426633835, 0.1401003748178482, 0.13704106211662292, 0.03734307363629341, 0.17420510947704315], [0.12902429699897766, 0.05276208743453026, 0.14504052698612213, 0.09611763060092926, 0.062011055648326874, 0.17808236181735992, 0.09094113111495972, 0.05573929101228714, 0.08531761914491653, 0.10496395826339722], [0.10390043258666992, 0.042574308812618256, 0.21316306293010712, 0.047507308423519135, 0.03484408184885979, 0.13951849937438965, 0.05207398161292076, 0.048975665122270584, 0.2554028630256653, 0.03325875476002693, 0.02878100983798504], [0.09349054843187332, 0.03774333372712135, 0.10263477265834808, 0.09175479412078857, 0.039666835218667984, 0.09899402409791946, 0.10505527257919312, 0.02728087455034256, 0.10081908851861954, 0.09876108914613724, 0.019906800240278244, 0.18389254808425903], [0.12663871049880981, 0.05199291929602623, 0.12847399711608887, 0.07994583994150162, 0.048025038093328476, 0.14540910720825195, 0.06611094623804092, 0.04411039873957634, 0.0753183513879776, 0.054647769778966904, 0.033058155328035355, 0.07203081995248795, 0.07423800230026245], [0.0940420851111412, 0.0366397500038147, 0.18101967871189117, 0.038350947201251984, 0.025151608511805534, 0.09080648422241211, 0.04580643028020859, 0.030791044235229492, 0.130716472864151, 0.040986739099025726, 0.023738956078886986, 0.19166983664035797, 0.03537583723664284, 0.034904126077890396], [0.09263179451227188, 0.036175746470689774, 0.0932236909866333, 0.07388713955879211, 0.0385497622191906, 0.08935287594795227, 0.07761847972869873, 0.029064541682600975, 0.07266690582036972, 0.07715161889791489, 0.015964435413479805, 0.05611887201666832, 0.08687005937099457, 0.016147488728165627, 0.1445765495300293], [0.11756867170333862, 0.04836723580956459, 0.11399398744106293, 0.06752286106348038, 0.03975468501448631, 0.1309889405965805, 0.057685770094394684, 0.03648583963513374, 0.06431008875370026, 0.042651545256376266, 0.025020280852913857, 0.05708308890461922, 0.03758545219898224, 0.029091326519846916, 0.05363749712705612, 0.07825269550085068], [0.08676830679178238, 0.033771105110645294, 0.16951538622379303, 0.03840113803744316, 0.023862790316343307, 0.08922767639160156, 0.04204520955681801, 0.028627682477235794, 0.10483092814683914, 0.03078366443514824, 0.01804138347506523, 0.0933350995182991, 0.020664766430854797, 0.01815342716872692, 0.14586569368839264, 0.028126386925578117, 0.02797939069569111], [0.08344373852014542, 0.0308150015771389, 0.07673747092485428, 0.06210765615105629, 0.028017258271574974, 0.07058903574943542, 0.06355632096529007, 0.02289779670536518, 0.0603485144674778, 0.05957220867276192, 0.014669130556285381, 0.04808551073074341, 0.06400875002145767, 0.013014962896704674, 0.05360344052314758, 0.06786424666643143, 0.015717243775725365, 0.16495177149772644], [0.10905668884515762, 0.04577288404107094, 0.10171125829219818, 0.05983005464076996, 0.03538510575890541, 0.12076031416654587, 0.05203540250658989, 0.033208947628736496, 0.06354185938835144, 0.041721902787685394, 0.024769270792603493, 0.05301739647984505, 0.0340142622590065, 0.025121435523033142, 0.03624733164906502, 0.025849901139736176, 0.020374417304992676, 0.053212832659482956, 0.06436870247125626], [0.07299821078777313, 0.02963823825120926, 0.1353393793106079, 0.03394995629787445, 0.02029128558933735, 0.07021784037351608, 0.039341844618320465, 0.024118201807141304, 0.07804666459560394, 0.03114961087703705, 0.0150835532695055, 0.07345446944236755, 0.0238551814109087, 0.014982461929321289, 0.08439305424690247, 0.02346641756594181, 0.013873022980988026, 0.1392771601676941, 0.03645482286810875, 0.040068626403808594], [0.08325996994972229, 0.032262835651636124, 0.0705958753824234, 0.047862663865089417, 0.028466718271374702, 0.08362659811973572, 0.047619398683309555, 0.02629464492201805, 0.05783630907535553, 0.03936748579144478, 0.015247488394379616, 0.03986942023038864, 0.03473738208413124, 0.013643749058246613, 0.04143139719963074, 0.04609573259949684, 0.00989992544054985, 0.04716617241501808, 0.07319522649049759, 0.015211793594062328, 0.14630922675132751], [0.10130773484706879, 0.042030591517686844, 0.08874871581792831, 0.052865561097860336, 0.031575802713632584, 0.1003570705652237, 0.046316806226968765, 0.02778000570833683, 0.05595557391643524, 0.03865160420536995, 0.022044727578759193, 0.048542801290750504, 0.03273794800043106, 0.021907728165388107, 0.033556874841451645, 0.024828772991895676, 0.01646963506937027, 0.038247205317020416, 0.03225326165556908, 0.018675753846764565, 0.058800335973501205, 0.06634543836116791]]})\n",
       "         }, function (err) {\n",
       "            console.log(err);\n",
       "        })"
      ],
      "text/plain": [
       "<IPython.core.display.Javascript object>"
      ]
     },
     "metadata": {},
     "output_type": "display_data"
    },
    {
     "name": "stdout",
     "output_type": "stream",
     "text": [
      "{'tokens': [{'token': '1', 'token_id': 16, 'type': 'input', 'value': '0.11275884', 'position': 0}, {'token': '.', 'token_id': 13, 'type': 'input', 'value': '0.050023608', 'position': 1}, {'token': ' Austria', 'token_id': 17322, 'type': 'input', 'value': '0.2835881', 'position': 2}, {'token': ' 2', 'token_id': 362, 'type': 'input', 'value': '0.07143382', 'position': 3}, {'token': '.', 'token_id': 13, 'type': 'input', 'value': '0.057977375', 'position': 4}, {'token': ' Belgium', 'token_id': 15664, 'type': 'input', 'value': '0.35651496', 'position': 5}, {'token': ' 3', 'token_id': 513, 'type': 'input', 'value': '0.03522523', 'position': 6}, {'token': '.', 'token_id': 13, 'type': 'input', 'value': '0.032478087', 'position': 7}, {'token': ' Brazil', 'token_id': 7595, 'type': 'output', 'value': '0', 'position': 8}, {'token': ' 4', 'token_id': 604, 'type': 'output', 'value': '0', 'position': 9}, {'token': '.', 'token_id': 13, 'type': 'output', 'value': '0', 'position': 10}, {'token': ' Hungary', 'token_id': 19562, 'type': 'output', 'value': '0', 'position': 11}, {'token': ' 5', 'token_id': 642, 'type': 'output', 'value': '0', 'position': 12}, {'token': '.', 'token_id': 13, 'type': 'output', 'value': '0', 'position': 13}, {'token': ' Romania', 'token_id': 23356, 'type': 'output', 'value': '0', 'position': 14}, {'token': ' 6', 'token_id': 718, 'type': 'output', 'value': '0', 'position': 15}, {'token': '.', 'token_id': 13, 'type': 'output', 'value': '0', 'position': 16}, {'token': ' Luxembourg', 'token_id': 31864, 'type': 'output', 'value': '0', 'position': 17}, {'token': ' 7', 'token_id': 767, 'type': 'output', 'value': '0', 'position': 18}, {'token': '.', 'token_id': 13, 'type': 'output', 'value': '0', 'position': 19}, {'token': ' Slovakia', 'token_id': 36839, 'type': 'output', 'value': '0', 'position': 20}, {'token': ' 8', 'token_id': 807, 'type': 'output', 'value': '0', 'position': 21}, {'token': '.', 'token_id': 13, 'type': 'output', 'value': '0', 'position': 22}], 'attributions': [[0.11275883764028549, 0.05002360790967941, 0.28358811140060425, 0.07143381983041763, 0.05797737464308739, 0.35651496052742004, 0.03522523120045662, 0.03247808665037155], [0.10860507190227509, 0.04597175866365433, 0.14786648750305176, 0.1545664221048355, 0.054300617426633835, 0.1401003748178482, 0.13704106211662292, 0.03734307363629341, 0.17420510947704315], [0.12902429699897766, 0.05276208743453026, 0.14504052698612213, 0.09611763060092926, 0.062011055648326874, 0.17808236181735992, 0.09094113111495972, 0.05573929101228714, 0.08531761914491653, 0.10496395826339722], [0.10390043258666992, 0.042574308812618256, 0.21316306293010712, 0.047507308423519135, 0.03484408184885979, 0.13951849937438965, 0.05207398161292076, 0.048975665122270584, 0.2554028630256653, 0.03325875476002693, 0.02878100983798504], [0.09349054843187332, 0.03774333372712135, 0.10263477265834808, 0.09175479412078857, 0.039666835218667984, 0.09899402409791946, 0.10505527257919312, 0.02728087455034256, 0.10081908851861954, 0.09876108914613724, 0.019906800240278244, 0.18389254808425903], [0.12663871049880981, 0.05199291929602623, 0.12847399711608887, 0.07994583994150162, 0.048025038093328476, 0.14540910720825195, 0.06611094623804092, 0.04411039873957634, 0.0753183513879776, 0.054647769778966904, 0.033058155328035355, 0.07203081995248795, 0.07423800230026245], [0.0940420851111412, 0.0366397500038147, 0.18101967871189117, 0.038350947201251984, 0.025151608511805534, 0.09080648422241211, 0.04580643028020859, 0.030791044235229492, 0.130716472864151, 0.040986739099025726, 0.023738956078886986, 0.19166983664035797, 0.03537583723664284, 0.034904126077890396], [0.09263179451227188, 0.036175746470689774, 0.0932236909866333, 0.07388713955879211, 0.0385497622191906, 0.08935287594795227, 0.07761847972869873, 0.029064541682600975, 0.07266690582036972, 0.07715161889791489, 0.015964435413479805, 0.05611887201666832, 0.08687005937099457, 0.016147488728165627, 0.1445765495300293], [0.11756867170333862, 0.04836723580956459, 0.11399398744106293, 0.06752286106348038, 0.03975468501448631, 0.1309889405965805, 0.057685770094394684, 0.03648583963513374, 0.06431008875370026, 0.042651545256376266, 0.025020280852913857, 0.05708308890461922, 0.03758545219898224, 0.029091326519846916, 0.05363749712705612, 0.07825269550085068], [0.08676830679178238, 0.033771105110645294, 0.16951538622379303, 0.03840113803744316, 0.023862790316343307, 0.08922767639160156, 0.04204520955681801, 0.028627682477235794, 0.10483092814683914, 0.03078366443514824, 0.01804138347506523, 0.0933350995182991, 0.020664766430854797, 0.01815342716872692, 0.14586569368839264, 0.028126386925578117, 0.02797939069569111], [0.08344373852014542, 0.0308150015771389, 0.07673747092485428, 0.06210765615105629, 0.028017258271574974, 0.07058903574943542, 0.06355632096529007, 0.02289779670536518, 0.0603485144674778, 0.05957220867276192, 0.014669130556285381, 0.04808551073074341, 0.06400875002145767, 0.013014962896704674, 0.05360344052314758, 0.06786424666643143, 0.015717243775725365, 0.16495177149772644], [0.10905668884515762, 0.04577288404107094, 0.10171125829219818, 0.05983005464076996, 0.03538510575890541, 0.12076031416654587, 0.05203540250658989, 0.033208947628736496, 0.06354185938835144, 0.041721902787685394, 0.024769270792603493, 0.05301739647984505, 0.0340142622590065, 0.025121435523033142, 0.03624733164906502, 0.025849901139736176, 0.020374417304992676, 0.053212832659482956, 0.06436870247125626], [0.07299821078777313, 0.02963823825120926, 0.1353393793106079, 0.03394995629787445, 0.02029128558933735, 0.07021784037351608, 0.039341844618320465, 0.024118201807141304, 0.07804666459560394, 0.03114961087703705, 0.0150835532695055, 0.07345446944236755, 0.0238551814109087, 0.014982461929321289, 0.08439305424690247, 0.02346641756594181, 0.013873022980988026, 0.1392771601676941, 0.03645482286810875, 0.040068626403808594], [0.08325996994972229, 0.032262835651636124, 0.0705958753824234, 0.047862663865089417, 0.028466718271374702, 0.08362659811973572, 0.047619398683309555, 0.02629464492201805, 0.05783630907535553, 0.03936748579144478, 0.015247488394379616, 0.03986942023038864, 0.03473738208413124, 0.013643749058246613, 0.04143139719963074, 0.04609573259949684, 0.00989992544054985, 0.04716617241501808, 0.07319522649049759, 0.015211793594062328, 0.14630922675132751], [0.10130773484706879, 0.042030591517686844, 0.08874871581792831, 0.052865561097860336, 0.031575802713632584, 0.1003570705652237, 0.046316806226968765, 0.02778000570833683, 0.05595557391643524, 0.03865160420536995, 0.022044727578759193, 0.048542801290750504, 0.03273794800043106, 0.021907728165388107, 0.033556874841451645, 0.024828772991895676, 0.01646963506937027, 0.038247205317020416, 0.03225326165556908, 0.018675753846764565, 0.058800335973501205, 0.06634543836116791]]}\n"
     ]
    }
   ],
   "source": [
    "output(printJson=True)"
   ]
  },
  {
   "cell_type": "code",
   "execution_count": 32,
   "metadata": {},
   "outputs": [
    {
     "data": {
      "text/plain": [
       "(1, 18432, 22)"
      ]
     },
     "execution_count": 32,
     "metadata": {},
     "output_type": "execute_result"
    }
   ],
   "source": [
    "import numpy as np\n",
    "from_layer = 0\n",
    "to_layer=6\n",
    "merged_act = np.concatenate(output.activations[from_layer: to_layer],axis=0)\n",
    "merged_act = np.expand_dims(merged_act, axis=0)\n",
    "merged_act.shape"
   ]
  },
  {
   "cell_type": "code",
   "execution_count": 34,
   "metadata": {},
   "outputs": [
    {
     "name": "stdout",
     "output_type": "stream",
     "text": [
      "shape (1, 4, 22)\n"
     ]
    },
    {
     "data": {
      "text/html": [
       "<html lang=\"en\">\n",
       "<script src=\"https://requirejs.org/docs/release/2.3.6/minified/require.js\"></script>\n",
       "<script>\n",
       "    var ecco_url = 'https://storage.googleapis.com/ml-intro/ecco/'\n",
       "    // var ecco_url = 'http://localhost:8000/ecco/'\n",
       "\n",
       "    if (window.ecco === undefined) window.ecco = {}\n",
       "\n",
       "    requirejs.config({\n",
       "        urlArgs: \"bust=\" + (new Date()).getTime(),\n",
       "        nodeRequire: require,\n",
       "        paths: {\n",
       "            d3: \"https://d3js.org/d3.v5.min\",\n",
       "            d3array: \"https://d3js.org/d3-array.v2.min\",\n",
       "            jquery: \"https://code.jquery.com/jquery-3.5.1.min\",\n",
       "            oldEcco: ecco_url + 'ecco',\n",
       "            ecco: ecco_url + 'ecco-bundle',\n",
       "            XRegExp: 'https://cdnjs.cloudflare.com/ajax/libs/xregexp/3.2.0/xregexp-all.min'\n",
       "        }\n",
       "    });\n",
       "    requirejs(['d3'],\n",
       "        function (d3) {\n",
       "            d3.select('#css').attr('href', ecco_url + 'html/styles.css')\n",
       "        })\n",
       "\n",
       "    console.log('Ecco initialize.')\n",
       "</script>\n",
       "\n",
       "<head>\n",
       "    <link id='css' rel=\"stylesheet\" type=\"text/css\">\n",
       "</head>\n"
      ],
      "text/plain": [
       "<IPython.core.display.HTML object>"
      ]
     },
     "metadata": {},
     "output_type": "display_data"
    },
    {
     "data": {
      "text/html": [
       "<script>\n",
       "    console.log('defining basic')\n",
       "    define('basic', ['d3'],\n",
       "        function (d3) {\n",
       "            return {\n",
       "                init: function () {\n",
       "\n",
       "                    console.log('basic init')\n",
       "                    const viz_id = \"viz_\" + Math.round(Math.random() * 10000000)\n",
       "                    const div = d3.select('#basic').attr('id', viz_id),\n",
       "                        div_parent = d3.select('#' + viz_id).node().parentNode\n",
       "\n",
       "                    // Link to CSS file\n",
       "                    d3.select(div_parent).insert('link')\n",
       "                        .attr('rel', 'stylesheet')\n",
       "                        .attr('type', 'text/css')\n",
       "                        .attr('href', ecco_url + 'html/styles.css')\n",
       "\n",
       "                    return viz_id\n",
       "                }\n",
       "            }\n",
       "\n",
       "        }, function (err) {\n",
       "            console.log(err);\n",
       "        }\n",
       "\n",
       "    )\n",
       "\n",
       "    console.log('after defining basic')\n",
       "\n",
       "\n",
       "</script>\n",
       "\n",
       "<div id=\"basic\"></div>"
      ],
      "text/plain": [
       "<IPython.core.display.HTML object>"
      ]
     },
     "metadata": {},
     "output_type": "display_data"
    },
    {
     "data": {
      "application/javascript": [
       "\n",
       "         requirejs(['basic', 'ecco'], function(basic, ecco){\n",
       "            const viz_id = basic.init()\n",
       "            ecco.interactiveTokensAndFactorSparklines(viz_id, {'tokens': [{'token': '1', 'token_id': 16, 'type': 'input', 'position': 0}, {'token': '.', 'token_id': 13, 'type': 'input', 'position': 1}, {'token': ' Austria', 'token_id': 17322, 'type': 'input', 'position': 2}, {'token': ' 2', 'token_id': 362, 'type': 'input', 'position': 3}, {'token': '.', 'token_id': 13, 'type': 'input', 'position': 4}, {'token': ' Belgium', 'token_id': 15664, 'type': 'input', 'position': 5}, {'token': ' 3', 'token_id': 513, 'type': 'input', 'position': 6}, {'token': '.', 'token_id': 13, 'type': 'input', 'position': 7}, {'token': ' Brazil', 'token_id': 7595, 'type': 'output', 'position': 8}, {'token': ' 4', 'token_id': 604, 'type': 'output', 'position': 9}, {'token': '.', 'token_id': 13, 'type': 'output', 'position': 10}, {'token': ' Hungary', 'token_id': 19562, 'type': 'output', 'position': 11}, {'token': ' 5', 'token_id': 642, 'type': 'output', 'position': 12}, {'token': '.', 'token_id': 13, 'type': 'output', 'position': 13}, {'token': ' Romania', 'token_id': 23356, 'type': 'output', 'position': 14}, {'token': ' 6', 'token_id': 718, 'type': 'output', 'position': 15}, {'token': '.', 'token_id': 13, 'type': 'output', 'position': 16}, {'token': ' Luxembourg', 'token_id': 31864, 'type': 'output', 'position': 17}, {'token': ' 7', 'token_id': 767, 'type': 'output', 'position': 18}, {'token': '.', 'token_id': 13, 'type': 'output', 'position': 19}, {'token': ' Slovakia', 'token_id': 36839, 'type': 'output', 'position': 20}, {'token': ' 8', 'token_id': 807, 'type': 'output', 'position': 21}, {'token': '.', 'token_id': 13, 'type': 'output', 'position': 22}], 'factors': [[[0.71489018201828, 0.006667452398687601, 0.003667355515062809, 0.005043760873377323, 0.0034792565274983644, 0.0030035299714654684, 0.0003433529054746032, 0.0, 0.0, 0.00013966819096822292, 0.0, 0.0, 0.0, 0.0, 0.0, 0.0, 0.0, 0.0, 0.0, 0.0, 0.0, 0.0, 0.0], [0.0, 0.06660683453083038, 0.3081618845462799, 0.0898173451423645, 0.010414528660476208, 0.31033679842948914, 0.016095926985144615, 0.0, 0.0, 0.33293431997299194, 0.0, 0.0, 0.38164541125297546, 0.0, 0.0001627467863727361, 0.41963979601860046, 0.0, 0.0, 0.3915499150753021, 0.0, 0.0, 0.41347599029541016, 0.0], [0.0, 0.31258144974708557, 0.02254503220319748, 0.11419273912906647, 0.5609351992607117, 0.03109837882220745, 0.05376078188419342, 0.7198453545570374, 0.7198453545570374, 0.03701147064566612, 0.018083224073052406, 0.7082385420799255, 0.014520344324409962, 0.0, 0.7180771231651306, 0.0, 0.0, 0.6955192685127258, 0.0, 0.0, 0.681247889995575, 0.0, 0.0], [0.0, 0.040142398327589035, 0.018367629498243332, 0.18321692943572998, 0.0398915559053421, 0.0400778166949749, 0.4401678144931793, 0.0, 0.0, 0.022631103172898293, 0.5115559697151184, 0.0, 0.006313132122159004, 0.536361813545227, 0.0, 0.0, 0.5395328998565674, 0.002620420418679714, 0.0, 0.5544126033782959, 0.0, 0.0, 0.5549296736717224]]]})\n",
       "         }, function (err) {\n",
       "            console.log(err);\n",
       "        })"
      ],
      "text/plain": [
       "<IPython.core.display.Javascript object>"
      ]
     },
     "metadata": {},
     "output_type": "display_data"
    },
    {
     "name": "stdout",
     "output_type": "stream",
     "text": [
      "{'tokens': [{'token': '1', 'token_id': 16, 'type': 'input', 'position': 0}, {'token': '.', 'token_id': 13, 'type': 'input', 'position': 1}, {'token': ' Austria', 'token_id': 17322, 'type': 'input', 'position': 2}, {'token': ' 2', 'token_id': 362, 'type': 'input', 'position': 3}, {'token': '.', 'token_id': 13, 'type': 'input', 'position': 4}, {'token': ' Belgium', 'token_id': 15664, 'type': 'input', 'position': 5}, {'token': ' 3', 'token_id': 513, 'type': 'input', 'position': 6}, {'token': '.', 'token_id': 13, 'type': 'input', 'position': 7}, {'token': ' Brazil', 'token_id': 7595, 'type': 'output', 'position': 8}, {'token': ' 4', 'token_id': 604, 'type': 'output', 'position': 9}, {'token': '.', 'token_id': 13, 'type': 'output', 'position': 10}, {'token': ' Hungary', 'token_id': 19562, 'type': 'output', 'position': 11}, {'token': ' 5', 'token_id': 642, 'type': 'output', 'position': 12}, {'token': '.', 'token_id': 13, 'type': 'output', 'position': 13}, {'token': ' Romania', 'token_id': 23356, 'type': 'output', 'position': 14}, {'token': ' 6', 'token_id': 718, 'type': 'output', 'position': 15}, {'token': '.', 'token_id': 13, 'type': 'output', 'position': 16}, {'token': ' Luxembourg', 'token_id': 31864, 'type': 'output', 'position': 17}, {'token': ' 7', 'token_id': 767, 'type': 'output', 'position': 18}, {'token': '.', 'token_id': 13, 'type': 'output', 'position': 19}, {'token': ' Slovakia', 'token_id': 36839, 'type': 'output', 'position': 20}, {'token': ' 8', 'token_id': 807, 'type': 'output', 'position': 21}, {'token': '.', 'token_id': 13, 'type': 'output', 'position': 22}], 'factors': [[[0.71489018201828, 0.006667452398687601, 0.003667355515062809, 0.005043760873377323, 0.0034792565274983644, 0.0030035299714654684, 0.0003433529054746032, 0.0, 0.0, 0.00013966819096822292, 0.0, 0.0, 0.0, 0.0, 0.0, 0.0, 0.0, 0.0, 0.0, 0.0, 0.0, 0.0, 0.0], [0.0, 0.06660683453083038, 0.3081618845462799, 0.0898173451423645, 0.010414528660476208, 0.31033679842948914, 0.016095926985144615, 0.0, 0.0, 0.33293431997299194, 0.0, 0.0, 0.38164541125297546, 0.0, 0.0001627467863727361, 0.41963979601860046, 0.0, 0.0, 0.3915499150753021, 0.0, 0.0, 0.41347599029541016, 0.0], [0.0, 0.31258144974708557, 0.02254503220319748, 0.11419273912906647, 0.5609351992607117, 0.03109837882220745, 0.05376078188419342, 0.7198453545570374, 0.7198453545570374, 0.03701147064566612, 0.018083224073052406, 0.7082385420799255, 0.014520344324409962, 0.0, 0.7180771231651306, 0.0, 0.0, 0.6955192685127258, 0.0, 0.0, 0.681247889995575, 0.0, 0.0], [0.0, 0.040142398327589035, 0.018367629498243332, 0.18321692943572998, 0.0398915559053421, 0.0400778166949749, 0.4401678144931793, 0.0, 0.0, 0.022631103172898293, 0.5115559697151184, 0.0, 0.006313132122159004, 0.536361813545227, 0.0, 0.0, 0.5395328998565674, 0.002620420418679714, 0.0, 0.5544126033782959, 0.0, 0.0, 0.5549296736717224]]]}\n"
     ]
    }
   ],
   "source": [
    "from ecco.output import NMF\n",
    "\n",
    "nmf = NMF(merged_act, output.tokens, n_components=4)\n",
    "output.factors(nmf.components, printJson=True)"
   ]
  },
  {
   "cell_type": "code",
   "execution_count": 12,
   "metadata": {},
   "outputs": [
    {
     "data": {
      "text/plain": [
       "numpy.ndarray"
      ]
     },
     "execution_count": 12,
     "metadata": {},
     "output_type": "execute_result"
    }
   ],
   "source": [
    "output.activations"
   ]
  },
  {
   "cell_type": "code",
   "execution_count": 13,
   "metadata": {},
   "outputs": [
    {
     "data": {
      "text/plain": [
       "numpy.ndarray"
      ]
     },
     "execution_count": 13,
     "metadata": {},
     "output_type": "execute_result"
    }
   ],
   "source": [
    "type(lm._all_activations_dict[0][0])"
   ]
  },
  {
   "cell_type": "code",
   "execution_count": null,
   "metadata": {},
   "outputs": [],
   "source": []
  },
  {
   "cell_type": "code",
   "execution_count": null,
   "metadata": {},
   "outputs": [],
   "source": []
  },
  {
   "cell_type": "code",
   "execution_count": null,
   "metadata": {},
   "outputs": [],
   "source": []
  },
  {
   "cell_type": "code",
   "execution_count": 7,
   "metadata": {},
   "outputs": [
    {
     "data": {
      "text/html": [
       "<html lang=\"en\">\n",
       "<script src=\"https://requirejs.org/docs/release/2.3.6/minified/require.js\"></script>\n",
       "<script>\n",
       "    var ecco_url = 'https://storage.googleapis.com/ml-intro/ecco/'\n",
       "    // var ecco_url = 'http://localhost:8000/ecco/'\n",
       "\n",
       "    if (window.ecco === undefined) window.ecco = {}\n",
       "\n",
       "    requirejs.config({\n",
       "        urlArgs: \"bust=\" + (new Date()).getTime(),\n",
       "        nodeRequire: require,\n",
       "        paths: {\n",
       "            d3: \"https://d3js.org/d3.v5.min\",\n",
       "            d3array: \"https://d3js.org/d3-array.v2.min\",\n",
       "            jquery: \"https://code.jquery.com/jquery-3.5.1.min\",\n",
       "            oldEcco: ecco_url + 'ecco',\n",
       "            ecco: ecco_url + 'ecco-bundle',\n",
       "            XRegExp: 'https://cdnjs.cloudflare.com/ajax/libs/xregexp/3.2.0/xregexp-all.min'\n",
       "        }\n",
       "    });\n",
       "    requirejs(['d3'],\n",
       "        function (d3) {\n",
       "            d3.select('#css').attr('href', ecco_url + 'html/styles.css')\n",
       "        })\n",
       "\n",
       "    console.log('Ecco initialize.')\n",
       "</script>\n",
       "\n",
       "<head>\n",
       "    <link id='css' rel=\"stylesheet\" type=\"text/css\">\n",
       "</head>\n"
      ],
      "text/plain": [
       "<IPython.core.display.HTML object>"
      ]
     },
     "metadata": {},
     "output_type": "display_data"
    },
    {
     "data": {
      "text/html": [
       "<script>\n",
       "    // console.log('defining basic')\n",
       "    define('basic', ['d3'],\n",
       "        function (d3) {\n",
       "            return {\n",
       "                init: function (viz_id = null) {\n",
       "\n",
       "                    // console.log('basic init')\n",
       "                    if (viz_id == null){\n",
       "                        viz_id = \"viz_\" + Math.round(Math.random() * 10000000)\n",
       "                    }\n",
       "                    const div = d3.select('#basic').attr('id', viz_id),\n",
       "                        div_parent = d3.select('#' + viz_id).node().parentNode\n",
       "\n",
       "                    // Link to CSS file\n",
       "                    d3.select(div_parent).insert('link')\n",
       "                        .attr('rel', 'stylesheet')\n",
       "                        .attr('type', 'text/css')\n",
       "                        .attr('href', ecco_url + 'html/styles.css')\n",
       "\n",
       "                    return viz_id\n",
       "                }\n",
       "            }\n",
       "        }, function (err) {console.log(err);}\n",
       "    )\n",
       "    // console.log('after defining basic')\n",
       "\n",
       "</script>\n",
       "<div id=\"basic\"></div>\n"
      ],
      "text/plain": [
       "<IPython.core.display.HTML object>"
      ]
     },
     "metadata": {},
     "output_type": "display_data"
    },
    {
     "data": {
      "application/javascript": [
       "\n",
       "         requirejs(['basic', 'ecco'], function(basic, ecco){\n",
       "            basic.init('viz_79701')\n",
       "\n",
       "            window.ecco['viz_79701'] = ecco.renderOutputSequence('viz_79701', {'tokens': [{'token': '1', 'position': 0, 'token_id': 16, 'type': 'input'}, {'token': '.', 'position': 1, 'token_id': 13, 'type': 'input'}, {'token': ' Austria', 'position': 2, 'token_id': 17322, 'type': 'input'}, {'token': ' 2', 'position': 3, 'token_id': 362, 'type': 'input'}, {'token': '.', 'position': 4, 'token_id': 13, 'type': 'input'}, {'token': ' Belgium', 'position': 5, 'token_id': 15664, 'type': 'input'}, {'token': ' 3', 'position': 6, 'token_id': 513, 'type': 'input'}, {'token': '.', 'position': 7, 'token_id': 13, 'type': 'input'}]})\n",
       "         }, function (err) {\n",
       "            console.log(err);\n",
       "        })"
      ],
      "text/plain": [
       "<IPython.core.display.Javascript object>"
      ]
     },
     "metadata": {},
     "output_type": "display_data"
    },
    {
     "data": {
      "application/javascript": [
       "\n",
       "        window.ecco['viz_79701'].addToken({\"token\": \" Bulgaria\", \"token_id\": 27902, \"position\": 8, \"type\": \"output\"})\n",
       "        window.ecco['viz_79701'].redraw()\n",
       "        "
      ],
      "text/plain": [
       "<IPython.core.display.Javascript object>"
      ]
     },
     "metadata": {},
     "output_type": "display_data"
    },
    {
     "data": {
      "application/javascript": [
       "\n",
       "        window.ecco['viz_79701'].addToken({\"token\": \" 4\", \"token_id\": 604, \"position\": 9, \"type\": \"output\"})\n",
       "        window.ecco['viz_79701'].redraw()\n",
       "        "
      ],
      "text/plain": [
       "<IPython.core.display.Javascript object>"
      ]
     },
     "metadata": {},
     "output_type": "display_data"
    }
   ],
   "source": [
    "text= \"1. Austria 2. Belgium 3.\"\n",
    "\n",
    "output = lm.generate(text, generate=2, do_sample=True)\n",
    "nmf = output.run_nmf(n_components=2)"
   ]
  },
  {
   "cell_type": "code",
   "execution_count": 9,
   "metadata": {},
   "outputs": [
    {
     "data": {
      "text/html": [
       "<html lang=\"en\">\n",
       "<script src=\"https://requirejs.org/docs/release/2.3.6/minified/require.js\"></script>\n",
       "<script>\n",
       "    var ecco_url = 'https://storage.googleapis.com/ml-intro/ecco/'\n",
       "    // var ecco_url = 'http://localhost:8000/ecco/'\n",
       "\n",
       "    if (window.ecco === undefined) window.ecco = {}\n",
       "\n",
       "    requirejs.config({\n",
       "        urlArgs: \"bust=\" + (new Date()).getTime(),\n",
       "        nodeRequire: require,\n",
       "        paths: {\n",
       "            d3: \"https://d3js.org/d3.v5.min\",\n",
       "            d3array: \"https://d3js.org/d3-array.v2.min\",\n",
       "            jquery: \"https://code.jquery.com/jquery-3.5.1.min\",\n",
       "            oldEcco: ecco_url + 'ecco',\n",
       "            ecco: ecco_url + 'ecco-bundle',\n",
       "            XRegExp: 'https://cdnjs.cloudflare.com/ajax/libs/xregexp/3.2.0/xregexp-all.min'\n",
       "        }\n",
       "    });\n",
       "    requirejs(['d3'],\n",
       "        function (d3) {\n",
       "            d3.select('#css').attr('href', ecco_url + 'html/styles.css')\n",
       "        })\n",
       "\n",
       "    console.log('Ecco initialize.')\n",
       "</script>\n",
       "\n",
       "<head>\n",
       "    <link id='css' rel=\"stylesheet\" type=\"text/css\">\n",
       "</head>\n"
      ],
      "text/plain": [
       "<IPython.core.display.HTML object>"
      ]
     },
     "metadata": {},
     "output_type": "display_data"
    },
    {
     "data": {
      "text/html": [
       "<script>\n",
       "    // console.log('defining basic')\n",
       "    define('basic', ['d3'],\n",
       "        function (d3) {\n",
       "            return {\n",
       "                init: function (viz_id = null) {\n",
       "\n",
       "                    // console.log('basic init')\n",
       "                    if (viz_id == null){\n",
       "                        viz_id = \"viz_\" + Math.round(Math.random() * 10000000)\n",
       "                    }\n",
       "                    const div = d3.select('#basic').attr('id', viz_id),\n",
       "                        div_parent = d3.select('#' + viz_id).node().parentNode\n",
       "\n",
       "                    // Link to CSS file\n",
       "                    d3.select(div_parent).insert('link')\n",
       "                        .attr('rel', 'stylesheet')\n",
       "                        .attr('type', 'text/css')\n",
       "                        .attr('href', ecco_url + 'html/styles.css')\n",
       "\n",
       "                    return viz_id\n",
       "                }\n",
       "            }\n",
       "        }, function (err) {console.log(err);}\n",
       "    )\n",
       "    // console.log('after defining basic')\n",
       "\n",
       "</script>\n",
       "<div id=\"basic\"></div>\n"
      ],
      "text/plain": [
       "<IPython.core.display.HTML object>"
      ]
     },
     "metadata": {},
     "output_type": "display_data"
    },
    {
     "data": {
      "application/javascript": [
       "\n",
       "         requirejs(['basic', 'ecco'], function(basic, ecco){\n",
       "            const viz_id = basic.init()\n",
       "            ecco.interactiveTokensAndFactorSparklines(viz_id, {'tokens': [{'token': '1', 'token_id': 16, 'type': 'input', 'position': 0}, {'token': '.', 'token_id': 13, 'type': 'input', 'position': 1}, {'token': ' Austria', 'token_id': 17322, 'type': 'input', 'position': 2}, {'token': ' 2', 'token_id': 362, 'type': 'input', 'position': 3}, {'token': '.', 'token_id': 13, 'type': 'input', 'position': 4}, {'token': ' Belgium', 'token_id': 15664, 'type': 'input', 'position': 5}, {'token': ' 3', 'token_id': 513, 'type': 'input', 'position': 6}, {'token': '.', 'token_id': 13, 'type': 'input', 'position': 7}, {'token': ' Bulgaria', 'token_id': 27902, 'type': 'output', 'position': 8}, {'token': ' 4', 'token_id': 604, 'type': 'output', 'position': 9}], 'factors': [[[0.5675638914108276, 0.0013362022582441568, 0.0, 0.0017229863442480564, 0.0004833868588320911, 0.0, 0.0025416763965040445, 0.0, 0.0, 0.0], [0.0, 0.2347777783870697, 0.2729246914386749, 0.23991520702838898, 0.2690434753894806, 0.27541542053222656, 0.26208916306495667, 0.2624804675579071, 0.2624804675579071, 0.2692509591579437]]]})\n",
       "         }, function (err) {\n",
       "            console.log(err);\n",
       "        })"
      ],
      "text/plain": [
       "<IPython.core.display.Javascript object>"
      ]
     },
     "metadata": {},
     "output_type": "display_data"
    },
    {
     "name": "stdout",
     "output_type": "stream",
     "text": [
      "{'tokens': [{'token': '1', 'token_id': 16, 'type': 'input', 'position': 0}, {'token': '.', 'token_id': 13, 'type': 'input', 'position': 1}, {'token': ' Austria', 'token_id': 17322, 'type': 'input', 'position': 2}, {'token': ' 2', 'token_id': 362, 'type': 'input', 'position': 3}, {'token': '.', 'token_id': 13, 'type': 'input', 'position': 4}, {'token': ' Belgium', 'token_id': 15664, 'type': 'input', 'position': 5}, {'token': ' 3', 'token_id': 513, 'type': 'input', 'position': 6}, {'token': '.', 'token_id': 13, 'type': 'input', 'position': 7}, {'token': ' Bulgaria', 'token_id': 27902, 'type': 'output', 'position': 8}, {'token': ' 4', 'token_id': 604, 'type': 'output', 'position': 9}], 'factors': [[[0.5675638914108276, 0.0013362022582441568, 0.0, 0.0017229863442480564, 0.0004833868588320911, 0.0, 0.0025416763965040445, 0.0, 0.0, 0.0], [0.0, 0.2347777783870697, 0.2729246914386749, 0.23991520702838898, 0.2690434753894806, 0.27541542053222656, 0.26208916306495667, 0.2624804675579071, 0.2624804675579071, 0.2692509591579437]]]}\n"
     ]
    }
   ],
   "source": [
    "nmf.explore(printJson=True)"
   ]
  },
  {
   "cell_type": "code",
   "execution_count": null,
   "metadata": {},
   "outputs": [],
   "source": []
  }
 ],
 "metadata": {
  "kernelspec": {
   "display_name": "Python 3",
   "language": "python",
   "name": "python3"
  },
  "language_info": {
   "codemirror_mode": {
    "name": "ipython",
    "version": 3
   },
   "file_extension": ".py",
   "mimetype": "text/x-python",
   "name": "python",
   "nbconvert_exporter": "python",
   "pygments_lexer": "ipython3",
   "version": "3.8.5"
  }
 },
 "nbformat": 4,
 "nbformat_minor": 4
}

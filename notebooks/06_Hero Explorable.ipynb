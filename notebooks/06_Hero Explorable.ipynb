{
 "cells": [
  {
   "cell_type": "markdown",
   "metadata": {
    "colab_type": "text",
    "id": "view-in-github"
   },
   "source": [
    "<a href=\"https://colab.research.google.com/github/jalammar/ecco/blob/main/notebooks/01_Input_saliency.ipynb\" target=\"_parent\"><img src=\"https://colab.research.google.com/assets/colab-badge.svg\" alt=\"Open In Colab\"/></a>"
   ]
  },
  {
   "cell_type": "code",
   "execution_count": null,
   "metadata": {
    "id": "nxI_cH5xjpFL"
   },
   "outputs": [],
   "source": [
    "!pip install ecco"
   ]
  },
  {
   "cell_type": "code",
   "execution_count": 10,
   "metadata": {
    "id": "VS6P8iNIjr-B"
   },
   "outputs": [
    {
     "data": {
      "text/html": [
       "<html lang=\"en\">\n",
       "<script src=\"https://requirejs.org/docs/release/2.3.6/minified/require.js\"></script>\n",
       "<script>\n",
       "    var ecco_url = 'https://storage.googleapis.com/ml-intro/ecco/'\n",
       "    // var ecco_url = 'http://localhost:8000/ecco/'\n",
       "\n",
       "    if (window.ecco === undefined) window.ecco = {}\n",
       "\n",
       "    requirejs.config({\n",
       "        urlArgs: \"bust=\" + (new Date()).getTime(),\n",
       "        nodeRequire: require,\n",
       "        paths: {\n",
       "            d3: \"https://d3js.org/d3.v5.min\",\n",
       "            d3array: \"https://d3js.org/d3-array.v2.min\",\n",
       "            jquery: \"https://code.jquery.com/jquery-3.5.1.min\",\n",
       "            oldEcco: ecco_url + 'ecco',\n",
       "            ecco: ecco_url + 'ecco-bundle',\n",
       "            XRegExp: 'https://cdnjs.cloudflare.com/ajax/libs/xregexp/3.2.0/xregexp-all.min'\n",
       "        }\n",
       "    });\n",
       "    requirejs(['d3'],\n",
       "        function (d3) {\n",
       "            d3.select('#css').attr('href', ecco_url + 'html/styles.css')\n",
       "        })\n",
       "\n",
       "    console.log('Ecco initialize.')\n",
       "</script>\n",
       "\n",
       "<head>\n",
       "    <link id='css' rel=\"stylesheet\" type=\"text/css\">\n",
       "</head>\n"
      ],
      "text/plain": [
       "<IPython.core.display.HTML object>"
      ]
     },
     "metadata": {},
     "output_type": "display_data"
    }
   ],
   "source": [
    "from ecco import language_model\n",
    "lm = language_model.from_pretrained('distilgpt2', activations=True)"
   ]
  },
  {
   "cell_type": "code",
   "execution_count": 24,
   "metadata": {
    "colab": {
     "base_uri": "https://localhost:8080/",
     "height": 413
    },
    "id": "_zHrQkYokJW4",
    "outputId": "3ddeec03-080c-4233-a11a-a2844a2f6f28"
   },
   "outputs": [
    {
     "data": {
      "text/html": [
       "<html lang=\"en\">\n",
       "<script src=\"https://requirejs.org/docs/release/2.3.6/minified/require.js\"></script>\n",
       "<script>\n",
       "    var ecco_url = 'https://storage.googleapis.com/ml-intro/ecco/'\n",
       "    // var ecco_url = 'http://localhost:8000/ecco/'\n",
       "\n",
       "    if (window.ecco === undefined) window.ecco = {}\n",
       "\n",
       "    requirejs.config({\n",
       "        urlArgs: \"bust=\" + (new Date()).getTime(),\n",
       "        nodeRequire: require,\n",
       "        paths: {\n",
       "            d3: \"https://d3js.org/d3.v5.min\",\n",
       "            d3array: \"https://d3js.org/d3-array.v2.min\",\n",
       "            jquery: \"https://code.jquery.com/jquery-3.5.1.min\",\n",
       "            oldEcco: ecco_url + 'ecco',\n",
       "            ecco: ecco_url + 'ecco-bundle',\n",
       "            XRegExp: 'https://cdnjs.cloudflare.com/ajax/libs/xregexp/3.2.0/xregexp-all.min'\n",
       "        }\n",
       "    });\n",
       "    requirejs(['d3'],\n",
       "        function (d3) {\n",
       "            d3.select('#css').attr('href', ecco_url + 'html/styles.css')\n",
       "        })\n",
       "\n",
       "    console.log('Ecco initialize.')\n",
       "</script>\n",
       "\n",
       "<head>\n",
       "    <link id='css' rel=\"stylesheet\" type=\"text/css\">\n",
       "</head>\n"
      ],
      "text/plain": [
       "<IPython.core.display.HTML object>"
      ]
     },
     "metadata": {},
     "output_type": "display_data"
    },
    {
     "data": {
      "text/html": [
       "<script>\n",
       "    console.log('defining basic')\n",
       "    define('basic', ['d3'],\n",
       "        function (d3) {\n",
       "            return {\n",
       "                init: function () {\n",
       "\n",
       "                    console.log('basic init')\n",
       "                    const viz_id = \"viz_\" + Math.round(Math.random() * 10000000)\n",
       "                    const div = d3.select('#basic').attr('id', viz_id),\n",
       "                        div_parent = d3.select('#' + viz_id).node().parentNode\n",
       "\n",
       "                    // Link to CSS file\n",
       "                    d3.select(div_parent).insert('link')\n",
       "                        .attr('rel', 'stylesheet')\n",
       "                        .attr('type', 'text/css')\n",
       "                        .attr('href', ecco_url + 'html/styles.css')\n",
       "\n",
       "                    return viz_id\n",
       "                }\n",
       "            }\n",
       "\n",
       "        }, function (err) {\n",
       "            console.log(err);\n",
       "        }\n",
       "\n",
       "    )\n",
       "\n",
       "    console.log('after defining basic')\n",
       "\n",
       "\n",
       "</script>\n",
       "\n",
       "<div id=\"basic\"></div>"
      ],
      "text/plain": [
       "<IPython.core.display.HTML object>"
      ]
     },
     "metadata": {},
     "output_type": "display_data"
    },
    {
     "data": {
      "application/javascript": [
       "\n",
       "         requirejs(['basic', 'ecco'], function(basic, ecco){\n",
       "            const viz_id = basic.init()\n",
       "\n",
       "            ecco.renderOutputSequence(viz_id, {'tokens': [{'token': '1', 'token_id': 16, 'type': 'input'}, {'token': '.', 'token_id': 13, 'type': 'input'}, {'token': ' Austria', 'token_id': 17322, 'type': 'input'}, {'token': ' 2', 'token_id': 362, 'type': 'input'}, {'token': '.', 'token_id': 13, 'type': 'input'}, {'token': ' Belgium', 'token_id': 15664, 'type': 'input'}, {'token': ' 3', 'token_id': 513, 'type': 'input'}, {'token': '.', 'token_id': 13, 'type': 'input'}, {'token': ' France', 'token_id': 4881, 'type': 'output'}, {'token': ' 4', 'token_id': 604, 'type': 'output'}, {'token': '.', 'token_id': 13, 'type': 'output'}, {'token': ' Hungary', 'token_id': 19562, 'type': 'output'}, {'token': ' 5', 'token_id': 642, 'type': 'output'}, {'token': '.', 'token_id': 13, 'type': 'output'}, {'token': ' Netherlands', 'token_id': 12671, 'type': 'output'}, {'token': ' 6', 'token_id': 718, 'type': 'output'}, {'token': '.', 'token_id': 13, 'type': 'output'}, {'token': ' Switzerland', 'token_id': 14679, 'type': 'output'}, {'token': ' 7', 'token_id': 767, 'type': 'output'}, {'token': '.', 'token_id': 13, 'type': 'output'}, {'token': ' Germany', 'token_id': 4486, 'type': 'output'}, {'token': ' 8', 'token_id': 807, 'type': 'output'}, {'token': '.', 'token_id': 13, 'type': 'output'}]})\n",
       "         }, function (err) {\n",
       "            console.log(err);\n",
       "        })"
      ],
      "text/plain": [
       "<IPython.core.display.Javascript object>"
      ]
     },
     "metadata": {},
     "output_type": "display_data"
    },
    {
     "data": {
      "text/html": [
       "<OutputSeq>"
      ],
      "text/plain": [
       "<ecco.output.OutputSeq at 0x16c25c1df70>"
      ]
     },
     "execution_count": 24,
     "metadata": {},
     "output_type": "execute_result"
    }
   ],
   "source": [
    "text= \"1. Austria 2. Belgium 3.\"\n",
    "\n",
    "output = lm.generate_fi(text, generate=15, do_sample=True)\n",
    "output"
   ]
  },
  {
   "cell_type": "code",
   "execution_count": 34,
   "metadata": {},
   "outputs": [
    {
     "ename": "AttributeError",
     "evalue": "'int' object has no attribute 'shape'",
     "output_type": "error",
     "traceback": [
      "\u001b[1;31m---------------------------------------------------------------------------\u001b[0m",
      "\u001b[1;31mAttributeError\u001b[0m                            Traceback (most recent call last)",
      "\u001b[1;32m<ipython-input-34-31e4fd3351f6>\u001b[0m in \u001b[0;36m<module>\u001b[1;34m\u001b[0m\n\u001b[1;32m----> 1\u001b[1;33m \u001b[0moutput\u001b[0m\u001b[1;33m.\u001b[0m\u001b[0mfactors\u001b[0m\u001b[1;33m(\u001b[0m\u001b[0mcomponents\u001b[0m\u001b[1;33m=\u001b[0m\u001b[1;36m5\u001b[0m\u001b[1;33m)\u001b[0m\u001b[1;33m\u001b[0m\u001b[1;33m\u001b[0m\u001b[0m\n\u001b[0m",
      "\u001b[1;32mc:\\users\\jihad\\google drive\\ml\\code\\ecco\\src\\ecco\\output.py\u001b[0m in \u001b[0;36mfactors\u001b[1;34m(self, components, **kwargs)\u001b[0m\n\u001b[0;32m    359\u001b[0m         \u001b[1;31m# But with different meanings: For inputs, the activation is a response\u001b[0m\u001b[1;33m\u001b[0m\u001b[1;33m\u001b[0m\u001b[1;33m\u001b[0m\u001b[0m\n\u001b[0;32m    360\u001b[0m         \u001b[1;31m# For outputs, the activation is a cause\u001b[0m\u001b[1;33m\u001b[0m\u001b[1;33m\u001b[0m\u001b[1;33m\u001b[0m\u001b[0m\n\u001b[1;32m--> 361\u001b[1;33m         \u001b[0mprint\u001b[0m\u001b[1;33m(\u001b[0m\u001b[1;34m'shape'\u001b[0m\u001b[1;33m,\u001b[0m \u001b[0mcomponents\u001b[0m\u001b[1;33m.\u001b[0m\u001b[0mshape\u001b[0m\u001b[1;33m)\u001b[0m\u001b[1;33m\u001b[0m\u001b[1;33m\u001b[0m\u001b[0m\n\u001b[0m\u001b[0;32m    362\u001b[0m         \u001b[1;31m# for i, comp in enumerate(components[0]):\u001b[0m\u001b[1;33m\u001b[0m\u001b[1;33m\u001b[0m\u001b[1;33m\u001b[0m\u001b[0m\n\u001b[0;32m    363\u001b[0m         \u001b[1;31m#     print(i, comp, '\\nconcat:', np.concatenate([comp[:self.n_input_tokens], comp[self.n_input_tokens-1:]]))\u001b[0m\u001b[1;33m\u001b[0m\u001b[1;33m\u001b[0m\u001b[1;33m\u001b[0m\u001b[0m\n",
      "\u001b[1;31mAttributeError\u001b[0m: 'int' object has no attribute 'shape'"
     ]
    }
   ],
   "source": [
    "output.factors(components=5)"
   ]
  },
  {
   "cell_type": "code",
   "execution_count": 28,
   "metadata": {
    "id": "qeKxMN02tvsj"
   },
   "outputs": [
    {
     "data": {
      "text/plain": [
       "(1, 18432, 22)"
      ]
     },
     "execution_count": 28,
     "metadata": {},
     "output_type": "execute_result"
    }
   ],
   "source": [
    "import numpy as np\n",
    "from_layer = 0\n",
    "to_layer=6\n",
    "merged_act = np.concatenate(output.activations[from_layer: to_layer],axis=0)\n",
    "merged_act = np.expand_dims(merged_act, axis=0)\n",
    "merged_act.shape"
   ]
  },
  {
   "cell_type": "code",
   "execution_count": 32,
   "metadata": {},
   "outputs": [
    {
     "name": "stdout",
     "output_type": "stream",
     "text": [
      "shape (1, 4, 22)\n"
     ]
    },
    {
     "data": {
      "text/html": [
       "<html lang=\"en\">\n",
       "<script src=\"https://requirejs.org/docs/release/2.3.6/minified/require.js\"></script>\n",
       "<script>\n",
       "    var ecco_url = 'https://storage.googleapis.com/ml-intro/ecco/'\n",
       "    // var ecco_url = 'http://localhost:8000/ecco/'\n",
       "\n",
       "    if (window.ecco === undefined) window.ecco = {}\n",
       "\n",
       "    requirejs.config({\n",
       "        urlArgs: \"bust=\" + (new Date()).getTime(),\n",
       "        nodeRequire: require,\n",
       "        paths: {\n",
       "            d3: \"https://d3js.org/d3.v5.min\",\n",
       "            d3array: \"https://d3js.org/d3-array.v2.min\",\n",
       "            jquery: \"https://code.jquery.com/jquery-3.5.1.min\",\n",
       "            oldEcco: ecco_url + 'ecco',\n",
       "            ecco: ecco_url + 'ecco-bundle',\n",
       "            XRegExp: 'https://cdnjs.cloudflare.com/ajax/libs/xregexp/3.2.0/xregexp-all.min'\n",
       "        }\n",
       "    });\n",
       "    requirejs(['d3'],\n",
       "        function (d3) {\n",
       "            d3.select('#css').attr('href', ecco_url + 'html/styles.css')\n",
       "        })\n",
       "\n",
       "    console.log('Ecco initialize.')\n",
       "</script>\n",
       "\n",
       "<head>\n",
       "    <link id='css' rel=\"stylesheet\" type=\"text/css\">\n",
       "</head>\n"
      ],
      "text/plain": [
       "<IPython.core.display.HTML object>"
      ]
     },
     "metadata": {},
     "output_type": "display_data"
    },
    {
     "data": {
      "text/html": [
       "<script>\n",
       "    console.log('defining basic')\n",
       "    define('basic', ['d3'],\n",
       "        function (d3) {\n",
       "            return {\n",
       "                init: function () {\n",
       "\n",
       "                    console.log('basic init')\n",
       "                    const viz_id = \"viz_\" + Math.round(Math.random() * 10000000)\n",
       "                    const div = d3.select('#basic').attr('id', viz_id),\n",
       "                        div_parent = d3.select('#' + viz_id).node().parentNode\n",
       "\n",
       "                    // Link to CSS file\n",
       "                    d3.select(div_parent).insert('link')\n",
       "                        .attr('rel', 'stylesheet')\n",
       "                        .attr('type', 'text/css')\n",
       "                        .attr('href', ecco_url + 'html/styles.css')\n",
       "\n",
       "                    return viz_id\n",
       "                }\n",
       "            }\n",
       "\n",
       "        }, function (err) {\n",
       "            console.log(err);\n",
       "        }\n",
       "\n",
       "    )\n",
       "\n",
       "    console.log('after defining basic')\n",
       "\n",
       "\n",
       "</script>\n",
       "\n",
       "<div id=\"basic\"></div>"
      ],
      "text/plain": [
       "<IPython.core.display.HTML object>"
      ]
     },
     "metadata": {},
     "output_type": "display_data"
    },
    {
     "data": {
      "application/javascript": [
       "\n",
       "         requirejs(['basic', 'ecco'], function(basic, ecco){\n",
       "            const viz_id = basic.init()\n",
       "            ecco.interactiveTokensAndFactorSparklines(viz_id, {'tokens': [{'token': '1', 'token_id': 16, 'type': 'input', 'position': 0}, {'token': '.', 'token_id': 13, 'type': 'input', 'position': 1}, {'token': ' Austria', 'token_id': 17322, 'type': 'input', 'position': 2}, {'token': ' 2', 'token_id': 362, 'type': 'input', 'position': 3}, {'token': '.', 'token_id': 13, 'type': 'input', 'position': 4}, {'token': ' Belgium', 'token_id': 15664, 'type': 'input', 'position': 5}, {'token': ' 3', 'token_id': 513, 'type': 'input', 'position': 6}, {'token': '.', 'token_id': 13, 'type': 'input', 'position': 7}, {'token': ' France', 'token_id': 4881, 'type': 'output', 'position': 8}, {'token': ' 4', 'token_id': 604, 'type': 'output', 'position': 9}, {'token': '.', 'token_id': 13, 'type': 'output', 'position': 10}, {'token': ' Hungary', 'token_id': 19562, 'type': 'output', 'position': 11}, {'token': ' 5', 'token_id': 642, 'type': 'output', 'position': 12}, {'token': '.', 'token_id': 13, 'type': 'output', 'position': 13}, {'token': ' Netherlands', 'token_id': 12671, 'type': 'output', 'position': 14}, {'token': ' 6', 'token_id': 718, 'type': 'output', 'position': 15}, {'token': '.', 'token_id': 13, 'type': 'output', 'position': 16}, {'token': ' Switzerland', 'token_id': 14679, 'type': 'output', 'position': 17}, {'token': ' 7', 'token_id': 767, 'type': 'output', 'position': 18}, {'token': '.', 'token_id': 13, 'type': 'output', 'position': 19}, {'token': ' Germany', 'token_id': 4486, 'type': 'output', 'position': 20}, {'token': ' 8', 'token_id': 807, 'type': 'output', 'position': 21}, {'token': '.', 'token_id': 13, 'type': 'output', 'position': 22}], 'factors': [[[0.7130097150802612, 0.006250028498470783, 0.0034470786340534687, 0.00487870629876852, 0.0027828377205878496, 0.0027430523186922073, 0.0003588048566598445, 0.0, 0.0, 0.0006644954555667937, 0.0, 0.0, 0.0, 0.0, 0.0, 0.0, 0.0, 0.0, 0.0, 0.0, 0.0, 0.0, 0.0], [0.0, 0.06020671874284744, 0.2854151427745819, 0.07903215289115906, 0.009854969568550587, 0.2913075089454651, 0.012347644194960594, 0.006350744049996138, 0.006350744049996138, 0.34940305352211, 0.0, 0.0, 0.3796980082988739, 0.0, 0.0, 0.39945149421691895, 0.0, 0.0, 0.4024277329444885, 0.0, 0.00418926402926445, 0.4075784385204315, 0.0], [0.0, 0.31771841645240784, 0.048681601881980896, 0.126179501414299, 0.5629007816314697, 0.05469341203570366, 0.059935301542282104, 0.6901333332061768, 0.6901333332061768, 0.026360346004366875, 0.021101223304867744, 0.7147911190986633, 0.0019652144983410835, 0.0, 0.7060944437980652, 0.0, 0.0, 0.6896266937255859, 0.0, 0.0, 0.6144963502883911, 0.0, 0.0], [0.0, 0.041004300117492676, 0.02199999988079071, 0.19099846482276917, 0.03632834553718567, 0.04293730482459068, 0.45485618710517883, 0.0, 0.0, 0.007815460674464703, 0.5328730344772339, 0.0, 0.009771808050572872, 0.559761106967926, 0.0, 0.0, 0.5634068846702576, 0.0, 0.0, 0.5650780200958252, 0.007079835515469313, 0.0, 0.5760698914527893]]]})\n",
       "         }, function (err) {\n",
       "            console.log(err);\n",
       "        })"
      ],
      "text/plain": [
       "<IPython.core.display.Javascript object>"
      ]
     },
     "metadata": {},
     "output_type": "display_data"
    }
   ],
   "source": [
    "from ecco.output import NMF\n",
    "\n",
    "nmf = NMF(merged_act, output.tokens, n_components=4)\n",
    "output.factors(nmf.components)"
   ]
  },
  {
   "cell_type": "code",
   "execution_count": null,
   "metadata": {},
   "outputs": [],
   "source": []
  }
 ],
 "metadata": {
  "colab": {
   "authorship_tag": "ABX9TyMnizQU2ql7IXXeJhoBfPbM",
   "collapsed_sections": [],
   "include_colab_link": true,
   "name": "01- Input-saliency.ipynb",
   "provenance": []
  },
  "kernelspec": {
   "display_name": "Python 3",
   "language": "python",
   "name": "python3"
  },
  "language_info": {
   "codemirror_mode": {
    "name": "ipython",
    "version": 3
   },
   "file_extension": ".py",
   "mimetype": "text/x-python",
   "name": "python",
   "nbconvert_exporter": "python",
   "pygments_lexer": "ipython3",
   "version": "3.8.5"
  }
 },
 "nbformat": 4,
 "nbformat_minor": 1
}

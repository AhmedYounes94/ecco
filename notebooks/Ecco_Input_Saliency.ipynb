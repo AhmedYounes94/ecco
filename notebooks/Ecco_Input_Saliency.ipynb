{
  "nbformat": 4,
  "nbformat_minor": 0,
  "metadata": {
    "colab": {
      "name": "Ecco-Input-saliency.ipynb",
      "provenance": [],
      "collapsed_sections": [],
      "authorship_tag": "ABX9TyMQ8l+Ils56uUHAyP0vQBEr",
      "include_colab_link": true
    },
    "kernelspec": {
      "name": "python3",
      "display_name": "Python 3"
    },
    "widgets": {
      "application/vnd.jupyter.widget-state+json": {
        "fc0617cd6a334380b2fbeca1381531bd": {
          "model_module": "@jupyter-widgets/controls",
          "model_name": "HBoxModel",
          "state": {
            "_view_name": "HBoxView",
            "_dom_classes": [],
            "_model_name": "HBoxModel",
            "_view_module": "@jupyter-widgets/controls",
            "_model_module_version": "1.5.0",
            "_view_count": null,
            "_view_module_version": "1.5.0",
            "box_style": "",
            "layout": "IPY_MODEL_c01b464fa15c49e58fc9bb1fee5efe89",
            "_model_module": "@jupyter-widgets/controls",
            "children": [
              "IPY_MODEL_d954caaebe8e4c23a7582d5aceeb31cc",
              "IPY_MODEL_48a2a12f49b4497db06d8a2e27599a4f"
            ]
          }
        },
        "c01b464fa15c49e58fc9bb1fee5efe89": {
          "model_module": "@jupyter-widgets/base",
          "model_name": "LayoutModel",
          "state": {
            "_view_name": "LayoutView",
            "grid_template_rows": null,
            "right": null,
            "justify_content": null,
            "_view_module": "@jupyter-widgets/base",
            "overflow": null,
            "_model_module_version": "1.2.0",
            "_view_count": null,
            "flex_flow": null,
            "width": null,
            "min_width": null,
            "border": null,
            "align_items": null,
            "bottom": null,
            "_model_module": "@jupyter-widgets/base",
            "top": null,
            "grid_column": null,
            "overflow_y": null,
            "overflow_x": null,
            "grid_auto_flow": null,
            "grid_area": null,
            "grid_template_columns": null,
            "flex": null,
            "_model_name": "LayoutModel",
            "justify_items": null,
            "grid_row": null,
            "max_height": null,
            "align_content": null,
            "visibility": null,
            "align_self": null,
            "height": null,
            "min_height": null,
            "padding": null,
            "grid_auto_rows": null,
            "grid_gap": null,
            "max_width": null,
            "order": null,
            "_view_module_version": "1.2.0",
            "grid_template_areas": null,
            "object_position": null,
            "object_fit": null,
            "grid_auto_columns": null,
            "margin": null,
            "display": null,
            "left": null
          }
        },
        "d954caaebe8e4c23a7582d5aceeb31cc": {
          "model_module": "@jupyter-widgets/controls",
          "model_name": "FloatProgressModel",
          "state": {
            "_view_name": "ProgressView",
            "style": "IPY_MODEL_843d9651187a4ccd9053ac52763e1e89",
            "_dom_classes": [],
            "description": "Downloading: 100%",
            "_model_name": "FloatProgressModel",
            "bar_style": "success",
            "max": 762,
            "_view_module": "@jupyter-widgets/controls",
            "_model_module_version": "1.5.0",
            "value": 762,
            "_view_count": null,
            "_view_module_version": "1.5.0",
            "orientation": "horizontal",
            "min": 0,
            "description_tooltip": null,
            "_model_module": "@jupyter-widgets/controls",
            "layout": "IPY_MODEL_654a8c96da5d4c53a3cf96bcfb058eeb"
          }
        },
        "48a2a12f49b4497db06d8a2e27599a4f": {
          "model_module": "@jupyter-widgets/controls",
          "model_name": "HTMLModel",
          "state": {
            "_view_name": "HTMLView",
            "style": "IPY_MODEL_66a84e76bd25470eb7c2123fce45d8de",
            "_dom_classes": [],
            "description": "",
            "_model_name": "HTMLModel",
            "placeholder": "​",
            "_view_module": "@jupyter-widgets/controls",
            "_model_module_version": "1.5.0",
            "value": " 762/762 [00:00&lt;00:00, 19.5kB/s]",
            "_view_count": null,
            "_view_module_version": "1.5.0",
            "description_tooltip": null,
            "_model_module": "@jupyter-widgets/controls",
            "layout": "IPY_MODEL_ca92959e1e50456b9ba35ee339b3a011"
          }
        },
        "843d9651187a4ccd9053ac52763e1e89": {
          "model_module": "@jupyter-widgets/controls",
          "model_name": "ProgressStyleModel",
          "state": {
            "_view_name": "StyleView",
            "_model_name": "ProgressStyleModel",
            "description_width": "initial",
            "_view_module": "@jupyter-widgets/base",
            "_model_module_version": "1.5.0",
            "_view_count": null,
            "_view_module_version": "1.2.0",
            "bar_color": null,
            "_model_module": "@jupyter-widgets/controls"
          }
        },
        "654a8c96da5d4c53a3cf96bcfb058eeb": {
          "model_module": "@jupyter-widgets/base",
          "model_name": "LayoutModel",
          "state": {
            "_view_name": "LayoutView",
            "grid_template_rows": null,
            "right": null,
            "justify_content": null,
            "_view_module": "@jupyter-widgets/base",
            "overflow": null,
            "_model_module_version": "1.2.0",
            "_view_count": null,
            "flex_flow": null,
            "width": null,
            "min_width": null,
            "border": null,
            "align_items": null,
            "bottom": null,
            "_model_module": "@jupyter-widgets/base",
            "top": null,
            "grid_column": null,
            "overflow_y": null,
            "overflow_x": null,
            "grid_auto_flow": null,
            "grid_area": null,
            "grid_template_columns": null,
            "flex": null,
            "_model_name": "LayoutModel",
            "justify_items": null,
            "grid_row": null,
            "max_height": null,
            "align_content": null,
            "visibility": null,
            "align_self": null,
            "height": null,
            "min_height": null,
            "padding": null,
            "grid_auto_rows": null,
            "grid_gap": null,
            "max_width": null,
            "order": null,
            "_view_module_version": "1.2.0",
            "grid_template_areas": null,
            "object_position": null,
            "object_fit": null,
            "grid_auto_columns": null,
            "margin": null,
            "display": null,
            "left": null
          }
        },
        "66a84e76bd25470eb7c2123fce45d8de": {
          "model_module": "@jupyter-widgets/controls",
          "model_name": "DescriptionStyleModel",
          "state": {
            "_view_name": "StyleView",
            "_model_name": "DescriptionStyleModel",
            "description_width": "",
            "_view_module": "@jupyter-widgets/base",
            "_model_module_version": "1.5.0",
            "_view_count": null,
            "_view_module_version": "1.2.0",
            "_model_module": "@jupyter-widgets/controls"
          }
        },
        "ca92959e1e50456b9ba35ee339b3a011": {
          "model_module": "@jupyter-widgets/base",
          "model_name": "LayoutModel",
          "state": {
            "_view_name": "LayoutView",
            "grid_template_rows": null,
            "right": null,
            "justify_content": null,
            "_view_module": "@jupyter-widgets/base",
            "overflow": null,
            "_model_module_version": "1.2.0",
            "_view_count": null,
            "flex_flow": null,
            "width": null,
            "min_width": null,
            "border": null,
            "align_items": null,
            "bottom": null,
            "_model_module": "@jupyter-widgets/base",
            "top": null,
            "grid_column": null,
            "overflow_y": null,
            "overflow_x": null,
            "grid_auto_flow": null,
            "grid_area": null,
            "grid_template_columns": null,
            "flex": null,
            "_model_name": "LayoutModel",
            "justify_items": null,
            "grid_row": null,
            "max_height": null,
            "align_content": null,
            "visibility": null,
            "align_self": null,
            "height": null,
            "min_height": null,
            "padding": null,
            "grid_auto_rows": null,
            "grid_gap": null,
            "max_width": null,
            "order": null,
            "_view_module_version": "1.2.0",
            "grid_template_areas": null,
            "object_position": null,
            "object_fit": null,
            "grid_auto_columns": null,
            "margin": null,
            "display": null,
            "left": null
          }
        },
        "2a31171a097c46849a1d849b516edf0c": {
          "model_module": "@jupyter-widgets/controls",
          "model_name": "HBoxModel",
          "state": {
            "_view_name": "HBoxView",
            "_dom_classes": [],
            "_model_name": "HBoxModel",
            "_view_module": "@jupyter-widgets/controls",
            "_model_module_version": "1.5.0",
            "_view_count": null,
            "_view_module_version": "1.5.0",
            "box_style": "",
            "layout": "IPY_MODEL_4ea5ec6014a7455aa889c3ff1f997a54",
            "_model_module": "@jupyter-widgets/controls",
            "children": [
              "IPY_MODEL_11b0c97384a0406d8a28bd145f401ccb",
              "IPY_MODEL_13150e61504948ad8d2921fcf576fcf8"
            ]
          }
        },
        "4ea5ec6014a7455aa889c3ff1f997a54": {
          "model_module": "@jupyter-widgets/base",
          "model_name": "LayoutModel",
          "state": {
            "_view_name": "LayoutView",
            "grid_template_rows": null,
            "right": null,
            "justify_content": null,
            "_view_module": "@jupyter-widgets/base",
            "overflow": null,
            "_model_module_version": "1.2.0",
            "_view_count": null,
            "flex_flow": null,
            "width": null,
            "min_width": null,
            "border": null,
            "align_items": null,
            "bottom": null,
            "_model_module": "@jupyter-widgets/base",
            "top": null,
            "grid_column": null,
            "overflow_y": null,
            "overflow_x": null,
            "grid_auto_flow": null,
            "grid_area": null,
            "grid_template_columns": null,
            "flex": null,
            "_model_name": "LayoutModel",
            "justify_items": null,
            "grid_row": null,
            "max_height": null,
            "align_content": null,
            "visibility": null,
            "align_self": null,
            "height": null,
            "min_height": null,
            "padding": null,
            "grid_auto_rows": null,
            "grid_gap": null,
            "max_width": null,
            "order": null,
            "_view_module_version": "1.2.0",
            "grid_template_areas": null,
            "object_position": null,
            "object_fit": null,
            "grid_auto_columns": null,
            "margin": null,
            "display": null,
            "left": null
          }
        },
        "11b0c97384a0406d8a28bd145f401ccb": {
          "model_module": "@jupyter-widgets/controls",
          "model_name": "FloatProgressModel",
          "state": {
            "_view_name": "ProgressView",
            "style": "IPY_MODEL_77837f573a78491295cefc7ee3284311",
            "_dom_classes": [],
            "description": "Downloading: 100%",
            "_model_name": "FloatProgressModel",
            "bar_style": "success",
            "max": 1042301,
            "_view_module": "@jupyter-widgets/controls",
            "_model_module_version": "1.5.0",
            "value": 1042301,
            "_view_count": null,
            "_view_module_version": "1.5.0",
            "orientation": "horizontal",
            "min": 0,
            "description_tooltip": null,
            "_model_module": "@jupyter-widgets/controls",
            "layout": "IPY_MODEL_da852b887dda47c481bff66328f19877"
          }
        },
        "13150e61504948ad8d2921fcf576fcf8": {
          "model_module": "@jupyter-widgets/controls",
          "model_name": "HTMLModel",
          "state": {
            "_view_name": "HTMLView",
            "style": "IPY_MODEL_d0ff9b1a6cd7408dbd1e0459e9cf9a95",
            "_dom_classes": [],
            "description": "",
            "_model_name": "HTMLModel",
            "placeholder": "​",
            "_view_module": "@jupyter-widgets/controls",
            "_model_module_version": "1.5.0",
            "value": " 1.04M/1.04M [00:00&lt;00:00, 2.15MB/s]",
            "_view_count": null,
            "_view_module_version": "1.5.0",
            "description_tooltip": null,
            "_model_module": "@jupyter-widgets/controls",
            "layout": "IPY_MODEL_7f77f0da6da94fc9846304644d384867"
          }
        },
        "77837f573a78491295cefc7ee3284311": {
          "model_module": "@jupyter-widgets/controls",
          "model_name": "ProgressStyleModel",
          "state": {
            "_view_name": "StyleView",
            "_model_name": "ProgressStyleModel",
            "description_width": "initial",
            "_view_module": "@jupyter-widgets/base",
            "_model_module_version": "1.5.0",
            "_view_count": null,
            "_view_module_version": "1.2.0",
            "bar_color": null,
            "_model_module": "@jupyter-widgets/controls"
          }
        },
        "da852b887dda47c481bff66328f19877": {
          "model_module": "@jupyter-widgets/base",
          "model_name": "LayoutModel",
          "state": {
            "_view_name": "LayoutView",
            "grid_template_rows": null,
            "right": null,
            "justify_content": null,
            "_view_module": "@jupyter-widgets/base",
            "overflow": null,
            "_model_module_version": "1.2.0",
            "_view_count": null,
            "flex_flow": null,
            "width": null,
            "min_width": null,
            "border": null,
            "align_items": null,
            "bottom": null,
            "_model_module": "@jupyter-widgets/base",
            "top": null,
            "grid_column": null,
            "overflow_y": null,
            "overflow_x": null,
            "grid_auto_flow": null,
            "grid_area": null,
            "grid_template_columns": null,
            "flex": null,
            "_model_name": "LayoutModel",
            "justify_items": null,
            "grid_row": null,
            "max_height": null,
            "align_content": null,
            "visibility": null,
            "align_self": null,
            "height": null,
            "min_height": null,
            "padding": null,
            "grid_auto_rows": null,
            "grid_gap": null,
            "max_width": null,
            "order": null,
            "_view_module_version": "1.2.0",
            "grid_template_areas": null,
            "object_position": null,
            "object_fit": null,
            "grid_auto_columns": null,
            "margin": null,
            "display": null,
            "left": null
          }
        },
        "d0ff9b1a6cd7408dbd1e0459e9cf9a95": {
          "model_module": "@jupyter-widgets/controls",
          "model_name": "DescriptionStyleModel",
          "state": {
            "_view_name": "StyleView",
            "_model_name": "DescriptionStyleModel",
            "description_width": "",
            "_view_module": "@jupyter-widgets/base",
            "_model_module_version": "1.5.0",
            "_view_count": null,
            "_view_module_version": "1.2.0",
            "_model_module": "@jupyter-widgets/controls"
          }
        },
        "7f77f0da6da94fc9846304644d384867": {
          "model_module": "@jupyter-widgets/base",
          "model_name": "LayoutModel",
          "state": {
            "_view_name": "LayoutView",
            "grid_template_rows": null,
            "right": null,
            "justify_content": null,
            "_view_module": "@jupyter-widgets/base",
            "overflow": null,
            "_model_module_version": "1.2.0",
            "_view_count": null,
            "flex_flow": null,
            "width": null,
            "min_width": null,
            "border": null,
            "align_items": null,
            "bottom": null,
            "_model_module": "@jupyter-widgets/base",
            "top": null,
            "grid_column": null,
            "overflow_y": null,
            "overflow_x": null,
            "grid_auto_flow": null,
            "grid_area": null,
            "grid_template_columns": null,
            "flex": null,
            "_model_name": "LayoutModel",
            "justify_items": null,
            "grid_row": null,
            "max_height": null,
            "align_content": null,
            "visibility": null,
            "align_self": null,
            "height": null,
            "min_height": null,
            "padding": null,
            "grid_auto_rows": null,
            "grid_gap": null,
            "max_width": null,
            "order": null,
            "_view_module_version": "1.2.0",
            "grid_template_areas": null,
            "object_position": null,
            "object_fit": null,
            "grid_auto_columns": null,
            "margin": null,
            "display": null,
            "left": null
          }
        },
        "253e1dd6277f4de7841ca38f6a150e40": {
          "model_module": "@jupyter-widgets/controls",
          "model_name": "HBoxModel",
          "state": {
            "_view_name": "HBoxView",
            "_dom_classes": [],
            "_model_name": "HBoxModel",
            "_view_module": "@jupyter-widgets/controls",
            "_model_module_version": "1.5.0",
            "_view_count": null,
            "_view_module_version": "1.5.0",
            "box_style": "",
            "layout": "IPY_MODEL_1a9d018680cb4264a52275b2e6f4e1ad",
            "_model_module": "@jupyter-widgets/controls",
            "children": [
              "IPY_MODEL_d2899edab0c04fc9b5f69d4092523530",
              "IPY_MODEL_d13fd06558714db4abb1fd42cab86ccb"
            ]
          }
        },
        "1a9d018680cb4264a52275b2e6f4e1ad": {
          "model_module": "@jupyter-widgets/base",
          "model_name": "LayoutModel",
          "state": {
            "_view_name": "LayoutView",
            "grid_template_rows": null,
            "right": null,
            "justify_content": null,
            "_view_module": "@jupyter-widgets/base",
            "overflow": null,
            "_model_module_version": "1.2.0",
            "_view_count": null,
            "flex_flow": null,
            "width": null,
            "min_width": null,
            "border": null,
            "align_items": null,
            "bottom": null,
            "_model_module": "@jupyter-widgets/base",
            "top": null,
            "grid_column": null,
            "overflow_y": null,
            "overflow_x": null,
            "grid_auto_flow": null,
            "grid_area": null,
            "grid_template_columns": null,
            "flex": null,
            "_model_name": "LayoutModel",
            "justify_items": null,
            "grid_row": null,
            "max_height": null,
            "align_content": null,
            "visibility": null,
            "align_self": null,
            "height": null,
            "min_height": null,
            "padding": null,
            "grid_auto_rows": null,
            "grid_gap": null,
            "max_width": null,
            "order": null,
            "_view_module_version": "1.2.0",
            "grid_template_areas": null,
            "object_position": null,
            "object_fit": null,
            "grid_auto_columns": null,
            "margin": null,
            "display": null,
            "left": null
          }
        },
        "d2899edab0c04fc9b5f69d4092523530": {
          "model_module": "@jupyter-widgets/controls",
          "model_name": "FloatProgressModel",
          "state": {
            "_view_name": "ProgressView",
            "style": "IPY_MODEL_7afe3d8c9bc94d3f828cdd9386b33dbb",
            "_dom_classes": [],
            "description": "Downloading: 100%",
            "_model_name": "FloatProgressModel",
            "bar_style": "success",
            "max": 456318,
            "_view_module": "@jupyter-widgets/controls",
            "_model_module_version": "1.5.0",
            "value": 456318,
            "_view_count": null,
            "_view_module_version": "1.5.0",
            "orientation": "horizontal",
            "min": 0,
            "description_tooltip": null,
            "_model_module": "@jupyter-widgets/controls",
            "layout": "IPY_MODEL_f10ddd34a1d04ca78f732d93df79984a"
          }
        },
        "d13fd06558714db4abb1fd42cab86ccb": {
          "model_module": "@jupyter-widgets/controls",
          "model_name": "HTMLModel",
          "state": {
            "_view_name": "HTMLView",
            "style": "IPY_MODEL_1b190ddeed97495697f4b975f8db5596",
            "_dom_classes": [],
            "description": "",
            "_model_name": "HTMLModel",
            "placeholder": "​",
            "_view_module": "@jupyter-widgets/controls",
            "_model_module_version": "1.5.0",
            "value": " 456k/456k [00:00&lt;00:00, 2.87MB/s]",
            "_view_count": null,
            "_view_module_version": "1.5.0",
            "description_tooltip": null,
            "_model_module": "@jupyter-widgets/controls",
            "layout": "IPY_MODEL_097b0fceace54e29afc2f28a524137a3"
          }
        },
        "7afe3d8c9bc94d3f828cdd9386b33dbb": {
          "model_module": "@jupyter-widgets/controls",
          "model_name": "ProgressStyleModel",
          "state": {
            "_view_name": "StyleView",
            "_model_name": "ProgressStyleModel",
            "description_width": "initial",
            "_view_module": "@jupyter-widgets/base",
            "_model_module_version": "1.5.0",
            "_view_count": null,
            "_view_module_version": "1.2.0",
            "bar_color": null,
            "_model_module": "@jupyter-widgets/controls"
          }
        },
        "f10ddd34a1d04ca78f732d93df79984a": {
          "model_module": "@jupyter-widgets/base",
          "model_name": "LayoutModel",
          "state": {
            "_view_name": "LayoutView",
            "grid_template_rows": null,
            "right": null,
            "justify_content": null,
            "_view_module": "@jupyter-widgets/base",
            "overflow": null,
            "_model_module_version": "1.2.0",
            "_view_count": null,
            "flex_flow": null,
            "width": null,
            "min_width": null,
            "border": null,
            "align_items": null,
            "bottom": null,
            "_model_module": "@jupyter-widgets/base",
            "top": null,
            "grid_column": null,
            "overflow_y": null,
            "overflow_x": null,
            "grid_auto_flow": null,
            "grid_area": null,
            "grid_template_columns": null,
            "flex": null,
            "_model_name": "LayoutModel",
            "justify_items": null,
            "grid_row": null,
            "max_height": null,
            "align_content": null,
            "visibility": null,
            "align_self": null,
            "height": null,
            "min_height": null,
            "padding": null,
            "grid_auto_rows": null,
            "grid_gap": null,
            "max_width": null,
            "order": null,
            "_view_module_version": "1.2.0",
            "grid_template_areas": null,
            "object_position": null,
            "object_fit": null,
            "grid_auto_columns": null,
            "margin": null,
            "display": null,
            "left": null
          }
        },
        "1b190ddeed97495697f4b975f8db5596": {
          "model_module": "@jupyter-widgets/controls",
          "model_name": "DescriptionStyleModel",
          "state": {
            "_view_name": "StyleView",
            "_model_name": "DescriptionStyleModel",
            "description_width": "",
            "_view_module": "@jupyter-widgets/base",
            "_model_module_version": "1.5.0",
            "_view_count": null,
            "_view_module_version": "1.2.0",
            "_model_module": "@jupyter-widgets/controls"
          }
        },
        "097b0fceace54e29afc2f28a524137a3": {
          "model_module": "@jupyter-widgets/base",
          "model_name": "LayoutModel",
          "state": {
            "_view_name": "LayoutView",
            "grid_template_rows": null,
            "right": null,
            "justify_content": null,
            "_view_module": "@jupyter-widgets/base",
            "overflow": null,
            "_model_module_version": "1.2.0",
            "_view_count": null,
            "flex_flow": null,
            "width": null,
            "min_width": null,
            "border": null,
            "align_items": null,
            "bottom": null,
            "_model_module": "@jupyter-widgets/base",
            "top": null,
            "grid_column": null,
            "overflow_y": null,
            "overflow_x": null,
            "grid_auto_flow": null,
            "grid_area": null,
            "grid_template_columns": null,
            "flex": null,
            "_model_name": "LayoutModel",
            "justify_items": null,
            "grid_row": null,
            "max_height": null,
            "align_content": null,
            "visibility": null,
            "align_self": null,
            "height": null,
            "min_height": null,
            "padding": null,
            "grid_auto_rows": null,
            "grid_gap": null,
            "max_width": null,
            "order": null,
            "_view_module_version": "1.2.0",
            "grid_template_areas": null,
            "object_position": null,
            "object_fit": null,
            "grid_auto_columns": null,
            "margin": null,
            "display": null,
            "left": null
          }
        },
        "a22e3fea5869435fadf302e0e12e75e9": {
          "model_module": "@jupyter-widgets/controls",
          "model_name": "HBoxModel",
          "state": {
            "_view_name": "HBoxView",
            "_dom_classes": [],
            "_model_name": "HBoxModel",
            "_view_module": "@jupyter-widgets/controls",
            "_model_module_version": "1.5.0",
            "_view_count": null,
            "_view_module_version": "1.5.0",
            "box_style": "",
            "layout": "IPY_MODEL_44418ed61fb74ec18268a6eb8a4fe13d",
            "_model_module": "@jupyter-widgets/controls",
            "children": [
              "IPY_MODEL_3a1496b35447422499c24471747f849c",
              "IPY_MODEL_a7b502c8b5514d0bb0846b34043486d1"
            ]
          }
        },
        "44418ed61fb74ec18268a6eb8a4fe13d": {
          "model_module": "@jupyter-widgets/base",
          "model_name": "LayoutModel",
          "state": {
            "_view_name": "LayoutView",
            "grid_template_rows": null,
            "right": null,
            "justify_content": null,
            "_view_module": "@jupyter-widgets/base",
            "overflow": null,
            "_model_module_version": "1.2.0",
            "_view_count": null,
            "flex_flow": null,
            "width": null,
            "min_width": null,
            "border": null,
            "align_items": null,
            "bottom": null,
            "_model_module": "@jupyter-widgets/base",
            "top": null,
            "grid_column": null,
            "overflow_y": null,
            "overflow_x": null,
            "grid_auto_flow": null,
            "grid_area": null,
            "grid_template_columns": null,
            "flex": null,
            "_model_name": "LayoutModel",
            "justify_items": null,
            "grid_row": null,
            "max_height": null,
            "align_content": null,
            "visibility": null,
            "align_self": null,
            "height": null,
            "min_height": null,
            "padding": null,
            "grid_auto_rows": null,
            "grid_gap": null,
            "max_width": null,
            "order": null,
            "_view_module_version": "1.2.0",
            "grid_template_areas": null,
            "object_position": null,
            "object_fit": null,
            "grid_auto_columns": null,
            "margin": null,
            "display": null,
            "left": null
          }
        },
        "3a1496b35447422499c24471747f849c": {
          "model_module": "@jupyter-widgets/controls",
          "model_name": "FloatProgressModel",
          "state": {
            "_view_name": "ProgressView",
            "style": "IPY_MODEL_6fe0cc18927240e0b19b7615de88f164",
            "_dom_classes": [],
            "description": "Downloading: 100%",
            "_model_name": "FloatProgressModel",
            "bar_style": "success",
            "max": 352833716,
            "_view_module": "@jupyter-widgets/controls",
            "_model_module_version": "1.5.0",
            "value": 352833716,
            "_view_count": null,
            "_view_module_version": "1.5.0",
            "orientation": "horizontal",
            "min": 0,
            "description_tooltip": null,
            "_model_module": "@jupyter-widgets/controls",
            "layout": "IPY_MODEL_049b6275bf5a47adbe8ca8fa77300e25"
          }
        },
        "a7b502c8b5514d0bb0846b34043486d1": {
          "model_module": "@jupyter-widgets/controls",
          "model_name": "HTMLModel",
          "state": {
            "_view_name": "HTMLView",
            "style": "IPY_MODEL_a7d8f05e1628498babb18c7e28da9d58",
            "_dom_classes": [],
            "description": "",
            "_model_name": "HTMLModel",
            "placeholder": "​",
            "_view_module": "@jupyter-widgets/controls",
            "_model_module_version": "1.5.0",
            "value": " 353M/353M [00:06&lt;00:00, 57.2MB/s]",
            "_view_count": null,
            "_view_module_version": "1.5.0",
            "description_tooltip": null,
            "_model_module": "@jupyter-widgets/controls",
            "layout": "IPY_MODEL_8a4ce4598936423e861b9a0cc57f617a"
          }
        },
        "6fe0cc18927240e0b19b7615de88f164": {
          "model_module": "@jupyter-widgets/controls",
          "model_name": "ProgressStyleModel",
          "state": {
            "_view_name": "StyleView",
            "_model_name": "ProgressStyleModel",
            "description_width": "initial",
            "_view_module": "@jupyter-widgets/base",
            "_model_module_version": "1.5.0",
            "_view_count": null,
            "_view_module_version": "1.2.0",
            "bar_color": null,
            "_model_module": "@jupyter-widgets/controls"
          }
        },
        "049b6275bf5a47adbe8ca8fa77300e25": {
          "model_module": "@jupyter-widgets/base",
          "model_name": "LayoutModel",
          "state": {
            "_view_name": "LayoutView",
            "grid_template_rows": null,
            "right": null,
            "justify_content": null,
            "_view_module": "@jupyter-widgets/base",
            "overflow": null,
            "_model_module_version": "1.2.0",
            "_view_count": null,
            "flex_flow": null,
            "width": null,
            "min_width": null,
            "border": null,
            "align_items": null,
            "bottom": null,
            "_model_module": "@jupyter-widgets/base",
            "top": null,
            "grid_column": null,
            "overflow_y": null,
            "overflow_x": null,
            "grid_auto_flow": null,
            "grid_area": null,
            "grid_template_columns": null,
            "flex": null,
            "_model_name": "LayoutModel",
            "justify_items": null,
            "grid_row": null,
            "max_height": null,
            "align_content": null,
            "visibility": null,
            "align_self": null,
            "height": null,
            "min_height": null,
            "padding": null,
            "grid_auto_rows": null,
            "grid_gap": null,
            "max_width": null,
            "order": null,
            "_view_module_version": "1.2.0",
            "grid_template_areas": null,
            "object_position": null,
            "object_fit": null,
            "grid_auto_columns": null,
            "margin": null,
            "display": null,
            "left": null
          }
        },
        "a7d8f05e1628498babb18c7e28da9d58": {
          "model_module": "@jupyter-widgets/controls",
          "model_name": "DescriptionStyleModel",
          "state": {
            "_view_name": "StyleView",
            "_model_name": "DescriptionStyleModel",
            "description_width": "",
            "_view_module": "@jupyter-widgets/base",
            "_model_module_version": "1.5.0",
            "_view_count": null,
            "_view_module_version": "1.2.0",
            "_model_module": "@jupyter-widgets/controls"
          }
        },
        "8a4ce4598936423e861b9a0cc57f617a": {
          "model_module": "@jupyter-widgets/base",
          "model_name": "LayoutModel",
          "state": {
            "_view_name": "LayoutView",
            "grid_template_rows": null,
            "right": null,
            "justify_content": null,
            "_view_module": "@jupyter-widgets/base",
            "overflow": null,
            "_model_module_version": "1.2.0",
            "_view_count": null,
            "flex_flow": null,
            "width": null,
            "min_width": null,
            "border": null,
            "align_items": null,
            "bottom": null,
            "_model_module": "@jupyter-widgets/base",
            "top": null,
            "grid_column": null,
            "overflow_y": null,
            "overflow_x": null,
            "grid_auto_flow": null,
            "grid_area": null,
            "grid_template_columns": null,
            "flex": null,
            "_model_name": "LayoutModel",
            "justify_items": null,
            "grid_row": null,
            "max_height": null,
            "align_content": null,
            "visibility": null,
            "align_self": null,
            "height": null,
            "min_height": null,
            "padding": null,
            "grid_auto_rows": null,
            "grid_gap": null,
            "max_width": null,
            "order": null,
            "_view_module_version": "1.2.0",
            "grid_template_areas": null,
            "object_position": null,
            "object_fit": null,
            "grid_auto_columns": null,
            "margin": null,
            "display": null,
            "left": null
          }
        }
      }
    }
  },
  "cells": [
    {
      "cell_type": "markdown",
      "metadata": {
        "id": "view-in-github",
        "colab_type": "text"
      },
      "source": [
        "<a href=\"https://colab.research.google.com/github/jalammar/ecco/blob/main/notebooks/Ecco_Input_Saliency.ipynb\" target=\"_parent\"><img src=\"https://colab.research.google.com/assets/colab-badge.svg\" alt=\"Open In Colab\"/></a>"
      ]
    },
    {
      "cell_type": "code",
      "metadata": {
        "id": "nxI_cH5xjpFL"
      },
      "source": [
        "# !pip install ecco\r\n",
        "!pip install git+https://github.com/jalammar/ecco.git"
      ],
      "execution_count": null,
      "outputs": []
    },
    {
      "cell_type": "code",
      "metadata": {
        "colab": {
          "base_uri": "https://localhost:8080/",
          "height": 215,
          "referenced_widgets": [
            "fc0617cd6a334380b2fbeca1381531bd",
            "c01b464fa15c49e58fc9bb1fee5efe89",
            "d954caaebe8e4c23a7582d5aceeb31cc",
            "48a2a12f49b4497db06d8a2e27599a4f",
            "843d9651187a4ccd9053ac52763e1e89",
            "654a8c96da5d4c53a3cf96bcfb058eeb",
            "66a84e76bd25470eb7c2123fce45d8de",
            "ca92959e1e50456b9ba35ee339b3a011",
            "2a31171a097c46849a1d849b516edf0c",
            "4ea5ec6014a7455aa889c3ff1f997a54",
            "11b0c97384a0406d8a28bd145f401ccb",
            "13150e61504948ad8d2921fcf576fcf8",
            "77837f573a78491295cefc7ee3284311",
            "da852b887dda47c481bff66328f19877",
            "d0ff9b1a6cd7408dbd1e0459e9cf9a95",
            "7f77f0da6da94fc9846304644d384867",
            "253e1dd6277f4de7841ca38f6a150e40",
            "1a9d018680cb4264a52275b2e6f4e1ad",
            "d2899edab0c04fc9b5f69d4092523530",
            "d13fd06558714db4abb1fd42cab86ccb",
            "7afe3d8c9bc94d3f828cdd9386b33dbb",
            "f10ddd34a1d04ca78f732d93df79984a",
            "1b190ddeed97495697f4b975f8db5596",
            "097b0fceace54e29afc2f28a524137a3",
            "a22e3fea5869435fadf302e0e12e75e9",
            "44418ed61fb74ec18268a6eb8a4fe13d",
            "3a1496b35447422499c24471747f849c",
            "a7b502c8b5514d0bb0846b34043486d1",
            "6fe0cc18927240e0b19b7615de88f164",
            "049b6275bf5a47adbe8ca8fa77300e25",
            "a7d8f05e1628498babb18c7e28da9d58",
            "8a4ce4598936423e861b9a0cc57f617a"
          ]
        },
        "id": "zzcMoKUkV3aH",
        "outputId": "cc974699-d944-4287-9d24-2c358aff1891"
      },
      "source": [
        "import ecco\n",
        "lm = ecco.from_pretrained('distilgpt2')"
      ],
      "execution_count": 2,
      "outputs": [
        {
          "output_type": "display_data",
          "data": {
            "application/vnd.jupyter.widget-view+json": {
              "model_id": "fc0617cd6a334380b2fbeca1381531bd",
              "version_minor": 0,
              "version_major": 2
            },
            "text/plain": [
              "HBox(children=(FloatProgress(value=0.0, description='Downloading', max=762.0, style=ProgressStyle(description_…"
            ]
          },
          "metadata": {
            "tags": []
          }
        },
        {
          "output_type": "stream",
          "text": [
            "\n"
          ],
          "name": "stdout"
        },
        {
          "output_type": "display_data",
          "data": {
            "application/vnd.jupyter.widget-view+json": {
              "model_id": "2a31171a097c46849a1d849b516edf0c",
              "version_minor": 0,
              "version_major": 2
            },
            "text/plain": [
              "HBox(children=(FloatProgress(value=0.0, description='Downloading', max=1042301.0, style=ProgressStyle(descript…"
            ]
          },
          "metadata": {
            "tags": []
          }
        },
        {
          "output_type": "stream",
          "text": [
            "\n"
          ],
          "name": "stdout"
        },
        {
          "output_type": "display_data",
          "data": {
            "application/vnd.jupyter.widget-view+json": {
              "model_id": "253e1dd6277f4de7841ca38f6a150e40",
              "version_minor": 0,
              "version_major": 2
            },
            "text/plain": [
              "HBox(children=(FloatProgress(value=0.0, description='Downloading', max=456318.0, style=ProgressStyle(descripti…"
            ]
          },
          "metadata": {
            "tags": []
          }
        },
        {
          "output_type": "stream",
          "text": [
            "\n"
          ],
          "name": "stdout"
        },
        {
          "output_type": "display_data",
          "data": {
            "application/vnd.jupyter.widget-view+json": {
              "model_id": "a22e3fea5869435fadf302e0e12e75e9",
              "version_minor": 0,
              "version_major": 2
            },
            "text/plain": [
              "HBox(children=(FloatProgress(value=0.0, description='Downloading', max=352833716.0, style=ProgressStyle(descri…"
            ]
          },
          "metadata": {
            "tags": []
          }
        },
        {
          "output_type": "stream",
          "text": [
            "\n"
          ],
          "name": "stdout"
        }
      ]
    },
    {
      "cell_type": "code",
      "metadata": {
        "id": "T9bZBZLq-93C",
        "colab": {
          "base_uri": "https://localhost:8080/",
          "height": 334
        },
        "outputId": "70d7374e-a7e0-422d-ee99-fca0550878f2"
      },
      "source": [
        "text= \"The countries of the European Union are:\\n1. Austria\\n2. Belgium\\n3. Bulgaria\\n4.\"\n",
        "\n",
        "output = lm.generate(text, generate=20, do_sample=True)"
      ],
      "execution_count": 3,
      "outputs": [
        {
          "output_type": "display_data",
          "data": {
            "text/html": [
              "<html lang=\"en\">\n",
              "<script src=\"https://requirejs.org/docs/release/2.3.6/minified/require.js\"></script>\n",
              "<script>\n",
              "    var ecco_url = 'https://storage.googleapis.com/ml-intro/ecco/'\n",
              "    // var ecco_url = 'http://localhost:8000/ecco/'\n",
              "\n",
              "    if (window.ecco === undefined) window.ecco = {}\n",
              "\n",
              "    requirejs.config({\n",
              "        urlArgs: \"bust=\" + (new Date()).getTime(),\n",
              "        nodeRequire: require,\n",
              "        paths: {\n",
              "            d3: \"https://d3js.org/d3.v5.min\",\n",
              "            \"d3-array\": \"https://d3js.org/d3-array.v2.min\",\n",
              "            jquery: \"https://code.jquery.com/jquery-3.5.1.min\",\n",
              "            // oldEcco: ecco_url + 'ecco',\n",
              "            ecco: ecco_url + 'js/0.0.4/ecco-bundle.min',\n",
              "            xregexp: 'https://cdnjs.cloudflare.com/ajax/libs/xregexp/3.2.0/xregexp-all.min'\n",
              "        }\n",
              "    });\n",
              "    requirejs(['d3'],\n",
              "        function (d3) {\n",
              "            d3.select('#css').attr('href', ecco_url + 'html/styles.css')\n",
              "        })\n",
              "\n",
              "    console.log('Ecco initialize.')\n",
              "</script>\n",
              "\n",
              "<head>\n",
              "    <link id='css' rel=\"stylesheet\" type=\"text/css\">\n",
              "</head>\n"
            ],
            "text/plain": [
              "<IPython.core.display.HTML object>"
            ]
          },
          "metadata": {
            "tags": []
          }
        },
        {
          "output_type": "display_data",
          "data": {
            "text/html": [
              "<script>\n",
              "    // console.log('defining basic')\n",
              "    define('basic', ['d3'],\n",
              "        function (d3) {\n",
              "            return {\n",
              "                init: function (viz_id = null) {\n",
              "\n",
              "                    // console.log('basic init')\n",
              "                    if (viz_id == null){\n",
              "                        viz_id = \"viz_\" + Math.round(Math.random() * 10000000)\n",
              "                    }\n",
              "                    const div = d3.select('#basic').attr('id', viz_id),\n",
              "                        div_parent = d3.select('#' + viz_id).node().parentNode\n",
              "\n",
              "                    // Link to CSS file\n",
              "                    d3.select(div_parent).insert('link')\n",
              "                        .attr('rel', 'stylesheet')\n",
              "                        .attr('type', 'text/css')\n",
              "                        .attr('href', ecco_url + 'html/styles.css')\n",
              "\n",
              "                    return viz_id\n",
              "                }\n",
              "            }\n",
              "        }, function (err) {console.log(err);}\n",
              "    )\n",
              "    // console.log('after defining basic')\n",
              "\n",
              "</script>\n",
              "<div id=\"basic\"></div>\n"
            ],
            "text/plain": [
              "<IPython.core.display.HTML object>"
            ]
          },
          "metadata": {
            "tags": []
          }
        },
        {
          "output_type": "display_data",
          "data": {
            "application/javascript": [
              "\n",
              "\n",
              "         requirejs( ['basic', 'ecco'], function(basic, ecco){\n",
              "            basic.init('viz_956015')\n",
              "\n",
              "            window.ecco['viz_956015'] = ecco.renderOutputSequence('viz_956015', {'tokens': [{'token': 'The', 'position': 0, 'token_id': 464, 'type': 'input'}, {'token': ' countries', 'position': 1, 'token_id': 2678, 'type': 'input'}, {'token': ' of', 'position': 2, 'token_id': 286, 'type': 'input'}, {'token': ' the', 'position': 3, 'token_id': 262, 'type': 'input'}, {'token': ' European', 'position': 4, 'token_id': 3427, 'type': 'input'}, {'token': ' Union', 'position': 5, 'token_id': 4479, 'type': 'input'}, {'token': ' are', 'position': 6, 'token_id': 389, 'type': 'input'}, {'token': ':', 'position': 7, 'token_id': 25, 'type': 'input'}, {'token': '\\n', 'position': 8, 'token_id': 198, 'type': 'input'}, {'token': '1', 'position': 9, 'token_id': 16, 'type': 'input'}, {'token': '.', 'position': 10, 'token_id': 13, 'type': 'input'}, {'token': ' Austria', 'position': 11, 'token_id': 17322, 'type': 'input'}, {'token': '\\n', 'position': 12, 'token_id': 198, 'type': 'input'}, {'token': '2', 'position': 13, 'token_id': 17, 'type': 'input'}, {'token': '.', 'position': 14, 'token_id': 13, 'type': 'input'}, {'token': ' Belgium', 'position': 15, 'token_id': 15664, 'type': 'input'}, {'token': '\\n', 'position': 16, 'token_id': 198, 'type': 'input'}, {'token': '3', 'position': 17, 'token_id': 18, 'type': 'input'}, {'token': '.', 'position': 18, 'token_id': 13, 'type': 'input'}, {'token': ' Bulgaria', 'position': 19, 'token_id': 27902, 'type': 'input'}, {'token': '\\n', 'position': 20, 'token_id': 198, 'type': 'input'}, {'token': '4', 'position': 21, 'token_id': 19, 'type': 'input'}, {'token': '.', 'position': 22, 'token_id': 13, 'type': 'input'}]})\n",
              "         }, function (err) {\n",
              "            console.log(err);\n",
              "        })\n"
            ],
            "text/plain": [
              "<IPython.core.display.Javascript object>"
            ]
          },
          "metadata": {
            "tags": []
          }
        },
        {
          "output_type": "display_data",
          "data": {
            "application/javascript": [
              "\n",
              "        // We don't really need these require scripts. But this is to avert \n",
              "        //this code from running before display_input_sequence which DOES require external files\n",
              "        requirejs(['basic', 'ecco'], function(basic, ecco){ \n",
              "                console.log('addToken viz_id', 'viz_956015');\n",
              "                window.ecco['viz_956015'].addToken({\"token\": \" Croatia\", \"token_id\": 28975, \"position\": 23, \"type\": \"output\"})\n",
              "                window.ecco['viz_956015'].redraw()\n",
              "        })\n",
              "        "
            ],
            "text/plain": [
              "<IPython.core.display.Javascript object>"
            ]
          },
          "metadata": {
            "tags": []
          }
        },
        {
          "output_type": "display_data",
          "data": {
            "application/javascript": [
              "\n",
              "        // We don't really need these require scripts. But this is to avert \n",
              "        //this code from running before display_input_sequence which DOES require external files\n",
              "        requirejs(['basic', 'ecco'], function(basic, ecco){ \n",
              "                console.log('addToken viz_id', 'viz_956015');\n",
              "                window.ecco['viz_956015'].addToken({\"token\": \"\\n\", \"token_id\": 198, \"position\": 24, \"type\": \"output\"})\n",
              "                window.ecco['viz_956015'].redraw()\n",
              "        })\n",
              "        "
            ],
            "text/plain": [
              "<IPython.core.display.Javascript object>"
            ]
          },
          "metadata": {
            "tags": []
          }
        },
        {
          "output_type": "display_data",
          "data": {
            "application/javascript": [
              "\n",
              "        // We don't really need these require scripts. But this is to avert \n",
              "        //this code from running before display_input_sequence which DOES require external files\n",
              "        requirejs(['basic', 'ecco'], function(basic, ecco){ \n",
              "                console.log('addToken viz_id', 'viz_956015');\n",
              "                window.ecco['viz_956015'].addToken({\"token\": \"5\", \"token_id\": 20, \"position\": 25, \"type\": \"output\"})\n",
              "                window.ecco['viz_956015'].redraw()\n",
              "        })\n",
              "        "
            ],
            "text/plain": [
              "<IPython.core.display.Javascript object>"
            ]
          },
          "metadata": {
            "tags": []
          }
        },
        {
          "output_type": "display_data",
          "data": {
            "application/javascript": [
              "\n",
              "        // We don't really need these require scripts. But this is to avert \n",
              "        //this code from running before display_input_sequence which DOES require external files\n",
              "        requirejs(['basic', 'ecco'], function(basic, ecco){ \n",
              "                console.log('addToken viz_id', 'viz_956015');\n",
              "                window.ecco['viz_956015'].addToken({\"token\": \".\", \"token_id\": 13, \"position\": 26, \"type\": \"output\"})\n",
              "                window.ecco['viz_956015'].redraw()\n",
              "        })\n",
              "        "
            ],
            "text/plain": [
              "<IPython.core.display.Javascript object>"
            ]
          },
          "metadata": {
            "tags": []
          }
        },
        {
          "output_type": "display_data",
          "data": {
            "application/javascript": [
              "\n",
              "        // We don't really need these require scripts. But this is to avert \n",
              "        //this code from running before display_input_sequence which DOES require external files\n",
              "        requirejs(['basic', 'ecco'], function(basic, ecco){ \n",
              "                console.log('addToken viz_id', 'viz_956015');\n",
              "                window.ecco['viz_956015'].addToken({\"token\": \" Cyprus\", \"token_id\": 27885, \"position\": 27, \"type\": \"output\"})\n",
              "                window.ecco['viz_956015'].redraw()\n",
              "        })\n",
              "        "
            ],
            "text/plain": [
              "<IPython.core.display.Javascript object>"
            ]
          },
          "metadata": {
            "tags": []
          }
        },
        {
          "output_type": "display_data",
          "data": {
            "application/javascript": [
              "\n",
              "        // We don't really need these require scripts. But this is to avert \n",
              "        //this code from running before display_input_sequence which DOES require external files\n",
              "        requirejs(['basic', 'ecco'], function(basic, ecco){ \n",
              "                console.log('addToken viz_id', 'viz_956015');\n",
              "                window.ecco['viz_956015'].addToken({\"token\": \"\\n\", \"token_id\": 198, \"position\": 28, \"type\": \"output\"})\n",
              "                window.ecco['viz_956015'].redraw()\n",
              "        })\n",
              "        "
            ],
            "text/plain": [
              "<IPython.core.display.Javascript object>"
            ]
          },
          "metadata": {
            "tags": []
          }
        },
        {
          "output_type": "display_data",
          "data": {
            "application/javascript": [
              "\n",
              "        // We don't really need these require scripts. But this is to avert \n",
              "        //this code from running before display_input_sequence which DOES require external files\n",
              "        requirejs(['basic', 'ecco'], function(basic, ecco){ \n",
              "                console.log('addToken viz_id', 'viz_956015');\n",
              "                window.ecco['viz_956015'].addToken({\"token\": \"6\", \"token_id\": 21, \"position\": 29, \"type\": \"output\"})\n",
              "                window.ecco['viz_956015'].redraw()\n",
              "        })\n",
              "        "
            ],
            "text/plain": [
              "<IPython.core.display.Javascript object>"
            ]
          },
          "metadata": {
            "tags": []
          }
        },
        {
          "output_type": "display_data",
          "data": {
            "application/javascript": [
              "\n",
              "        // We don't really need these require scripts. But this is to avert \n",
              "        //this code from running before display_input_sequence which DOES require external files\n",
              "        requirejs(['basic', 'ecco'], function(basic, ecco){ \n",
              "                console.log('addToken viz_id', 'viz_956015');\n",
              "                window.ecco['viz_956015'].addToken({\"token\": \".\", \"token_id\": 13, \"position\": 30, \"type\": \"output\"})\n",
              "                window.ecco['viz_956015'].redraw()\n",
              "        })\n",
              "        "
            ],
            "text/plain": [
              "<IPython.core.display.Javascript object>"
            ]
          },
          "metadata": {
            "tags": []
          }
        },
        {
          "output_type": "display_data",
          "data": {
            "application/javascript": [
              "\n",
              "        // We don't really need these require scripts. But this is to avert \n",
              "        //this code from running before display_input_sequence which DOES require external files\n",
              "        requirejs(['basic', 'ecco'], function(basic, ecco){ \n",
              "                console.log('addToken viz_id', 'viz_956015');\n",
              "                window.ecco['viz_956015'].addToken({\"token\": \" Cyprus\", \"token_id\": 27885, \"position\": 31, \"type\": \"output\"})\n",
              "                window.ecco['viz_956015'].redraw()\n",
              "        })\n",
              "        "
            ],
            "text/plain": [
              "<IPython.core.display.Javascript object>"
            ]
          },
          "metadata": {
            "tags": []
          }
        },
        {
          "output_type": "display_data",
          "data": {
            "application/javascript": [
              "\n",
              "        // We don't really need these require scripts. But this is to avert \n",
              "        //this code from running before display_input_sequence which DOES require external files\n",
              "        requirejs(['basic', 'ecco'], function(basic, ecco){ \n",
              "                console.log('addToken viz_id', 'viz_956015');\n",
              "                window.ecco['viz_956015'].addToken({\"token\": \"\\n\", \"token_id\": 198, \"position\": 32, \"type\": \"output\"})\n",
              "                window.ecco['viz_956015'].redraw()\n",
              "        })\n",
              "        "
            ],
            "text/plain": [
              "<IPython.core.display.Javascript object>"
            ]
          },
          "metadata": {
            "tags": []
          }
        },
        {
          "output_type": "display_data",
          "data": {
            "application/javascript": [
              "\n",
              "        // We don't really need these require scripts. But this is to avert \n",
              "        //this code from running before display_input_sequence which DOES require external files\n",
              "        requirejs(['basic', 'ecco'], function(basic, ecco){ \n",
              "                console.log('addToken viz_id', 'viz_956015');\n",
              "                window.ecco['viz_956015'].addToken({\"token\": \"7\", \"token_id\": 22, \"position\": 33, \"type\": \"output\"})\n",
              "                window.ecco['viz_956015'].redraw()\n",
              "        })\n",
              "        "
            ],
            "text/plain": [
              "<IPython.core.display.Javascript object>"
            ]
          },
          "metadata": {
            "tags": []
          }
        },
        {
          "output_type": "display_data",
          "data": {
            "application/javascript": [
              "\n",
              "        // We don't really need these require scripts. But this is to avert \n",
              "        //this code from running before display_input_sequence which DOES require external files\n",
              "        requirejs(['basic', 'ecco'], function(basic, ecco){ \n",
              "                console.log('addToken viz_id', 'viz_956015');\n",
              "                window.ecco['viz_956015'].addToken({\"token\": \".\", \"token_id\": 13, \"position\": 34, \"type\": \"output\"})\n",
              "                window.ecco['viz_956015'].redraw()\n",
              "        })\n",
              "        "
            ],
            "text/plain": [
              "<IPython.core.display.Javascript object>"
            ]
          },
          "metadata": {
            "tags": []
          }
        },
        {
          "output_type": "display_data",
          "data": {
            "application/javascript": [
              "\n",
              "        // We don't really need these require scripts. But this is to avert \n",
              "        //this code from running before display_input_sequence which DOES require external files\n",
              "        requirejs(['basic', 'ecco'], function(basic, ecco){ \n",
              "                console.log('addToken viz_id', 'viz_956015');\n",
              "                window.ecco['viz_956015'].addToken({\"token\": \" Czech\", \"token_id\": 16639, \"position\": 35, \"type\": \"output\"})\n",
              "                window.ecco['viz_956015'].redraw()\n",
              "        })\n",
              "        "
            ],
            "text/plain": [
              "<IPython.core.display.Javascript object>"
            ]
          },
          "metadata": {
            "tags": []
          }
        },
        {
          "output_type": "display_data",
          "data": {
            "application/javascript": [
              "\n",
              "        // We don't really need these require scripts. But this is to avert \n",
              "        //this code from running before display_input_sequence which DOES require external files\n",
              "        requirejs(['basic', 'ecco'], function(basic, ecco){ \n",
              "                console.log('addToken viz_id', 'viz_956015');\n",
              "                window.ecco['viz_956015'].addToken({\"token\": \" Republic\", \"token_id\": 2066, \"position\": 36, \"type\": \"output\"})\n",
              "                window.ecco['viz_956015'].redraw()\n",
              "        })\n",
              "        "
            ],
            "text/plain": [
              "<IPython.core.display.Javascript object>"
            ]
          },
          "metadata": {
            "tags": []
          }
        },
        {
          "output_type": "display_data",
          "data": {
            "application/javascript": [
              "\n",
              "        // We don't really need these require scripts. But this is to avert \n",
              "        //this code from running before display_input_sequence which DOES require external files\n",
              "        requirejs(['basic', 'ecco'], function(basic, ecco){ \n",
              "                console.log('addToken viz_id', 'viz_956015');\n",
              "                window.ecco['viz_956015'].addToken({\"token\": \"\\n\", \"token_id\": 198, \"position\": 37, \"type\": \"output\"})\n",
              "                window.ecco['viz_956015'].redraw()\n",
              "        })\n",
              "        "
            ],
            "text/plain": [
              "<IPython.core.display.Javascript object>"
            ]
          },
          "metadata": {
            "tags": []
          }
        },
        {
          "output_type": "display_data",
          "data": {
            "application/javascript": [
              "\n",
              "        // We don't really need these require scripts. But this is to avert \n",
              "        //this code from running before display_input_sequence which DOES require external files\n",
              "        requirejs(['basic', 'ecco'], function(basic, ecco){ \n",
              "                console.log('addToken viz_id', 'viz_956015');\n",
              "                window.ecco['viz_956015'].addToken({\"token\": \"8\", \"token_id\": 23, \"position\": 38, \"type\": \"output\"})\n",
              "                window.ecco['viz_956015'].redraw()\n",
              "        })\n",
              "        "
            ],
            "text/plain": [
              "<IPython.core.display.Javascript object>"
            ]
          },
          "metadata": {
            "tags": []
          }
        },
        {
          "output_type": "display_data",
          "data": {
            "application/javascript": [
              "\n",
              "        // We don't really need these require scripts. But this is to avert \n",
              "        //this code from running before display_input_sequence which DOES require external files\n",
              "        requirejs(['basic', 'ecco'], function(basic, ecco){ \n",
              "                console.log('addToken viz_id', 'viz_956015');\n",
              "                window.ecco['viz_956015'].addToken({\"token\": \".\", \"token_id\": 13, \"position\": 39, \"type\": \"output\"})\n",
              "                window.ecco['viz_956015'].redraw()\n",
              "        })\n",
              "        "
            ],
            "text/plain": [
              "<IPython.core.display.Javascript object>"
            ]
          },
          "metadata": {
            "tags": []
          }
        },
        {
          "output_type": "display_data",
          "data": {
            "application/javascript": [
              "\n",
              "        // We don't really need these require scripts. But this is to avert \n",
              "        //this code from running before display_input_sequence which DOES require external files\n",
              "        requirejs(['basic', 'ecco'], function(basic, ecco){ \n",
              "                console.log('addToken viz_id', 'viz_956015');\n",
              "                window.ecco['viz_956015'].addToken({\"token\": \" Denmark\", \"token_id\": 16490, \"position\": 40, \"type\": \"output\"})\n",
              "                window.ecco['viz_956015'].redraw()\n",
              "        })\n",
              "        "
            ],
            "text/plain": [
              "<IPython.core.display.Javascript object>"
            ]
          },
          "metadata": {
            "tags": []
          }
        },
        {
          "output_type": "display_data",
          "data": {
            "application/javascript": [
              "\n",
              "        // We don't really need these require scripts. But this is to avert \n",
              "        //this code from running before display_input_sequence which DOES require external files\n",
              "        requirejs(['basic', 'ecco'], function(basic, ecco){ \n",
              "                console.log('addToken viz_id', 'viz_956015');\n",
              "                window.ecco['viz_956015'].addToken({\"token\": \"\\n\", \"token_id\": 198, \"position\": 41, \"type\": \"output\"})\n",
              "                window.ecco['viz_956015'].redraw()\n",
              "        })\n",
              "        "
            ],
            "text/plain": [
              "<IPython.core.display.Javascript object>"
            ]
          },
          "metadata": {
            "tags": []
          }
        },
        {
          "output_type": "display_data",
          "data": {
            "application/javascript": [
              "\n",
              "        // We don't really need these require scripts. But this is to avert \n",
              "        //this code from running before display_input_sequence which DOES require external files\n",
              "        requirejs(['basic', 'ecco'], function(basic, ecco){ \n",
              "                console.log('addToken viz_id', 'viz_956015');\n",
              "                window.ecco['viz_956015'].addToken({\"token\": \"9\", \"token_id\": 24, \"position\": 42, \"type\": \"output\"})\n",
              "                window.ecco['viz_956015'].redraw()\n",
              "        })\n",
              "        "
            ],
            "text/plain": [
              "<IPython.core.display.Javascript object>"
            ]
          },
          "metadata": {
            "tags": []
          }
        }
      ]
    },
    {
      "cell_type": "code",
      "metadata": {
        "id": "3a02pyc2WASq",
        "colab": {
          "base_uri": "https://localhost:8080/",
          "height": 234
        },
        "outputId": "ba36ab43-e373-44be-d891-e67efd804bc1"
      },
      "source": [
        "output.saliency()"
      ],
      "execution_count": 4,
      "outputs": [
        {
          "output_type": "display_data",
          "data": {
            "text/html": [
              "<html lang=\"en\">\n",
              "<script src=\"https://requirejs.org/docs/release/2.3.6/minified/require.js\"></script>\n",
              "<script>\n",
              "    var ecco_url = 'https://storage.googleapis.com/ml-intro/ecco/'\n",
              "    // var ecco_url = 'http://localhost:8000/ecco/'\n",
              "\n",
              "    if (window.ecco === undefined) window.ecco = {}\n",
              "\n",
              "    requirejs.config({\n",
              "        urlArgs: \"bust=\" + (new Date()).getTime(),\n",
              "        nodeRequire: require,\n",
              "        paths: {\n",
              "            d3: \"https://d3js.org/d3.v5.min\",\n",
              "            \"d3-array\": \"https://d3js.org/d3-array.v2.min\",\n",
              "            jquery: \"https://code.jquery.com/jquery-3.5.1.min\",\n",
              "            // oldEcco: ecco_url + 'ecco',\n",
              "            ecco: ecco_url + 'js/0.0.4/ecco-bundle.min',\n",
              "            xregexp: 'https://cdnjs.cloudflare.com/ajax/libs/xregexp/3.2.0/xregexp-all.min'\n",
              "        }\n",
              "    });\n",
              "    requirejs(['d3'],\n",
              "        function (d3) {\n",
              "            d3.select('#css').attr('href', ecco_url + 'html/styles.css')\n",
              "        })\n",
              "\n",
              "    console.log('Ecco initialize.')\n",
              "</script>\n",
              "\n",
              "<head>\n",
              "    <link id='css' rel=\"stylesheet\" type=\"text/css\">\n",
              "</head>\n"
            ],
            "text/plain": [
              "<IPython.core.display.HTML object>"
            ]
          },
          "metadata": {
            "tags": []
          }
        },
        {
          "output_type": "display_data",
          "data": {
            "text/html": [
              "<script>\n",
              "    // console.log('defining basic')\n",
              "    define('basic', ['d3'],\n",
              "        function (d3) {\n",
              "            return {\n",
              "                init: function (viz_id = null) {\n",
              "\n",
              "                    // console.log('basic init')\n",
              "                    if (viz_id == null){\n",
              "                        viz_id = \"viz_\" + Math.round(Math.random() * 10000000)\n",
              "                    }\n",
              "                    const div = d3.select('#basic').attr('id', viz_id),\n",
              "                        div_parent = d3.select('#' + viz_id).node().parentNode\n",
              "\n",
              "                    // Link to CSS file\n",
              "                    d3.select(div_parent).insert('link')\n",
              "                        .attr('rel', 'stylesheet')\n",
              "                        .attr('type', 'text/css')\n",
              "                        .attr('href', ecco_url + 'html/styles.css')\n",
              "\n",
              "                    return viz_id\n",
              "                }\n",
              "            }\n",
              "        }, function (err) {console.log(err);}\n",
              "    )\n",
              "    // console.log('after defining basic')\n",
              "\n",
              "</script>\n",
              "<div id=\"basic\"></div>\n"
            ],
            "text/plain": [
              "<IPython.core.display.HTML object>"
            ]
          },
          "metadata": {
            "tags": []
          }
        },
        {
          "output_type": "display_data",
          "data": {
            "application/javascript": [
              "\n",
              "             requirejs(['basic', 'ecco'], function(basic, ecco){\n",
              "                const viz_id = basic.init()\n",
              "                // ecco.interactiveTokens(viz_id, {})\n",
              "                window.ecco[viz_id] = new ecco.MinimalHighlighter({\n",
              "                parentDiv: viz_id,\n",
              "                data: {'tokens': [{'token': 'The', 'token_id': 464, 'type': 'input', 'value': '0.049845695', 'position': 0}, {'token': ' countries', 'token_id': 2678, 'type': 'input', 'value': '0.050903756', 'position': 1}, {'token': ' of', 'token_id': 286, 'type': 'input', 'value': '0.013019185', 'position': 2}, {'token': ' the', 'token_id': 262, 'type': 'input', 'value': '0.011890959', 'position': 3}, {'token': ' European', 'token_id': 3427, 'type': 'input', 'value': '0.048978824', 'position': 4}, {'token': ' Union', 'token_id': 4479, 'type': 'input', 'value': '0.027450431', 'position': 5}, {'token': ' are', 'token_id': 389, 'type': 'input', 'value': '0.015803536', 'position': 6}, {'token': ':', 'token_id': 25, 'type': 'input', 'value': '0.020174112', 'position': 7}, {'token': '\\n', 'token_id': 198, 'type': 'input', 'value': '0.026422866', 'position': 8}, {'token': '1', 'token_id': 16, 'type': 'input', 'value': '0.03569955', 'position': 9}, {'token': '.', 'token_id': 13, 'type': 'input', 'value': '0.0265311', 'position': 10}, {'token': ' Austria', 'token_id': 17322, 'type': 'input', 'value': '0.15094104', 'position': 11}, {'token': '\\n', 'token_id': 198, 'type': 'input', 'value': '0.02336833', 'position': 12}, {'token': '2', 'token_id': 17, 'type': 'input', 'value': '0.025183896', 'position': 13}, {'token': '.', 'token_id': 13, 'type': 'input', 'value': '0.019457716', 'position': 14}, {'token': ' Belgium', 'token_id': 15664, 'type': 'input', 'value': '0.12963511', 'position': 15}, {'token': '\\n', 'token_id': 198, 'type': 'input', 'value': '0.01746115', 'position': 16}, {'token': '3', 'token_id': 18, 'type': 'input', 'value': '0.028114133', 'position': 17}, {'token': '.', 'token_id': 13, 'type': 'input', 'value': '0.025315696', 'position': 18}, {'token': ' Bulgaria', 'token_id': 27902, 'type': 'input', 'value': '0.16295704', 'position': 19}, {'token': '\\n', 'token_id': 198, 'type': 'input', 'value': '0.016801849', 'position': 20}, {'token': '4', 'token_id': 19, 'type': 'input', 'value': '0.04048571', 'position': 21}, {'token': '.', 'token_id': 13, 'type': 'input', 'value': '0.03355836', 'position': 22}, {'token': ' Croatia', 'token_id': 28975, 'type': 'output', 'value': '0', 'position': 23}, {'token': '\\n', 'token_id': 198, 'type': 'output', 'value': '0', 'position': 24}, {'token': '5', 'token_id': 20, 'type': 'output', 'value': '0', 'position': 25}, {'token': '.', 'token_id': 13, 'type': 'output', 'value': '0', 'position': 26}, {'token': ' Cyprus', 'token_id': 27885, 'type': 'output', 'value': '0', 'position': 27}, {'token': '\\n', 'token_id': 198, 'type': 'output', 'value': '0', 'position': 28}, {'token': '6', 'token_id': 21, 'type': 'output', 'value': '0', 'position': 29}, {'token': '.', 'token_id': 13, 'type': 'output', 'value': '0', 'position': 30}, {'token': ' Cyprus', 'token_id': 27885, 'type': 'output', 'value': '0', 'position': 31}, {'token': '\\n', 'token_id': 198, 'type': 'output', 'value': '0', 'position': 32}, {'token': '7', 'token_id': 22, 'type': 'output', 'value': '0', 'position': 33}, {'token': '.', 'token_id': 13, 'type': 'output', 'value': '0', 'position': 34}, {'token': ' Czech', 'token_id': 16639, 'type': 'output', 'value': '0', 'position': 35}, {'token': ' Republic', 'token_id': 2066, 'type': 'output', 'value': '0', 'position': 36}, {'token': '\\n', 'token_id': 198, 'type': 'output', 'value': '0', 'position': 37}, {'token': '8', 'token_id': 23, 'type': 'output', 'value': '0', 'position': 38}, {'token': '.', 'token_id': 13, 'type': 'output', 'value': '0', 'position': 39}, {'token': ' Denmark', 'token_id': 16490, 'type': 'output', 'value': '0', 'position': 40}, {'token': '\\n', 'token_id': 198, 'type': 'output', 'value': '0', 'position': 41}, {'token': '9', 'token_id': 24, 'type': 'output', 'value': '0', 'position': 42}], 'attributions': [[0.04984569549560547, 0.05090375617146492, 0.013019184581935406, 0.011890958994626999, 0.04897882416844368, 0.027450431138277054, 0.015803536400198936, 0.020174112170934677, 0.026422865688800812, 0.035699550062417984, 0.026531100273132324, 0.15094104409217834, 0.02336833067238331, 0.025183895602822304, 0.01945771649479866, 0.12963511049747467, 0.017461150884628296, 0.028114132583141327, 0.025315696373581886, 0.16295704245567322, 0.016801849007606506, 0.04048570990562439, 0.03355836123228073], [0.05159769207239151, 0.06581486016511917, 0.01636352576315403, 0.014876791276037693, 0.04087211564183235, 0.03301149606704712, 0.0303588155657053, 0.038537245243787766, 0.03610890358686447, 0.046847254037857056, 0.030281327664852142, 0.08394518494606018, 0.025624804198741913, 0.03170834854245186, 0.026182018220424652, 0.04757749289274216, 0.022194528952240944, 0.028022898361086845, 0.016048911958932877, 0.0459299199283123, 0.02283228188753128, 0.029318900778889656, 0.022131895646452904, 0.19381271302700043], [0.044737059623003006, 0.058928921818733215, 0.017215099185705185, 0.014092698693275452, 0.038349270820617676, 0.02883792854845524, 0.025112425908446312, 0.03546454384922981, 0.04560326784849167, 0.06670594960451126, 0.031322889029979706, 0.053467944264411926, 0.03134693577885628, 0.05674830824136734, 0.02103975974023342, 0.03218746930360794, 0.02557113766670227, 0.05841219425201416, 0.025113621726632118, 0.040040478110313416, 0.028595976531505585, 0.07237008213996887, 0.025994373485445976, 0.06815606355667114, 0.054585520178079605], [0.04556412622332573, 0.07599051296710968, 0.014213352464139462, 0.011679482646286488, 0.031248819082975388, 0.02763707935810089, 0.022448407486081123, 0.024262141436338425, 0.02798958495259285, 0.04534640535712242, 0.028740929439663887, 0.0698070377111435, 0.02289780043065548, 0.03467099368572235, 0.03158089891076088, 0.0439063161611557, 0.02173238806426525, 0.03625648841261864, 0.030535971745848656, 0.046762626618146896, 0.027217542752623558, 0.05282250791788101, 0.028184473514556885, 0.07271526008844376, 0.03528711199760437, 0.09050179272890091], [0.048655856400728226, 0.04631798341870308, 0.012267833575606346, 0.011250386014580727, 0.04347021505236626, 0.025112604722380638, 0.015569701790809631, 0.019999029114842415, 0.025152698159217834, 0.029406841844320297, 0.021906541660428047, 0.12122584134340286, 0.01925903931260109, 0.02068142779171467, 0.015048366971313953, 0.08723059296607971, 0.014842331409454346, 0.01891927979886532, 0.021087152883410454, 0.09370828419923782, 0.01530926488339901, 0.021139955148100853, 0.016303524374961853, 0.14457567036151886, 0.01908969320356846, 0.03828059881925583, 0.03418932482600212], [0.05247019603848457, 0.06346922367811203, 0.015820788219571114, 0.01399228721857071, 0.03637165203690529, 0.02875746414065361, 0.03388010337948799, 0.041378457099199295, 0.030666686594486237, 0.04173571243882179, 0.022637099027633667, 0.0768243595957756, 0.020757226273417473, 0.02702476643025875, 0.0223864633589983, 0.04614517092704773, 0.016647303476929665, 0.021367885172367096, 0.014860590919852257, 0.04064978286623955, 0.01570306159555912, 0.021549995988607407, 0.01467976439744234, 0.04160511866211891, 0.017405632883310318, 0.023195838555693626, 0.015394145622849464, 0.1826232224702835], [0.039963655173778534, 0.05264955013990402, 0.01521339826285839, 0.011279528960585594, 0.030912237241864204, 0.02389863133430481, 0.02290189266204834, 0.03290865942835808, 0.04400584474205971, 0.05450066551566124, 0.02532489039003849, 0.04342781379818916, 0.02527325041592121, 0.03946999832987785, 0.016738751903176308, 0.02692497707903385, 0.022413386031985283, 0.03932112827897072, 0.02022838220000267, 0.031270526349544525, 0.022753193974494934, 0.059557992964982986, 0.017798559740185738, 0.04153219237923622, 0.03028259240090847, 0.08358744531869888, 0.021666618064045906, 0.06515166163444519, 0.03904270380735397], [0.045910533517599106, 0.07005200535058975, 0.012451785616576672, 0.011303883977234364, 0.02898693084716797, 0.024681316688656807, 0.01969948410987854, 0.022457126528024673, 0.026909658685326576, 0.040548257529735565, 0.02675662189722061, 0.060869015753269196, 0.019335374236106873, 0.02586827240884304, 0.027229221537709236, 0.042204782366752625, 0.01949828490614891, 0.025786347687244415, 0.021393368020653725, 0.0395171232521534, 0.017890429124236107, 0.025154929608106613, 0.02810491994023323, 0.034203287214040756, 0.027673615142703056, 0.044219132512807846, 0.027398977428674698, 0.057465486228466034, 0.03710290789604187, 0.0893268808722496], [0.04392404109239578, 0.04132519289851189, 0.011830184608697891, 0.010206712409853935, 0.0392291285097599, 0.02262444794178009, 0.014150140807032585, 0.01815572939813137, 0.022864753380417824, 0.026421725749969482, 0.01762346550822258, 0.1024654433131218, 0.01802983507514, 0.018472962081432343, 0.012767894193530083, 0.06914465874433517, 0.014003843069076538, 0.015662917867302895, 0.016229825094342232, 0.0691424012184143, 0.015414479188621044, 0.018083415925502777, 0.011192092671990395, 0.09737739711999893, 0.01319974660873413, 0.016987940296530724, 0.013775501400232315, 0.13231484591960907, 0.015417220070958138, 0.03449949994683266, 0.027462538331747055], [0.04487012326717377, 0.0461055189371109, 0.013359339907765388, 0.012236585840582848, 0.029443765059113503, 0.022215044125914574, 0.02952137589454651, 0.03625695779919624, 0.024653203785419464, 0.031948674470186234, 0.016540726646780968, 0.07021308690309525, 0.014984997920691967, 0.01985650137066841, 0.016847049817442894, 0.04659616947174072, 0.01220133900642395, 0.014401082880795002, 0.01311999000608921, 0.043374598026275635, 0.01174464263021946, 0.01701716147363186, 0.010299662128090858, 0.04271082207560539, 0.01195794902741909, 0.014884525910019875, 0.014727819710969925, 0.10131940245628357, 0.01651998981833458, 0.021708223968744278, 0.014278826303780079, 0.1640847772359848], [0.03329552710056305, 0.03826477378606796, 0.011971034109592438, 0.008634026162326336, 0.02370474673807621, 0.018939517438411713, 0.016904780641198158, 0.02702835388481617, 0.03948817029595375, 0.04143150523304939, 0.01709488220512867, 0.033844243735075, 0.020987600088119507, 0.029009856283664703, 0.013518807478249073, 0.02234320156276226, 0.019218072295188904, 0.030609076842665672, 0.014166631735861301, 0.030239908024668694, 0.018225358799099922, 0.03964657709002495, 0.01649189181625843, 0.03527349978685379, 0.02239333838224411, 0.0608043447136879, 0.013346289284527302, 0.06397338956594467, 0.028426386415958405, 0.07299469411373138, 0.01840873993933201, 0.0829201340675354, 0.03640071675181389], [0.04385484755039215, 0.06363442540168762, 0.011713129468262196, 0.011196001432836056, 0.026085006073117256, 0.021657880395650864, 0.018881939351558685, 0.0214962400496006, 0.025266947224736214, 0.03396344929933548, 0.024350494146347046, 0.05658729374408722, 0.017419889569282532, 0.022050652652978897, 0.02467215061187744, 0.03927674517035484, 0.01606902666389942, 0.019244512543082237, 0.01822548359632492, 0.03607221692800522, 0.015008475631475449, 0.02125607430934906, 0.01813272200524807, 0.027616417035460472, 0.016065077856183052, 0.019247520714998245, 0.024773677811026573, 0.030650626868009567, 0.027137961238622665, 0.05536327138543129, 0.024851534515619278, 0.04304911196231842, 0.03905613347887993, 0.08607311546802521], [0.039056625217199326, 0.035846054553985596, 0.010890421457588673, 0.009301282465457916, 0.03580806031823158, 0.020115168765187263, 0.013144959695637226, 0.01644914597272873, 0.019821934401988983, 0.022327424958348274, 0.01512722298502922, 0.08996466547250748, 0.015923911705613136, 0.016216645017266273, 0.011408034712076187, 0.055689506232738495, 0.013682101853191853, 0.015556004829704762, 0.014406275935471058, 0.05931016430258751, 0.014083772897720337, 0.020434334874153137, 0.009228073060512543, 0.07465948164463043, 0.0134015753865242, 0.015680143609642982, 0.009180777706205845, 0.07942475378513336, 0.013224828988313675, 0.019565334543585777, 0.01709997095167637, 0.10801412165164948, 0.016033051535487175, 0.031119454652071, 0.028804808855056763], [0.02266945131123066, 0.02791156992316246, 0.0063017685897648335, 0.006563838105648756, 0.02424093335866928, 0.012279041111469269, 0.009999704547226429, 0.0113565968349576, 0.014016036875545979, 0.011944366618990898, 0.009260572493076324, 0.045332785695791245, 0.011202976107597351, 0.010550015605986118, 0.009236190468072891, 0.024399835616350174, 0.010939536616206169, 0.010582109913229942, 0.008787700906395912, 0.037064630538225174, 0.009767482988536358, 0.009980634786188602, 0.008344771340489388, 0.03024407848715782, 0.00915849581360817, 0.012864457443356514, 0.008102945983409882, 0.04165666922926903, 0.013529793359339237, 0.01737275905907154, 0.010239539667963982, 0.043389320373535156, 0.02646295167505741, 0.04481872543692589, 0.03047248162329197, 0.3589552044868469], [0.04179275780916214, 0.04575679078698158, 0.011782793328166008, 0.009913705289363861, 0.027636853978037834, 0.020626462996006012, 0.024510560557246208, 0.03528665751218796, 0.02545340731739998, 0.029829859733581543, 0.016319002956151962, 0.05759010091423988, 0.015133180655539036, 0.020116275176405907, 0.015514242462813854, 0.04134668409824371, 0.011457457207143307, 0.01392386294901371, 0.012169797904789448, 0.03621517866849899, 0.010396773926913738, 0.013698571361601353, 0.009964926168322563, 0.02944074757397175, 0.011462882161140442, 0.011369436047971249, 0.0076681082136929035, 0.03544262424111366, 0.009064222685992718, 0.011966447345912457, 0.0072276354767382145, 0.0326637402176857, 0.014374402351677418, 0.018701568245887756, 0.011139566078782082, 0.11451772600412369, 0.13852500915527344], [0.032651711255311966, 0.04320269450545311, 0.011917345225811005, 0.00889113824814558, 0.023970752954483032, 0.019146930426359177, 0.01885901764035225, 0.025898216292262077, 0.039735954254865646, 0.03946790099143982, 0.016130970790982246, 0.03265669196844101, 0.022076213732361794, 0.0282870102673769, 0.013077829964458942, 0.023722266778349876, 0.02018672786653042, 0.02791549079120159, 0.011664520017802715, 0.02607032284140587, 0.016651848331093788, 0.035622622817754745, 0.01064474880695343, 0.02501932717859745, 0.017766008153557777, 0.04105905815958977, 0.009631565771996975, 0.02702796272933483, 0.01959083415567875, 0.03891696408390999, 0.011608223430812359, 0.03387251868844032, 0.023070788010954857, 0.04873400926589966, 0.019000926986336708, 0.05050550028681755, 0.04231700301170349, 0.04343040660023689], [0.04353084787726402, 0.06333277374505997, 0.011206950061023235, 0.011125734075903893, 0.026254795491695404, 0.021541019901633263, 0.01851220428943634, 0.020479271188378334, 0.025466661900281906, 0.03416990488767624, 0.02078978344798088, 0.05545663461089134, 0.01527190487831831, 0.019785499200224876, 0.02155056595802307, 0.03786274790763855, 0.012528558261692524, 0.015425905585289001, 0.014634015038609505, 0.03371911868453026, 0.011432205326855183, 0.015076101757586002, 0.014031748287379742, 0.025756537914276123, 0.011385374702513218, 0.014714586548507214, 0.014866712503135204, 0.024763168767094612, 0.014089111238718033, 0.02036263607442379, 0.020810827612876892, 0.024977559223771095, 0.020935697481036186, 0.048014841973781586, 0.019459547474980354, 0.045009780675172806, 0.020046759396791458, 0.028270868584513664, 0.0833510160446167], [0.03715372458100319, 0.03403453528881073, 0.01016561221331358, 0.00920327752828598, 0.033305805176496506, 0.018776308745145798, 0.011904004961252213, 0.015332127921283245, 0.019935371354222298, 0.020865147933363914, 0.015392194502055645, 0.087991863489151, 0.015038886107504368, 0.015214131213724613, 0.010628157295286655, 0.053882889449596405, 0.011671366170048714, 0.013030306436121464, 0.012909629382193089, 0.05546388402581215, 0.011174049228429794, 0.013954702764749527, 0.007975767366588116, 0.059158001095056534, 0.010237330570816994, 0.011311838403344154, 0.006823186296969652, 0.06115487962961197, 0.010564973577857018, 0.013114596717059612, 0.014375532977283001, 0.07999465614557266, 0.011292479000985622, 0.013145191594958305, 0.010711791925132275, 0.09037327766418457, 0.009569656103849411, 0.013468286953866482, 0.026834096759557724, 0.022866463288664818], [0.04166487604379654, 0.04180179536342621, 0.013473250903189182, 0.009392136707901955, 0.02846834808588028, 0.022407708689570427, 0.02126268297433853, 0.029874231666326523, 0.03313043341040611, 0.033539384603500366, 0.020848549902439117, 0.054416634142398834, 0.0255291610956192, 0.02628115378320217, 0.01729683205485344, 0.030721085146069527, 0.01817132905125618, 0.01898748241364956, 0.012140546925365925, 0.03239666670560837, 0.015299692749977112, 0.01563235931098461, 0.010853923857212067, 0.02104550413787365, 0.018362704664468765, 0.009383855387568474, 0.005610628053545952, 0.02372514270246029, 0.010255619883537292, 0.012064159847795963, 0.00603964738547802, 0.02372705191373825, 0.010183694772422314, 0.015791555866599083, 0.00719089899212122, 0.034917816519737244, 0.0179976224899292, 0.018910665065050125, 0.0346011221408844, 0.019951067864894867, 0.1366509199142456], [0.035247378051280975, 0.04553017392754555, 0.011816930025815964, 0.00980325322598219, 0.025565102696418762, 0.020310770720243454, 0.019033800810575485, 0.026326630264520645, 0.03945564851164818, 0.038375310599803925, 0.018939469009637833, 0.035517409443855286, 0.021558180451393127, 0.025889305397868156, 0.013940463773906231, 0.024883992969989777, 0.017034582793712616, 0.023171404376626015, 0.01044898759573698, 0.023378828540444374, 0.013068370521068573, 0.028301583603024483, 0.008364208973944187, 0.02134968526661396, 0.013684120960533619, 0.0313149131834507, 0.007247527129948139, 0.022196048870682716, 0.011817057617008686, 0.02426537126302719, 0.008827664889395237, 0.022117292508482933, 0.013842702843248844, 0.032819315791130066, 0.010053828358650208, 0.027858899906277657, 0.012176044285297394, 0.02546950988471508, 0.06628968566656113, 0.016941135749220848, 0.05190994590520859, 0.04385755583643913]]},\n",
              "                preset: 'viridis'\n",
              "             })\n",
              "            \n",
              "             window.ecco[viz_id].init();\n",
              "             window.ecco[viz_id].selectFirstToken();\n",
              "    \n",
              "             }, function (err) {\n",
              "                console.log(err);\n",
              "            })"
            ],
            "text/plain": [
              "<IPython.core.display.Javascript object>"
            ]
          },
          "metadata": {
            "tags": []
          }
        }
      ]
    },
    {
      "cell_type": "code",
      "metadata": {
        "colab": {
          "base_uri": "https://localhost:8080/",
          "height": 357
        },
        "id": "rRM7NKV91TCk",
        "outputId": "3678ce92-fbcd-4093-d2d4-a02130fff3c4"
      },
      "source": [
        "output.saliency(style=\"detailed\")"
      ],
      "execution_count": 5,
      "outputs": [
        {
          "output_type": "display_data",
          "data": {
            "text/html": [
              "<html lang=\"en\">\n",
              "<script src=\"https://requirejs.org/docs/release/2.3.6/minified/require.js\"></script>\n",
              "<script>\n",
              "    var ecco_url = 'https://storage.googleapis.com/ml-intro/ecco/'\n",
              "    // var ecco_url = 'http://localhost:8000/ecco/'\n",
              "\n",
              "    if (window.ecco === undefined) window.ecco = {}\n",
              "\n",
              "    requirejs.config({\n",
              "        urlArgs: \"bust=\" + (new Date()).getTime(),\n",
              "        nodeRequire: require,\n",
              "        paths: {\n",
              "            d3: \"https://d3js.org/d3.v5.min\",\n",
              "            \"d3-array\": \"https://d3js.org/d3-array.v2.min\",\n",
              "            jquery: \"https://code.jquery.com/jquery-3.5.1.min\",\n",
              "            // oldEcco: ecco_url + 'ecco',\n",
              "            ecco: ecco_url + 'js/0.0.4/ecco-bundle.min',\n",
              "            xregexp: 'https://cdnjs.cloudflare.com/ajax/libs/xregexp/3.2.0/xregexp-all.min'\n",
              "        }\n",
              "    });\n",
              "    requirejs(['d3'],\n",
              "        function (d3) {\n",
              "            d3.select('#css').attr('href', ecco_url + 'html/styles.css')\n",
              "        })\n",
              "\n",
              "    console.log('Ecco initialize.')\n",
              "</script>\n",
              "\n",
              "<head>\n",
              "    <link id='css' rel=\"stylesheet\" type=\"text/css\">\n",
              "</head>\n"
            ],
            "text/plain": [
              "<IPython.core.display.HTML object>"
            ]
          },
          "metadata": {
            "tags": []
          }
        },
        {
          "output_type": "display_data",
          "data": {
            "text/html": [
              "<script>\n",
              "    // console.log('defining basic')\n",
              "    define('basic', ['d3'],\n",
              "        function (d3) {\n",
              "            return {\n",
              "                init: function (viz_id = null) {\n",
              "\n",
              "                    // console.log('basic init')\n",
              "                    if (viz_id == null){\n",
              "                        viz_id = \"viz_\" + Math.round(Math.random() * 10000000)\n",
              "                    }\n",
              "                    const div = d3.select('#basic').attr('id', viz_id),\n",
              "                        div_parent = d3.select('#' + viz_id).node().parentNode\n",
              "\n",
              "                    // Link to CSS file\n",
              "                    d3.select(div_parent).insert('link')\n",
              "                        .attr('rel', 'stylesheet')\n",
              "                        .attr('type', 'text/css')\n",
              "                        .attr('href', ecco_url + 'html/styles.css')\n",
              "\n",
              "                    return viz_id\n",
              "                }\n",
              "            }\n",
              "        }, function (err) {console.log(err);}\n",
              "    )\n",
              "    // console.log('after defining basic')\n",
              "\n",
              "</script>\n",
              "<div id=\"basic\"></div>\n"
            ],
            "text/plain": [
              "<IPython.core.display.HTML object>"
            ]
          },
          "metadata": {
            "tags": []
          }
        },
        {
          "output_type": "display_data",
          "data": {
            "application/javascript": [
              "\n",
              "             requirejs(['basic', 'ecco'], function(basic, ecco){\n",
              "                const viz_id = basic.init()\n",
              "                window.ecco[viz_id] = ecco.interactiveTokens(viz_id, {'tokens': [{'token': 'The', 'token_id': 464, 'type': 'input', 'value': '0.049845695', 'position': 0}, {'token': ' countries', 'token_id': 2678, 'type': 'input', 'value': '0.050903756', 'position': 1}, {'token': ' of', 'token_id': 286, 'type': 'input', 'value': '0.013019185', 'position': 2}, {'token': ' the', 'token_id': 262, 'type': 'input', 'value': '0.011890959', 'position': 3}, {'token': ' European', 'token_id': 3427, 'type': 'input', 'value': '0.048978824', 'position': 4}, {'token': ' Union', 'token_id': 4479, 'type': 'input', 'value': '0.027450431', 'position': 5}, {'token': ' are', 'token_id': 389, 'type': 'input', 'value': '0.015803536', 'position': 6}, {'token': ':', 'token_id': 25, 'type': 'input', 'value': '0.020174112', 'position': 7}, {'token': '\\n', 'token_id': 198, 'type': 'input', 'value': '0.026422866', 'position': 8}, {'token': '1', 'token_id': 16, 'type': 'input', 'value': '0.03569955', 'position': 9}, {'token': '.', 'token_id': 13, 'type': 'input', 'value': '0.0265311', 'position': 10}, {'token': ' Austria', 'token_id': 17322, 'type': 'input', 'value': '0.15094104', 'position': 11}, {'token': '\\n', 'token_id': 198, 'type': 'input', 'value': '0.02336833', 'position': 12}, {'token': '2', 'token_id': 17, 'type': 'input', 'value': '0.025183896', 'position': 13}, {'token': '.', 'token_id': 13, 'type': 'input', 'value': '0.019457716', 'position': 14}, {'token': ' Belgium', 'token_id': 15664, 'type': 'input', 'value': '0.12963511', 'position': 15}, {'token': '\\n', 'token_id': 198, 'type': 'input', 'value': '0.01746115', 'position': 16}, {'token': '3', 'token_id': 18, 'type': 'input', 'value': '0.028114133', 'position': 17}, {'token': '.', 'token_id': 13, 'type': 'input', 'value': '0.025315696', 'position': 18}, {'token': ' Bulgaria', 'token_id': 27902, 'type': 'input', 'value': '0.16295704', 'position': 19}, {'token': '\\n', 'token_id': 198, 'type': 'input', 'value': '0.016801849', 'position': 20}, {'token': '4', 'token_id': 19, 'type': 'input', 'value': '0.04048571', 'position': 21}, {'token': '.', 'token_id': 13, 'type': 'input', 'value': '0.03355836', 'position': 22}, {'token': ' Croatia', 'token_id': 28975, 'type': 'output', 'value': '0', 'position': 23}, {'token': '\\n', 'token_id': 198, 'type': 'output', 'value': '0', 'position': 24}, {'token': '5', 'token_id': 20, 'type': 'output', 'value': '0', 'position': 25}, {'token': '.', 'token_id': 13, 'type': 'output', 'value': '0', 'position': 26}, {'token': ' Cyprus', 'token_id': 27885, 'type': 'output', 'value': '0', 'position': 27}, {'token': '\\n', 'token_id': 198, 'type': 'output', 'value': '0', 'position': 28}, {'token': '6', 'token_id': 21, 'type': 'output', 'value': '0', 'position': 29}, {'token': '.', 'token_id': 13, 'type': 'output', 'value': '0', 'position': 30}, {'token': ' Cyprus', 'token_id': 27885, 'type': 'output', 'value': '0', 'position': 31}, {'token': '\\n', 'token_id': 198, 'type': 'output', 'value': '0', 'position': 32}, {'token': '7', 'token_id': 22, 'type': 'output', 'value': '0', 'position': 33}, {'token': '.', 'token_id': 13, 'type': 'output', 'value': '0', 'position': 34}, {'token': ' Czech', 'token_id': 16639, 'type': 'output', 'value': '0', 'position': 35}, {'token': ' Republic', 'token_id': 2066, 'type': 'output', 'value': '0', 'position': 36}, {'token': '\\n', 'token_id': 198, 'type': 'output', 'value': '0', 'position': 37}, {'token': '8', 'token_id': 23, 'type': 'output', 'value': '0', 'position': 38}, {'token': '.', 'token_id': 13, 'type': 'output', 'value': '0', 'position': 39}, {'token': ' Denmark', 'token_id': 16490, 'type': 'output', 'value': '0', 'position': 40}, {'token': '\\n', 'token_id': 198, 'type': 'output', 'value': '0', 'position': 41}, {'token': '9', 'token_id': 24, 'type': 'output', 'value': '0', 'position': 42}], 'attributions': [[0.04984569549560547, 0.05090375617146492, 0.013019184581935406, 0.011890958994626999, 0.04897882416844368, 0.027450431138277054, 0.015803536400198936, 0.020174112170934677, 0.026422865688800812, 0.035699550062417984, 0.026531100273132324, 0.15094104409217834, 0.02336833067238331, 0.025183895602822304, 0.01945771649479866, 0.12963511049747467, 0.017461150884628296, 0.028114132583141327, 0.025315696373581886, 0.16295704245567322, 0.016801849007606506, 0.04048570990562439, 0.03355836123228073], [0.05159769207239151, 0.06581486016511917, 0.01636352576315403, 0.014876791276037693, 0.04087211564183235, 0.03301149606704712, 0.0303588155657053, 0.038537245243787766, 0.03610890358686447, 0.046847254037857056, 0.030281327664852142, 0.08394518494606018, 0.025624804198741913, 0.03170834854245186, 0.026182018220424652, 0.04757749289274216, 0.022194528952240944, 0.028022898361086845, 0.016048911958932877, 0.0459299199283123, 0.02283228188753128, 0.029318900778889656, 0.022131895646452904, 0.19381271302700043], [0.044737059623003006, 0.058928921818733215, 0.017215099185705185, 0.014092698693275452, 0.038349270820617676, 0.02883792854845524, 0.025112425908446312, 0.03546454384922981, 0.04560326784849167, 0.06670594960451126, 0.031322889029979706, 0.053467944264411926, 0.03134693577885628, 0.05674830824136734, 0.02103975974023342, 0.03218746930360794, 0.02557113766670227, 0.05841219425201416, 0.025113621726632118, 0.040040478110313416, 0.028595976531505585, 0.07237008213996887, 0.025994373485445976, 0.06815606355667114, 0.054585520178079605], [0.04556412622332573, 0.07599051296710968, 0.014213352464139462, 0.011679482646286488, 0.031248819082975388, 0.02763707935810089, 0.022448407486081123, 0.024262141436338425, 0.02798958495259285, 0.04534640535712242, 0.028740929439663887, 0.0698070377111435, 0.02289780043065548, 0.03467099368572235, 0.03158089891076088, 0.0439063161611557, 0.02173238806426525, 0.03625648841261864, 0.030535971745848656, 0.046762626618146896, 0.027217542752623558, 0.05282250791788101, 0.028184473514556885, 0.07271526008844376, 0.03528711199760437, 0.09050179272890091], [0.048655856400728226, 0.04631798341870308, 0.012267833575606346, 0.011250386014580727, 0.04347021505236626, 0.025112604722380638, 0.015569701790809631, 0.019999029114842415, 0.025152698159217834, 0.029406841844320297, 0.021906541660428047, 0.12122584134340286, 0.01925903931260109, 0.02068142779171467, 0.015048366971313953, 0.08723059296607971, 0.014842331409454346, 0.01891927979886532, 0.021087152883410454, 0.09370828419923782, 0.01530926488339901, 0.021139955148100853, 0.016303524374961853, 0.14457567036151886, 0.01908969320356846, 0.03828059881925583, 0.03418932482600212], [0.05247019603848457, 0.06346922367811203, 0.015820788219571114, 0.01399228721857071, 0.03637165203690529, 0.02875746414065361, 0.03388010337948799, 0.041378457099199295, 0.030666686594486237, 0.04173571243882179, 0.022637099027633667, 0.0768243595957756, 0.020757226273417473, 0.02702476643025875, 0.0223864633589983, 0.04614517092704773, 0.016647303476929665, 0.021367885172367096, 0.014860590919852257, 0.04064978286623955, 0.01570306159555912, 0.021549995988607407, 0.01467976439744234, 0.04160511866211891, 0.017405632883310318, 0.023195838555693626, 0.015394145622849464, 0.1826232224702835], [0.039963655173778534, 0.05264955013990402, 0.01521339826285839, 0.011279528960585594, 0.030912237241864204, 0.02389863133430481, 0.02290189266204834, 0.03290865942835808, 0.04400584474205971, 0.05450066551566124, 0.02532489039003849, 0.04342781379818916, 0.02527325041592121, 0.03946999832987785, 0.016738751903176308, 0.02692497707903385, 0.022413386031985283, 0.03932112827897072, 0.02022838220000267, 0.031270526349544525, 0.022753193974494934, 0.059557992964982986, 0.017798559740185738, 0.04153219237923622, 0.03028259240090847, 0.08358744531869888, 0.021666618064045906, 0.06515166163444519, 0.03904270380735397], [0.045910533517599106, 0.07005200535058975, 0.012451785616576672, 0.011303883977234364, 0.02898693084716797, 0.024681316688656807, 0.01969948410987854, 0.022457126528024673, 0.026909658685326576, 0.040548257529735565, 0.02675662189722061, 0.060869015753269196, 0.019335374236106873, 0.02586827240884304, 0.027229221537709236, 0.042204782366752625, 0.01949828490614891, 0.025786347687244415, 0.021393368020653725, 0.0395171232521534, 0.017890429124236107, 0.025154929608106613, 0.02810491994023323, 0.034203287214040756, 0.027673615142703056, 0.044219132512807846, 0.027398977428674698, 0.057465486228466034, 0.03710290789604187, 0.0893268808722496], [0.04392404109239578, 0.04132519289851189, 0.011830184608697891, 0.010206712409853935, 0.0392291285097599, 0.02262444794178009, 0.014150140807032585, 0.01815572939813137, 0.022864753380417824, 0.026421725749969482, 0.01762346550822258, 0.1024654433131218, 0.01802983507514, 0.018472962081432343, 0.012767894193530083, 0.06914465874433517, 0.014003843069076538, 0.015662917867302895, 0.016229825094342232, 0.0691424012184143, 0.015414479188621044, 0.018083415925502777, 0.011192092671990395, 0.09737739711999893, 0.01319974660873413, 0.016987940296530724, 0.013775501400232315, 0.13231484591960907, 0.015417220070958138, 0.03449949994683266, 0.027462538331747055], [0.04487012326717377, 0.0461055189371109, 0.013359339907765388, 0.012236585840582848, 0.029443765059113503, 0.022215044125914574, 0.02952137589454651, 0.03625695779919624, 0.024653203785419464, 0.031948674470186234, 0.016540726646780968, 0.07021308690309525, 0.014984997920691967, 0.01985650137066841, 0.016847049817442894, 0.04659616947174072, 0.01220133900642395, 0.014401082880795002, 0.01311999000608921, 0.043374598026275635, 0.01174464263021946, 0.01701716147363186, 0.010299662128090858, 0.04271082207560539, 0.01195794902741909, 0.014884525910019875, 0.014727819710969925, 0.10131940245628357, 0.01651998981833458, 0.021708223968744278, 0.014278826303780079, 0.1640847772359848], [0.03329552710056305, 0.03826477378606796, 0.011971034109592438, 0.008634026162326336, 0.02370474673807621, 0.018939517438411713, 0.016904780641198158, 0.02702835388481617, 0.03948817029595375, 0.04143150523304939, 0.01709488220512867, 0.033844243735075, 0.020987600088119507, 0.029009856283664703, 0.013518807478249073, 0.02234320156276226, 0.019218072295188904, 0.030609076842665672, 0.014166631735861301, 0.030239908024668694, 0.018225358799099922, 0.03964657709002495, 0.01649189181625843, 0.03527349978685379, 0.02239333838224411, 0.0608043447136879, 0.013346289284527302, 0.06397338956594467, 0.028426386415958405, 0.07299469411373138, 0.01840873993933201, 0.0829201340675354, 0.03640071675181389], [0.04385484755039215, 0.06363442540168762, 0.011713129468262196, 0.011196001432836056, 0.026085006073117256, 0.021657880395650864, 0.018881939351558685, 0.0214962400496006, 0.025266947224736214, 0.03396344929933548, 0.024350494146347046, 0.05658729374408722, 0.017419889569282532, 0.022050652652978897, 0.02467215061187744, 0.03927674517035484, 0.01606902666389942, 0.019244512543082237, 0.01822548359632492, 0.03607221692800522, 0.015008475631475449, 0.02125607430934906, 0.01813272200524807, 0.027616417035460472, 0.016065077856183052, 0.019247520714998245, 0.024773677811026573, 0.030650626868009567, 0.027137961238622665, 0.05536327138543129, 0.024851534515619278, 0.04304911196231842, 0.03905613347887993, 0.08607311546802521], [0.039056625217199326, 0.035846054553985596, 0.010890421457588673, 0.009301282465457916, 0.03580806031823158, 0.020115168765187263, 0.013144959695637226, 0.01644914597272873, 0.019821934401988983, 0.022327424958348274, 0.01512722298502922, 0.08996466547250748, 0.015923911705613136, 0.016216645017266273, 0.011408034712076187, 0.055689506232738495, 0.013682101853191853, 0.015556004829704762, 0.014406275935471058, 0.05931016430258751, 0.014083772897720337, 0.020434334874153137, 0.009228073060512543, 0.07465948164463043, 0.0134015753865242, 0.015680143609642982, 0.009180777706205845, 0.07942475378513336, 0.013224828988313675, 0.019565334543585777, 0.01709997095167637, 0.10801412165164948, 0.016033051535487175, 0.031119454652071, 0.028804808855056763], [0.02266945131123066, 0.02791156992316246, 0.0063017685897648335, 0.006563838105648756, 0.02424093335866928, 0.012279041111469269, 0.009999704547226429, 0.0113565968349576, 0.014016036875545979, 0.011944366618990898, 0.009260572493076324, 0.045332785695791245, 0.011202976107597351, 0.010550015605986118, 0.009236190468072891, 0.024399835616350174, 0.010939536616206169, 0.010582109913229942, 0.008787700906395912, 0.037064630538225174, 0.009767482988536358, 0.009980634786188602, 0.008344771340489388, 0.03024407848715782, 0.00915849581360817, 0.012864457443356514, 0.008102945983409882, 0.04165666922926903, 0.013529793359339237, 0.01737275905907154, 0.010239539667963982, 0.043389320373535156, 0.02646295167505741, 0.04481872543692589, 0.03047248162329197, 0.3589552044868469], [0.04179275780916214, 0.04575679078698158, 0.011782793328166008, 0.009913705289363861, 0.027636853978037834, 0.020626462996006012, 0.024510560557246208, 0.03528665751218796, 0.02545340731739998, 0.029829859733581543, 0.016319002956151962, 0.05759010091423988, 0.015133180655539036, 0.020116275176405907, 0.015514242462813854, 0.04134668409824371, 0.011457457207143307, 0.01392386294901371, 0.012169797904789448, 0.03621517866849899, 0.010396773926913738, 0.013698571361601353, 0.009964926168322563, 0.02944074757397175, 0.011462882161140442, 0.011369436047971249, 0.0076681082136929035, 0.03544262424111366, 0.009064222685992718, 0.011966447345912457, 0.0072276354767382145, 0.0326637402176857, 0.014374402351677418, 0.018701568245887756, 0.011139566078782082, 0.11451772600412369, 0.13852500915527344], [0.032651711255311966, 0.04320269450545311, 0.011917345225811005, 0.00889113824814558, 0.023970752954483032, 0.019146930426359177, 0.01885901764035225, 0.025898216292262077, 0.039735954254865646, 0.03946790099143982, 0.016130970790982246, 0.03265669196844101, 0.022076213732361794, 0.0282870102673769, 0.013077829964458942, 0.023722266778349876, 0.02018672786653042, 0.02791549079120159, 0.011664520017802715, 0.02607032284140587, 0.016651848331093788, 0.035622622817754745, 0.01064474880695343, 0.02501932717859745, 0.017766008153557777, 0.04105905815958977, 0.009631565771996975, 0.02702796272933483, 0.01959083415567875, 0.03891696408390999, 0.011608223430812359, 0.03387251868844032, 0.023070788010954857, 0.04873400926589966, 0.019000926986336708, 0.05050550028681755, 0.04231700301170349, 0.04343040660023689], [0.04353084787726402, 0.06333277374505997, 0.011206950061023235, 0.011125734075903893, 0.026254795491695404, 0.021541019901633263, 0.01851220428943634, 0.020479271188378334, 0.025466661900281906, 0.03416990488767624, 0.02078978344798088, 0.05545663461089134, 0.01527190487831831, 0.019785499200224876, 0.02155056595802307, 0.03786274790763855, 0.012528558261692524, 0.015425905585289001, 0.014634015038609505, 0.03371911868453026, 0.011432205326855183, 0.015076101757586002, 0.014031748287379742, 0.025756537914276123, 0.011385374702513218, 0.014714586548507214, 0.014866712503135204, 0.024763168767094612, 0.014089111238718033, 0.02036263607442379, 0.020810827612876892, 0.024977559223771095, 0.020935697481036186, 0.048014841973781586, 0.019459547474980354, 0.045009780675172806, 0.020046759396791458, 0.028270868584513664, 0.0833510160446167], [0.03715372458100319, 0.03403453528881073, 0.01016561221331358, 0.00920327752828598, 0.033305805176496506, 0.018776308745145798, 0.011904004961252213, 0.015332127921283245, 0.019935371354222298, 0.020865147933363914, 0.015392194502055645, 0.087991863489151, 0.015038886107504368, 0.015214131213724613, 0.010628157295286655, 0.053882889449596405, 0.011671366170048714, 0.013030306436121464, 0.012909629382193089, 0.05546388402581215, 0.011174049228429794, 0.013954702764749527, 0.007975767366588116, 0.059158001095056534, 0.010237330570816994, 0.011311838403344154, 0.006823186296969652, 0.06115487962961197, 0.010564973577857018, 0.013114596717059612, 0.014375532977283001, 0.07999465614557266, 0.011292479000985622, 0.013145191594958305, 0.010711791925132275, 0.09037327766418457, 0.009569656103849411, 0.013468286953866482, 0.026834096759557724, 0.022866463288664818], [0.04166487604379654, 0.04180179536342621, 0.013473250903189182, 0.009392136707901955, 0.02846834808588028, 0.022407708689570427, 0.02126268297433853, 0.029874231666326523, 0.03313043341040611, 0.033539384603500366, 0.020848549902439117, 0.054416634142398834, 0.0255291610956192, 0.02628115378320217, 0.01729683205485344, 0.030721085146069527, 0.01817132905125618, 0.01898748241364956, 0.012140546925365925, 0.03239666670560837, 0.015299692749977112, 0.01563235931098461, 0.010853923857212067, 0.02104550413787365, 0.018362704664468765, 0.009383855387568474, 0.005610628053545952, 0.02372514270246029, 0.010255619883537292, 0.012064159847795963, 0.00603964738547802, 0.02372705191373825, 0.010183694772422314, 0.015791555866599083, 0.00719089899212122, 0.034917816519737244, 0.0179976224899292, 0.018910665065050125, 0.0346011221408844, 0.019951067864894867, 0.1366509199142456], [0.035247378051280975, 0.04553017392754555, 0.011816930025815964, 0.00980325322598219, 0.025565102696418762, 0.020310770720243454, 0.019033800810575485, 0.026326630264520645, 0.03945564851164818, 0.038375310599803925, 0.018939469009637833, 0.035517409443855286, 0.021558180451393127, 0.025889305397868156, 0.013940463773906231, 0.024883992969989777, 0.017034582793712616, 0.023171404376626015, 0.01044898759573698, 0.023378828540444374, 0.013068370521068573, 0.028301583603024483, 0.008364208973944187, 0.02134968526661396, 0.013684120960533619, 0.0313149131834507, 0.007247527129948139, 0.022196048870682716, 0.011817057617008686, 0.02426537126302719, 0.008827664889395237, 0.022117292508482933, 0.013842702843248844, 0.032819315791130066, 0.010053828358650208, 0.027858899906277657, 0.012176044285297394, 0.02546950988471508, 0.06628968566656113, 0.016941135749220848, 0.05190994590520859, 0.04385755583643913]]})\n",
              "\n",
              "             }, function (err) {\n",
              "                console.log(err);\n",
              "            })"
            ],
            "text/plain": [
              "<IPython.core.display.Javascript object>"
            ]
          },
          "metadata": {
            "tags": []
          }
        }
      ]
    },
    {
      "cell_type": "code",
      "metadata": {
        "id": "iecRaZ0M14Lm"
      },
      "source": [
        ""
      ],
      "execution_count": null,
      "outputs": []
    }
  ]
}
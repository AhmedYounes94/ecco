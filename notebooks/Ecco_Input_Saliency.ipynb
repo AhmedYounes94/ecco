{
  "nbformat": 4,
  "nbformat_minor": 0,
  "metadata": {
    "colab": {
      "name": "Ecco-Input-saliency.ipynb",
      "provenance": [],
      "collapsed_sections": [],
      "authorship_tag": "ABX9TyNMd2pM9pAx9vddAE9PqoYa",
      "include_colab_link": true
    },
    "kernelspec": {
      "name": "python3",
      "display_name": "Python 3"
    },
    "widgets": {
      "application/vnd.jupyter.widget-state+json": {
        "66ee7dd681184981a67e2b9dd5fdd6f0": {
          "model_module": "@jupyter-widgets/controls",
          "model_name": "HBoxModel",
          "state": {
            "_view_name": "HBoxView",
            "_dom_classes": [],
            "_model_name": "HBoxModel",
            "_view_module": "@jupyter-widgets/controls",
            "_model_module_version": "1.5.0",
            "_view_count": null,
            "_view_module_version": "1.5.0",
            "box_style": "",
            "layout": "IPY_MODEL_0e6405015df340b3bdc58694ebd4ecf4",
            "_model_module": "@jupyter-widgets/controls",
            "children": [
              "IPY_MODEL_1198ffa7ad12484f9ac4048835321335",
              "IPY_MODEL_819c4c5a5b3349bcade558a02106c0c4"
            ]
          }
        },
        "0e6405015df340b3bdc58694ebd4ecf4": {
          "model_module": "@jupyter-widgets/base",
          "model_name": "LayoutModel",
          "state": {
            "_view_name": "LayoutView",
            "grid_template_rows": null,
            "right": null,
            "justify_content": null,
            "_view_module": "@jupyter-widgets/base",
            "overflow": null,
            "_model_module_version": "1.2.0",
            "_view_count": null,
            "flex_flow": null,
            "width": null,
            "min_width": null,
            "border": null,
            "align_items": null,
            "bottom": null,
            "_model_module": "@jupyter-widgets/base",
            "top": null,
            "grid_column": null,
            "overflow_y": null,
            "overflow_x": null,
            "grid_auto_flow": null,
            "grid_area": null,
            "grid_template_columns": null,
            "flex": null,
            "_model_name": "LayoutModel",
            "justify_items": null,
            "grid_row": null,
            "max_height": null,
            "align_content": null,
            "visibility": null,
            "align_self": null,
            "height": null,
            "min_height": null,
            "padding": null,
            "grid_auto_rows": null,
            "grid_gap": null,
            "max_width": null,
            "order": null,
            "_view_module_version": "1.2.0",
            "grid_template_areas": null,
            "object_position": null,
            "object_fit": null,
            "grid_auto_columns": null,
            "margin": null,
            "display": null,
            "left": null
          }
        },
        "1198ffa7ad12484f9ac4048835321335": {
          "model_module": "@jupyter-widgets/controls",
          "model_name": "FloatProgressModel",
          "state": {
            "_view_name": "ProgressView",
            "style": "IPY_MODEL_9254b1b515654fe9be6ffc08c2b15e4b",
            "_dom_classes": [],
            "description": "Downloading: 100%",
            "_model_name": "FloatProgressModel",
            "bar_style": "success",
            "max": 762,
            "_view_module": "@jupyter-widgets/controls",
            "_model_module_version": "1.5.0",
            "value": 762,
            "_view_count": null,
            "_view_module_version": "1.5.0",
            "orientation": "horizontal",
            "min": 0,
            "description_tooltip": null,
            "_model_module": "@jupyter-widgets/controls",
            "layout": "IPY_MODEL_ea23401f422c4201a2ccd2a45c426d52"
          }
        },
        "819c4c5a5b3349bcade558a02106c0c4": {
          "model_module": "@jupyter-widgets/controls",
          "model_name": "HTMLModel",
          "state": {
            "_view_name": "HTMLView",
            "style": "IPY_MODEL_e0fcf661019f4e3da00175887b431ccc",
            "_dom_classes": [],
            "description": "",
            "_model_name": "HTMLModel",
            "placeholder": "​",
            "_view_module": "@jupyter-widgets/controls",
            "_model_module_version": "1.5.0",
            "value": " 762/762 [00:00&lt;00:00, 17.0kB/s]",
            "_view_count": null,
            "_view_module_version": "1.5.0",
            "description_tooltip": null,
            "_model_module": "@jupyter-widgets/controls",
            "layout": "IPY_MODEL_5e4aa51d413b4004bee30cce914d193e"
          }
        },
        "9254b1b515654fe9be6ffc08c2b15e4b": {
          "model_module": "@jupyter-widgets/controls",
          "model_name": "ProgressStyleModel",
          "state": {
            "_view_name": "StyleView",
            "_model_name": "ProgressStyleModel",
            "description_width": "initial",
            "_view_module": "@jupyter-widgets/base",
            "_model_module_version": "1.5.0",
            "_view_count": null,
            "_view_module_version": "1.2.0",
            "bar_color": null,
            "_model_module": "@jupyter-widgets/controls"
          }
        },
        "ea23401f422c4201a2ccd2a45c426d52": {
          "model_module": "@jupyter-widgets/base",
          "model_name": "LayoutModel",
          "state": {
            "_view_name": "LayoutView",
            "grid_template_rows": null,
            "right": null,
            "justify_content": null,
            "_view_module": "@jupyter-widgets/base",
            "overflow": null,
            "_model_module_version": "1.2.0",
            "_view_count": null,
            "flex_flow": null,
            "width": null,
            "min_width": null,
            "border": null,
            "align_items": null,
            "bottom": null,
            "_model_module": "@jupyter-widgets/base",
            "top": null,
            "grid_column": null,
            "overflow_y": null,
            "overflow_x": null,
            "grid_auto_flow": null,
            "grid_area": null,
            "grid_template_columns": null,
            "flex": null,
            "_model_name": "LayoutModel",
            "justify_items": null,
            "grid_row": null,
            "max_height": null,
            "align_content": null,
            "visibility": null,
            "align_self": null,
            "height": null,
            "min_height": null,
            "padding": null,
            "grid_auto_rows": null,
            "grid_gap": null,
            "max_width": null,
            "order": null,
            "_view_module_version": "1.2.0",
            "grid_template_areas": null,
            "object_position": null,
            "object_fit": null,
            "grid_auto_columns": null,
            "margin": null,
            "display": null,
            "left": null
          }
        },
        "e0fcf661019f4e3da00175887b431ccc": {
          "model_module": "@jupyter-widgets/controls",
          "model_name": "DescriptionStyleModel",
          "state": {
            "_view_name": "StyleView",
            "_model_name": "DescriptionStyleModel",
            "description_width": "",
            "_view_module": "@jupyter-widgets/base",
            "_model_module_version": "1.5.0",
            "_view_count": null,
            "_view_module_version": "1.2.0",
            "_model_module": "@jupyter-widgets/controls"
          }
        },
        "5e4aa51d413b4004bee30cce914d193e": {
          "model_module": "@jupyter-widgets/base",
          "model_name": "LayoutModel",
          "state": {
            "_view_name": "LayoutView",
            "grid_template_rows": null,
            "right": null,
            "justify_content": null,
            "_view_module": "@jupyter-widgets/base",
            "overflow": null,
            "_model_module_version": "1.2.0",
            "_view_count": null,
            "flex_flow": null,
            "width": null,
            "min_width": null,
            "border": null,
            "align_items": null,
            "bottom": null,
            "_model_module": "@jupyter-widgets/base",
            "top": null,
            "grid_column": null,
            "overflow_y": null,
            "overflow_x": null,
            "grid_auto_flow": null,
            "grid_area": null,
            "grid_template_columns": null,
            "flex": null,
            "_model_name": "LayoutModel",
            "justify_items": null,
            "grid_row": null,
            "max_height": null,
            "align_content": null,
            "visibility": null,
            "align_self": null,
            "height": null,
            "min_height": null,
            "padding": null,
            "grid_auto_rows": null,
            "grid_gap": null,
            "max_width": null,
            "order": null,
            "_view_module_version": "1.2.0",
            "grid_template_areas": null,
            "object_position": null,
            "object_fit": null,
            "grid_auto_columns": null,
            "margin": null,
            "display": null,
            "left": null
          }
        },
        "5fd6963056bf4687a15c941d3be3494b": {
          "model_module": "@jupyter-widgets/controls",
          "model_name": "HBoxModel",
          "state": {
            "_view_name": "HBoxView",
            "_dom_classes": [],
            "_model_name": "HBoxModel",
            "_view_module": "@jupyter-widgets/controls",
            "_model_module_version": "1.5.0",
            "_view_count": null,
            "_view_module_version": "1.5.0",
            "box_style": "",
            "layout": "IPY_MODEL_9a961b8a92334bedaeda460e4c92befc",
            "_model_module": "@jupyter-widgets/controls",
            "children": [
              "IPY_MODEL_5a022265356840a5a3fb60ec1ab69d9f",
              "IPY_MODEL_01e1163950684dc6b7fa868e7b9315a4"
            ]
          }
        },
        "9a961b8a92334bedaeda460e4c92befc": {
          "model_module": "@jupyter-widgets/base",
          "model_name": "LayoutModel",
          "state": {
            "_view_name": "LayoutView",
            "grid_template_rows": null,
            "right": null,
            "justify_content": null,
            "_view_module": "@jupyter-widgets/base",
            "overflow": null,
            "_model_module_version": "1.2.0",
            "_view_count": null,
            "flex_flow": null,
            "width": null,
            "min_width": null,
            "border": null,
            "align_items": null,
            "bottom": null,
            "_model_module": "@jupyter-widgets/base",
            "top": null,
            "grid_column": null,
            "overflow_y": null,
            "overflow_x": null,
            "grid_auto_flow": null,
            "grid_area": null,
            "grid_template_columns": null,
            "flex": null,
            "_model_name": "LayoutModel",
            "justify_items": null,
            "grid_row": null,
            "max_height": null,
            "align_content": null,
            "visibility": null,
            "align_self": null,
            "height": null,
            "min_height": null,
            "padding": null,
            "grid_auto_rows": null,
            "grid_gap": null,
            "max_width": null,
            "order": null,
            "_view_module_version": "1.2.0",
            "grid_template_areas": null,
            "object_position": null,
            "object_fit": null,
            "grid_auto_columns": null,
            "margin": null,
            "display": null,
            "left": null
          }
        },
        "5a022265356840a5a3fb60ec1ab69d9f": {
          "model_module": "@jupyter-widgets/controls",
          "model_name": "FloatProgressModel",
          "state": {
            "_view_name": "ProgressView",
            "style": "IPY_MODEL_6b92f7b5d29e4fa786f03c9a6267cec4",
            "_dom_classes": [],
            "description": "Downloading: 100%",
            "_model_name": "FloatProgressModel",
            "bar_style": "success",
            "max": 1042301,
            "_view_module": "@jupyter-widgets/controls",
            "_model_module_version": "1.5.0",
            "value": 1042301,
            "_view_count": null,
            "_view_module_version": "1.5.0",
            "orientation": "horizontal",
            "min": 0,
            "description_tooltip": null,
            "_model_module": "@jupyter-widgets/controls",
            "layout": "IPY_MODEL_a9682d37555846aeb124b69cf38092c3"
          }
        },
        "01e1163950684dc6b7fa868e7b9315a4": {
          "model_module": "@jupyter-widgets/controls",
          "model_name": "HTMLModel",
          "state": {
            "_view_name": "HTMLView",
            "style": "IPY_MODEL_ff801625f32e452e84c2bcefccabbad3",
            "_dom_classes": [],
            "description": "",
            "_model_name": "HTMLModel",
            "placeholder": "​",
            "_view_module": "@jupyter-widgets/controls",
            "_model_module_version": "1.5.0",
            "value": " 1.04M/1.04M [00:00&lt;00:00, 2.09MB/s]",
            "_view_count": null,
            "_view_module_version": "1.5.0",
            "description_tooltip": null,
            "_model_module": "@jupyter-widgets/controls",
            "layout": "IPY_MODEL_14dd95b6e25b462e87175be869146d05"
          }
        },
        "6b92f7b5d29e4fa786f03c9a6267cec4": {
          "model_module": "@jupyter-widgets/controls",
          "model_name": "ProgressStyleModel",
          "state": {
            "_view_name": "StyleView",
            "_model_name": "ProgressStyleModel",
            "description_width": "initial",
            "_view_module": "@jupyter-widgets/base",
            "_model_module_version": "1.5.0",
            "_view_count": null,
            "_view_module_version": "1.2.0",
            "bar_color": null,
            "_model_module": "@jupyter-widgets/controls"
          }
        },
        "a9682d37555846aeb124b69cf38092c3": {
          "model_module": "@jupyter-widgets/base",
          "model_name": "LayoutModel",
          "state": {
            "_view_name": "LayoutView",
            "grid_template_rows": null,
            "right": null,
            "justify_content": null,
            "_view_module": "@jupyter-widgets/base",
            "overflow": null,
            "_model_module_version": "1.2.0",
            "_view_count": null,
            "flex_flow": null,
            "width": null,
            "min_width": null,
            "border": null,
            "align_items": null,
            "bottom": null,
            "_model_module": "@jupyter-widgets/base",
            "top": null,
            "grid_column": null,
            "overflow_y": null,
            "overflow_x": null,
            "grid_auto_flow": null,
            "grid_area": null,
            "grid_template_columns": null,
            "flex": null,
            "_model_name": "LayoutModel",
            "justify_items": null,
            "grid_row": null,
            "max_height": null,
            "align_content": null,
            "visibility": null,
            "align_self": null,
            "height": null,
            "min_height": null,
            "padding": null,
            "grid_auto_rows": null,
            "grid_gap": null,
            "max_width": null,
            "order": null,
            "_view_module_version": "1.2.0",
            "grid_template_areas": null,
            "object_position": null,
            "object_fit": null,
            "grid_auto_columns": null,
            "margin": null,
            "display": null,
            "left": null
          }
        },
        "ff801625f32e452e84c2bcefccabbad3": {
          "model_module": "@jupyter-widgets/controls",
          "model_name": "DescriptionStyleModel",
          "state": {
            "_view_name": "StyleView",
            "_model_name": "DescriptionStyleModel",
            "description_width": "",
            "_view_module": "@jupyter-widgets/base",
            "_model_module_version": "1.5.0",
            "_view_count": null,
            "_view_module_version": "1.2.0",
            "_model_module": "@jupyter-widgets/controls"
          }
        },
        "14dd95b6e25b462e87175be869146d05": {
          "model_module": "@jupyter-widgets/base",
          "model_name": "LayoutModel",
          "state": {
            "_view_name": "LayoutView",
            "grid_template_rows": null,
            "right": null,
            "justify_content": null,
            "_view_module": "@jupyter-widgets/base",
            "overflow": null,
            "_model_module_version": "1.2.0",
            "_view_count": null,
            "flex_flow": null,
            "width": null,
            "min_width": null,
            "border": null,
            "align_items": null,
            "bottom": null,
            "_model_module": "@jupyter-widgets/base",
            "top": null,
            "grid_column": null,
            "overflow_y": null,
            "overflow_x": null,
            "grid_auto_flow": null,
            "grid_area": null,
            "grid_template_columns": null,
            "flex": null,
            "_model_name": "LayoutModel",
            "justify_items": null,
            "grid_row": null,
            "max_height": null,
            "align_content": null,
            "visibility": null,
            "align_self": null,
            "height": null,
            "min_height": null,
            "padding": null,
            "grid_auto_rows": null,
            "grid_gap": null,
            "max_width": null,
            "order": null,
            "_view_module_version": "1.2.0",
            "grid_template_areas": null,
            "object_position": null,
            "object_fit": null,
            "grid_auto_columns": null,
            "margin": null,
            "display": null,
            "left": null
          }
        },
        "2d5ded1ce3034928b9675c598f5144e6": {
          "model_module": "@jupyter-widgets/controls",
          "model_name": "HBoxModel",
          "state": {
            "_view_name": "HBoxView",
            "_dom_classes": [],
            "_model_name": "HBoxModel",
            "_view_module": "@jupyter-widgets/controls",
            "_model_module_version": "1.5.0",
            "_view_count": null,
            "_view_module_version": "1.5.0",
            "box_style": "",
            "layout": "IPY_MODEL_03de4b4c35ce4b3a87f0b06743707c65",
            "_model_module": "@jupyter-widgets/controls",
            "children": [
              "IPY_MODEL_31a4e3758a474c3da4a49bd5c4c396a4",
              "IPY_MODEL_deaba8a37b4a40e2a5e42c8e4044f5ef"
            ]
          }
        },
        "03de4b4c35ce4b3a87f0b06743707c65": {
          "model_module": "@jupyter-widgets/base",
          "model_name": "LayoutModel",
          "state": {
            "_view_name": "LayoutView",
            "grid_template_rows": null,
            "right": null,
            "justify_content": null,
            "_view_module": "@jupyter-widgets/base",
            "overflow": null,
            "_model_module_version": "1.2.0",
            "_view_count": null,
            "flex_flow": null,
            "width": null,
            "min_width": null,
            "border": null,
            "align_items": null,
            "bottom": null,
            "_model_module": "@jupyter-widgets/base",
            "top": null,
            "grid_column": null,
            "overflow_y": null,
            "overflow_x": null,
            "grid_auto_flow": null,
            "grid_area": null,
            "grid_template_columns": null,
            "flex": null,
            "_model_name": "LayoutModel",
            "justify_items": null,
            "grid_row": null,
            "max_height": null,
            "align_content": null,
            "visibility": null,
            "align_self": null,
            "height": null,
            "min_height": null,
            "padding": null,
            "grid_auto_rows": null,
            "grid_gap": null,
            "max_width": null,
            "order": null,
            "_view_module_version": "1.2.0",
            "grid_template_areas": null,
            "object_position": null,
            "object_fit": null,
            "grid_auto_columns": null,
            "margin": null,
            "display": null,
            "left": null
          }
        },
        "31a4e3758a474c3da4a49bd5c4c396a4": {
          "model_module": "@jupyter-widgets/controls",
          "model_name": "FloatProgressModel",
          "state": {
            "_view_name": "ProgressView",
            "style": "IPY_MODEL_41e537de9f8c4912a59ec4dc30e405f5",
            "_dom_classes": [],
            "description": "Downloading: 100%",
            "_model_name": "FloatProgressModel",
            "bar_style": "success",
            "max": 456318,
            "_view_module": "@jupyter-widgets/controls",
            "_model_module_version": "1.5.0",
            "value": 456318,
            "_view_count": null,
            "_view_module_version": "1.5.0",
            "orientation": "horizontal",
            "min": 0,
            "description_tooltip": null,
            "_model_module": "@jupyter-widgets/controls",
            "layout": "IPY_MODEL_a573b926127f471d90552617dbd355ac"
          }
        },
        "deaba8a37b4a40e2a5e42c8e4044f5ef": {
          "model_module": "@jupyter-widgets/controls",
          "model_name": "HTMLModel",
          "state": {
            "_view_name": "HTMLView",
            "style": "IPY_MODEL_7d93ca3793fb43ba824f743aa9a7c208",
            "_dom_classes": [],
            "description": "",
            "_model_name": "HTMLModel",
            "placeholder": "​",
            "_view_module": "@jupyter-widgets/controls",
            "_model_module_version": "1.5.0",
            "value": " 456k/456k [00:00&lt;00:00, 2.34MB/s]",
            "_view_count": null,
            "_view_module_version": "1.5.0",
            "description_tooltip": null,
            "_model_module": "@jupyter-widgets/controls",
            "layout": "IPY_MODEL_dde55076d6544256b821e4364e787a7f"
          }
        },
        "41e537de9f8c4912a59ec4dc30e405f5": {
          "model_module": "@jupyter-widgets/controls",
          "model_name": "ProgressStyleModel",
          "state": {
            "_view_name": "StyleView",
            "_model_name": "ProgressStyleModel",
            "description_width": "initial",
            "_view_module": "@jupyter-widgets/base",
            "_model_module_version": "1.5.0",
            "_view_count": null,
            "_view_module_version": "1.2.0",
            "bar_color": null,
            "_model_module": "@jupyter-widgets/controls"
          }
        },
        "a573b926127f471d90552617dbd355ac": {
          "model_module": "@jupyter-widgets/base",
          "model_name": "LayoutModel",
          "state": {
            "_view_name": "LayoutView",
            "grid_template_rows": null,
            "right": null,
            "justify_content": null,
            "_view_module": "@jupyter-widgets/base",
            "overflow": null,
            "_model_module_version": "1.2.0",
            "_view_count": null,
            "flex_flow": null,
            "width": null,
            "min_width": null,
            "border": null,
            "align_items": null,
            "bottom": null,
            "_model_module": "@jupyter-widgets/base",
            "top": null,
            "grid_column": null,
            "overflow_y": null,
            "overflow_x": null,
            "grid_auto_flow": null,
            "grid_area": null,
            "grid_template_columns": null,
            "flex": null,
            "_model_name": "LayoutModel",
            "justify_items": null,
            "grid_row": null,
            "max_height": null,
            "align_content": null,
            "visibility": null,
            "align_self": null,
            "height": null,
            "min_height": null,
            "padding": null,
            "grid_auto_rows": null,
            "grid_gap": null,
            "max_width": null,
            "order": null,
            "_view_module_version": "1.2.0",
            "grid_template_areas": null,
            "object_position": null,
            "object_fit": null,
            "grid_auto_columns": null,
            "margin": null,
            "display": null,
            "left": null
          }
        },
        "7d93ca3793fb43ba824f743aa9a7c208": {
          "model_module": "@jupyter-widgets/controls",
          "model_name": "DescriptionStyleModel",
          "state": {
            "_view_name": "StyleView",
            "_model_name": "DescriptionStyleModel",
            "description_width": "",
            "_view_module": "@jupyter-widgets/base",
            "_model_module_version": "1.5.0",
            "_view_count": null,
            "_view_module_version": "1.2.0",
            "_model_module": "@jupyter-widgets/controls"
          }
        },
        "dde55076d6544256b821e4364e787a7f": {
          "model_module": "@jupyter-widgets/base",
          "model_name": "LayoutModel",
          "state": {
            "_view_name": "LayoutView",
            "grid_template_rows": null,
            "right": null,
            "justify_content": null,
            "_view_module": "@jupyter-widgets/base",
            "overflow": null,
            "_model_module_version": "1.2.0",
            "_view_count": null,
            "flex_flow": null,
            "width": null,
            "min_width": null,
            "border": null,
            "align_items": null,
            "bottom": null,
            "_model_module": "@jupyter-widgets/base",
            "top": null,
            "grid_column": null,
            "overflow_y": null,
            "overflow_x": null,
            "grid_auto_flow": null,
            "grid_area": null,
            "grid_template_columns": null,
            "flex": null,
            "_model_name": "LayoutModel",
            "justify_items": null,
            "grid_row": null,
            "max_height": null,
            "align_content": null,
            "visibility": null,
            "align_self": null,
            "height": null,
            "min_height": null,
            "padding": null,
            "grid_auto_rows": null,
            "grid_gap": null,
            "max_width": null,
            "order": null,
            "_view_module_version": "1.2.0",
            "grid_template_areas": null,
            "object_position": null,
            "object_fit": null,
            "grid_auto_columns": null,
            "margin": null,
            "display": null,
            "left": null
          }
        },
        "b54a170e8e20428dbd08dcbececa6174": {
          "model_module": "@jupyter-widgets/controls",
          "model_name": "HBoxModel",
          "state": {
            "_view_name": "HBoxView",
            "_dom_classes": [],
            "_model_name": "HBoxModel",
            "_view_module": "@jupyter-widgets/controls",
            "_model_module_version": "1.5.0",
            "_view_count": null,
            "_view_module_version": "1.5.0",
            "box_style": "",
            "layout": "IPY_MODEL_a7f991e0d30b4a2bbdf4efe3085b60ec",
            "_model_module": "@jupyter-widgets/controls",
            "children": [
              "IPY_MODEL_59c41cdb09dc43448f8cf3b3edacc9f6",
              "IPY_MODEL_a33793da690a401f84cfc27fe66b58d3"
            ]
          }
        },
        "a7f991e0d30b4a2bbdf4efe3085b60ec": {
          "model_module": "@jupyter-widgets/base",
          "model_name": "LayoutModel",
          "state": {
            "_view_name": "LayoutView",
            "grid_template_rows": null,
            "right": null,
            "justify_content": null,
            "_view_module": "@jupyter-widgets/base",
            "overflow": null,
            "_model_module_version": "1.2.0",
            "_view_count": null,
            "flex_flow": null,
            "width": null,
            "min_width": null,
            "border": null,
            "align_items": null,
            "bottom": null,
            "_model_module": "@jupyter-widgets/base",
            "top": null,
            "grid_column": null,
            "overflow_y": null,
            "overflow_x": null,
            "grid_auto_flow": null,
            "grid_area": null,
            "grid_template_columns": null,
            "flex": null,
            "_model_name": "LayoutModel",
            "justify_items": null,
            "grid_row": null,
            "max_height": null,
            "align_content": null,
            "visibility": null,
            "align_self": null,
            "height": null,
            "min_height": null,
            "padding": null,
            "grid_auto_rows": null,
            "grid_gap": null,
            "max_width": null,
            "order": null,
            "_view_module_version": "1.2.0",
            "grid_template_areas": null,
            "object_position": null,
            "object_fit": null,
            "grid_auto_columns": null,
            "margin": null,
            "display": null,
            "left": null
          }
        },
        "59c41cdb09dc43448f8cf3b3edacc9f6": {
          "model_module": "@jupyter-widgets/controls",
          "model_name": "FloatProgressModel",
          "state": {
            "_view_name": "ProgressView",
            "style": "IPY_MODEL_6f42cc0bd0414b09994f8ca293b31db3",
            "_dom_classes": [],
            "description": "Downloading: 100%",
            "_model_name": "FloatProgressModel",
            "bar_style": "success",
            "max": 352833716,
            "_view_module": "@jupyter-widgets/controls",
            "_model_module_version": "1.5.0",
            "value": 352833716,
            "_view_count": null,
            "_view_module_version": "1.5.0",
            "orientation": "horizontal",
            "min": 0,
            "description_tooltip": null,
            "_model_module": "@jupyter-widgets/controls",
            "layout": "IPY_MODEL_ff151fd817e84f939614c8001ea02384"
          }
        },
        "a33793da690a401f84cfc27fe66b58d3": {
          "model_module": "@jupyter-widgets/controls",
          "model_name": "HTMLModel",
          "state": {
            "_view_name": "HTMLView",
            "style": "IPY_MODEL_bc6eb47a66bc4fbe88efa7878e1fd02e",
            "_dom_classes": [],
            "description": "",
            "_model_name": "HTMLModel",
            "placeholder": "​",
            "_view_module": "@jupyter-widgets/controls",
            "_model_module_version": "1.5.0",
            "value": " 353M/353M [00:06&lt;00:00, 53.4MB/s]",
            "_view_count": null,
            "_view_module_version": "1.5.0",
            "description_tooltip": null,
            "_model_module": "@jupyter-widgets/controls",
            "layout": "IPY_MODEL_cdc358ab0d7b4cb3b911102f5b5ea48f"
          }
        },
        "6f42cc0bd0414b09994f8ca293b31db3": {
          "model_module": "@jupyter-widgets/controls",
          "model_name": "ProgressStyleModel",
          "state": {
            "_view_name": "StyleView",
            "_model_name": "ProgressStyleModel",
            "description_width": "initial",
            "_view_module": "@jupyter-widgets/base",
            "_model_module_version": "1.5.0",
            "_view_count": null,
            "_view_module_version": "1.2.0",
            "bar_color": null,
            "_model_module": "@jupyter-widgets/controls"
          }
        },
        "ff151fd817e84f939614c8001ea02384": {
          "model_module": "@jupyter-widgets/base",
          "model_name": "LayoutModel",
          "state": {
            "_view_name": "LayoutView",
            "grid_template_rows": null,
            "right": null,
            "justify_content": null,
            "_view_module": "@jupyter-widgets/base",
            "overflow": null,
            "_model_module_version": "1.2.0",
            "_view_count": null,
            "flex_flow": null,
            "width": null,
            "min_width": null,
            "border": null,
            "align_items": null,
            "bottom": null,
            "_model_module": "@jupyter-widgets/base",
            "top": null,
            "grid_column": null,
            "overflow_y": null,
            "overflow_x": null,
            "grid_auto_flow": null,
            "grid_area": null,
            "grid_template_columns": null,
            "flex": null,
            "_model_name": "LayoutModel",
            "justify_items": null,
            "grid_row": null,
            "max_height": null,
            "align_content": null,
            "visibility": null,
            "align_self": null,
            "height": null,
            "min_height": null,
            "padding": null,
            "grid_auto_rows": null,
            "grid_gap": null,
            "max_width": null,
            "order": null,
            "_view_module_version": "1.2.0",
            "grid_template_areas": null,
            "object_position": null,
            "object_fit": null,
            "grid_auto_columns": null,
            "margin": null,
            "display": null,
            "left": null
          }
        },
        "bc6eb47a66bc4fbe88efa7878e1fd02e": {
          "model_module": "@jupyter-widgets/controls",
          "model_name": "DescriptionStyleModel",
          "state": {
            "_view_name": "StyleView",
            "_model_name": "DescriptionStyleModel",
            "description_width": "",
            "_view_module": "@jupyter-widgets/base",
            "_model_module_version": "1.5.0",
            "_view_count": null,
            "_view_module_version": "1.2.0",
            "_model_module": "@jupyter-widgets/controls"
          }
        },
        "cdc358ab0d7b4cb3b911102f5b5ea48f": {
          "model_module": "@jupyter-widgets/base",
          "model_name": "LayoutModel",
          "state": {
            "_view_name": "LayoutView",
            "grid_template_rows": null,
            "right": null,
            "justify_content": null,
            "_view_module": "@jupyter-widgets/base",
            "overflow": null,
            "_model_module_version": "1.2.0",
            "_view_count": null,
            "flex_flow": null,
            "width": null,
            "min_width": null,
            "border": null,
            "align_items": null,
            "bottom": null,
            "_model_module": "@jupyter-widgets/base",
            "top": null,
            "grid_column": null,
            "overflow_y": null,
            "overflow_x": null,
            "grid_auto_flow": null,
            "grid_area": null,
            "grid_template_columns": null,
            "flex": null,
            "_model_name": "LayoutModel",
            "justify_items": null,
            "grid_row": null,
            "max_height": null,
            "align_content": null,
            "visibility": null,
            "align_self": null,
            "height": null,
            "min_height": null,
            "padding": null,
            "grid_auto_rows": null,
            "grid_gap": null,
            "max_width": null,
            "order": null,
            "_view_module_version": "1.2.0",
            "grid_template_areas": null,
            "object_position": null,
            "object_fit": null,
            "grid_auto_columns": null,
            "margin": null,
            "display": null,
            "left": null
          }
        }
      }
    }
  },
  "cells": [
    {
      "cell_type": "markdown",
      "metadata": {
        "id": "view-in-github",
        "colab_type": "text"
      },
      "source": [
        "<a href=\"https://colab.research.google.com/github/jalammar/ecco/blob/main/notebooks/Ecco_Input_Saliency.ipynb\" target=\"_parent\"><img src=\"https://colab.research.google.com/assets/colab-badge.svg\" alt=\"Open In Colab\"/></a>"
      ]
    },
    {
      "cell_type": "code",
      "metadata": {
        "id": "nxI_cH5xjpFL"
      },
      "source": [
        "!pip install ecco"
      ],
      "execution_count": null,
      "outputs": []
    },
    {
      "cell_type": "code",
      "metadata": {
        "colab": {
          "base_uri": "https://localhost:8080/",
          "height": 215,
          "referenced_widgets": [
            "66ee7dd681184981a67e2b9dd5fdd6f0",
            "0e6405015df340b3bdc58694ebd4ecf4",
            "1198ffa7ad12484f9ac4048835321335",
            "819c4c5a5b3349bcade558a02106c0c4",
            "9254b1b515654fe9be6ffc08c2b15e4b",
            "ea23401f422c4201a2ccd2a45c426d52",
            "e0fcf661019f4e3da00175887b431ccc",
            "5e4aa51d413b4004bee30cce914d193e",
            "5fd6963056bf4687a15c941d3be3494b",
            "9a961b8a92334bedaeda460e4c92befc",
            "5a022265356840a5a3fb60ec1ab69d9f",
            "01e1163950684dc6b7fa868e7b9315a4",
            "6b92f7b5d29e4fa786f03c9a6267cec4",
            "a9682d37555846aeb124b69cf38092c3",
            "ff801625f32e452e84c2bcefccabbad3",
            "14dd95b6e25b462e87175be869146d05",
            "2d5ded1ce3034928b9675c598f5144e6",
            "03de4b4c35ce4b3a87f0b06743707c65",
            "31a4e3758a474c3da4a49bd5c4c396a4",
            "deaba8a37b4a40e2a5e42c8e4044f5ef",
            "41e537de9f8c4912a59ec4dc30e405f5",
            "a573b926127f471d90552617dbd355ac",
            "7d93ca3793fb43ba824f743aa9a7c208",
            "dde55076d6544256b821e4364e787a7f",
            "b54a170e8e20428dbd08dcbececa6174",
            "a7f991e0d30b4a2bbdf4efe3085b60ec",
            "59c41cdb09dc43448f8cf3b3edacc9f6",
            "a33793da690a401f84cfc27fe66b58d3",
            "6f42cc0bd0414b09994f8ca293b31db3",
            "ff151fd817e84f939614c8001ea02384",
            "bc6eb47a66bc4fbe88efa7878e1fd02e",
            "cdc358ab0d7b4cb3b911102f5b5ea48f"
          ]
        },
        "id": "zzcMoKUkV3aH",
        "outputId": "e88438a9-112f-4dfe-9897-88a589e42218"
      },
      "source": [
        "import ecco\n",
        "lm = ecco.from_pretrained('distilgpt2')"
      ],
      "execution_count": 2,
      "outputs": [
        {
          "output_type": "display_data",
          "data": {
            "application/vnd.jupyter.widget-view+json": {
              "model_id": "66ee7dd681184981a67e2b9dd5fdd6f0",
              "version_minor": 0,
              "version_major": 2
            },
            "text/plain": [
              "HBox(children=(FloatProgress(value=0.0, description='Downloading', max=762.0, style=ProgressStyle(description_…"
            ]
          },
          "metadata": {
            "tags": []
          }
        },
        {
          "output_type": "stream",
          "text": [
            "\n"
          ],
          "name": "stdout"
        },
        {
          "output_type": "display_data",
          "data": {
            "application/vnd.jupyter.widget-view+json": {
              "model_id": "5fd6963056bf4687a15c941d3be3494b",
              "version_minor": 0,
              "version_major": 2
            },
            "text/plain": [
              "HBox(children=(FloatProgress(value=0.0, description='Downloading', max=1042301.0, style=ProgressStyle(descript…"
            ]
          },
          "metadata": {
            "tags": []
          }
        },
        {
          "output_type": "stream",
          "text": [
            "\n"
          ],
          "name": "stdout"
        },
        {
          "output_type": "display_data",
          "data": {
            "application/vnd.jupyter.widget-view+json": {
              "model_id": "2d5ded1ce3034928b9675c598f5144e6",
              "version_minor": 0,
              "version_major": 2
            },
            "text/plain": [
              "HBox(children=(FloatProgress(value=0.0, description='Downloading', max=456318.0, style=ProgressStyle(descripti…"
            ]
          },
          "metadata": {
            "tags": []
          }
        },
        {
          "output_type": "stream",
          "text": [
            "\n"
          ],
          "name": "stdout"
        },
        {
          "output_type": "display_data",
          "data": {
            "application/vnd.jupyter.widget-view+json": {
              "model_id": "b54a170e8e20428dbd08dcbececa6174",
              "version_minor": 0,
              "version_major": 2
            },
            "text/plain": [
              "HBox(children=(FloatProgress(value=0.0, description='Downloading', max=352833716.0, style=ProgressStyle(descri…"
            ]
          },
          "metadata": {
            "tags": []
          }
        },
        {
          "output_type": "stream",
          "text": [
            "\n"
          ],
          "name": "stdout"
        }
      ]
    },
    {
      "cell_type": "code",
      "metadata": {
        "id": "T9bZBZLq-93C",
        "colab": {
          "base_uri": "https://localhost:8080/",
          "height": 334
        },
        "outputId": "e6f3398b-5e9e-456d-d5a4-3331764fea9c"
      },
      "source": [
        "text= \"The countries of the European Union are:\\n1. Austria\\n2. Belgium\\n3. Bulgaria\\n4.\"\n",
        "\n",
        "output = lm.generate(text, generate=20, do_sample=True)"
      ],
      "execution_count": 3,
      "outputs": [
        {
          "output_type": "display_data",
          "data": {
            "text/html": [
              "<html lang=\"en\">\n",
              "<script src=\"https://requirejs.org/docs/release/2.3.6/minified/require.js\"></script>\n",
              "<script>\n",
              "    var ecco_url = 'https://storage.googleapis.com/ml-intro/ecco/'\n",
              "    // var ecco_url = 'http://localhost:8000/ecco/'\n",
              "\n",
              "    if (window.ecco === undefined) window.ecco = {}\n",
              "\n",
              "    requirejs.config({\n",
              "        urlArgs: \"bust=\" + (new Date()).getTime(),\n",
              "        nodeRequire: require,\n",
              "        paths: {\n",
              "            d3: \"https://d3js.org/d3.v5.min\",\n",
              "            \"d3-array\": \"https://d3js.org/d3-array.v2.min\",\n",
              "            jquery: \"https://code.jquery.com/jquery-3.5.1.min\",\n",
              "            // oldEcco: ecco_url + 'ecco',\n",
              "            ecco: ecco_url + 'js/0.0.4/ecco-bundle.min',\n",
              "            xregexp: 'https://cdnjs.cloudflare.com/ajax/libs/xregexp/3.2.0/xregexp-all.min'\n",
              "        }\n",
              "    });\n",
              "    requirejs(['d3'],\n",
              "        function (d3) {\n",
              "            d3.select('#css').attr('href', ecco_url + 'html/styles.css')\n",
              "        })\n",
              "\n",
              "    console.log('Ecco initialize.')\n",
              "</script>\n",
              "\n",
              "<head>\n",
              "    <link id='css' rel=\"stylesheet\" type=\"text/css\">\n",
              "</head>\n"
            ],
            "text/plain": [
              "<IPython.core.display.HTML object>"
            ]
          },
          "metadata": {
            "tags": []
          }
        },
        {
          "output_type": "display_data",
          "data": {
            "text/html": [
              "<script>\n",
              "    // console.log('defining basic')\n",
              "    define('basic', ['d3'],\n",
              "        function (d3) {\n",
              "            return {\n",
              "                init: function (viz_id = null) {\n",
              "\n",
              "                    // console.log('basic init')\n",
              "                    if (viz_id == null){\n",
              "                        viz_id = \"viz_\" + Math.round(Math.random() * 10000000)\n",
              "                    }\n",
              "                    const div = d3.select('#basic').attr('id', viz_id),\n",
              "                        div_parent = d3.select('#' + viz_id).node().parentNode\n",
              "\n",
              "                    // Link to CSS file\n",
              "                    d3.select(div_parent).insert('link')\n",
              "                        .attr('rel', 'stylesheet')\n",
              "                        .attr('type', 'text/css')\n",
              "                        .attr('href', ecco_url + 'html/styles.css')\n",
              "\n",
              "                    return viz_id\n",
              "                }\n",
              "            }\n",
              "        }, function (err) {console.log(err);}\n",
              "    )\n",
              "    // console.log('after defining basic')\n",
              "\n",
              "</script>\n",
              "<div id=\"basic\"></div>\n"
            ],
            "text/plain": [
              "<IPython.core.display.HTML object>"
            ]
          },
          "metadata": {
            "tags": []
          }
        },
        {
          "output_type": "display_data",
          "data": {
            "application/javascript": [
              "\n",
              "\n",
              "         requirejs( ['basic', 'ecco'], function(basic, ecco){\n",
              "            basic.init('viz_659815')\n",
              "\n",
              "            window.ecco['viz_659815'] = ecco.renderOutputSequence('viz_659815', {'tokens': [{'token': 'The', 'position': 0, 'token_id': 464, 'type': 'input'}, {'token': ' countries', 'position': 1, 'token_id': 2678, 'type': 'input'}, {'token': ' of', 'position': 2, 'token_id': 286, 'type': 'input'}, {'token': ' the', 'position': 3, 'token_id': 262, 'type': 'input'}, {'token': ' European', 'position': 4, 'token_id': 3427, 'type': 'input'}, {'token': ' Union', 'position': 5, 'token_id': 4479, 'type': 'input'}, {'token': ' are', 'position': 6, 'token_id': 389, 'type': 'input'}, {'token': ':', 'position': 7, 'token_id': 25, 'type': 'input'}, {'token': '\\n', 'position': 8, 'token_id': 198, 'type': 'input'}, {'token': '1', 'position': 9, 'token_id': 16, 'type': 'input'}, {'token': '.', 'position': 10, 'token_id': 13, 'type': 'input'}, {'token': ' Austria', 'position': 11, 'token_id': 17322, 'type': 'input'}, {'token': '\\n', 'position': 12, 'token_id': 198, 'type': 'input'}, {'token': '2', 'position': 13, 'token_id': 17, 'type': 'input'}, {'token': '.', 'position': 14, 'token_id': 13, 'type': 'input'}, {'token': ' Belgium', 'position': 15, 'token_id': 15664, 'type': 'input'}, {'token': '\\n', 'position': 16, 'token_id': 198, 'type': 'input'}, {'token': '3', 'position': 17, 'token_id': 18, 'type': 'input'}, {'token': '.', 'position': 18, 'token_id': 13, 'type': 'input'}, {'token': ' Bulgaria', 'position': 19, 'token_id': 27902, 'type': 'input'}, {'token': '\\n', 'position': 20, 'token_id': 198, 'type': 'input'}, {'token': '4', 'position': 21, 'token_id': 19, 'type': 'input'}, {'token': '.', 'position': 22, 'token_id': 13, 'type': 'input'}]})\n",
              "         }, function (err) {\n",
              "            console.log(err);\n",
              "        })\n"
            ],
            "text/plain": [
              "<IPython.core.display.Javascript object>"
            ]
          },
          "metadata": {
            "tags": []
          }
        },
        {
          "output_type": "display_data",
          "data": {
            "application/javascript": [
              "\n",
              "        // We don't really need these require scripts. But this is to avert \n",
              "        //this code from running before display_input_sequence which DOES require external files\n",
              "        requirejs(['basic', 'ecco'], function(basic, ecco){ \n",
              "                console.log('addToken viz_id', 'viz_659815');\n",
              "                window.ecco['viz_659815'].addToken({\"token\": \" Denmark\", \"token_id\": 16490, \"position\": 23, \"type\": \"output\"})\n",
              "                window.ecco['viz_659815'].redraw()\n",
              "        })\n",
              "        "
            ],
            "text/plain": [
              "<IPython.core.display.Javascript object>"
            ]
          },
          "metadata": {
            "tags": []
          }
        },
        {
          "output_type": "display_data",
          "data": {
            "application/javascript": [
              "\n",
              "        // We don't really need these require scripts. But this is to avert \n",
              "        //this code from running before display_input_sequence which DOES require external files\n",
              "        requirejs(['basic', 'ecco'], function(basic, ecco){ \n",
              "                console.log('addToken viz_id', 'viz_659815');\n",
              "                window.ecco['viz_659815'].addToken({\"token\": \"\\n\", \"token_id\": 198, \"position\": 24, \"type\": \"output\"})\n",
              "                window.ecco['viz_659815'].redraw()\n",
              "        })\n",
              "        "
            ],
            "text/plain": [
              "<IPython.core.display.Javascript object>"
            ]
          },
          "metadata": {
            "tags": []
          }
        },
        {
          "output_type": "display_data",
          "data": {
            "application/javascript": [
              "\n",
              "        // We don't really need these require scripts. But this is to avert \n",
              "        //this code from running before display_input_sequence which DOES require external files\n",
              "        requirejs(['basic', 'ecco'], function(basic, ecco){ \n",
              "                console.log('addToken viz_id', 'viz_659815');\n",
              "                window.ecco['viz_659815'].addToken({\"token\": \"5\", \"token_id\": 20, \"position\": 25, \"type\": \"output\"})\n",
              "                window.ecco['viz_659815'].redraw()\n",
              "        })\n",
              "        "
            ],
            "text/plain": [
              "<IPython.core.display.Javascript object>"
            ]
          },
          "metadata": {
            "tags": []
          }
        },
        {
          "output_type": "display_data",
          "data": {
            "application/javascript": [
              "\n",
              "        // We don't really need these require scripts. But this is to avert \n",
              "        //this code from running before display_input_sequence which DOES require external files\n",
              "        requirejs(['basic', 'ecco'], function(basic, ecco){ \n",
              "                console.log('addToken viz_id', 'viz_659815');\n",
              "                window.ecco['viz_659815'].addToken({\"token\": \".\", \"token_id\": 13, \"position\": 26, \"type\": \"output\"})\n",
              "                window.ecco['viz_659815'].redraw()\n",
              "        })\n",
              "        "
            ],
            "text/plain": [
              "<IPython.core.display.Javascript object>"
            ]
          },
          "metadata": {
            "tags": []
          }
        },
        {
          "output_type": "display_data",
          "data": {
            "application/javascript": [
              "\n",
              "        // We don't really need these require scripts. But this is to avert \n",
              "        //this code from running before display_input_sequence which DOES require external files\n",
              "        requirejs(['basic', 'ecco'], function(basic, ecco){ \n",
              "                console.log('addToken viz_id', 'viz_659815');\n",
              "                window.ecco['viz_659815'].addToken({\"token\": \" Estonia\", \"token_id\": 30912, \"position\": 27, \"type\": \"output\"})\n",
              "                window.ecco['viz_659815'].redraw()\n",
              "        })\n",
              "        "
            ],
            "text/plain": [
              "<IPython.core.display.Javascript object>"
            ]
          },
          "metadata": {
            "tags": []
          }
        },
        {
          "output_type": "display_data",
          "data": {
            "application/javascript": [
              "\n",
              "        // We don't really need these require scripts. But this is to avert \n",
              "        //this code from running before display_input_sequence which DOES require external files\n",
              "        requirejs(['basic', 'ecco'], function(basic, ecco){ \n",
              "                console.log('addToken viz_id', 'viz_659815');\n",
              "                window.ecco['viz_659815'].addToken({\"token\": \"\\n\", \"token_id\": 198, \"position\": 28, \"type\": \"output\"})\n",
              "                window.ecco['viz_659815'].redraw()\n",
              "        })\n",
              "        "
            ],
            "text/plain": [
              "<IPython.core.display.Javascript object>"
            ]
          },
          "metadata": {
            "tags": []
          }
        },
        {
          "output_type": "display_data",
          "data": {
            "application/javascript": [
              "\n",
              "        // We don't really need these require scripts. But this is to avert \n",
              "        //this code from running before display_input_sequence which DOES require external files\n",
              "        requirejs(['basic', 'ecco'], function(basic, ecco){ \n",
              "                console.log('addToken viz_id', 'viz_659815');\n",
              "                window.ecco['viz_659815'].addToken({\"token\": \"6\", \"token_id\": 21, \"position\": 29, \"type\": \"output\"})\n",
              "                window.ecco['viz_659815'].redraw()\n",
              "        })\n",
              "        "
            ],
            "text/plain": [
              "<IPython.core.display.Javascript object>"
            ]
          },
          "metadata": {
            "tags": []
          }
        },
        {
          "output_type": "display_data",
          "data": {
            "application/javascript": [
              "\n",
              "        // We don't really need these require scripts. But this is to avert \n",
              "        //this code from running before display_input_sequence which DOES require external files\n",
              "        requirejs(['basic', 'ecco'], function(basic, ecco){ \n",
              "                console.log('addToken viz_id', 'viz_659815');\n",
              "                window.ecco['viz_659815'].addToken({\"token\": \".\", \"token_id\": 13, \"position\": 30, \"type\": \"output\"})\n",
              "                window.ecco['viz_659815'].redraw()\n",
              "        })\n",
              "        "
            ],
            "text/plain": [
              "<IPython.core.display.Javascript object>"
            ]
          },
          "metadata": {
            "tags": []
          }
        },
        {
          "output_type": "display_data",
          "data": {
            "application/javascript": [
              "\n",
              "        // We don't really need these require scripts. But this is to avert \n",
              "        //this code from running before display_input_sequence which DOES require external files\n",
              "        requirejs(['basic', 'ecco'], function(basic, ecco){ \n",
              "                console.log('addToken viz_id', 'viz_659815');\n",
              "                window.ecco['viz_659815'].addToken({\"token\": \" Hungary\", \"token_id\": 19562, \"position\": 31, \"type\": \"output\"})\n",
              "                window.ecco['viz_659815'].redraw()\n",
              "        })\n",
              "        "
            ],
            "text/plain": [
              "<IPython.core.display.Javascript object>"
            ]
          },
          "metadata": {
            "tags": []
          }
        },
        {
          "output_type": "display_data",
          "data": {
            "application/javascript": [
              "\n",
              "        // We don't really need these require scripts. But this is to avert \n",
              "        //this code from running before display_input_sequence which DOES require external files\n",
              "        requirejs(['basic', 'ecco'], function(basic, ecco){ \n",
              "                console.log('addToken viz_id', 'viz_659815');\n",
              "                window.ecco['viz_659815'].addToken({\"token\": \"\\n\", \"token_id\": 198, \"position\": 32, \"type\": \"output\"})\n",
              "                window.ecco['viz_659815'].redraw()\n",
              "        })\n",
              "        "
            ],
            "text/plain": [
              "<IPython.core.display.Javascript object>"
            ]
          },
          "metadata": {
            "tags": []
          }
        },
        {
          "output_type": "display_data",
          "data": {
            "application/javascript": [
              "\n",
              "        // We don't really need these require scripts. But this is to avert \n",
              "        //this code from running before display_input_sequence which DOES require external files\n",
              "        requirejs(['basic', 'ecco'], function(basic, ecco){ \n",
              "                console.log('addToken viz_id', 'viz_659815');\n",
              "                window.ecco['viz_659815'].addToken({\"token\": \"7\", \"token_id\": 22, \"position\": 33, \"type\": \"output\"})\n",
              "                window.ecco['viz_659815'].redraw()\n",
              "        })\n",
              "        "
            ],
            "text/plain": [
              "<IPython.core.display.Javascript object>"
            ]
          },
          "metadata": {
            "tags": []
          }
        },
        {
          "output_type": "display_data",
          "data": {
            "application/javascript": [
              "\n",
              "        // We don't really need these require scripts. But this is to avert \n",
              "        //this code from running before display_input_sequence which DOES require external files\n",
              "        requirejs(['basic', 'ecco'], function(basic, ecco){ \n",
              "                console.log('addToken viz_id', 'viz_659815');\n",
              "                window.ecco['viz_659815'].addToken({\"token\": \".\", \"token_id\": 13, \"position\": 34, \"type\": \"output\"})\n",
              "                window.ecco['viz_659815'].redraw()\n",
              "        })\n",
              "        "
            ],
            "text/plain": [
              "<IPython.core.display.Javascript object>"
            ]
          },
          "metadata": {
            "tags": []
          }
        },
        {
          "output_type": "display_data",
          "data": {
            "application/javascript": [
              "\n",
              "        // We don't really need these require scripts. But this is to avert \n",
              "        //this code from running before display_input_sequence which DOES require external files\n",
              "        requirejs(['basic', 'ecco'], function(basic, ecco){ \n",
              "                console.log('addToken viz_id', 'viz_659815');\n",
              "                window.ecco['viz_659815'].addToken({\"token\": \" Iceland\", \"token_id\": 17333, \"position\": 35, \"type\": \"output\"})\n",
              "                window.ecco['viz_659815'].redraw()\n",
              "        })\n",
              "        "
            ],
            "text/plain": [
              "<IPython.core.display.Javascript object>"
            ]
          },
          "metadata": {
            "tags": []
          }
        },
        {
          "output_type": "display_data",
          "data": {
            "application/javascript": [
              "\n",
              "        // We don't really need these require scripts. But this is to avert \n",
              "        //this code from running before display_input_sequence which DOES require external files\n",
              "        requirejs(['basic', 'ecco'], function(basic, ecco){ \n",
              "                console.log('addToken viz_id', 'viz_659815');\n",
              "                window.ecco['viz_659815'].addToken({\"token\": \"\\n\", \"token_id\": 198, \"position\": 36, \"type\": \"output\"})\n",
              "                window.ecco['viz_659815'].redraw()\n",
              "        })\n",
              "        "
            ],
            "text/plain": [
              "<IPython.core.display.Javascript object>"
            ]
          },
          "metadata": {
            "tags": []
          }
        },
        {
          "output_type": "display_data",
          "data": {
            "application/javascript": [
              "\n",
              "        // We don't really need these require scripts. But this is to avert \n",
              "        //this code from running before display_input_sequence which DOES require external files\n",
              "        requirejs(['basic', 'ecco'], function(basic, ecco){ \n",
              "                console.log('addToken viz_id', 'viz_659815');\n",
              "                window.ecco['viz_659815'].addToken({\"token\": \"8\", \"token_id\": 23, \"position\": 37, \"type\": \"output\"})\n",
              "                window.ecco['viz_659815'].redraw()\n",
              "        })\n",
              "        "
            ],
            "text/plain": [
              "<IPython.core.display.Javascript object>"
            ]
          },
          "metadata": {
            "tags": []
          }
        },
        {
          "output_type": "display_data",
          "data": {
            "application/javascript": [
              "\n",
              "        // We don't really need these require scripts. But this is to avert \n",
              "        //this code from running before display_input_sequence which DOES require external files\n",
              "        requirejs(['basic', 'ecco'], function(basic, ecco){ \n",
              "                console.log('addToken viz_id', 'viz_659815');\n",
              "                window.ecco['viz_659815'].addToken({\"token\": \".\", \"token_id\": 13, \"position\": 38, \"type\": \"output\"})\n",
              "                window.ecco['viz_659815'].redraw()\n",
              "        })\n",
              "        "
            ],
            "text/plain": [
              "<IPython.core.display.Javascript object>"
            ]
          },
          "metadata": {
            "tags": []
          }
        },
        {
          "output_type": "display_data",
          "data": {
            "application/javascript": [
              "\n",
              "        // We don't really need these require scripts. But this is to avert \n",
              "        //this code from running before display_input_sequence which DOES require external files\n",
              "        requirejs(['basic', 'ecco'], function(basic, ecco){ \n",
              "                console.log('addToken viz_id', 'viz_659815');\n",
              "                window.ecco['viz_659815'].addToken({\"token\": \" Italy\", \"token_id\": 8031, \"position\": 39, \"type\": \"output\"})\n",
              "                window.ecco['viz_659815'].redraw()\n",
              "        })\n",
              "        "
            ],
            "text/plain": [
              "<IPython.core.display.Javascript object>"
            ]
          },
          "metadata": {
            "tags": []
          }
        },
        {
          "output_type": "display_data",
          "data": {
            "application/javascript": [
              "\n",
              "        // We don't really need these require scripts. But this is to avert \n",
              "        //this code from running before display_input_sequence which DOES require external files\n",
              "        requirejs(['basic', 'ecco'], function(basic, ecco){ \n",
              "                console.log('addToken viz_id', 'viz_659815');\n",
              "                window.ecco['viz_659815'].addToken({\"token\": \"\\n\", \"token_id\": 198, \"position\": 40, \"type\": \"output\"})\n",
              "                window.ecco['viz_659815'].redraw()\n",
              "        })\n",
              "        "
            ],
            "text/plain": [
              "<IPython.core.display.Javascript object>"
            ]
          },
          "metadata": {
            "tags": []
          }
        },
        {
          "output_type": "display_data",
          "data": {
            "application/javascript": [
              "\n",
              "        // We don't really need these require scripts. But this is to avert \n",
              "        //this code from running before display_input_sequence which DOES require external files\n",
              "        requirejs(['basic', 'ecco'], function(basic, ecco){ \n",
              "                console.log('addToken viz_id', 'viz_659815');\n",
              "                window.ecco['viz_659815'].addToken({\"token\": \"9\", \"token_id\": 24, \"position\": 41, \"type\": \"output\"})\n",
              "                window.ecco['viz_659815'].redraw()\n",
              "        })\n",
              "        "
            ],
            "text/plain": [
              "<IPython.core.display.Javascript object>"
            ]
          },
          "metadata": {
            "tags": []
          }
        },
        {
          "output_type": "display_data",
          "data": {
            "application/javascript": [
              "\n",
              "        // We don't really need these require scripts. But this is to avert \n",
              "        //this code from running before display_input_sequence which DOES require external files\n",
              "        requirejs(['basic', 'ecco'], function(basic, ecco){ \n",
              "                console.log('addToken viz_id', 'viz_659815');\n",
              "                window.ecco['viz_659815'].addToken({\"token\": \".\", \"token_id\": 13, \"position\": 42, \"type\": \"output\"})\n",
              "                window.ecco['viz_659815'].redraw()\n",
              "        })\n",
              "        "
            ],
            "text/plain": [
              "<IPython.core.display.Javascript object>"
            ]
          },
          "metadata": {
            "tags": []
          }
        }
      ]
    },
    {
      "cell_type": "code",
      "metadata": {
        "id": "3a02pyc2WASq",
        "colab": {
          "base_uri": "https://localhost:8080/",
          "height": 234
        },
        "outputId": "ac3e4d15-f2fb-4f4e-9bf7-0882a6c895c2"
      },
      "source": [
        "output.saliency()"
      ],
      "execution_count": 4,
      "outputs": [
        {
          "output_type": "display_data",
          "data": {
            "text/html": [
              "<html lang=\"en\">\n",
              "<script src=\"https://requirejs.org/docs/release/2.3.6/minified/require.js\"></script>\n",
              "<script>\n",
              "    var ecco_url = 'https://storage.googleapis.com/ml-intro/ecco/'\n",
              "    // var ecco_url = 'http://localhost:8000/ecco/'\n",
              "\n",
              "    if (window.ecco === undefined) window.ecco = {}\n",
              "\n",
              "    requirejs.config({\n",
              "        urlArgs: \"bust=\" + (new Date()).getTime(),\n",
              "        nodeRequire: require,\n",
              "        paths: {\n",
              "            d3: \"https://d3js.org/d3.v5.min\",\n",
              "            \"d3-array\": \"https://d3js.org/d3-array.v2.min\",\n",
              "            jquery: \"https://code.jquery.com/jquery-3.5.1.min\",\n",
              "            // oldEcco: ecco_url + 'ecco',\n",
              "            ecco: ecco_url + 'js/0.0.4/ecco-bundle.min',\n",
              "            xregexp: 'https://cdnjs.cloudflare.com/ajax/libs/xregexp/3.2.0/xregexp-all.min'\n",
              "        }\n",
              "    });\n",
              "    requirejs(['d3'],\n",
              "        function (d3) {\n",
              "            d3.select('#css').attr('href', ecco_url + 'html/styles.css')\n",
              "        })\n",
              "\n",
              "    console.log('Ecco initialize.')\n",
              "</script>\n",
              "\n",
              "<head>\n",
              "    <link id='css' rel=\"stylesheet\" type=\"text/css\">\n",
              "</head>\n"
            ],
            "text/plain": [
              "<IPython.core.display.HTML object>"
            ]
          },
          "metadata": {
            "tags": []
          }
        },
        {
          "output_type": "display_data",
          "data": {
            "text/html": [
              "<script>\n",
              "    // console.log('defining basic')\n",
              "    define('basic', ['d3'],\n",
              "        function (d3) {\n",
              "            return {\n",
              "                init: function (viz_id = null) {\n",
              "\n",
              "                    // console.log('basic init')\n",
              "                    if (viz_id == null){\n",
              "                        viz_id = \"viz_\" + Math.round(Math.random() * 10000000)\n",
              "                    }\n",
              "                    const div = d3.select('#basic').attr('id', viz_id),\n",
              "                        div_parent = d3.select('#' + viz_id).node().parentNode\n",
              "\n",
              "                    // Link to CSS file\n",
              "                    d3.select(div_parent).insert('link')\n",
              "                        .attr('rel', 'stylesheet')\n",
              "                        .attr('type', 'text/css')\n",
              "                        .attr('href', ecco_url + 'html/styles.css')\n",
              "\n",
              "                    return viz_id\n",
              "                }\n",
              "            }\n",
              "        }, function (err) {console.log(err);}\n",
              "    )\n",
              "    // console.log('after defining basic')\n",
              "\n",
              "</script>\n",
              "<div id=\"basic\"></div>\n"
            ],
            "text/plain": [
              "<IPython.core.display.HTML object>"
            ]
          },
          "metadata": {
            "tags": []
          }
        },
        {
          "output_type": "display_data",
          "data": {
            "application/javascript": [
              "\n",
              "             requirejs(['basic', 'ecco'], function(basic, ecco){\n",
              "                const viz_id = basic.init()\n",
              "                // ecco.interactiveTokens(viz_id, {})\n",
              "                window.ecco[viz_id] = new ecco.MinimalHighlighter({\n",
              "                parentDiv: viz_id,\n",
              "                data: {'tokens': [{'token': 'The', 'token_id': 464, 'type': 'input', 'value': '0.049439568', 'position': 0}, {'token': ' countries', 'token_id': 2678, 'type': 'input', 'value': '0.050089534', 'position': 1}, {'token': ' of', 'token_id': 286, 'type': 'input', 'value': '0.013084191', 'position': 2}, {'token': ' the', 'token_id': 262, 'type': 'input', 'value': '0.0119883055', 'position': 3}, {'token': ' European', 'token_id': 3427, 'type': 'input', 'value': '0.05063442', 'position': 4}, {'token': ' Union', 'token_id': 4479, 'type': 'input', 'value': '0.027340027', 'position': 5}, {'token': ' are', 'token_id': 389, 'type': 'input', 'value': '0.015757969', 'position': 6}, {'token': ':', 'token_id': 25, 'type': 'input', 'value': '0.020343373', 'position': 7}, {'token': '\\n', 'token_id': 198, 'type': 'input', 'value': '0.026571704', 'position': 8}, {'token': '1', 'token_id': 16, 'type': 'input', 'value': '0.03534159', 'position': 9}, {'token': '.', 'token_id': 13, 'type': 'input', 'value': '0.026429312', 'position': 10}, {'token': ' Austria', 'token_id': 17322, 'type': 'input', 'value': '0.15028009', 'position': 11}, {'token': '\\n', 'token_id': 198, 'type': 'input', 'value': '0.02259441', 'position': 12}, {'token': '2', 'token_id': 17, 'type': 'input', 'value': '0.025393732', 'position': 13}, {'token': '.', 'token_id': 13, 'type': 'input', 'value': '0.020415496', 'position': 14}, {'token': ' Belgium', 'token_id': 15664, 'type': 'input', 'value': '0.12808192', 'position': 15}, {'token': '\\n', 'token_id': 198, 'type': 'input', 'value': '0.017044982', 'position': 16}, {'token': '3', 'token_id': 18, 'type': 'input', 'value': '0.027940415', 'position': 17}, {'token': '.', 'token_id': 13, 'type': 'input', 'value': '0.024000749', 'position': 18}, {'token': ' Bulgaria', 'token_id': 27902, 'type': 'input', 'value': '0.16752203', 'position': 19}, {'token': '\\n', 'token_id': 198, 'type': 'input', 'value': '0.016735977', 'position': 20}, {'token': '4', 'token_id': 19, 'type': 'input', 'value': '0.04030912', 'position': 21}, {'token': '.', 'token_id': 13, 'type': 'input', 'value': '0.03266111', 'position': 22}, {'token': ' Denmark', 'token_id': 16490, 'type': 'output', 'value': '0', 'position': 23}, {'token': '\\n', 'token_id': 198, 'type': 'output', 'value': '0', 'position': 24}, {'token': '5', 'token_id': 20, 'type': 'output', 'value': '0', 'position': 25}, {'token': '.', 'token_id': 13, 'type': 'output', 'value': '0', 'position': 26}, {'token': ' Estonia', 'token_id': 30912, 'type': 'output', 'value': '0', 'position': 27}, {'token': '\\n', 'token_id': 198, 'type': 'output', 'value': '0', 'position': 28}, {'token': '6', 'token_id': 21, 'type': 'output', 'value': '0', 'position': 29}, {'token': '.', 'token_id': 13, 'type': 'output', 'value': '0', 'position': 30}, {'token': ' Hungary', 'token_id': 19562, 'type': 'output', 'value': '0', 'position': 31}, {'token': '\\n', 'token_id': 198, 'type': 'output', 'value': '0', 'position': 32}, {'token': '7', 'token_id': 22, 'type': 'output', 'value': '0', 'position': 33}, {'token': '.', 'token_id': 13, 'type': 'output', 'value': '0', 'position': 34}, {'token': ' Iceland', 'token_id': 17333, 'type': 'output', 'value': '0', 'position': 35}, {'token': '\\n', 'token_id': 198, 'type': 'output', 'value': '0', 'position': 36}, {'token': '8', 'token_id': 23, 'type': 'output', 'value': '0', 'position': 37}, {'token': '.', 'token_id': 13, 'type': 'output', 'value': '0', 'position': 38}, {'token': ' Italy', 'token_id': 8031, 'type': 'output', 'value': '0', 'position': 39}, {'token': '\\n', 'token_id': 198, 'type': 'output', 'value': '0', 'position': 40}, {'token': '9', 'token_id': 24, 'type': 'output', 'value': '0', 'position': 41}, {'token': '.', 'token_id': 13, 'type': 'output', 'value': '0', 'position': 42}], 'attributions': [[0.04943956807255745, 0.05008953437209129, 0.013084190897643566, 0.011988305486738682, 0.05063442140817642, 0.027340026572346687, 0.01575796864926815, 0.020343372598290443, 0.02657170407474041, 0.03534159064292908, 0.0264293123036623, 0.15028008818626404, 0.022594410926103592, 0.025393731892108917, 0.020415496081113815, 0.12808191776275635, 0.017044981941580772, 0.02794041484594345, 0.024000748991966248, 0.16752202808856964, 0.016735976561903954, 0.0403091199696064, 0.032661110162734985], [0.05445265397429466, 0.060984473675489426, 0.016059309244155884, 0.014423289336264133, 0.04057827964425087, 0.0326833538711071, 0.030668824911117554, 0.03859851881861687, 0.03291270136833191, 0.04443133994936943, 0.02458546869456768, 0.09065059572458267, 0.028514131903648376, 0.030183736234903336, 0.022901471704244614, 0.060686852782964706, 0.030640196055173874, 0.026774317026138306, 0.015727339312434196, 0.0549638457596302, 0.025910040363669395, 0.03451257944107056, 0.02432425320148468, 0.163832426071167], [0.04625704884529114, 0.06001163646578789, 0.01752183772623539, 0.013635020703077316, 0.037517718970775604, 0.028393268585205078, 0.02594611793756485, 0.03725416585803032, 0.046187061816453934, 0.0689888522028923, 0.032886262983083725, 0.05469834804534912, 0.034350182861089706, 0.059529129415750504, 0.020982401445508003, 0.0353580005466938, 0.029946282505989075, 0.06126280501484871, 0.023490140214562416, 0.03508521243929863, 0.027160370722413063, 0.06813587248325348, 0.02916596084833145, 0.05792349576950073, 0.048312876373529434], [0.04700092971324921, 0.07610819488763809, 0.0141654247418046, 0.011453204788267612, 0.033166032284498215, 0.02874363400042057, 0.022928141057491302, 0.025069786235690117, 0.02945076674222946, 0.04692099988460541, 0.029206767678260803, 0.07050538808107376, 0.02289663814008236, 0.03360101208090782, 0.031016988679766655, 0.04559534788131714, 0.02226242981851101, 0.035390350967645645, 0.030636180192232132, 0.04702487587928772, 0.0252226609736681, 0.052509605884552, 0.028801724314689636, 0.0612356923520565, 0.035259656608104706, 0.09382753819227219], [0.04698164016008377, 0.046145085245370865, 0.01237320713698864, 0.011323688551783562, 0.0447867289185524, 0.025426212698221207, 0.015084847807884216, 0.018886689096689224, 0.02403508685529232, 0.030609147623181343, 0.02315535396337509, 0.12827806174755096, 0.02128533646464348, 0.020467890426516533, 0.013707623817026615, 0.08875671029090881, 0.017068207263946533, 0.018822843208909035, 0.012245161458849907, 0.09414493292570114, 0.013754932209849358, 0.01953575201332569, 0.0193419698625803, 0.13574236631393433, 0.016745299100875854, 0.04048633575439453, 0.040808938443660736], [0.04422580823302269, 0.04887473210692406, 0.015620877966284752, 0.010961925610899925, 0.03370694816112518, 0.025472372770309448, 0.024166403338313103, 0.03445014730095863, 0.03548281267285347, 0.03927019611001015, 0.02632465586066246, 0.061417605727910995, 0.032799623906612396, 0.029635049402713776, 0.018969764932990074, 0.030464140698313713, 0.025003263726830482, 0.024054525420069695, 0.011479630134999752, 0.04444267228245735, 0.021758081391453743, 0.02182953618466854, 0.010123236104846, 0.037708114832639694, 0.031393419951200485, 0.027276786044239998, 0.022700054571032524, 0.2103877067565918], [0.0393802784383297, 0.05073682591319084, 0.014813889749348164, 0.010513371787965298, 0.03019464947283268, 0.023507414385676384, 0.022171631455421448, 0.032804835587739944, 0.04417609050869942, 0.052946537733078, 0.02615359053015709, 0.042329996824264526, 0.025882352143526077, 0.03845137357711792, 0.017481984570622444, 0.02775944024324417, 0.024902524426579475, 0.038587577641010284, 0.020064396783709526, 0.03127121552824974, 0.02297057770192623, 0.06353949010372162, 0.01895338110625744, 0.035308681428432465, 0.02909768372774124, 0.08880016207695007, 0.025475068017840385, 0.06440387666225433, 0.037321098148822784], [0.04712371155619621, 0.07134311646223068, 0.012786508537828922, 0.011749468743801117, 0.030481647700071335, 0.025585096329450607, 0.020530598238110542, 0.023384977132081985, 0.027829919010400772, 0.04054825007915497, 0.026106365025043488, 0.06185326725244522, 0.018794070929288864, 0.02624179795384407, 0.02635182812809944, 0.041802335530519485, 0.018822260200977325, 0.025375118479132652, 0.02084873989224434, 0.039737146347761154, 0.016563966870307922, 0.024245603010058403, 0.025389552116394043, 0.03185764700174332, 0.026153873652219772, 0.04612612724304199, 0.02612634189426899, 0.0649978443980217, 0.03261072561144829, 0.08863206952810287], [0.04565446451306343, 0.044622816145420074, 0.011538650840520859, 0.01025953609496355, 0.04069952294230461, 0.02485772967338562, 0.014383221045136452, 0.018455877900123596, 0.022596992552280426, 0.02670898102223873, 0.020052442327141762, 0.11866431683301926, 0.016999702900648117, 0.0182055477052927, 0.012371509335935116, 0.07133931666612625, 0.014524816535413265, 0.016362296417355537, 0.01138358749449253, 0.07472111284732819, 0.012203061021864414, 0.013679882511496544, 0.011595230549573898, 0.0873299390077591, 0.012505875900387764, 0.015324544161558151, 0.017703009769320488, 0.11641134321689606, 0.012608757242560387, 0.03672841563820839, 0.029507508501410484], [0.041189081966876984, 0.03590065613389015, 0.013377404771745205, 0.009007059969007969, 0.02437390387058258, 0.020000532269477844, 0.02205365151166916, 0.03473476320505142, 0.03240597993135452, 0.035214100033044815, 0.020971177145838737, 0.049040134996175766, 0.030250167474150658, 0.02823678031563759, 0.013715661130845547, 0.03525853529572487, 0.023353595286607742, 0.022321611642837524, 0.010709994472563267, 0.03746946528553963, 0.022243229672312737, 0.017595509067177773, 0.008848602883517742, 0.030285805463790894, 0.022752948105335236, 0.015078626573085785, 0.009591881185770035, 0.053040262311697006, 0.027276525273919106, 0.030689122155308723, 0.0227520652115345, 0.2002611607313156], [0.036348894238471985, 0.042071886360645294, 0.01225823350250721, 0.008847358636558056, 0.024238944053649902, 0.019985850900411606, 0.018009206280112267, 0.02917732298374176, 0.04138946905732155, 0.04265203699469566, 0.019446879625320435, 0.035443153232336044, 0.022411976009607315, 0.031249569728970528, 0.015138800255954266, 0.02384556457400322, 0.021639376878738403, 0.03428412973880768, 0.015750059857964516, 0.030079996213316917, 0.020328037440776825, 0.04814385995268822, 0.01805652119219303, 0.028378209099173546, 0.022765398025512695, 0.06939928978681564, 0.01307464949786663, 0.02906051091849804, 0.027269763872027397, 0.0708974152803421, 0.020852940157055855, 0.0669921487569809, 0.04051267355680466], [0.04441447556018829, 0.06544914841651917, 0.012138329446315765, 0.011729312129318714, 0.027508947998285294, 0.023068415001034737, 0.019684389233589172, 0.02160143107175827, 0.026129350066184998, 0.03316725790500641, 0.022526783868670464, 0.057234857231378555, 0.017027469351887703, 0.022142037749290466, 0.02318013273179531, 0.038621965795755386, 0.015126329846680164, 0.018864937126636505, 0.018189430236816406, 0.03607727214694023, 0.014062505215406418, 0.02041257917881012, 0.017379479482769966, 0.02262249030172825, 0.016559241339564323, 0.019946252927184105, 0.028759954497218132, 0.03340106084942818, 0.026210110634565353, 0.05631742253899574, 0.020772511139512062, 0.059731900691986084, 0.026882169768214226, 0.08306006342172623], [0.04079369083046913, 0.037403713911771774, 0.010660147294402122, 0.00995996966958046, 0.03675101697444916, 0.0211558286100626, 0.013347672298550606, 0.016431892290711403, 0.020215535536408424, 0.02279440313577652, 0.018281878903508186, 0.098570317029953, 0.014715478755533695, 0.015082988888025284, 0.01160693820565939, 0.05741897225379944, 0.012021610513329506, 0.012844032607972622, 0.010807053185999393, 0.06255337595939636, 0.009317689575254917, 0.013385306112468243, 0.009590297006070614, 0.05052175000309944, 0.014286961406469345, 0.015016697347164154, 0.009561321698129177, 0.07081776857376099, 0.015841811895370483, 0.025322264060378075, 0.014994093216955662, 0.14611361920833588, 0.010987373068928719, 0.02658085711300373, 0.02424568124115467], [0.03818962723016739, 0.04332994669675827, 0.011894669383764267, 0.009120951406657696, 0.02739410661160946, 0.021695183590054512, 0.019302019849419594, 0.02594386786222458, 0.02804739587008953, 0.030515512451529503, 0.018947169184684753, 0.05824432522058487, 0.0220082588493824, 0.02245602384209633, 0.017864417284727097, 0.029174936935305595, 0.015533490106463432, 0.018145812675356865, 0.012838724069297314, 0.028600400313735008, 0.012539343908429146, 0.016414638608694077, 0.00977701973170042, 0.025099869817495346, 0.013189609162509441, 0.014744835905730724, 0.008384697139263153, 0.03638690710067749, 0.013581235893070698, 0.01993618905544281, 0.013604942709207535, 0.055152662098407745, 0.026282455772161484, 0.03178272768855095, 0.02302863448858261, 0.1808474063873291], [0.036395441740751266, 0.04536263644695282, 0.012470658868551254, 0.009716728702187538, 0.02479998581111431, 0.020599298179149628, 0.01906147040426731, 0.02789001725614071, 0.04252384230494499, 0.03995267301797867, 0.01812957413494587, 0.03491882234811783, 0.022969283163547516, 0.027180174365639687, 0.014333726838231087, 0.022910429164767265, 0.017426542937755585, 0.02717737667262554, 0.01203829050064087, 0.028669005259871483, 0.016527989879250526, 0.036926206201314926, 0.010992366820573807, 0.028533263131976128, 0.020082376897335052, 0.043442826718091965, 0.01036649476736784, 0.024205949157476425, 0.01989017426967621, 0.04045623168349266, 0.01174609549343586, 0.03661411255598068, 0.028897816315293312, 0.05899525061249733, 0.017378533259034157, 0.05200270190834999, 0.03841559588909149], [0.04397888109087944, 0.06432314962148666, 0.011982504278421402, 0.01185590960085392, 0.026807935908436775, 0.02224111743271351, 0.019492819905281067, 0.021358288824558258, 0.025827568024396896, 0.034104183316230774, 0.020743049681186676, 0.05471619963645935, 0.015530535019934177, 0.020614495500922203, 0.020928632467985153, 0.03664674982428551, 0.012508835643529892, 0.01607588492333889, 0.01485382579267025, 0.034538451582193375, 0.011423023417592049, 0.0160262081772089, 0.014754788018763065, 0.02113070711493492, 0.01170947216451168, 0.016432395204901695, 0.016847215592861176, 0.028418265283107758, 0.01402976829558611, 0.02187117002904415, 0.024619251489639282, 0.025195542722940445, 0.02142966352403164, 0.05259208753705025, 0.019337357953190804, 0.044061578810214996, 0.02704942785203457, 0.08394306898117065], [0.04005936160683632, 0.03684196621179581, 0.009722286835312843, 0.008977402001619339, 0.03149455413222313, 0.01994180493056774, 0.012345989234745502, 0.015749121084809303, 0.01983325183391571, 0.021941818296909332, 0.017520852386951447, 0.08651633560657501, 0.013929493725299835, 0.014328669756650925, 0.01090472936630249, 0.05147216096520424, 0.010991712100803852, 0.012025275267660618, 0.009620064869523048, 0.05522983893752098, 0.008539150469005108, 0.011989853344857693, 0.00856703333556652, 0.04389491677284241, 0.011114872992038727, 0.014169950969517231, 0.00883457250893116, 0.06463203579187393, 0.014580038376152515, 0.01486449595540762, 0.010667050257325172, 0.08920375257730484, 0.012564181350171566, 0.015932148322463036, 0.012328565120697021, 0.10196172446012497, 0.010586134158074856, 0.02240794524550438, 0.02371484600007534], [0.0448974072933197, 0.04158215597271919, 0.014017748646438122, 0.00915809627622366, 0.028144802898168564, 0.02176094427704811, 0.021331626921892166, 0.030934544280171394, 0.033180560916662216, 0.03506515175104141, 0.021140247583389282, 0.05171424150466919, 0.026426518335938454, 0.028066514059901237, 0.01661054790019989, 0.03149811550974846, 0.019693883135914803, 0.02245953492820263, 0.01231346745043993, 0.025651725009083748, 0.016621779650449753, 0.019936509430408478, 0.012214192189276218, 0.02933947555720806, 0.019628243520855904, 0.014675494283437729, 0.007524993270635605, 0.024570144712924957, 0.0161402840167284, 0.01440858468413353, 0.00664663827046752, 0.023397168144583702, 0.017117852345108986, 0.01728617027401924, 0.006608227267861366, 0.025355162099003792, 0.018189668655395508, 0.026423737406730652, 0.015921052545309067, 0.1323467344045639], [0.03574754297733307, 0.04465905949473381, 0.012267457321286201, 0.009992089122533798, 0.02481929585337639, 0.02028680592775345, 0.018751690164208412, 0.025548862293362617, 0.0401129387319088, 0.03744461387395859, 0.018962396308779716, 0.03391359746456146, 0.020552821457386017, 0.024278176948428154, 0.01420632191002369, 0.02214290387928486, 0.015474854037165642, 0.023202842101454735, 0.011089959181845188, 0.024661898612976074, 0.014847146347165108, 0.03177295997738838, 0.009239655919373035, 0.02540266141295433, 0.01724165678024292, 0.03661289066076279, 0.008200903423130512, 0.022458571940660477, 0.014347000047564507, 0.026971397921442986, 0.008541720919311047, 0.02187185175716877, 0.01441494096070528, 0.038780827075242996, 0.009346156381070614, 0.02936272695660591, 0.020386625081300735, 0.059656549245119095, 0.016209309920668602, 0.0517193078994751, 0.04449896514415741], [0.04278257116675377, 0.06305831670761108, 0.011518492363393307, 0.012069190852344036, 0.025780608877539635, 0.021216493099927902, 0.01898781955242157, 0.020051712170243263, 0.02556147240102291, 0.031414005905389786, 0.020012544468045235, 0.051694341003894806, 0.015737228095531464, 0.01968354731798172, 0.020068218931555748, 0.037734322249889374, 0.011989233084022999, 0.01455591432750225, 0.015506278723478317, 0.03641580790281296, 0.01030772179365158, 0.013458175584673882, 0.013848848640918732, 0.019615279510617256, 0.009965659119188786, 0.012926592491567135, 0.01176686491817236, 0.023845326155424118, 0.010931589640676975, 0.015227897092700005, 0.01413524616509676, 0.019398489966988564, 0.012549870647490025, 0.018523285165429115, 0.01809830591082573, 0.021754661574959755, 0.020906617864966393, 0.0576535128057003, 0.01767425797879696, 0.04261402413249016, 0.02299703285098076, 0.07596256583929062]]},\n",
              "                preset: 'viridis'\n",
              "             })\n",
              "            \n",
              "             window.ecco[viz_id].init();\n",
              "             window.ecco[viz_id].selectFirstToken();\n",
              "    \n",
              "             }, function (err) {\n",
              "                console.log(err);\n",
              "            })"
            ],
            "text/plain": [
              "<IPython.core.display.Javascript object>"
            ]
          },
          "metadata": {
            "tags": []
          }
        }
      ]
    },
    {
      "cell_type": "code",
      "metadata": {
        "colab": {
          "base_uri": "https://localhost:8080/",
          "height": 357
        },
        "id": "rRM7NKV91TCk",
        "outputId": "cb209195-cea3-4402-ef3c-ead36f0d405f"
      },
      "source": [
        "output.saliency(style=\"detailed\")"
      ],
      "execution_count": 5,
      "outputs": [
        {
          "output_type": "display_data",
          "data": {
            "text/html": [
              "<html lang=\"en\">\n",
              "<script src=\"https://requirejs.org/docs/release/2.3.6/minified/require.js\"></script>\n",
              "<script>\n",
              "    var ecco_url = 'https://storage.googleapis.com/ml-intro/ecco/'\n",
              "    // var ecco_url = 'http://localhost:8000/ecco/'\n",
              "\n",
              "    if (window.ecco === undefined) window.ecco = {}\n",
              "\n",
              "    requirejs.config({\n",
              "        urlArgs: \"bust=\" + (new Date()).getTime(),\n",
              "        nodeRequire: require,\n",
              "        paths: {\n",
              "            d3: \"https://d3js.org/d3.v5.min\",\n",
              "            \"d3-array\": \"https://d3js.org/d3-array.v2.min\",\n",
              "            jquery: \"https://code.jquery.com/jquery-3.5.1.min\",\n",
              "            // oldEcco: ecco_url + 'ecco',\n",
              "            ecco: ecco_url + 'js/0.0.4/ecco-bundle.min',\n",
              "            xregexp: 'https://cdnjs.cloudflare.com/ajax/libs/xregexp/3.2.0/xregexp-all.min'\n",
              "        }\n",
              "    });\n",
              "    requirejs(['d3'],\n",
              "        function (d3) {\n",
              "            d3.select('#css').attr('href', ecco_url + 'html/styles.css')\n",
              "        })\n",
              "\n",
              "    console.log('Ecco initialize.')\n",
              "</script>\n",
              "\n",
              "<head>\n",
              "    <link id='css' rel=\"stylesheet\" type=\"text/css\">\n",
              "</head>\n"
            ],
            "text/plain": [
              "<IPython.core.display.HTML object>"
            ]
          },
          "metadata": {
            "tags": []
          }
        },
        {
          "output_type": "display_data",
          "data": {
            "text/html": [
              "<script>\n",
              "    // console.log('defining basic')\n",
              "    define('basic', ['d3'],\n",
              "        function (d3) {\n",
              "            return {\n",
              "                init: function (viz_id = null) {\n",
              "\n",
              "                    // console.log('basic init')\n",
              "                    if (viz_id == null){\n",
              "                        viz_id = \"viz_\" + Math.round(Math.random() * 10000000)\n",
              "                    }\n",
              "                    const div = d3.select('#basic').attr('id', viz_id),\n",
              "                        div_parent = d3.select('#' + viz_id).node().parentNode\n",
              "\n",
              "                    // Link to CSS file\n",
              "                    d3.select(div_parent).insert('link')\n",
              "                        .attr('rel', 'stylesheet')\n",
              "                        .attr('type', 'text/css')\n",
              "                        .attr('href', ecco_url + 'html/styles.css')\n",
              "\n",
              "                    return viz_id\n",
              "                }\n",
              "            }\n",
              "        }, function (err) {console.log(err);}\n",
              "    )\n",
              "    // console.log('after defining basic')\n",
              "\n",
              "</script>\n",
              "<div id=\"basic\"></div>\n"
            ],
            "text/plain": [
              "<IPython.core.display.HTML object>"
            ]
          },
          "metadata": {
            "tags": []
          }
        },
        {
          "output_type": "display_data",
          "data": {
            "application/javascript": [
              "\n",
              "             requirejs(['basic', 'ecco'], function(basic, ecco){\n",
              "                const viz_id = basic.init()\n",
              "                window.ecco[viz_id] = ecco.interactiveTokens(viz_id, {'tokens': [{'token': 'The', 'token_id': 464, 'type': 'input', 'value': '0.049439568', 'position': 0}, {'token': ' countries', 'token_id': 2678, 'type': 'input', 'value': '0.050089534', 'position': 1}, {'token': ' of', 'token_id': 286, 'type': 'input', 'value': '0.013084191', 'position': 2}, {'token': ' the', 'token_id': 262, 'type': 'input', 'value': '0.0119883055', 'position': 3}, {'token': ' European', 'token_id': 3427, 'type': 'input', 'value': '0.05063442', 'position': 4}, {'token': ' Union', 'token_id': 4479, 'type': 'input', 'value': '0.027340027', 'position': 5}, {'token': ' are', 'token_id': 389, 'type': 'input', 'value': '0.015757969', 'position': 6}, {'token': ':', 'token_id': 25, 'type': 'input', 'value': '0.020343373', 'position': 7}, {'token': '\\n', 'token_id': 198, 'type': 'input', 'value': '0.026571704', 'position': 8}, {'token': '1', 'token_id': 16, 'type': 'input', 'value': '0.03534159', 'position': 9}, {'token': '.', 'token_id': 13, 'type': 'input', 'value': '0.026429312', 'position': 10}, {'token': ' Austria', 'token_id': 17322, 'type': 'input', 'value': '0.15028009', 'position': 11}, {'token': '\\n', 'token_id': 198, 'type': 'input', 'value': '0.02259441', 'position': 12}, {'token': '2', 'token_id': 17, 'type': 'input', 'value': '0.025393732', 'position': 13}, {'token': '.', 'token_id': 13, 'type': 'input', 'value': '0.020415496', 'position': 14}, {'token': ' Belgium', 'token_id': 15664, 'type': 'input', 'value': '0.12808192', 'position': 15}, {'token': '\\n', 'token_id': 198, 'type': 'input', 'value': '0.017044982', 'position': 16}, {'token': '3', 'token_id': 18, 'type': 'input', 'value': '0.027940415', 'position': 17}, {'token': '.', 'token_id': 13, 'type': 'input', 'value': '0.024000749', 'position': 18}, {'token': ' Bulgaria', 'token_id': 27902, 'type': 'input', 'value': '0.16752203', 'position': 19}, {'token': '\\n', 'token_id': 198, 'type': 'input', 'value': '0.016735977', 'position': 20}, {'token': '4', 'token_id': 19, 'type': 'input', 'value': '0.04030912', 'position': 21}, {'token': '.', 'token_id': 13, 'type': 'input', 'value': '0.03266111', 'position': 22}, {'token': ' Denmark', 'token_id': 16490, 'type': 'output', 'value': '0', 'position': 23}, {'token': '\\n', 'token_id': 198, 'type': 'output', 'value': '0', 'position': 24}, {'token': '5', 'token_id': 20, 'type': 'output', 'value': '0', 'position': 25}, {'token': '.', 'token_id': 13, 'type': 'output', 'value': '0', 'position': 26}, {'token': ' Estonia', 'token_id': 30912, 'type': 'output', 'value': '0', 'position': 27}, {'token': '\\n', 'token_id': 198, 'type': 'output', 'value': '0', 'position': 28}, {'token': '6', 'token_id': 21, 'type': 'output', 'value': '0', 'position': 29}, {'token': '.', 'token_id': 13, 'type': 'output', 'value': '0', 'position': 30}, {'token': ' Hungary', 'token_id': 19562, 'type': 'output', 'value': '0', 'position': 31}, {'token': '\\n', 'token_id': 198, 'type': 'output', 'value': '0', 'position': 32}, {'token': '7', 'token_id': 22, 'type': 'output', 'value': '0', 'position': 33}, {'token': '.', 'token_id': 13, 'type': 'output', 'value': '0', 'position': 34}, {'token': ' Iceland', 'token_id': 17333, 'type': 'output', 'value': '0', 'position': 35}, {'token': '\\n', 'token_id': 198, 'type': 'output', 'value': '0', 'position': 36}, {'token': '8', 'token_id': 23, 'type': 'output', 'value': '0', 'position': 37}, {'token': '.', 'token_id': 13, 'type': 'output', 'value': '0', 'position': 38}, {'token': ' Italy', 'token_id': 8031, 'type': 'output', 'value': '0', 'position': 39}, {'token': '\\n', 'token_id': 198, 'type': 'output', 'value': '0', 'position': 40}, {'token': '9', 'token_id': 24, 'type': 'output', 'value': '0', 'position': 41}, {'token': '.', 'token_id': 13, 'type': 'output', 'value': '0', 'position': 42}], 'attributions': [[0.04943956807255745, 0.05008953437209129, 0.013084190897643566, 0.011988305486738682, 0.05063442140817642, 0.027340026572346687, 0.01575796864926815, 0.020343372598290443, 0.02657170407474041, 0.03534159064292908, 0.0264293123036623, 0.15028008818626404, 0.022594410926103592, 0.025393731892108917, 0.020415496081113815, 0.12808191776275635, 0.017044981941580772, 0.02794041484594345, 0.024000748991966248, 0.16752202808856964, 0.016735976561903954, 0.0403091199696064, 0.032661110162734985], [0.05445265397429466, 0.060984473675489426, 0.016059309244155884, 0.014423289336264133, 0.04057827964425087, 0.0326833538711071, 0.030668824911117554, 0.03859851881861687, 0.03291270136833191, 0.04443133994936943, 0.02458546869456768, 0.09065059572458267, 0.028514131903648376, 0.030183736234903336, 0.022901471704244614, 0.060686852782964706, 0.030640196055173874, 0.026774317026138306, 0.015727339312434196, 0.0549638457596302, 0.025910040363669395, 0.03451257944107056, 0.02432425320148468, 0.163832426071167], [0.04625704884529114, 0.06001163646578789, 0.01752183772623539, 0.013635020703077316, 0.037517718970775604, 0.028393268585205078, 0.02594611793756485, 0.03725416585803032, 0.046187061816453934, 0.0689888522028923, 0.032886262983083725, 0.05469834804534912, 0.034350182861089706, 0.059529129415750504, 0.020982401445508003, 0.0353580005466938, 0.029946282505989075, 0.06126280501484871, 0.023490140214562416, 0.03508521243929863, 0.027160370722413063, 0.06813587248325348, 0.02916596084833145, 0.05792349576950073, 0.048312876373529434], [0.04700092971324921, 0.07610819488763809, 0.0141654247418046, 0.011453204788267612, 0.033166032284498215, 0.02874363400042057, 0.022928141057491302, 0.025069786235690117, 0.02945076674222946, 0.04692099988460541, 0.029206767678260803, 0.07050538808107376, 0.02289663814008236, 0.03360101208090782, 0.031016988679766655, 0.04559534788131714, 0.02226242981851101, 0.035390350967645645, 0.030636180192232132, 0.04702487587928772, 0.0252226609736681, 0.052509605884552, 0.028801724314689636, 0.0612356923520565, 0.035259656608104706, 0.09382753819227219], [0.04698164016008377, 0.046145085245370865, 0.01237320713698864, 0.011323688551783562, 0.0447867289185524, 0.025426212698221207, 0.015084847807884216, 0.018886689096689224, 0.02403508685529232, 0.030609147623181343, 0.02315535396337509, 0.12827806174755096, 0.02128533646464348, 0.020467890426516533, 0.013707623817026615, 0.08875671029090881, 0.017068207263946533, 0.018822843208909035, 0.012245161458849907, 0.09414493292570114, 0.013754932209849358, 0.01953575201332569, 0.0193419698625803, 0.13574236631393433, 0.016745299100875854, 0.04048633575439453, 0.040808938443660736], [0.04422580823302269, 0.04887473210692406, 0.015620877966284752, 0.010961925610899925, 0.03370694816112518, 0.025472372770309448, 0.024166403338313103, 0.03445014730095863, 0.03548281267285347, 0.03927019611001015, 0.02632465586066246, 0.061417605727910995, 0.032799623906612396, 0.029635049402713776, 0.018969764932990074, 0.030464140698313713, 0.025003263726830482, 0.024054525420069695, 0.011479630134999752, 0.04444267228245735, 0.021758081391453743, 0.02182953618466854, 0.010123236104846, 0.037708114832639694, 0.031393419951200485, 0.027276786044239998, 0.022700054571032524, 0.2103877067565918], [0.0393802784383297, 0.05073682591319084, 0.014813889749348164, 0.010513371787965298, 0.03019464947283268, 0.023507414385676384, 0.022171631455421448, 0.032804835587739944, 0.04417609050869942, 0.052946537733078, 0.02615359053015709, 0.042329996824264526, 0.025882352143526077, 0.03845137357711792, 0.017481984570622444, 0.02775944024324417, 0.024902524426579475, 0.038587577641010284, 0.020064396783709526, 0.03127121552824974, 0.02297057770192623, 0.06353949010372162, 0.01895338110625744, 0.035308681428432465, 0.02909768372774124, 0.08880016207695007, 0.025475068017840385, 0.06440387666225433, 0.037321098148822784], [0.04712371155619621, 0.07134311646223068, 0.012786508537828922, 0.011749468743801117, 0.030481647700071335, 0.025585096329450607, 0.020530598238110542, 0.023384977132081985, 0.027829919010400772, 0.04054825007915497, 0.026106365025043488, 0.06185326725244522, 0.018794070929288864, 0.02624179795384407, 0.02635182812809944, 0.041802335530519485, 0.018822260200977325, 0.025375118479132652, 0.02084873989224434, 0.039737146347761154, 0.016563966870307922, 0.024245603010058403, 0.025389552116394043, 0.03185764700174332, 0.026153873652219772, 0.04612612724304199, 0.02612634189426899, 0.0649978443980217, 0.03261072561144829, 0.08863206952810287], [0.04565446451306343, 0.044622816145420074, 0.011538650840520859, 0.01025953609496355, 0.04069952294230461, 0.02485772967338562, 0.014383221045136452, 0.018455877900123596, 0.022596992552280426, 0.02670898102223873, 0.020052442327141762, 0.11866431683301926, 0.016999702900648117, 0.0182055477052927, 0.012371509335935116, 0.07133931666612625, 0.014524816535413265, 0.016362296417355537, 0.01138358749449253, 0.07472111284732819, 0.012203061021864414, 0.013679882511496544, 0.011595230549573898, 0.0873299390077591, 0.012505875900387764, 0.015324544161558151, 0.017703009769320488, 0.11641134321689606, 0.012608757242560387, 0.03672841563820839, 0.029507508501410484], [0.041189081966876984, 0.03590065613389015, 0.013377404771745205, 0.009007059969007969, 0.02437390387058258, 0.020000532269477844, 0.02205365151166916, 0.03473476320505142, 0.03240597993135452, 0.035214100033044815, 0.020971177145838737, 0.049040134996175766, 0.030250167474150658, 0.02823678031563759, 0.013715661130845547, 0.03525853529572487, 0.023353595286607742, 0.022321611642837524, 0.010709994472563267, 0.03746946528553963, 0.022243229672312737, 0.017595509067177773, 0.008848602883517742, 0.030285805463790894, 0.022752948105335236, 0.015078626573085785, 0.009591881185770035, 0.053040262311697006, 0.027276525273919106, 0.030689122155308723, 0.0227520652115345, 0.2002611607313156], [0.036348894238471985, 0.042071886360645294, 0.01225823350250721, 0.008847358636558056, 0.024238944053649902, 0.019985850900411606, 0.018009206280112267, 0.02917732298374176, 0.04138946905732155, 0.04265203699469566, 0.019446879625320435, 0.035443153232336044, 0.022411976009607315, 0.031249569728970528, 0.015138800255954266, 0.02384556457400322, 0.021639376878738403, 0.03428412973880768, 0.015750059857964516, 0.030079996213316917, 0.020328037440776825, 0.04814385995268822, 0.01805652119219303, 0.028378209099173546, 0.022765398025512695, 0.06939928978681564, 0.01307464949786663, 0.02906051091849804, 0.027269763872027397, 0.0708974152803421, 0.020852940157055855, 0.0669921487569809, 0.04051267355680466], [0.04441447556018829, 0.06544914841651917, 0.012138329446315765, 0.011729312129318714, 0.027508947998285294, 0.023068415001034737, 0.019684389233589172, 0.02160143107175827, 0.026129350066184998, 0.03316725790500641, 0.022526783868670464, 0.057234857231378555, 0.017027469351887703, 0.022142037749290466, 0.02318013273179531, 0.038621965795755386, 0.015126329846680164, 0.018864937126636505, 0.018189430236816406, 0.03607727214694023, 0.014062505215406418, 0.02041257917881012, 0.017379479482769966, 0.02262249030172825, 0.016559241339564323, 0.019946252927184105, 0.028759954497218132, 0.03340106084942818, 0.026210110634565353, 0.05631742253899574, 0.020772511139512062, 0.059731900691986084, 0.026882169768214226, 0.08306006342172623], [0.04079369083046913, 0.037403713911771774, 0.010660147294402122, 0.00995996966958046, 0.03675101697444916, 0.0211558286100626, 0.013347672298550606, 0.016431892290711403, 0.020215535536408424, 0.02279440313577652, 0.018281878903508186, 0.098570317029953, 0.014715478755533695, 0.015082988888025284, 0.01160693820565939, 0.05741897225379944, 0.012021610513329506, 0.012844032607972622, 0.010807053185999393, 0.06255337595939636, 0.009317689575254917, 0.013385306112468243, 0.009590297006070614, 0.05052175000309944, 0.014286961406469345, 0.015016697347164154, 0.009561321698129177, 0.07081776857376099, 0.015841811895370483, 0.025322264060378075, 0.014994093216955662, 0.14611361920833588, 0.010987373068928719, 0.02658085711300373, 0.02424568124115467], [0.03818962723016739, 0.04332994669675827, 0.011894669383764267, 0.009120951406657696, 0.02739410661160946, 0.021695183590054512, 0.019302019849419594, 0.02594386786222458, 0.02804739587008953, 0.030515512451529503, 0.018947169184684753, 0.05824432522058487, 0.0220082588493824, 0.02245602384209633, 0.017864417284727097, 0.029174936935305595, 0.015533490106463432, 0.018145812675356865, 0.012838724069297314, 0.028600400313735008, 0.012539343908429146, 0.016414638608694077, 0.00977701973170042, 0.025099869817495346, 0.013189609162509441, 0.014744835905730724, 0.008384697139263153, 0.03638690710067749, 0.013581235893070698, 0.01993618905544281, 0.013604942709207535, 0.055152662098407745, 0.026282455772161484, 0.03178272768855095, 0.02302863448858261, 0.1808474063873291], [0.036395441740751266, 0.04536263644695282, 0.012470658868551254, 0.009716728702187538, 0.02479998581111431, 0.020599298179149628, 0.01906147040426731, 0.02789001725614071, 0.04252384230494499, 0.03995267301797867, 0.01812957413494587, 0.03491882234811783, 0.022969283163547516, 0.027180174365639687, 0.014333726838231087, 0.022910429164767265, 0.017426542937755585, 0.02717737667262554, 0.01203829050064087, 0.028669005259871483, 0.016527989879250526, 0.036926206201314926, 0.010992366820573807, 0.028533263131976128, 0.020082376897335052, 0.043442826718091965, 0.01036649476736784, 0.024205949157476425, 0.01989017426967621, 0.04045623168349266, 0.01174609549343586, 0.03661411255598068, 0.028897816315293312, 0.05899525061249733, 0.017378533259034157, 0.05200270190834999, 0.03841559588909149], [0.04397888109087944, 0.06432314962148666, 0.011982504278421402, 0.01185590960085392, 0.026807935908436775, 0.02224111743271351, 0.019492819905281067, 0.021358288824558258, 0.025827568024396896, 0.034104183316230774, 0.020743049681186676, 0.05471619963645935, 0.015530535019934177, 0.020614495500922203, 0.020928632467985153, 0.03664674982428551, 0.012508835643529892, 0.01607588492333889, 0.01485382579267025, 0.034538451582193375, 0.011423023417592049, 0.0160262081772089, 0.014754788018763065, 0.02113070711493492, 0.01170947216451168, 0.016432395204901695, 0.016847215592861176, 0.028418265283107758, 0.01402976829558611, 0.02187117002904415, 0.024619251489639282, 0.025195542722940445, 0.02142966352403164, 0.05259208753705025, 0.019337357953190804, 0.044061578810214996, 0.02704942785203457, 0.08394306898117065], [0.04005936160683632, 0.03684196621179581, 0.009722286835312843, 0.008977402001619339, 0.03149455413222313, 0.01994180493056774, 0.012345989234745502, 0.015749121084809303, 0.01983325183391571, 0.021941818296909332, 0.017520852386951447, 0.08651633560657501, 0.013929493725299835, 0.014328669756650925, 0.01090472936630249, 0.05147216096520424, 0.010991712100803852, 0.012025275267660618, 0.009620064869523048, 0.05522983893752098, 0.008539150469005108, 0.011989853344857693, 0.00856703333556652, 0.04389491677284241, 0.011114872992038727, 0.014169950969517231, 0.00883457250893116, 0.06463203579187393, 0.014580038376152515, 0.01486449595540762, 0.010667050257325172, 0.08920375257730484, 0.012564181350171566, 0.015932148322463036, 0.012328565120697021, 0.10196172446012497, 0.010586134158074856, 0.02240794524550438, 0.02371484600007534], [0.0448974072933197, 0.04158215597271919, 0.014017748646438122, 0.00915809627622366, 0.028144802898168564, 0.02176094427704811, 0.021331626921892166, 0.030934544280171394, 0.033180560916662216, 0.03506515175104141, 0.021140247583389282, 0.05171424150466919, 0.026426518335938454, 0.028066514059901237, 0.01661054790019989, 0.03149811550974846, 0.019693883135914803, 0.02245953492820263, 0.01231346745043993, 0.025651725009083748, 0.016621779650449753, 0.019936509430408478, 0.012214192189276218, 0.02933947555720806, 0.019628243520855904, 0.014675494283437729, 0.007524993270635605, 0.024570144712924957, 0.0161402840167284, 0.01440858468413353, 0.00664663827046752, 0.023397168144583702, 0.017117852345108986, 0.01728617027401924, 0.006608227267861366, 0.025355162099003792, 0.018189668655395508, 0.026423737406730652, 0.015921052545309067, 0.1323467344045639], [0.03574754297733307, 0.04465905949473381, 0.012267457321286201, 0.009992089122533798, 0.02481929585337639, 0.02028680592775345, 0.018751690164208412, 0.025548862293362617, 0.0401129387319088, 0.03744461387395859, 0.018962396308779716, 0.03391359746456146, 0.020552821457386017, 0.024278176948428154, 0.01420632191002369, 0.02214290387928486, 0.015474854037165642, 0.023202842101454735, 0.011089959181845188, 0.024661898612976074, 0.014847146347165108, 0.03177295997738838, 0.009239655919373035, 0.02540266141295433, 0.01724165678024292, 0.03661289066076279, 0.008200903423130512, 0.022458571940660477, 0.014347000047564507, 0.026971397921442986, 0.008541720919311047, 0.02187185175716877, 0.01441494096070528, 0.038780827075242996, 0.009346156381070614, 0.02936272695660591, 0.020386625081300735, 0.059656549245119095, 0.016209309920668602, 0.0517193078994751, 0.04449896514415741], [0.04278257116675377, 0.06305831670761108, 0.011518492363393307, 0.012069190852344036, 0.025780608877539635, 0.021216493099927902, 0.01898781955242157, 0.020051712170243263, 0.02556147240102291, 0.031414005905389786, 0.020012544468045235, 0.051694341003894806, 0.015737228095531464, 0.01968354731798172, 0.020068218931555748, 0.037734322249889374, 0.011989233084022999, 0.01455591432750225, 0.015506278723478317, 0.03641580790281296, 0.01030772179365158, 0.013458175584673882, 0.013848848640918732, 0.019615279510617256, 0.009965659119188786, 0.012926592491567135, 0.01176686491817236, 0.023845326155424118, 0.010931589640676975, 0.015227897092700005, 0.01413524616509676, 0.019398489966988564, 0.012549870647490025, 0.018523285165429115, 0.01809830591082573, 0.021754661574959755, 0.020906617864966393, 0.0576535128057003, 0.01767425797879696, 0.04261402413249016, 0.02299703285098076, 0.07596256583929062]]})\n",
              "\n",
              "             }, function (err) {\n",
              "                console.log(err);\n",
              "            })"
            ],
            "text/plain": [
              "<IPython.core.display.Javascript object>"
            ]
          },
          "metadata": {
            "tags": []
          }
        }
      ]
    },
    {
      "cell_type": "code",
      "metadata": {
        "id": "iecRaZ0M14Lm"
      },
      "source": [
        ""
      ],
      "execution_count": null,
      "outputs": []
    }
  ]
}